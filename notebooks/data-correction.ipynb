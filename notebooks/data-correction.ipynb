{
 "cells": [
  {
   "cell_type": "code",
   "execution_count": null,
   "metadata": {},
   "outputs": [],
   "source": [
    "import pandas as pd\n",
    "#pd.set_option('display.max_rows', None)"
   ]
  },
  {
   "cell_type": "code",
   "execution_count": null,
   "metadata": {},
   "outputs": [],
   "source": [
    "external_data = '..\\\\data\\\\external\\\\'\n",
    "file = 'Median_Household_Income_By_State_1990-2017.csv'\n",
    "df_csv = pd.read_csv(external_data+file)\n"
   ]
  },
  {
   "cell_type": "code",
   "execution_count": null,
   "metadata": {},
   "outputs": [],
   "source": [
    "# We only need the first 16 columns \n",
    "# and we can also drop the columns 4,6,8,10,12 and 14 since they only show error values\n",
    "column_lst = [0,1,2,3,5,7,9,11,13,15]\n",
    "df_new = df_csv[df_csv.columns[column_lst]]\n",
    "# We don't need row 0,2 and row 64-67\n",
    "row_drop_lst = [0,2,64,65,66,67]\n",
    "df_new = df_new.drop(row_drop_lst)\n",
    "# There are a few rows with empty entries left, which we can get rid off \n",
    "# since those rows have no state assigned to it, they are only used as seperators\n",
    "df_new.dropna(inplace=True)\n",
    "# The column names are actually in the first row, additionally they need to be adjusted\n",
    "column_names = ['State','1990','2000','2005','2010','2013','2014','2015','2016','2017']\n",
    "df_new.columns = column_names\n",
    "# Row number 1 can be dropped\n",
    "df_new.drop(1,inplace=True)\n",
    "# The dots in the state column can be removed\n",
    "df_new = df_new.replace(r'\\.','',regex=True)\n",
    "# Lastly we reset the row index drop the old index \n",
    "df_new.reset_index(drop = True, inplace = True)\n"
   ]
  },
  {
   "cell_type": "code",
   "execution_count": null,
   "metadata": {},
   "outputs": [],
   "source": [
    "# We transform the table to show the median income for a state in a single year\n",
    "# We use the melt() function for this\n",
    "lst_years = ['1990','2000','2005','2010','2013','2014','2015','2016','2017']\n",
    "df_new = df_new.melt(\n",
    "    id_vars= ['State'], \n",
    "    value_vars= lst_years, \n",
    "    var_name= 'year', \n",
    "    value_name= 'median_household_income' \n",
    "    )"
   ]
  },
  {
   "cell_type": "code",
   "execution_count": null,
   "metadata": {},
   "outputs": [],
   "source": [
    "# The State column should be lowercase\n",
    "df_new = df_new.rename(columns = {\n",
    "    'State':'state'\n",
    "})\n",
    "# The types are not correct, state holds categorial values and year has integers and income holds float numbers\n",
    "df_new['state'] = df_new['state'].astype('category')\n",
    "df_new['year'] = df_new['year'].astype('int')\n",
    "df_new['median_household_income'] = df_new['median_household_income'].astype('float')"
   ]
  },
  {
   "cell_type": "code",
   "execution_count": null,
   "metadata": {},
   "outputs": [],
   "source": [
    "# The cleaned and corrected dataset will be saved under raw\n",
    "raw_data = '..\\\\data\\\\raw\\\\'\n",
    "file = 'Median_Household_Income_By_State_1990-2017.csv'\n",
    "df_new.to_csv(raw_data+file,index = None, header=True)\n"
   ]
  }
 ],
 "metadata": {
  "kernelspec": {
   "display_name": "Python 3.9.13",
   "language": "python",
   "name": "python3"
  },
  "language_info": {
   "codemirror_mode": {
    "name": "ipython",
    "version": 3
   },
   "file_extension": ".py",
   "mimetype": "text/x-python",
   "name": "python",
   "nbconvert_exporter": "python",
   "pygments_lexer": "ipython3",
   "version": "3.9.13 | packaged by conda-forge | (main, May 27 2022, 16:50:36) [MSC v.1929 64 bit (AMD64)]"
  },
  "orig_nbformat": 4,
  "vscode": {
   "interpreter": {
    "hash": "0bce9ee4a7dbaa2f8d8dbf81914451bc1662208b62846c9d24404c6ff8728961"
   }
  }
 },
 "nbformat": 4,
 "nbformat_minor": 2
}
