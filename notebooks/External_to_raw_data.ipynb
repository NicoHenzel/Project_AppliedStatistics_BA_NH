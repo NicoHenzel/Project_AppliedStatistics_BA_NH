{
 "cells": [
  {
   "cell_type": "code",
   "execution_count": 7,
   "metadata": {},
   "outputs": [],
   "source": [
    "import pandas as pd\n",
    "import xlrd #needed to read excel files. install xlrd module if import does not work!\n",
    "import shutil #needed to copy files"
   ]
  },
  {
   "cell_type": "code",
   "execution_count": 6,
   "metadata": {},
   "outputs": [],
   "source": [
    "# Save external median income data as csv in folder 'raw'\n",
    "external_data = '..\\\\data\\\\external\\\\'\n",
    "raw_data = '..\\\\data\\\\raw\\\\'\n",
    "orig_file = 'Median_Household_Income_By_State_1990-2017.xls'\n",
    "target_file = 'Median_Household_Income_By_State_1990-2017.csv'\n",
    "# Read file\n",
    "xls_file = pd.read_excel(external_data+orig_file)\n",
    "# Save file\n",
    "xls_file.to_csv(raw_data+target_file,index = None, header=True)\n"
   ]
  },
  {
   "cell_type": "code",
   "execution_count": 9,
   "metadata": {},
   "outputs": [
    {
     "data": {
      "text/plain": [
       "'..\\\\data\\\\raw\\\\NCHS_-_Leading_Causes_of_Death__United_States.csv'"
      ]
     },
     "execution_count": 9,
     "metadata": {},
     "output_type": "execute_result"
    }
   ],
   "source": [
    "# Copy external leading cause of death data into folder 'raw'\n",
    "move_file = 'NCHS_-_Leading_Causes_of_Death__United_States.csv'\n",
    "shutil.copy(external_data+move_file, raw_data+move_file)\n"
   ]
  },
  {
   "cell_type": "code",
   "execution_count": null,
   "metadata": {},
   "outputs": [],
   "source": []
  }
 ],
 "metadata": {
  "kernelspec": {
   "display_name": "Python 3.9.13",
   "language": "python",
   "name": "python3"
  },
  "language_info": {
   "codemirror_mode": {
    "name": "ipython",
    "version": 3
   },
   "file_extension": ".py",
   "mimetype": "text/x-python",
   "name": "python",
   "nbconvert_exporter": "python",
   "pygments_lexer": "ipython3",
   "version": "3.9.13"
  },
  "orig_nbformat": 4,
  "vscode": {
   "interpreter": {
    "hash": "0bce9ee4a7dbaa2f8d8dbf81914451bc1662208b62846c9d24404c6ff8728961"
   }
  }
 },
 "nbformat": 4,
 "nbformat_minor": 2
}
