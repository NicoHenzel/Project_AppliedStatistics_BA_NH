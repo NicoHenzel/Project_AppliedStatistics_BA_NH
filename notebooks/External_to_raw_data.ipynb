{
 "cells": [
  {
   "cell_type": "code",
   "execution_count": 1,
   "metadata": {},
   "outputs": [],
   "source": [
    "import pandas as pd\n",
    "import xlrd #needed to read excel files. install xlrd module if import does not work!\n",
    "import shutil #needed to copy files"
   ]
  },
  {
   "cell_type": "code",
   "execution_count": 3,
   "metadata": {},
   "outputs": [],
   "source": [
    "# Declare variables\n",
    "external_data = '..\\\\data\\\\external\\\\'\n",
    "raw_data = '..\\\\data\\\\raw\\\\'\n",
    "\n",
    "# FIles for 1. Topic\n",
    "orig_household_file = 'Median_Household_Income_By_State_1990-2017.xls'\n",
    "target_household_file = 'Median_Household_Income_By_State_1990-2017.csv'\n",
    "move_household_file = 'NCHS_-_Leading_Causes_of_Death__United_States.csv'\n",
    "\n",
    "# Files for 2. Topic\n",
    "orig_income_file = 'sdg_10_20_spreadsheet.xlsx'\n",
    "orig_birthrate_file = 'tps00204_page_spreadsheet.xlsx'\n",
    "target_income_file = 'sdg_10_20_spreadsheet.csv'\n",
    "target_birthrate_file = 'tps00204_page_spreadsheet.csv'\n",
    "\n",
    "\n"
   ]
  },
  {
   "cell_type": "code",
   "execution_count": null,
   "metadata": {},
   "outputs": [],
   "source": [
    "# Save external median income data as csv in folder 'raw'\n",
    "# Read file\n",
    "xls_household_file = pd.read_excel(external_data+orig_household_file)\n",
    "# Save file\n",
    "xls_household_file.to_csv(raw_data+target_household_file,index = None, header=True)\n",
    "# Copy external leading cause of death data into folder 'raw'\n",
    "shutil.copy(external_data+move_household_file, raw_data+move_household_file)\n"
   ]
  },
  {
   "cell_type": "code",
   "execution_count": 7,
   "metadata": {},
   "outputs": [
    {
     "name": "stderr",
     "output_type": "stream",
     "text": [
      "c:\\Users\\Nico\\AppData\\Local\\R-MINI~1\\envs\\stats\\lib\\site-packages\\openpyxl\\styles\\stylesheet.py:226: UserWarning: Workbook contains no default style, apply openpyxl's default\n",
      "  warn(\"Workbook contains no default style, apply openpyxl's default\")\n"
     ]
    }
   ],
   "source": [
    "# Save external income and birthrate data as csv in folder 'raw'\n",
    "# Read file\n",
    "xls_income_file = pd.read_excel(external_data+orig_income_file, sheet_name='Blatt 1')\n",
    "xls_birthrate_file = pd.read_excel(external_data+orig_birthrate_file, sheet_name= 'Sheet 1')\n",
    "# Save file\n",
    "xls_income_file.to_csv(raw_data+target_income_file,index = None, header=True)\n",
    "xls_birthrate_file.to_csv(raw_data+target_birthrate_file,index = None, header=True)\n",
    "\n",
    "\n"
   ]
  },
  {
   "cell_type": "code",
   "execution_count": null,
   "metadata": {},
   "outputs": [],
   "source": []
  }
 ],
 "metadata": {
  "kernelspec": {
   "display_name": "Python 3.9.13",
   "language": "python",
   "name": "python3"
  },
  "language_info": {
   "codemirror_mode": {
    "name": "ipython",
    "version": 3
   },
   "file_extension": ".py",
   "mimetype": "text/x-python",
   "name": "python",
   "nbconvert_exporter": "python",
   "pygments_lexer": "ipython3",
   "version": "3.9.13"
  },
  "orig_nbformat": 4,
  "vscode": {
   "interpreter": {
    "hash": "0bce9ee4a7dbaa2f8d8dbf81914451bc1662208b62846c9d24404c6ff8728961"
   }
  }
 },
 "nbformat": 4,
 "nbformat_minor": 2
}
