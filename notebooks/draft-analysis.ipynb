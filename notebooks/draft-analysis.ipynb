{
 "cells": [
  {
   "attachments": {},
   "cell_type": "markdown",
   "metadata": {},
   "source": [
    "# Draft analysis \n",
    "\n",
    "---\n",
    "\n",
    "Group name: Group C, Burcin Aksel & Nico Henzel\n",
    "\n",
    "---\n"
   ]
  },
  {
   "attachments": {},
   "cell_type": "markdown",
   "metadata": {},
   "source": [
    "## Introduction\n",
    "\n",
    "### Inhalte aus Project Proposal übernehmen und konsolidieren\n",
    "### Burcin\n",
    "\n",
    "*This section includes an introduction to the project motivation, data, and research question. Include a data dictionary* "
   ]
  },
  {
   "attachments": {},
   "cell_type": "markdown",
   "metadata": {},
   "source": [
    "## Setup\n",
    "\n",
    "### Anpassen, sobald Import benötigt wird\n",
    "### Nico"
   ]
  },
  {
   "cell_type": "code",
   "execution_count": 1,
   "metadata": {},
   "outputs": [],
   "source": [
    "import pandas as pd\n",
    "import numpy as np\n",
    "import altair as alt\n",
    "import matplotlib as mlp\n",
    "import xlrd # needed to read excel files. install xlrd module if import does not work!\n",
    "import shutil # needed to copy files\n"
   ]
  },
  {
   "attachments": {},
   "cell_type": "markdown",
   "metadata": {},
   "source": [
    "## Data\n",
    "\n",
    "## Nico\n",
    "\n",
    "### Inhalte aus Data Correction und Project Proposal übernehmen"
   ]
  },
  {
   "cell_type": "markdown",
   "metadata": {},
   "source": [
    "## Import data"
   ]
  },
  {
   "cell_type": "code",
   "execution_count": 2,
   "metadata": {},
   "outputs": [],
   "source": [
    "# Declare variables\n",
    "external_data = '..\\\\data\\\\external\\\\'\n",
    "raw_data = '..\\\\data\\\\raw\\\\'\n",
    "\n",
    "# File names\n",
    "orig_income_file = 'Median_Household_Income_By_State_1990-2017.xls'\n",
    "target_income_file = 'Median_Household_Income_By_State_1990-2017.csv'\n",
    "orig_death_file = 'NCHS_-_Leading_Causes_of_Death__United_States.csv'\n"
   ]
  },
  {
   "cell_type": "code",
   "execution_count": 3,
   "metadata": {},
   "outputs": [
    {
     "data": {
      "text/plain": [
       "'..\\\\data\\\\raw\\\\NCHS_-_Leading_Causes_of_Death__United_States.csv'"
      ]
     },
     "execution_count": 3,
     "metadata": {},
     "output_type": "execute_result"
    }
   ],
   "source": [
    "# Save external median income data as csv in folder 'raw'\n",
    "# Read file\n",
    "xls_household_file = pd.read_excel(external_data+orig_income_file)\n",
    "# Save file\n",
    "xls_household_file.to_csv(raw_data+target_income_file,index = None, header=True)\n",
    "# Copy external leading cause of death data into folder 'raw'\n",
    "shutil.copy(external_data+orig_death_file, raw_data+orig_death_file)\n"
   ]
  },
  {
   "cell_type": "code",
   "execution_count": 17,
   "metadata": {},
   "outputs": [],
   "source": [
    "# Declare both dataframes\n",
    "df_income = pd.read_csv(raw_data+target_income_file)\n",
    "df_death = pd.read_csv(raw_data+orig_death_file)"
   ]
  },
  {
   "cell_type": "markdown",
   "metadata": {},
   "source": [
    "### Data structure"
   ]
  },
  {
   "cell_type": "code",
   "execution_count": 12,
   "metadata": {},
   "outputs": [
    {
     "name": "stdout",
     "output_type": "stream",
     "text": [
      "<class 'pandas.core.frame.DataFrame'>\n",
      "RangeIndex: 68 entries, 0 to 67\n",
      "Data columns (total 32 columns):\n",
      " #   Column                                                                              Non-Null Count  Dtype  \n",
      "---  ------                                                                              --------------  -----  \n",
      " 0   Table 102.30. Median household income, by state: Selected years, 1990 through 2017  59 non-null     object \n",
      " 1   Unnamed: 1                                                                          54 non-null     object \n",
      " 2   Unnamed: 2                                                                          54 non-null     object \n",
      " 3   Unnamed: 3                                                                          54 non-null     float64\n",
      " 4   Unnamed: 4                                                                          52 non-null     float64\n",
      " 5   Unnamed: 5                                                                          54 non-null     float64\n",
      " 6   Unnamed: 6                                                                          52 non-null     float64\n",
      " 7   Unnamed: 7                                                                          54 non-null     float64\n",
      " 8   Unnamed: 8                                                                          52 non-null     float64\n",
      " 9   Unnamed: 9                                                                          54 non-null     float64\n",
      " 10  Unnamed: 10                                                                         52 non-null     float64\n",
      " 11  Unnamed: 11                                                                         54 non-null     float64\n",
      " 12  Unnamed: 12                                                                         52 non-null     float64\n",
      " 13  Unnamed: 13                                                                         54 non-null     float64\n",
      " 14  Unnamed: 14                                                                         52 non-null     float64\n",
      " 15  Unnamed: 15                                                                         54 non-null     float64\n",
      " 16  Unnamed: 16                                                                         52 non-null     float64\n",
      " 17  Unnamed: 17                                                                         0 non-null      float64\n",
      " 18  Unnamed: 18                                                                         0 non-null      float64\n",
      " 19  Unnamed: 19                                                                         0 non-null      float64\n",
      " 20  Unnamed: 20                                                                         0 non-null      float64\n",
      " 21  Unnamed: 21                                                                         0 non-null      float64\n",
      " 22  Unnamed: 22                                                                         0 non-null      float64\n",
      " 23  Unnamed: 23                                                                         0 non-null      float64\n",
      " 24  Unnamed: 24                                                                         0 non-null      float64\n",
      " 25  Unnamed: 25                                                                         0 non-null      float64\n",
      " 26  Unnamed: 26                                                                         0 non-null      float64\n",
      " 27  Unnamed: 27                                                                         0 non-null      float64\n",
      " 28  Unnamed: 28                                                                         0 non-null      float64\n",
      " 29  Unnamed: 29                                                                         0 non-null      float64\n",
      " 30  Unnamed: 30                                                                         0 non-null      float64\n",
      " 31  Unnamed: 31                                                                         1 non-null      object \n",
      "dtypes: float64(28), object(4)\n",
      "memory usage: 17.1+ KB\n"
     ]
    }
   ],
   "source": [
    "df_income.info()"
   ]
  },
  {
   "cell_type": "code",
   "execution_count": 13,
   "metadata": {},
   "outputs": [
    {
     "data": {
      "text/html": [
       "<div>\n",
       "<style scoped>\n",
       "    .dataframe tbody tr th:only-of-type {\n",
       "        vertical-align: middle;\n",
       "    }\n",
       "\n",
       "    .dataframe tbody tr th {\n",
       "        vertical-align: top;\n",
       "    }\n",
       "\n",
       "    .dataframe thead th {\n",
       "        text-align: right;\n",
       "    }\n",
       "</style>\n",
       "<table border=\"1\" class=\"dataframe\">\n",
       "  <thead>\n",
       "    <tr style=\"text-align: right;\">\n",
       "      <th></th>\n",
       "      <th>Table 102.30. Median household income, by state: Selected years, 1990 through 2017</th>\n",
       "      <th>Unnamed: 1</th>\n",
       "      <th>Unnamed: 2</th>\n",
       "      <th>Unnamed: 3</th>\n",
       "      <th>Unnamed: 4</th>\n",
       "      <th>Unnamed: 5</th>\n",
       "      <th>Unnamed: 6</th>\n",
       "      <th>Unnamed: 7</th>\n",
       "      <th>Unnamed: 8</th>\n",
       "      <th>Unnamed: 9</th>\n",
       "      <th>...</th>\n",
       "      <th>Unnamed: 22</th>\n",
       "      <th>Unnamed: 23</th>\n",
       "      <th>Unnamed: 24</th>\n",
       "      <th>Unnamed: 25</th>\n",
       "      <th>Unnamed: 26</th>\n",
       "      <th>Unnamed: 27</th>\n",
       "      <th>Unnamed: 28</th>\n",
       "      <th>Unnamed: 29</th>\n",
       "      <th>Unnamed: 30</th>\n",
       "      <th>Unnamed: 31</th>\n",
       "    </tr>\n",
       "  </thead>\n",
       "  <tbody>\n",
       "    <tr>\n",
       "      <th>0</th>\n",
       "      <td>[In constant 2017 dollars. Standard errors app...</td>\n",
       "      <td>NaN</td>\n",
       "      <td>NaN</td>\n",
       "      <td>NaN</td>\n",
       "      <td>NaN</td>\n",
       "      <td>NaN</td>\n",
       "      <td>NaN</td>\n",
       "      <td>NaN</td>\n",
       "      <td>NaN</td>\n",
       "      <td>NaN</td>\n",
       "      <td>...</td>\n",
       "      <td>NaN</td>\n",
       "      <td>NaN</td>\n",
       "      <td>NaN</td>\n",
       "      <td>NaN</td>\n",
       "      <td>NaN</td>\n",
       "      <td>NaN</td>\n",
       "      <td>NaN</td>\n",
       "      <td>NaN</td>\n",
       "      <td>NaN</td>\n",
       "      <td>NaN</td>\n",
       "    </tr>\n",
       "    <tr>\n",
       "      <th>1</th>\n",
       "      <td>State</td>\n",
       "      <td>1990\\1\\</td>\n",
       "      <td>2000\\2\\</td>\n",
       "      <td>2005.0</td>\n",
       "      <td>NaN</td>\n",
       "      <td>2010.0</td>\n",
       "      <td>NaN</td>\n",
       "      <td>2013.0</td>\n",
       "      <td>NaN</td>\n",
       "      <td>2014.0</td>\n",
       "      <td>...</td>\n",
       "      <td>NaN</td>\n",
       "      <td>NaN</td>\n",
       "      <td>NaN</td>\n",
       "      <td>NaN</td>\n",
       "      <td>NaN</td>\n",
       "      <td>NaN</td>\n",
       "      <td>NaN</td>\n",
       "      <td>NaN</td>\n",
       "      <td>NaN</td>\n",
       "      <td>NaN</td>\n",
       "    </tr>\n",
       "    <tr>\n",
       "      <th>2</th>\n",
       "      <td>1</td>\n",
       "      <td>2</td>\n",
       "      <td>3</td>\n",
       "      <td>4.0</td>\n",
       "      <td>NaN</td>\n",
       "      <td>5.0</td>\n",
       "      <td>NaN</td>\n",
       "      <td>6.0</td>\n",
       "      <td>NaN</td>\n",
       "      <td>7.0</td>\n",
       "      <td>...</td>\n",
       "      <td>NaN</td>\n",
       "      <td>NaN</td>\n",
       "      <td>NaN</td>\n",
       "      <td>NaN</td>\n",
       "      <td>NaN</td>\n",
       "      <td>NaN</td>\n",
       "      <td>NaN</td>\n",
       "      <td>NaN</td>\n",
       "      <td>NaN</td>\n",
       "      <td></td>\n",
       "    </tr>\n",
       "    <tr>\n",
       "      <th>3</th>\n",
       "      <td>United States ...........</td>\n",
       "      <td>57500</td>\n",
       "      <td>62000</td>\n",
       "      <td>58200.0</td>\n",
       "      <td>80.0</td>\n",
       "      <td>56400.0</td>\n",
       "      <td>40.0</td>\n",
       "      <td>55100.0</td>\n",
       "      <td>40.0</td>\n",
       "      <td>55600.0</td>\n",
       "      <td>...</td>\n",
       "      <td>NaN</td>\n",
       "      <td>NaN</td>\n",
       "      <td>NaN</td>\n",
       "      <td>NaN</td>\n",
       "      <td>NaN</td>\n",
       "      <td>NaN</td>\n",
       "      <td>NaN</td>\n",
       "      <td>NaN</td>\n",
       "      <td>NaN</td>\n",
       "      <td>NaN</td>\n",
       "    </tr>\n",
       "    <tr>\n",
       "      <th>4</th>\n",
       "      <td>Alabama ....................</td>\n",
       "      <td>45200</td>\n",
       "      <td>50400</td>\n",
       "      <td>46400.0</td>\n",
       "      <td>400.0</td>\n",
       "      <td>45600.0</td>\n",
       "      <td>320.0</td>\n",
       "      <td>45200.0</td>\n",
       "      <td>410.0</td>\n",
       "      <td>44400.0</td>\n",
       "      <td>...</td>\n",
       "      <td>NaN</td>\n",
       "      <td>NaN</td>\n",
       "      <td>NaN</td>\n",
       "      <td>NaN</td>\n",
       "      <td>NaN</td>\n",
       "      <td>NaN</td>\n",
       "      <td>NaN</td>\n",
       "      <td>NaN</td>\n",
       "      <td>NaN</td>\n",
       "      <td>NaN</td>\n",
       "    </tr>\n",
       "    <tr>\n",
       "      <th>...</th>\n",
       "      <td>...</td>\n",
       "      <td>...</td>\n",
       "      <td>...</td>\n",
       "      <td>...</td>\n",
       "      <td>...</td>\n",
       "      <td>...</td>\n",
       "      <td>...</td>\n",
       "      <td>...</td>\n",
       "      <td>...</td>\n",
       "      <td>...</td>\n",
       "      <td>...</td>\n",
       "      <td>...</td>\n",
       "      <td>...</td>\n",
       "      <td>...</td>\n",
       "      <td>...</td>\n",
       "      <td>...</td>\n",
       "      <td>...</td>\n",
       "      <td>...</td>\n",
       "      <td>...</td>\n",
       "      <td>...</td>\n",
       "      <td>...</td>\n",
       "    </tr>\n",
       "    <tr>\n",
       "      <th>63</th>\n",
       "      <td>Wyoming ..................</td>\n",
       "      <td>51900</td>\n",
       "      <td>55900</td>\n",
       "      <td>58100.0</td>\n",
       "      <td>1160.0</td>\n",
       "      <td>60300.0</td>\n",
       "      <td>1300.0</td>\n",
       "      <td>61900.0</td>\n",
       "      <td>1150.0</td>\n",
       "      <td>59100.0</td>\n",
       "      <td>...</td>\n",
       "      <td>NaN</td>\n",
       "      <td>NaN</td>\n",
       "      <td>NaN</td>\n",
       "      <td>NaN</td>\n",
       "      <td>NaN</td>\n",
       "      <td>NaN</td>\n",
       "      <td>NaN</td>\n",
       "      <td>NaN</td>\n",
       "      <td>NaN</td>\n",
       "      <td>NaN</td>\n",
       "    </tr>\n",
       "    <tr>\n",
       "      <th>64</th>\n",
       "      <td>\\1\\Based on 1989 incomes collected in the 1990...</td>\n",
       "      <td>NaN</td>\n",
       "      <td>NaN</td>\n",
       "      <td>NaN</td>\n",
       "      <td>NaN</td>\n",
       "      <td>NaN</td>\n",
       "      <td>NaN</td>\n",
       "      <td>NaN</td>\n",
       "      <td>NaN</td>\n",
       "      <td>NaN</td>\n",
       "      <td>...</td>\n",
       "      <td>NaN</td>\n",
       "      <td>NaN</td>\n",
       "      <td>NaN</td>\n",
       "      <td>NaN</td>\n",
       "      <td>NaN</td>\n",
       "      <td>NaN</td>\n",
       "      <td>NaN</td>\n",
       "      <td>NaN</td>\n",
       "      <td>NaN</td>\n",
       "      <td>NaN</td>\n",
       "    </tr>\n",
       "    <tr>\n",
       "      <th>65</th>\n",
       "      <td>\\2\\Based on 1999 incomes collected in the 2000...</td>\n",
       "      <td>NaN</td>\n",
       "      <td>NaN</td>\n",
       "      <td>NaN</td>\n",
       "      <td>NaN</td>\n",
       "      <td>NaN</td>\n",
       "      <td>NaN</td>\n",
       "      <td>NaN</td>\n",
       "      <td>NaN</td>\n",
       "      <td>NaN</td>\n",
       "      <td>...</td>\n",
       "      <td>NaN</td>\n",
       "      <td>NaN</td>\n",
       "      <td>NaN</td>\n",
       "      <td>NaN</td>\n",
       "      <td>NaN</td>\n",
       "      <td>NaN</td>\n",
       "      <td>NaN</td>\n",
       "      <td>NaN</td>\n",
       "      <td>NaN</td>\n",
       "      <td>NaN</td>\n",
       "    </tr>\n",
       "    <tr>\n",
       "      <th>66</th>\n",
       "      <td>NOTE: Constant dollars adjusted by the Consume...</td>\n",
       "      <td>NaN</td>\n",
       "      <td>NaN</td>\n",
       "      <td>NaN</td>\n",
       "      <td>NaN</td>\n",
       "      <td>NaN</td>\n",
       "      <td>NaN</td>\n",
       "      <td>NaN</td>\n",
       "      <td>NaN</td>\n",
       "      <td>NaN</td>\n",
       "      <td>...</td>\n",
       "      <td>NaN</td>\n",
       "      <td>NaN</td>\n",
       "      <td>NaN</td>\n",
       "      <td>NaN</td>\n",
       "      <td>NaN</td>\n",
       "      <td>NaN</td>\n",
       "      <td>NaN</td>\n",
       "      <td>NaN</td>\n",
       "      <td>NaN</td>\n",
       "      <td>NaN</td>\n",
       "    </tr>\n",
       "    <tr>\n",
       "      <th>67</th>\n",
       "      <td>SOURCE: U.S. Department of Commerce, Census Bu...</td>\n",
       "      <td>NaN</td>\n",
       "      <td>NaN</td>\n",
       "      <td>NaN</td>\n",
       "      <td>NaN</td>\n",
       "      <td>NaN</td>\n",
       "      <td>NaN</td>\n",
       "      <td>NaN</td>\n",
       "      <td>NaN</td>\n",
       "      <td>NaN</td>\n",
       "      <td>...</td>\n",
       "      <td>NaN</td>\n",
       "      <td>NaN</td>\n",
       "      <td>NaN</td>\n",
       "      <td>NaN</td>\n",
       "      <td>NaN</td>\n",
       "      <td>NaN</td>\n",
       "      <td>NaN</td>\n",
       "      <td>NaN</td>\n",
       "      <td>NaN</td>\n",
       "      <td>NaN</td>\n",
       "    </tr>\n",
       "  </tbody>\n",
       "</table>\n",
       "<p>68 rows × 32 columns</p>\n",
       "</div>"
      ],
      "text/plain": [
       "   Table 102.30. Median household income, by state: Selected years, 1990 through 2017  \\\n",
       "0   [In constant 2017 dollars. Standard errors app...                                   \n",
       "1                                               State                                   \n",
       "2                                                   1                                   \n",
       "3                           United States ...........                                   \n",
       "4                        Alabama ....................                                   \n",
       "..                                                ...                                   \n",
       "63                         Wyoming ..................                                   \n",
       "64  \\1\\Based on 1989 incomes collected in the 1990...                                   \n",
       "65  \\2\\Based on 1999 incomes collected in the 2000...                                   \n",
       "66  NOTE: Constant dollars adjusted by the Consume...                                   \n",
       "67  SOURCE: U.S. Department of Commerce, Census Bu...                                   \n",
       "\n",
       "   Unnamed: 1 Unnamed: 2  Unnamed: 3  Unnamed: 4  Unnamed: 5  Unnamed: 6  \\\n",
       "0         NaN        NaN         NaN         NaN         NaN         NaN   \n",
       "1     1990\\1\\    2000\\2\\      2005.0         NaN      2010.0         NaN   \n",
       "2           2          3         4.0         NaN         5.0         NaN   \n",
       "3       57500      62000     58200.0        80.0     56400.0        40.0   \n",
       "4       45200      50400     46400.0       400.0     45600.0       320.0   \n",
       "..        ...        ...         ...         ...         ...         ...   \n",
       "63      51900      55900     58100.0      1160.0     60300.0      1300.0   \n",
       "64        NaN        NaN         NaN         NaN         NaN         NaN   \n",
       "65        NaN        NaN         NaN         NaN         NaN         NaN   \n",
       "66        NaN        NaN         NaN         NaN         NaN         NaN   \n",
       "67        NaN        NaN         NaN         NaN         NaN         NaN   \n",
       "\n",
       "    Unnamed: 7  Unnamed: 8  Unnamed: 9  ...  Unnamed: 22  Unnamed: 23  \\\n",
       "0          NaN         NaN         NaN  ...          NaN          NaN   \n",
       "1       2013.0         NaN      2014.0  ...          NaN          NaN   \n",
       "2          6.0         NaN         7.0  ...          NaN          NaN   \n",
       "3      55100.0        40.0     55600.0  ...          NaN          NaN   \n",
       "4      45200.0       410.0     44400.0  ...          NaN          NaN   \n",
       "..         ...         ...         ...  ...          ...          ...   \n",
       "63     61900.0      1150.0     59100.0  ...          NaN          NaN   \n",
       "64         NaN         NaN         NaN  ...          NaN          NaN   \n",
       "65         NaN         NaN         NaN  ...          NaN          NaN   \n",
       "66         NaN         NaN         NaN  ...          NaN          NaN   \n",
       "67         NaN         NaN         NaN  ...          NaN          NaN   \n",
       "\n",
       "    Unnamed: 24  Unnamed: 25  Unnamed: 26  Unnamed: 27  Unnamed: 28  \\\n",
       "0           NaN          NaN          NaN          NaN          NaN   \n",
       "1           NaN          NaN          NaN          NaN          NaN   \n",
       "2           NaN          NaN          NaN          NaN          NaN   \n",
       "3           NaN          NaN          NaN          NaN          NaN   \n",
       "4           NaN          NaN          NaN          NaN          NaN   \n",
       "..          ...          ...          ...          ...          ...   \n",
       "63          NaN          NaN          NaN          NaN          NaN   \n",
       "64          NaN          NaN          NaN          NaN          NaN   \n",
       "65          NaN          NaN          NaN          NaN          NaN   \n",
       "66          NaN          NaN          NaN          NaN          NaN   \n",
       "67          NaN          NaN          NaN          NaN          NaN   \n",
       "\n",
       "    Unnamed: 29  Unnamed: 30  Unnamed: 31  \n",
       "0           NaN          NaN          NaN  \n",
       "1           NaN          NaN          NaN  \n",
       "2           NaN          NaN               \n",
       "3           NaN          NaN          NaN  \n",
       "4           NaN          NaN          NaN  \n",
       "..          ...          ...          ...  \n",
       "63          NaN          NaN          NaN  \n",
       "64          NaN          NaN          NaN  \n",
       "65          NaN          NaN          NaN  \n",
       "66          NaN          NaN          NaN  \n",
       "67          NaN          NaN          NaN  \n",
       "\n",
       "[68 rows x 32 columns]"
      ]
     },
     "execution_count": 13,
     "metadata": {},
     "output_type": "execute_result"
    }
   ],
   "source": [
    "df_income"
   ]
  },
  {
   "cell_type": "code",
   "execution_count": 14,
   "metadata": {},
   "outputs": [
    {
     "name": "stdout",
     "output_type": "stream",
     "text": [
      "<class 'pandas.core.frame.DataFrame'>\n",
      "RangeIndex: 10868 entries, 0 to 10867\n",
      "Data columns (total 6 columns):\n",
      " #   Column                   Non-Null Count  Dtype  \n",
      "---  ------                   --------------  -----  \n",
      " 0   Year                     10868 non-null  int64  \n",
      " 1   113 Cause Name           10868 non-null  object \n",
      " 2   Cause Name               10868 non-null  object \n",
      " 3   State                    10868 non-null  object \n",
      " 4   Deaths                   10868 non-null  int64  \n",
      " 5   Age-adjusted Death Rate  10868 non-null  float64\n",
      "dtypes: float64(1), int64(2), object(3)\n",
      "memory usage: 509.6+ KB\n"
     ]
    }
   ],
   "source": [
    "df_death.info()"
   ]
  },
  {
   "cell_type": "code",
   "execution_count": 15,
   "metadata": {},
   "outputs": [
    {
     "data": {
      "text/html": [
       "<div>\n",
       "<style scoped>\n",
       "    .dataframe tbody tr th:only-of-type {\n",
       "        vertical-align: middle;\n",
       "    }\n",
       "\n",
       "    .dataframe tbody tr th {\n",
       "        vertical-align: top;\n",
       "    }\n",
       "\n",
       "    .dataframe thead th {\n",
       "        text-align: right;\n",
       "    }\n",
       "</style>\n",
       "<table border=\"1\" class=\"dataframe\">\n",
       "  <thead>\n",
       "    <tr style=\"text-align: right;\">\n",
       "      <th></th>\n",
       "      <th>Year</th>\n",
       "      <th>113 Cause Name</th>\n",
       "      <th>Cause Name</th>\n",
       "      <th>State</th>\n",
       "      <th>Deaths</th>\n",
       "      <th>Age-adjusted Death Rate</th>\n",
       "    </tr>\n",
       "  </thead>\n",
       "  <tbody>\n",
       "    <tr>\n",
       "      <th>0</th>\n",
       "      <td>2017</td>\n",
       "      <td>Accidents (unintentional injuries) (V01-X59,Y8...</td>\n",
       "      <td>Unintentional injuries</td>\n",
       "      <td>United States</td>\n",
       "      <td>169936</td>\n",
       "      <td>49.4</td>\n",
       "    </tr>\n",
       "    <tr>\n",
       "      <th>1</th>\n",
       "      <td>2017</td>\n",
       "      <td>Accidents (unintentional injuries) (V01-X59,Y8...</td>\n",
       "      <td>Unintentional injuries</td>\n",
       "      <td>Alabama</td>\n",
       "      <td>2703</td>\n",
       "      <td>53.8</td>\n",
       "    </tr>\n",
       "    <tr>\n",
       "      <th>2</th>\n",
       "      <td>2017</td>\n",
       "      <td>Accidents (unintentional injuries) (V01-X59,Y8...</td>\n",
       "      <td>Unintentional injuries</td>\n",
       "      <td>Alaska</td>\n",
       "      <td>436</td>\n",
       "      <td>63.7</td>\n",
       "    </tr>\n",
       "    <tr>\n",
       "      <th>3</th>\n",
       "      <td>2017</td>\n",
       "      <td>Accidents (unintentional injuries) (V01-X59,Y8...</td>\n",
       "      <td>Unintentional injuries</td>\n",
       "      <td>Arizona</td>\n",
       "      <td>4184</td>\n",
       "      <td>56.2</td>\n",
       "    </tr>\n",
       "    <tr>\n",
       "      <th>4</th>\n",
       "      <td>2017</td>\n",
       "      <td>Accidents (unintentional injuries) (V01-X59,Y8...</td>\n",
       "      <td>Unintentional injuries</td>\n",
       "      <td>Arkansas</td>\n",
       "      <td>1625</td>\n",
       "      <td>51.8</td>\n",
       "    </tr>\n",
       "    <tr>\n",
       "      <th>...</th>\n",
       "      <td>...</td>\n",
       "      <td>...</td>\n",
       "      <td>...</td>\n",
       "      <td>...</td>\n",
       "      <td>...</td>\n",
       "      <td>...</td>\n",
       "    </tr>\n",
       "    <tr>\n",
       "      <th>10863</th>\n",
       "      <td>1999</td>\n",
       "      <td>Nephritis, nephrotic syndrome and nephrosis (N...</td>\n",
       "      <td>Kidney disease</td>\n",
       "      <td>Virginia</td>\n",
       "      <td>1035</td>\n",
       "      <td>16.9</td>\n",
       "    </tr>\n",
       "    <tr>\n",
       "      <th>10864</th>\n",
       "      <td>1999</td>\n",
       "      <td>Nephritis, nephrotic syndrome and nephrosis (N...</td>\n",
       "      <td>Kidney disease</td>\n",
       "      <td>Washington</td>\n",
       "      <td>278</td>\n",
       "      <td>5.2</td>\n",
       "    </tr>\n",
       "    <tr>\n",
       "      <th>10865</th>\n",
       "      <td>1999</td>\n",
       "      <td>Nephritis, nephrotic syndrome and nephrosis (N...</td>\n",
       "      <td>Kidney disease</td>\n",
       "      <td>West Virginia</td>\n",
       "      <td>345</td>\n",
       "      <td>16.4</td>\n",
       "    </tr>\n",
       "    <tr>\n",
       "      <th>10866</th>\n",
       "      <td>1999</td>\n",
       "      <td>Nephritis, nephrotic syndrome and nephrosis (N...</td>\n",
       "      <td>Kidney disease</td>\n",
       "      <td>Wisconsin</td>\n",
       "      <td>677</td>\n",
       "      <td>11.9</td>\n",
       "    </tr>\n",
       "    <tr>\n",
       "      <th>10867</th>\n",
       "      <td>1999</td>\n",
       "      <td>Nephritis, nephrotic syndrome and nephrosis (N...</td>\n",
       "      <td>Kidney disease</td>\n",
       "      <td>Wyoming</td>\n",
       "      <td>30</td>\n",
       "      <td>6.8</td>\n",
       "    </tr>\n",
       "  </tbody>\n",
       "</table>\n",
       "<p>10868 rows × 6 columns</p>\n",
       "</div>"
      ],
      "text/plain": [
       "       Year                                     113 Cause Name  \\\n",
       "0      2017  Accidents (unintentional injuries) (V01-X59,Y8...   \n",
       "1      2017  Accidents (unintentional injuries) (V01-X59,Y8...   \n",
       "2      2017  Accidents (unintentional injuries) (V01-X59,Y8...   \n",
       "3      2017  Accidents (unintentional injuries) (V01-X59,Y8...   \n",
       "4      2017  Accidents (unintentional injuries) (V01-X59,Y8...   \n",
       "...     ...                                                ...   \n",
       "10863  1999  Nephritis, nephrotic syndrome and nephrosis (N...   \n",
       "10864  1999  Nephritis, nephrotic syndrome and nephrosis (N...   \n",
       "10865  1999  Nephritis, nephrotic syndrome and nephrosis (N...   \n",
       "10866  1999  Nephritis, nephrotic syndrome and nephrosis (N...   \n",
       "10867  1999  Nephritis, nephrotic syndrome and nephrosis (N...   \n",
       "\n",
       "                   Cause Name          State  Deaths  Age-adjusted Death Rate  \n",
       "0      Unintentional injuries  United States  169936                     49.4  \n",
       "1      Unintentional injuries        Alabama    2703                     53.8  \n",
       "2      Unintentional injuries         Alaska     436                     63.7  \n",
       "3      Unintentional injuries        Arizona    4184                     56.2  \n",
       "4      Unintentional injuries       Arkansas    1625                     51.8  \n",
       "...                       ...            ...     ...                      ...  \n",
       "10863          Kidney disease       Virginia    1035                     16.9  \n",
       "10864          Kidney disease     Washington     278                      5.2  \n",
       "10865          Kidney disease  West Virginia     345                     16.4  \n",
       "10866          Kidney disease      Wisconsin     677                     11.9  \n",
       "10867          Kidney disease        Wyoming      30                      6.8  \n",
       "\n",
       "[10868 rows x 6 columns]"
      ]
     },
     "execution_count": 15,
     "metadata": {},
     "output_type": "execute_result"
    }
   ],
   "source": [
    "df_death"
   ]
  },
  {
   "attachments": {},
   "cell_type": "markdown",
   "metadata": {},
   "source": [
    "In the death dataset we have 10868 cases and 6 columns.\n",
    "\n",
    "The columns are:\n",
    "* years, from 1999 to 2017\n",
    "* 113 cause name, the NDI ICD-10 113 categories for causes of death\n",
    "* cause name, the generic name for the death cause defined in the 113 cause name column\n",
    "* state, in which state the data was collected\n",
    "* death, the count of the total deaths \n",
    "* age-adjusted death rate, the standardized death percentage for the specific state in the observed year.\n",
    "\n",
    "\n",
    "The following steps are:\n",
    "\n",
    "* The income dataset needs to be cleaned and corrected in order to be joined with the death dataset (see data-corrections)\n",
    "* The columns for the income dataset need to be transformed in order to have the same format as the death dataset.\n",
    "* The join can be done by state, the missing income values for the years not represented in the income dataset need to either be dropped or replaced\n"
   ]
  },
  {
   "cell_type": "markdown",
   "metadata": {},
   "source": [
    "### Data corrections"
   ]
  },
  {
   "attachments": {},
   "cell_type": "markdown",
   "metadata": {},
   "source": [
    "#### Income Dataset"
   ]
  },
  {
   "cell_type": "code",
   "execution_count": 42,
   "metadata": {},
   "outputs": [
    {
     "name": "stdout",
     "output_type": "stream",
     "text": [
      "<class 'pandas.core.frame.DataFrame'>\n",
      "RangeIndex: 68 entries, 0 to 67\n",
      "Data columns (total 32 columns):\n",
      " #   Column                                                                              Non-Null Count  Dtype  \n",
      "---  ------                                                                              --------------  -----  \n",
      " 0   Table 102.30. Median household income, by state: Selected years, 1990 through 2017  59 non-null     object \n",
      " 1   Unnamed: 1                                                                          54 non-null     object \n",
      " 2   Unnamed: 2                                                                          54 non-null     object \n",
      " 3   Unnamed: 3                                                                          54 non-null     float64\n",
      " 4   Unnamed: 4                                                                          52 non-null     float64\n",
      " 5   Unnamed: 5                                                                          54 non-null     float64\n",
      " 6   Unnamed: 6                                                                          52 non-null     float64\n",
      " 7   Unnamed: 7                                                                          54 non-null     float64\n",
      " 8   Unnamed: 8                                                                          52 non-null     float64\n",
      " 9   Unnamed: 9                                                                          54 non-null     float64\n",
      " 10  Unnamed: 10                                                                         52 non-null     float64\n",
      " 11  Unnamed: 11                                                                         54 non-null     float64\n",
      " 12  Unnamed: 12                                                                         52 non-null     float64\n",
      " 13  Unnamed: 13                                                                         54 non-null     float64\n",
      " 14  Unnamed: 14                                                                         52 non-null     float64\n",
      " 15  Unnamed: 15                                                                         54 non-null     float64\n",
      " 16  Unnamed: 16                                                                         52 non-null     float64\n",
      " 17  Unnamed: 17                                                                         0 non-null      float64\n",
      " 18  Unnamed: 18                                                                         0 non-null      float64\n",
      " 19  Unnamed: 19                                                                         0 non-null      float64\n",
      " 20  Unnamed: 20                                                                         0 non-null      float64\n",
      " 21  Unnamed: 21                                                                         0 non-null      float64\n",
      " 22  Unnamed: 22                                                                         0 non-null      float64\n",
      " 23  Unnamed: 23                                                                         0 non-null      float64\n",
      " 24  Unnamed: 24                                                                         0 non-null      float64\n",
      " 25  Unnamed: 25                                                                         0 non-null      float64\n",
      " 26  Unnamed: 26                                                                         0 non-null      float64\n",
      " 27  Unnamed: 27                                                                         0 non-null      float64\n",
      " 28  Unnamed: 28                                                                         0 non-null      float64\n",
      " 29  Unnamed: 29                                                                         0 non-null      float64\n",
      " 30  Unnamed: 30                                                                         0 non-null      float64\n",
      " 31  Unnamed: 31                                                                         1 non-null      object \n",
      "dtypes: float64(28), object(4)\n",
      "memory usage: 17.1+ KB\n"
     ]
    }
   ],
   "source": [
    "df_income.info()"
   ]
  },
  {
   "attachments": {},
   "cell_type": "markdown",
   "metadata": {},
   "source": [
    "We will perform different corrections for this dataset. The steps are explained as comments within the code"
   ]
  },
  {
   "cell_type": "code",
   "execution_count": 161,
   "metadata": {},
   "outputs": [],
   "source": [
    "# We only need the first 16 columns \n",
    "# and we can also drop the columns 4,6,8,10,12 and 14 since they only show NaN values\n",
    "column_lst = [0,1,2,3,5,7,9,11,13,15]\n",
    "df_income_corrected = df_income[df_income.columns[column_lst]]\n",
    "# We don't need row 0,2 and row 64-67\n",
    "row_drop_lst = [0,2,64,65,66,67]\n",
    "df_income_corrected = df_income_corrected.drop(row_drop_lst)\n",
    "# There are a few rows with empty entries left, which we can get rid off \n",
    "# since those rows have no state assigned to it, they are only used as separators\n",
    "df_income_corrected.dropna(inplace=True)\n",
    "# The column names are actually in the first row, additionally they need to be adjusted\n",
    "column_names = ['State','1990','2000','2005','2010','2013','2014','2015','2016','2017']\n",
    "df_income_corrected.columns = column_names\n",
    "# Row number 1 can be dropped\n",
    "df_income_corrected.drop(1,inplace=True)\n",
    "# The dots in the state column can be removed\n",
    "# We also do not want any leading or ending spaces in the strings\n",
    "df_income_corrected = df_income_corrected.replace(r'\\.','',regex=True)\n",
    "df_income_corrected['State'] = df_income_corrected['State'].str.strip()\n",
    "# Lastly we reset the row index drop the old index \n",
    "df_income_corrected.reset_index(drop = True, inplace = True)\n"
   ]
  },
  {
   "attachments": {},
   "cell_type": "markdown",
   "metadata": {},
   "source": [
    "We also need to make some data transformations in order for this dataset to be joined later on."
   ]
  },
  {
   "cell_type": "code",
   "execution_count": 164,
   "metadata": {},
   "outputs": [],
   "source": [
    "# We transform the table to show the median income for a state in a single year\n",
    "# We use the melt() function for this\n",
    "lst_years = column_names[1:]\n",
    "df_income_corrected = df_income_corrected.melt(\n",
    "    id_vars= ['State'], \n",
    "    value_vars= lst_years, \n",
    "    var_name= 'year', \n",
    "    value_name= 'median_household_income' \n",
    "    )\n",
    "\n",
    "# The State column should be lowercase\n",
    "df_income_corrected = df_income_corrected.rename(\n",
    "    columns = {'State':'state'}\n",
    ")\n",
    "# The types need to be declared, state holds categorial values, year has integers and income holds float numbers\n",
    "df_income_corrected['state'] = df_income_corrected['state'].astype('category')\n",
    "df_income_corrected['year'] = df_income_corrected['year'].astype('int')\n",
    "df_income_corrected['median_household_income'] = df_income_corrected['median_household_income'].astype('float')"
   ]
  },
  {
   "cell_type": "code",
   "execution_count": 165,
   "metadata": {},
   "outputs": [
    {
     "name": "stdout",
     "output_type": "stream",
     "text": [
      "<class 'pandas.core.frame.DataFrame'>\n",
      "RangeIndex: 468 entries, 0 to 467\n",
      "Data columns (total 3 columns):\n",
      " #   Column                   Non-Null Count  Dtype   \n",
      "---  ------                   --------------  -----   \n",
      " 0   state                    468 non-null    category\n",
      " 1   year                     468 non-null    int32   \n",
      " 2   median_household_income  468 non-null    float64 \n",
      "dtypes: category(1), float64(1), int32(1)\n",
      "memory usage: 8.5 KB\n"
     ]
    }
   ],
   "source": [
    "df_income_corrected.info()"
   ]
  },
  {
   "cell_type": "code",
   "execution_count": 166,
   "metadata": {},
   "outputs": [
    {
     "data": {
      "text/html": [
       "<div>\n",
       "<style scoped>\n",
       "    .dataframe tbody tr th:only-of-type {\n",
       "        vertical-align: middle;\n",
       "    }\n",
       "\n",
       "    .dataframe tbody tr th {\n",
       "        vertical-align: top;\n",
       "    }\n",
       "\n",
       "    .dataframe thead th {\n",
       "        text-align: right;\n",
       "    }\n",
       "</style>\n",
       "<table border=\"1\" class=\"dataframe\">\n",
       "  <thead>\n",
       "    <tr style=\"text-align: right;\">\n",
       "      <th></th>\n",
       "      <th>state</th>\n",
       "      <th>year</th>\n",
       "      <th>median_household_income</th>\n",
       "    </tr>\n",
       "  </thead>\n",
       "  <tbody>\n",
       "    <tr>\n",
       "      <th>0</th>\n",
       "      <td>United States</td>\n",
       "      <td>1990</td>\n",
       "      <td>57500.0</td>\n",
       "    </tr>\n",
       "    <tr>\n",
       "      <th>1</th>\n",
       "      <td>Alabama</td>\n",
       "      <td>1990</td>\n",
       "      <td>45200.0</td>\n",
       "    </tr>\n",
       "    <tr>\n",
       "      <th>2</th>\n",
       "      <td>Alaska</td>\n",
       "      <td>1990</td>\n",
       "      <td>79300.0</td>\n",
       "    </tr>\n",
       "    <tr>\n",
       "      <th>3</th>\n",
       "      <td>Arizona</td>\n",
       "      <td>1990</td>\n",
       "      <td>52700.0</td>\n",
       "    </tr>\n",
       "    <tr>\n",
       "      <th>4</th>\n",
       "      <td>Arkansas</td>\n",
       "      <td>1990</td>\n",
       "      <td>40500.0</td>\n",
       "    </tr>\n",
       "    <tr>\n",
       "      <th>...</th>\n",
       "      <td>...</td>\n",
       "      <td>...</td>\n",
       "      <td>...</td>\n",
       "    </tr>\n",
       "    <tr>\n",
       "      <th>463</th>\n",
       "      <td>Virginia</td>\n",
       "      <td>2017</td>\n",
       "      <td>71500.0</td>\n",
       "    </tr>\n",
       "    <tr>\n",
       "      <th>464</th>\n",
       "      <td>Washington</td>\n",
       "      <td>2017</td>\n",
       "      <td>71000.0</td>\n",
       "    </tr>\n",
       "    <tr>\n",
       "      <th>465</th>\n",
       "      <td>West Virginia</td>\n",
       "      <td>2017</td>\n",
       "      <td>43500.0</td>\n",
       "    </tr>\n",
       "    <tr>\n",
       "      <th>466</th>\n",
       "      <td>Wisconsin</td>\n",
       "      <td>2017</td>\n",
       "      <td>59300.0</td>\n",
       "    </tr>\n",
       "    <tr>\n",
       "      <th>467</th>\n",
       "      <td>Wyoming</td>\n",
       "      <td>2017</td>\n",
       "      <td>60400.0</td>\n",
       "    </tr>\n",
       "  </tbody>\n",
       "</table>\n",
       "<p>468 rows × 3 columns</p>\n",
       "</div>"
      ],
      "text/plain": [
       "             state  year  median_household_income\n",
       "0    United States  1990                  57500.0\n",
       "1          Alabama  1990                  45200.0\n",
       "2           Alaska  1990                  79300.0\n",
       "3          Arizona  1990                  52700.0\n",
       "4         Arkansas  1990                  40500.0\n",
       "..             ...   ...                      ...\n",
       "463       Virginia  2017                  71500.0\n",
       "464     Washington  2017                  71000.0\n",
       "465  West Virginia  2017                  43500.0\n",
       "466      Wisconsin  2017                  59300.0\n",
       "467        Wyoming  2017                  60400.0\n",
       "\n",
       "[468 rows x 3 columns]"
      ]
     },
     "execution_count": 166,
     "metadata": {},
     "output_type": "execute_result"
    }
   ],
   "source": [
    "df_income_corrected"
   ]
  },
  {
   "cell_type": "code",
   "execution_count": 167,
   "metadata": {},
   "outputs": [],
   "source": [
    "file = 'Corrected_Median_Household_Income_By_State_1990-2017.csv'\n",
    "df_income_corrected.to_csv(raw_data+file,index = None, header=True)"
   ]
  },
  {
   "attachments": {},
   "cell_type": "markdown",
   "metadata": {},
   "source": [
    "We prepared the income data set in order to use it for our project. \n",
    "The original .xls data can be found in the data folder under external or the .csv under raw \n",
    "\n",
    "In the final death data set we have 468 cases and 3 columns.\n",
    "\n",
    "The columns are:\n",
    "* state, in which the data was collected\n",
    "* years, 1990, 2000, 2005, 2010 and 2013-2017\n",
    "* median_household_income"
   ]
  },
  {
   "cell_type": "markdown",
   "metadata": {},
   "source": [
    "#### Death Dataset"
   ]
  },
  {
   "cell_type": "code",
   "execution_count": 168,
   "metadata": {},
   "outputs": [
    {
     "name": "stdout",
     "output_type": "stream",
     "text": [
      "<class 'pandas.core.frame.DataFrame'>\n",
      "RangeIndex: 10868 entries, 0 to 10867\n",
      "Data columns (total 6 columns):\n",
      " #   Column                   Non-Null Count  Dtype   \n",
      "---  ------                   --------------  -----   \n",
      " 0   year                     10868 non-null  int64   \n",
      " 1   113_cause_name           10868 non-null  category\n",
      " 2   cause_name               10868 non-null  category\n",
      " 3   state                    10868 non-null  category\n",
      " 4   deaths                   10868 non-null  int64   \n",
      " 5   age_adjusted_death_rate  10868 non-null  float64 \n",
      "dtypes: category(3), float64(1), int64(2)\n",
      "memory usage: 289.9 KB\n"
     ]
    }
   ],
   "source": [
    "df_death.info()"
   ]
  },
  {
   "attachments": {},
   "cell_type": "markdown",
   "metadata": {},
   "source": [
    "* The Dtypes 113 Cause Name, Cause Name and State need to be changed to category.\n",
    "* The year, deaths and death rate column already have the right typing.\n",
    "* The column names will be adjusted to be lowercase and have underscores instead of spaces.\n",
    "* Also, there are no missing values present in the dataset."
   ]
  },
  {
   "cell_type": "code",
   "execution_count": 178,
   "metadata": {},
   "outputs": [],
   "source": [
    "df_death_corrected = df_death"
   ]
  },
  {
   "cell_type": "code",
   "execution_count": 179,
   "metadata": {},
   "outputs": [],
   "source": [
    "# Change column names to lowercase\n",
    "df_death_corrected.columns = df_death_corrected.columns.str.lower()\n",
    "# Change spaces and the '-' to underscores\n",
    "df_death_corrected.columns = df_death_corrected.columns.str.replace(r' ','_',regex=True)\n",
    "df_death_corrected.columns = df_death_corrected.columns.str.replace(r'-','_',regex=True)\n",
    "# Remove any leading or trailing whitespaces for the object columns\n",
    "df_death_corrected['113_cause_name'] = df_death_corrected['113_cause_name'].str.strip()\n",
    "df_death_corrected['cause_name'] = df_death_corrected['cause_name'].str.strip()\n",
    "df_death_corrected['state'] = df_death_corrected['state'].str.strip()\n",
    "# Change Dtype of 113 Cause Name, Cause Name and State column to category\n",
    "cols = df_death_corrected.select_dtypes(include='object').columns.to_list()\n",
    "df_death_corrected[cols] = df_death_corrected[cols].astype('category')"
   ]
  },
  {
   "cell_type": "code",
   "execution_count": 180,
   "metadata": {},
   "outputs": [
    {
     "name": "stdout",
     "output_type": "stream",
     "text": [
      "<class 'pandas.core.frame.DataFrame'>\n",
      "RangeIndex: 10868 entries, 0 to 10867\n",
      "Data columns (total 6 columns):\n",
      " #   Column                   Non-Null Count  Dtype   \n",
      "---  ------                   --------------  -----   \n",
      " 0   year                     10868 non-null  int64   \n",
      " 1   113_cause_name           10868 non-null  category\n",
      " 2   cause_name               10868 non-null  category\n",
      " 3   state                    10868 non-null  category\n",
      " 4   deaths                   10868 non-null  int64   \n",
      " 5   age_adjusted_death_rate  10868 non-null  float64 \n",
      "dtypes: category(3), float64(1), int64(2)\n",
      "memory usage: 289.9 KB\n"
     ]
    }
   ],
   "source": [
    "df_death_corrected.info()"
   ]
  },
  {
   "cell_type": "code",
   "execution_count": 181,
   "metadata": {},
   "outputs": [],
   "source": [
    "df_joined = pd.merge(\n",
    "    df_death_corrected,\n",
    "    df_income_corrected,\n",
    "    how = 'left',\n",
    "    on = ['year','state']\n",
    ")\n"
   ]
  },
  {
   "cell_type": "code",
   "execution_count": 184,
   "metadata": {},
   "outputs": [
    {
     "name": "stdout",
     "output_type": "stream",
     "text": [
      "<class 'pandas.core.frame.DataFrame'>\n",
      "Int64Index: 10868 entries, 0 to 10867\n",
      "Data columns (total 7 columns):\n",
      " #   Column                   Non-Null Count  Dtype   \n",
      "---  ------                   --------------  -----   \n",
      " 0   year                     10868 non-null  int64   \n",
      " 1   113_cause_name           10868 non-null  category\n",
      " 2   cause_name               10868 non-null  category\n",
      " 3   state                    10868 non-null  category\n",
      " 4   deaths                   10868 non-null  int64   \n",
      " 5   age_adjusted_death_rate  10868 non-null  float64 \n",
      " 6   median_household_income  4576 non-null   float64 \n",
      "dtypes: category(3), float64(2), int64(2)\n",
      "memory usage: 459.6 KB\n"
     ]
    }
   ],
   "source": [
    "df_joined.info()"
   ]
  },
  {
   "attachments": {},
   "cell_type": "markdown",
   "metadata": {},
   "source": [
    "After joining, the median_household_income is an additional column for the death data set.\n",
    "\n",
    "We only have the median household income for the year 1990, 2000, 2005, 2010 and 2013-2017.\n",
    "For the missing years, we will impute the values by using the last and next value and calculating the mean of both.\n"
   ]
  },
  {
   "cell_type": "code",
   "execution_count": 189,
   "metadata": {},
   "outputs": [],
   "source": [
    "# Impute the median_household_income for missing years"
   ]
  },
  {
   "attachments": {},
   "cell_type": "markdown",
   "metadata": {},
   "source": [
    "This will leave us with 6 columns in total, which we can use for our data analysis (we will later disregard the 113 Cause name column since we will see, that the same information is provided by the cause name column)"
   ]
  },
  {
   "attachments": {},
   "cell_type": "markdown",
   "metadata": {},
   "source": [
    "### Variable lists\n",
    "## Burcin"
   ]
  },
  {
   "cell_type": "code",
   "execution_count": null,
   "metadata": {},
   "outputs": [],
   "source": [
    "# auf Fertigem Datensatz Variablen auflisten"
   ]
  },
  {
   "attachments": {},
   "cell_type": "markdown",
   "metadata": {},
   "source": [
    "### Data splitting\n",
    "\n",
    "## Burcin"
   ]
  },
  {
   "cell_type": "code",
   "execution_count": null,
   "metadata": {},
   "outputs": [],
   "source": []
  },
  {
   "attachments": {},
   "cell_type": "markdown",
   "metadata": {},
   "source": [
    "## Analysis\n",
    "\n",
    "## Nico\n",
    "\n",
    "Analysis Approach umsetzen"
   ]
  },
  {
   "cell_type": "markdown",
   "metadata": {},
   "source": [
    "### Descriptive statistics"
   ]
  },
  {
   "cell_type": "code",
   "execution_count": null,
   "metadata": {},
   "outputs": [],
   "source": []
  },
  {
   "cell_type": "markdown",
   "metadata": {},
   "source": [
    "### Exploratory data analysis"
   ]
  },
  {
   "cell_type": "code",
   "execution_count": null,
   "metadata": {},
   "outputs": [],
   "source": []
  },
  {
   "cell_type": "markdown",
   "metadata": {},
   "source": [
    "### Relationships"
   ]
  },
  {
   "cell_type": "code",
   "execution_count": null,
   "metadata": {},
   "outputs": [],
   "source": []
  },
  {
   "attachments": {},
   "cell_type": "markdown",
   "metadata": {},
   "source": [
    "## Model\n",
    "\n",
    "## Nico\n",
    "### Kopieren aus Notebook 44 und Modeltypen passend zu proposal umsetzen\n",
    "\n",
    "Abstimmung, welche Metriken und Erkenntnisse aus den Modellen für uns relevant sind"
   ]
  },
  {
   "cell_type": "markdown",
   "metadata": {},
   "source": [
    "### Select model"
   ]
  },
  {
   "cell_type": "code",
   "execution_count": null,
   "metadata": {},
   "outputs": [],
   "source": []
  },
  {
   "cell_type": "markdown",
   "metadata": {},
   "source": [
    "### Training and validation"
   ]
  },
  {
   "cell_type": "code",
   "execution_count": null,
   "metadata": {},
   "outputs": [],
   "source": []
  },
  {
   "cell_type": "markdown",
   "metadata": {},
   "source": [
    "### Fit model"
   ]
  },
  {
   "cell_type": "code",
   "execution_count": null,
   "metadata": {},
   "outputs": [],
   "source": []
  },
  {
   "cell_type": "markdown",
   "metadata": {},
   "source": [
    "### Evaluation on test set"
   ]
  },
  {
   "cell_type": "code",
   "execution_count": null,
   "metadata": {},
   "outputs": [],
   "source": []
  },
  {
   "cell_type": "markdown",
   "metadata": {},
   "source": [
    "### Save model\n"
   ]
  },
  {
   "cell_type": "markdown",
   "metadata": {},
   "source": [
    "\n",
    "Save your model in the folder `models/`. Use a meaningful name and a timestamp."
   ]
  },
  {
   "cell_type": "code",
   "execution_count": null,
   "metadata": {},
   "outputs": [],
   "source": []
  },
  {
   "cell_type": "markdown",
   "metadata": {},
   "source": [
    "## Conclusions"
   ]
  },
  {
   "attachments": {},
   "cell_type": "markdown",
   "metadata": {},
   "source": [
    "Am Ende die weiteren Schritte und bisherigen Interprationen auflisten."
   ]
  },
  {
   "cell_type": "markdown",
   "metadata": {},
   "source": []
  }
 ],
 "metadata": {
  "kernelspec": {
   "display_name": "Python 3",
   "language": "python",
   "name": "python3"
  },
  "language_info": {
   "codemirror_mode": {
    "name": "ipython",
    "version": 3
   },
   "file_extension": ".py",
   "mimetype": "text/x-python",
   "name": "python",
   "nbconvert_exporter": "python",
   "pygments_lexer": "ipython3",
   "version": "3.9.13"
  },
  "orig_nbformat": 4,
  "vscode": {
   "interpreter": {
    "hash": "0bce9ee4a7dbaa2f8d8dbf81914451bc1662208b62846c9d24404c6ff8728961"
   }
  }
 },
 "nbformat": 4,
 "nbformat_minor": 2
}
