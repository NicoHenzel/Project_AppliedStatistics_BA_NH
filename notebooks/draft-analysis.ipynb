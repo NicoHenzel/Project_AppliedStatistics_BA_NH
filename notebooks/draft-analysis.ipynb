{
 "cells": [
  {
   "attachments": {},
   "cell_type": "markdown",
   "metadata": {},
   "source": [
    "# Draft analysis \n",
    "\n",
    "---\n",
    "\n",
    "Group name: Group C, Burcin Aksel & Nico Henzel\n",
    "\n",
    "---\n"
   ]
  },
  {
   "attachments": {},
   "cell_type": "markdown",
   "metadata": {},
   "source": [
    "# Nächste Schritte\n",
    "\n",
    "- Model Ergebnisse vergleichen und in Conclusion schreiben\n",
    "- Error Werte aus den einzelnen Modellen in eine Tabelle speichern und nebeneinander darstellen\n",
    "- Fit aus den Modellen visualisieren und nebeneinander stellen\n",
    "- Graphen anpassen (Titel, Achsenbeschriftung, Legende)\n",
    "- Einige Code Zeilen für Report verstecken\n",
    "- Appendix verknüpfen\n"
   ]
  },
  {
   "attachments": {},
   "cell_type": "markdown",
   "metadata": {},
   "source": [
    "## Setup"
   ]
  },
  {
   "cell_type": "code",
   "execution_count": 436,
   "metadata": {},
   "outputs": [
    {
     "data": {
      "text/plain": [
       "DataTransformerRegistry.enable('default')"
      ]
     },
     "execution_count": 436,
     "metadata": {},
     "output_type": "execute_result"
    }
   ],
   "source": [
    "import pandas as pd\n",
    "import numpy as np\n",
    "import missingno as mno # needed to visualize missing values. install missingno into conda if import does not work!\n",
    "import altair as alt\n",
    "import matplotlib.pyplot as plt\n",
    "import plotly.express as px # needed for US map\n",
    "import xlrd # needed to read excel files. install xlrd into conda if import does not work!\n",
    "import shutil # needed to copy files\n",
    "import warnings\n",
    "from sklearn.preprocessing import MinMaxScaler\n",
    "from sklearn.preprocessing import StandardScaler\n",
    "from sklearn.impute import KNNImputer\n",
    "from sklearn.model_selection import train_test_split\n",
    "from sklearn.model_selection import cross_val_score\n",
    "from sklearn.linear_model import LinearRegression\n",
    "from sklearn.linear_model import Lasso\n",
    "from sklearn.metrics import r2_score\n",
    "from sklearn.metrics import mean_squared_error\n",
    "from sklearn.metrics import mean_absolute_error\n",
    "\n",
    "\n",
    "warnings.simplefilter(action='ignore', category=FutureWarning)\n",
    "alt.data_transformers.disable_max_rows()"
   ]
  },
  {
   "attachments": {},
   "cell_type": "markdown",
   "metadata": {},
   "source": [
    "## Introduction\n",
    "\n",
    "The aim of this project is to investigate, whether there is a correlation between the household income and the death rate in the United States of America. In order to explore this relation, we gathered data on both topics and will analyse how and to what extense the death rate is impacted by the household income.\n",
    "\n",
    "### Research Question\n",
    "\n",
    "We want to answer the following question:\n",
    "\n",
    "**Does the household income have an impact on the deathrates in the U.S. and if yes, how big is it?**\n",
    "\n",
    "The predictor variable will be the median household income and the response variable will be the age-adjusted death rate. Further insights can be gained by using categories like death cause, state or year. Other useful information will be provided by the amount of total deaths.\n",
    "The data dictionary below, is showing more details about the required variables."
   ]
  },
  {
   "cell_type": "code",
   "execution_count": 437,
   "metadata": {
    "tags": [
     "Hide Cell"
    ]
   },
   "outputs": [
    {
     "data": {
      "text/html": [
       "<div>\n",
       "<style scoped>\n",
       "    .dataframe tbody tr th:only-of-type {\n",
       "        vertical-align: middle;\n",
       "    }\n",
       "\n",
       "    .dataframe tbody tr th {\n",
       "        vertical-align: top;\n",
       "    }\n",
       "\n",
       "    .dataframe thead th {\n",
       "        text-align: right;\n",
       "    }\n",
       "</style>\n",
       "<table border=\"1\" class=\"dataframe\">\n",
       "  <thead>\n",
       "    <tr style=\"text-align: right;\">\n",
       "      <th></th>\n",
       "      <th>Name</th>\n",
       "      <th>Description</th>\n",
       "      <th>Role</th>\n",
       "      <th>Type</th>\n",
       "      <th>Format</th>\n",
       "    </tr>\n",
       "  </thead>\n",
       "  <tbody>\n",
       "    <tr>\n",
       "      <th>0</th>\n",
       "      <td>state</td>\n",
       "      <td>the state where data was collected</td>\n",
       "      <td>predictor</td>\n",
       "      <td>nominal</td>\n",
       "      <td>category</td>\n",
       "    </tr>\n",
       "    <tr>\n",
       "      <th>1</th>\n",
       "      <td>year</td>\n",
       "      <td>considered years</td>\n",
       "      <td>predictor</td>\n",
       "      <td>numeric discrete</td>\n",
       "      <td>date</td>\n",
       "    </tr>\n",
       "    <tr>\n",
       "      <th>2</th>\n",
       "      <td>median_household_income</td>\n",
       "      <td>median household income</td>\n",
       "      <td>predictor</td>\n",
       "      <td>numeric continuous</td>\n",
       "      <td>float</td>\n",
       "    </tr>\n",
       "    <tr>\n",
       "      <th>3</th>\n",
       "      <td>cause name</td>\n",
       "      <td>the generic name for the death cause</td>\n",
       "      <td>predictor</td>\n",
       "      <td>nominal</td>\n",
       "      <td>category</td>\n",
       "    </tr>\n",
       "    <tr>\n",
       "      <th>4</th>\n",
       "      <td>113 cause name</td>\n",
       "      <td>NDI ICD-10 113 categories for causes of death</td>\n",
       "      <td>Not used</td>\n",
       "      <td>nominal</td>\n",
       "      <td>category</td>\n",
       "    </tr>\n",
       "    <tr>\n",
       "      <th>5</th>\n",
       "      <td>deaths</td>\n",
       "      <td>count of the total deaths</td>\n",
       "      <td>ID</td>\n",
       "      <td>numeric discrete</td>\n",
       "      <td>int</td>\n",
       "    </tr>\n",
       "    <tr>\n",
       "      <th>6</th>\n",
       "      <td>Age-adjusted Death Rate</td>\n",
       "      <td>standardized death percentage for a state</td>\n",
       "      <td>response</td>\n",
       "      <td>numeric continuous</td>\n",
       "      <td>float</td>\n",
       "    </tr>\n",
       "  </tbody>\n",
       "</table>\n",
       "</div>"
      ],
      "text/plain": [
       "                      Name                                    Description  \\\n",
       "0                    state             the state where data was collected   \n",
       "1                     year                               considered years   \n",
       "2  median_household_income                        median household income   \n",
       "3               cause name           the generic name for the death cause   \n",
       "4           113 cause name  NDI ICD-10 113 categories for causes of death   \n",
       "5                   deaths                      count of the total deaths   \n",
       "6  Age-adjusted Death Rate      standardized death percentage for a state   \n",
       "\n",
       "        Role                Type    Format  \n",
       "0  predictor             nominal  category  \n",
       "1  predictor    numeric discrete      date  \n",
       "2  predictor  numeric continuous     float  \n",
       "3  predictor             nominal  category  \n",
       "4   Not used             nominal  category  \n",
       "5         ID    numeric discrete       int  \n",
       "6   response  numeric continuous     float  "
      ]
     },
     "execution_count": 437,
     "metadata": {},
     "output_type": "execute_result"
    }
   ],
   "source": [
    "data = {\n",
    "        'Name': [\n",
    "                'state',\n",
    "                'year',\n",
    "                'median_household_income',\n",
    "                'cause name',\n",
    "                '113 cause name',\n",
    "                'deaths',\n",
    "                'Age-adjusted Death Rate'\n",
    "                ], \n",
    "        'Description': [\n",
    "                'the state where data was collected',\n",
    "                'considered years','median household income',\n",
    "                'the generic name for the death cause',\n",
    "                'NDI ICD-10 113 categories for causes of death',\n",
    "                'count of the total deaths',\n",
    "                'standardized death percentage for a state'\n",
    "                ],\n",
    "        'Role': [\n",
    "                'predictor',\n",
    "                'predictor',\n",
    "                'predictor',\n",
    "                'predictor',\n",
    "                'Not used',\n",
    "                'ID',\n",
    "                'response'\n",
    "                ],\n",
    "        'Type': [\n",
    "                'nominal',\n",
    "                'numeric discrete',\n",
    "                'numeric continuous',\n",
    "                'nominal',\n",
    "                'nominal',\n",
    "                'numeric discrete',\n",
    "                'numeric continuous'\n",
    "                ],\n",
    "        'Format': [\n",
    "                'category',\n",
    "                'date',\n",
    "                'float',\n",
    "                'category',\n",
    "                'category',\n",
    "                'int',\n",
    "                'float'\n",
    "                ],\n",
    "        }\n",
    "df = pd.DataFrame(data)\n",
    "df"
   ]
  },
  {
   "attachments": {},
   "cell_type": "markdown",
   "metadata": {},
   "source": [
    "Our research question is backed by the following studies:\n",
    "* KINGE, Jonas Minet, et al. Association of household income with life expectancy and cause-specific mortality in Norway, 2005-2015. Jama, 2019, 321. Jg., Nr. 19, S. 1916-1925. (https://jamanetwork.com/journals/jama/article-abstract/2733322)\n",
    "* KAPLAN, George A., et al. Inequality in income and mortality in the United States: analysis of mortality and potential pathways. Bmj, 1996, 312. Jg., Nr. 7037, S. 999-1003. (https://www.bmj.com/content/312/7037/999.full)\n",
    "* O’CONNOR, Gerald T., et al. Median household income and mortality rate in cystic fibrosis. Pediatrics, 2003, 111. Jg., Nr. 4, S. e333-e339. (https://publications.aap.org/pediatrics/article-abstract/111/4/e333/63113/Median-Household-Income-and-Mortality-Rate-in)\n",
    "\n",
    "Although the first study was done in Norway and the second study investigates mortality instead of death rate, we suspect to gather similar observations.\n",
    "Therefore our hypotheses regarding the research question is:\n",
    "\n",
    "**The household income and the death rate will have a negative correlation.**\n",
    "\n",
    "Meaning, that the higher the household income is, the lower the death rate will be.\n",
    "\n",
    "Added information on mortality rate:\n",
    "*Mortality is a fact that refers to susceptibility to death. While there is a crude death rate that refers to number of deaths in a population in a year, mortality rate is the number of deaths per thousand people over a period of time that is normally a year.* (see: https://www.differencebetween.com/difference-between-death-rate-and-vs-mortality-rate/)."
   ]
  },
  {
   "attachments": {},
   "cell_type": "markdown",
   "metadata": {},
   "source": [
    "## Data"
   ]
  },
  {
   "cell_type": "markdown",
   "metadata": {},
   "source": [
    "## Import data"
   ]
  },
  {
   "cell_type": "code",
   "execution_count": 438,
   "metadata": {},
   "outputs": [
    {
     "data": {
      "text/plain": [
       "'..\\\\data\\\\raw\\\\NCHS_-_Leading_Causes_of_Death__United_States.csv'"
      ]
     },
     "execution_count": 438,
     "metadata": {},
     "output_type": "execute_result"
    }
   ],
   "source": [
    "# Declare variables\n",
    "external_data = '..\\\\data\\\\external\\\\'\n",
    "raw_data = '..\\\\data\\\\raw\\\\'\n",
    "# File names\n",
    "orig_income_file = 'Median_Household_Income_By_State_1990-2017.xls'\n",
    "target_income_file = 'Median_Household_Income_By_State_1990-2017.csv'\n",
    "orig_death_file = 'NCHS_-_Leading_Causes_of_Death__United_States.csv'\n",
    "# Save external median income data as csv in folder 'raw'\n",
    "# Read file\n",
    "xls_household_file = pd.read_excel(external_data+orig_income_file)\n",
    "# Save file\n",
    "xls_household_file.to_csv(raw_data+target_income_file,index = None, header=True)\n",
    "# Copy external leading cause of death data into folder 'raw'\n",
    "shutil.copy(external_data+orig_death_file, raw_data+orig_death_file)"
   ]
  },
  {
   "cell_type": "code",
   "execution_count": 439,
   "metadata": {},
   "outputs": [],
   "source": [
    "# Declare both dataframes\n",
    "df_income = pd.read_csv(raw_data+target_income_file)\n",
    "df_death = pd.read_csv(raw_data+orig_death_file)"
   ]
  },
  {
   "cell_type": "markdown",
   "metadata": {},
   "source": [
    "### Data structure"
   ]
  },
  {
   "cell_type": "code",
   "execution_count": 440,
   "metadata": {},
   "outputs": [
    {
     "name": "stdout",
     "output_type": "stream",
     "text": [
      "<class 'pandas.core.frame.DataFrame'>\n",
      "RangeIndex: 10868 entries, 0 to 10867\n",
      "Data columns (total 6 columns):\n",
      " #   Column                   Non-Null Count  Dtype  \n",
      "---  ------                   --------------  -----  \n",
      " 0   Year                     10868 non-null  int64  \n",
      " 1   113 Cause Name           10868 non-null  object \n",
      " 2   Cause Name               10868 non-null  object \n",
      " 3   State                    10868 non-null  object \n",
      " 4   Deaths                   10868 non-null  int64  \n",
      " 5   Age-adjusted Death Rate  10868 non-null  float64\n",
      "dtypes: float64(1), int64(2), object(3)\n",
      "memory usage: 509.6+ KB\n"
     ]
    }
   ],
   "source": [
    "df_death.info()"
   ]
  },
  {
   "cell_type": "code",
   "execution_count": 441,
   "metadata": {},
   "outputs": [
    {
     "data": {
      "text/html": [
       "<div>\n",
       "<style scoped>\n",
       "    .dataframe tbody tr th:only-of-type {\n",
       "        vertical-align: middle;\n",
       "    }\n",
       "\n",
       "    .dataframe tbody tr th {\n",
       "        vertical-align: top;\n",
       "    }\n",
       "\n",
       "    .dataframe thead th {\n",
       "        text-align: right;\n",
       "    }\n",
       "</style>\n",
       "<table border=\"1\" class=\"dataframe\">\n",
       "  <thead>\n",
       "    <tr style=\"text-align: right;\">\n",
       "      <th></th>\n",
       "      <th>Year</th>\n",
       "      <th>113 Cause Name</th>\n",
       "      <th>Cause Name</th>\n",
       "      <th>State</th>\n",
       "      <th>Deaths</th>\n",
       "      <th>Age-adjusted Death Rate</th>\n",
       "    </tr>\n",
       "  </thead>\n",
       "  <tbody>\n",
       "    <tr>\n",
       "      <th>0</th>\n",
       "      <td>2017</td>\n",
       "      <td>Accidents (unintentional injuries) (V01-X59,Y8...</td>\n",
       "      <td>Unintentional injuries</td>\n",
       "      <td>United States</td>\n",
       "      <td>169936</td>\n",
       "      <td>49.4</td>\n",
       "    </tr>\n",
       "    <tr>\n",
       "      <th>1</th>\n",
       "      <td>2017</td>\n",
       "      <td>Accidents (unintentional injuries) (V01-X59,Y8...</td>\n",
       "      <td>Unintentional injuries</td>\n",
       "      <td>Alabama</td>\n",
       "      <td>2703</td>\n",
       "      <td>53.8</td>\n",
       "    </tr>\n",
       "    <tr>\n",
       "      <th>2</th>\n",
       "      <td>2017</td>\n",
       "      <td>Accidents (unintentional injuries) (V01-X59,Y8...</td>\n",
       "      <td>Unintentional injuries</td>\n",
       "      <td>Alaska</td>\n",
       "      <td>436</td>\n",
       "      <td>63.7</td>\n",
       "    </tr>\n",
       "    <tr>\n",
       "      <th>3</th>\n",
       "      <td>2017</td>\n",
       "      <td>Accidents (unintentional injuries) (V01-X59,Y8...</td>\n",
       "      <td>Unintentional injuries</td>\n",
       "      <td>Arizona</td>\n",
       "      <td>4184</td>\n",
       "      <td>56.2</td>\n",
       "    </tr>\n",
       "    <tr>\n",
       "      <th>4</th>\n",
       "      <td>2017</td>\n",
       "      <td>Accidents (unintentional injuries) (V01-X59,Y8...</td>\n",
       "      <td>Unintentional injuries</td>\n",
       "      <td>Arkansas</td>\n",
       "      <td>1625</td>\n",
       "      <td>51.8</td>\n",
       "    </tr>\n",
       "  </tbody>\n",
       "</table>\n",
       "</div>"
      ],
      "text/plain": [
       "   Year                                     113 Cause Name  \\\n",
       "0  2017  Accidents (unintentional injuries) (V01-X59,Y8...   \n",
       "1  2017  Accidents (unintentional injuries) (V01-X59,Y8...   \n",
       "2  2017  Accidents (unintentional injuries) (V01-X59,Y8...   \n",
       "3  2017  Accidents (unintentional injuries) (V01-X59,Y8...   \n",
       "4  2017  Accidents (unintentional injuries) (V01-X59,Y8...   \n",
       "\n",
       "               Cause Name          State  Deaths  Age-adjusted Death Rate  \n",
       "0  Unintentional injuries  United States  169936                     49.4  \n",
       "1  Unintentional injuries        Alabama    2703                     53.8  \n",
       "2  Unintentional injuries         Alaska     436                     63.7  \n",
       "3  Unintentional injuries        Arizona    4184                     56.2  \n",
       "4  Unintentional injuries       Arkansas    1625                     51.8  "
      ]
     },
     "execution_count": 441,
     "metadata": {},
     "output_type": "execute_result"
    }
   ],
   "source": [
    "df_death.head()"
   ]
  },
  {
   "attachments": {},
   "cell_type": "markdown",
   "metadata": {},
   "source": [
    "In the death dataset we have 10868 cases and 6 columns.\n",
    "\n",
    "The columns are:\n",
    "* years, from 1999 to 2017\n",
    "* 113 cause name, the NDI ICD-10 113 categories for causes of death\n",
    "* cause name, the generic name for the death cause defined in the 113 cause name column\n",
    "* state, in which state the data was collected\n",
    "* death, the count of the total deaths \n",
    "* age-adjusted death rate, the standardized death percentage for the specific state in the observed year"
   ]
  },
  {
   "cell_type": "code",
   "execution_count": 442,
   "metadata": {},
   "outputs": [
    {
     "data": {
      "text/html": [
       "<div>\n",
       "<style scoped>\n",
       "    .dataframe tbody tr th:only-of-type {\n",
       "        vertical-align: middle;\n",
       "    }\n",
       "\n",
       "    .dataframe tbody tr th {\n",
       "        vertical-align: top;\n",
       "    }\n",
       "\n",
       "    .dataframe thead th {\n",
       "        text-align: right;\n",
       "    }\n",
       "</style>\n",
       "<table border=\"1\" class=\"dataframe\">\n",
       "  <thead>\n",
       "    <tr style=\"text-align: right;\">\n",
       "      <th></th>\n",
       "      <th>Table 102.30. Median household income, by state: Selected years, 1990 through 2017</th>\n",
       "      <th>Unnamed: 1</th>\n",
       "      <th>Unnamed: 2</th>\n",
       "      <th>Unnamed: 3</th>\n",
       "      <th>Unnamed: 4</th>\n",
       "      <th>Unnamed: 5</th>\n",
       "      <th>Unnamed: 6</th>\n",
       "      <th>Unnamed: 7</th>\n",
       "      <th>Unnamed: 8</th>\n",
       "      <th>Unnamed: 9</th>\n",
       "      <th>...</th>\n",
       "      <th>Unnamed: 22</th>\n",
       "      <th>Unnamed: 23</th>\n",
       "      <th>Unnamed: 24</th>\n",
       "      <th>Unnamed: 25</th>\n",
       "      <th>Unnamed: 26</th>\n",
       "      <th>Unnamed: 27</th>\n",
       "      <th>Unnamed: 28</th>\n",
       "      <th>Unnamed: 29</th>\n",
       "      <th>Unnamed: 30</th>\n",
       "      <th>Unnamed: 31</th>\n",
       "    </tr>\n",
       "  </thead>\n",
       "  <tbody>\n",
       "    <tr>\n",
       "      <th>0</th>\n",
       "      <td>[In constant 2017 dollars. Standard errors app...</td>\n",
       "      <td>NaN</td>\n",
       "      <td>NaN</td>\n",
       "      <td>NaN</td>\n",
       "      <td>NaN</td>\n",
       "      <td>NaN</td>\n",
       "      <td>NaN</td>\n",
       "      <td>NaN</td>\n",
       "      <td>NaN</td>\n",
       "      <td>NaN</td>\n",
       "      <td>...</td>\n",
       "      <td>NaN</td>\n",
       "      <td>NaN</td>\n",
       "      <td>NaN</td>\n",
       "      <td>NaN</td>\n",
       "      <td>NaN</td>\n",
       "      <td>NaN</td>\n",
       "      <td>NaN</td>\n",
       "      <td>NaN</td>\n",
       "      <td>NaN</td>\n",
       "      <td>NaN</td>\n",
       "    </tr>\n",
       "    <tr>\n",
       "      <th>1</th>\n",
       "      <td>State</td>\n",
       "      <td>1990\\1\\</td>\n",
       "      <td>2000\\2\\</td>\n",
       "      <td>2005.0</td>\n",
       "      <td>NaN</td>\n",
       "      <td>2010.0</td>\n",
       "      <td>NaN</td>\n",
       "      <td>2013.0</td>\n",
       "      <td>NaN</td>\n",
       "      <td>2014.0</td>\n",
       "      <td>...</td>\n",
       "      <td>NaN</td>\n",
       "      <td>NaN</td>\n",
       "      <td>NaN</td>\n",
       "      <td>NaN</td>\n",
       "      <td>NaN</td>\n",
       "      <td>NaN</td>\n",
       "      <td>NaN</td>\n",
       "      <td>NaN</td>\n",
       "      <td>NaN</td>\n",
       "      <td>NaN</td>\n",
       "    </tr>\n",
       "    <tr>\n",
       "      <th>2</th>\n",
       "      <td>1</td>\n",
       "      <td>2</td>\n",
       "      <td>3</td>\n",
       "      <td>4.0</td>\n",
       "      <td>NaN</td>\n",
       "      <td>5.0</td>\n",
       "      <td>NaN</td>\n",
       "      <td>6.0</td>\n",
       "      <td>NaN</td>\n",
       "      <td>7.0</td>\n",
       "      <td>...</td>\n",
       "      <td>NaN</td>\n",
       "      <td>NaN</td>\n",
       "      <td>NaN</td>\n",
       "      <td>NaN</td>\n",
       "      <td>NaN</td>\n",
       "      <td>NaN</td>\n",
       "      <td>NaN</td>\n",
       "      <td>NaN</td>\n",
       "      <td>NaN</td>\n",
       "      <td></td>\n",
       "    </tr>\n",
       "    <tr>\n",
       "      <th>3</th>\n",
       "      <td>United States ...........</td>\n",
       "      <td>57500</td>\n",
       "      <td>62000</td>\n",
       "      <td>58200.0</td>\n",
       "      <td>80.0</td>\n",
       "      <td>56400.0</td>\n",
       "      <td>40.0</td>\n",
       "      <td>55100.0</td>\n",
       "      <td>40.0</td>\n",
       "      <td>55600.0</td>\n",
       "      <td>...</td>\n",
       "      <td>NaN</td>\n",
       "      <td>NaN</td>\n",
       "      <td>NaN</td>\n",
       "      <td>NaN</td>\n",
       "      <td>NaN</td>\n",
       "      <td>NaN</td>\n",
       "      <td>NaN</td>\n",
       "      <td>NaN</td>\n",
       "      <td>NaN</td>\n",
       "      <td>NaN</td>\n",
       "    </tr>\n",
       "    <tr>\n",
       "      <th>4</th>\n",
       "      <td>Alabama ....................</td>\n",
       "      <td>45200</td>\n",
       "      <td>50400</td>\n",
       "      <td>46400.0</td>\n",
       "      <td>400.0</td>\n",
       "      <td>45600.0</td>\n",
       "      <td>320.0</td>\n",
       "      <td>45200.0</td>\n",
       "      <td>410.0</td>\n",
       "      <td>44400.0</td>\n",
       "      <td>...</td>\n",
       "      <td>NaN</td>\n",
       "      <td>NaN</td>\n",
       "      <td>NaN</td>\n",
       "      <td>NaN</td>\n",
       "      <td>NaN</td>\n",
       "      <td>NaN</td>\n",
       "      <td>NaN</td>\n",
       "      <td>NaN</td>\n",
       "      <td>NaN</td>\n",
       "      <td>NaN</td>\n",
       "    </tr>\n",
       "  </tbody>\n",
       "</table>\n",
       "<p>5 rows × 32 columns</p>\n",
       "</div>"
      ],
      "text/plain": [
       "  Table 102.30. Median household income, by state: Selected years, 1990 through 2017  \\\n",
       "0  [In constant 2017 dollars. Standard errors app...                                   \n",
       "1                                              State                                   \n",
       "2                                                  1                                   \n",
       "3                          United States ...........                                   \n",
       "4                       Alabama ....................                                   \n",
       "\n",
       "  Unnamed: 1 Unnamed: 2  Unnamed: 3  Unnamed: 4  Unnamed: 5  Unnamed: 6  \\\n",
       "0        NaN        NaN         NaN         NaN         NaN         NaN   \n",
       "1    1990\\1\\    2000\\2\\      2005.0         NaN      2010.0         NaN   \n",
       "2          2          3         4.0         NaN         5.0         NaN   \n",
       "3      57500      62000     58200.0        80.0     56400.0        40.0   \n",
       "4      45200      50400     46400.0       400.0     45600.0       320.0   \n",
       "\n",
       "   Unnamed: 7  Unnamed: 8  Unnamed: 9  ...  Unnamed: 22  Unnamed: 23  \\\n",
       "0         NaN         NaN         NaN  ...          NaN          NaN   \n",
       "1      2013.0         NaN      2014.0  ...          NaN          NaN   \n",
       "2         6.0         NaN         7.0  ...          NaN          NaN   \n",
       "3     55100.0        40.0     55600.0  ...          NaN          NaN   \n",
       "4     45200.0       410.0     44400.0  ...          NaN          NaN   \n",
       "\n",
       "   Unnamed: 24  Unnamed: 25  Unnamed: 26  Unnamed: 27  Unnamed: 28  \\\n",
       "0          NaN          NaN          NaN          NaN          NaN   \n",
       "1          NaN          NaN          NaN          NaN          NaN   \n",
       "2          NaN          NaN          NaN          NaN          NaN   \n",
       "3          NaN          NaN          NaN          NaN          NaN   \n",
       "4          NaN          NaN          NaN          NaN          NaN   \n",
       "\n",
       "   Unnamed: 29  Unnamed: 30  Unnamed: 31  \n",
       "0          NaN          NaN          NaN  \n",
       "1          NaN          NaN          NaN  \n",
       "2          NaN          NaN               \n",
       "3          NaN          NaN          NaN  \n",
       "4          NaN          NaN          NaN  \n",
       "\n",
       "[5 rows x 32 columns]"
      ]
     },
     "execution_count": 442,
     "metadata": {},
     "output_type": "execute_result"
    }
   ],
   "source": [
    "df_income.head()"
   ]
  },
  {
   "attachments": {},
   "cell_type": "markdown",
   "metadata": {},
   "source": [
    "### Data corrections\n",
    "\n",
    "In order to use machine learning models on the data, we need to make some corrections to obtain 'tidy' data."
   ]
  },
  {
   "attachments": {},
   "cell_type": "markdown",
   "metadata": {},
   "source": [
    "#### Income Dataset\n",
    "\n",
    "First we correct the data for the median household income by state."
   ]
  },
  {
   "attachments": {},
   "cell_type": "markdown",
   "metadata": {},
   "source": [
    "From the overview, we have seen that this dataset needs to be cleaned, by following steps:\n",
    "\n",
    "* define column names\n",
    "* remove columns and rows with only null values\n",
    "* remove unnecessary characters such as whitespaces or trailing dots"
   ]
  },
  {
   "cell_type": "code",
   "execution_count": 443,
   "metadata": {
    "tags": [
     "Hide Code"
    ]
   },
   "outputs": [],
   "source": [
    "# We only need the first 16 columns \n",
    "# and we can also drop the columns 4,6,8,10,12 and 14 since they only show NaN values\n",
    "column_lst = [0,1,2,3,5,7,9,11,13,15]\n",
    "df_income_corrected = df_income[df_income.columns[column_lst]]\n",
    "# We don't need row 0,2 and row 64-67\n",
    "row_drop_lst = [0,2,64,65,66,67]\n",
    "df_income_corrected = df_income_corrected.drop(row_drop_lst)\n",
    "# There are a few rows with empty entries left, which we can get rid off \n",
    "# since those rows have no state assigned to it, they are only used as separators\n",
    "df_income_corrected.dropna(inplace=True)\n",
    "# The column names are actually in the first row, additionally they need to be adjusted\n",
    "column_names = ['State','1990','2000','2005','2010','2013','2014','2015','2016','2017']\n",
    "df_income_corrected.columns = column_names\n",
    "# Row number 1 can be dropped\n",
    "df_income_corrected.drop(1,inplace=True)\n",
    "# The dots in the state column can be removed\n",
    "# We also do not want any leading or ending spaces in the strings\n",
    "df_income_corrected = df_income_corrected.replace(r'\\.','',regex=True)\n",
    "df_income_corrected['State'] = df_income_corrected['State'].str.strip()\n",
    "# Lastly we reset the row index drop the old index \n",
    "df_income_corrected.reset_index(drop = True, inplace = True)\n"
   ]
  },
  {
   "attachments": {},
   "cell_type": "markdown",
   "metadata": {},
   "source": [
    "We also need to:\n",
    "\n",
    "* transform the whole dataset\n",
    "* rename the columns to be lowercase\n",
    "* declare correct column types"
   ]
  },
  {
   "cell_type": "code",
   "execution_count": 444,
   "metadata": {
    "tags": [
     "Hide Code"
    ]
   },
   "outputs": [],
   "source": [
    "# We transform the table to show the median income for a state in a single year\n",
    "# We use the melt() function for this\n",
    "lst_years = column_names[1:]\n",
    "df_income_corrected = df_income_corrected.melt(\n",
    "    id_vars= ['State'], \n",
    "    value_vars= lst_years, \n",
    "    var_name= 'year', \n",
    "    value_name= 'median_household_income' \n",
    "    )\n",
    "\n",
    "# The State column should be lowercase\n",
    "df_income_corrected = df_income_corrected.rename(\n",
    "    columns = {'State':'state'}\n",
    ")\n",
    "# The types need to be declared, state holds categorial values, year has integers and income holds float numbers\n",
    "df_income_corrected['state'] = df_income_corrected['state'].astype('category')\n",
    "df_income_corrected['year'] = df_income_corrected['year'].astype('int')\n",
    "df_income_corrected['median_household_income'] = df_income_corrected['median_household_income'].astype('float')"
   ]
  },
  {
   "cell_type": "code",
   "execution_count": 445,
   "metadata": {},
   "outputs": [
    {
     "name": "stdout",
     "output_type": "stream",
     "text": [
      "<class 'pandas.core.frame.DataFrame'>\n",
      "RangeIndex: 468 entries, 0 to 467\n",
      "Data columns (total 3 columns):\n",
      " #   Column                   Non-Null Count  Dtype   \n",
      "---  ------                   --------------  -----   \n",
      " 0   state                    468 non-null    category\n",
      " 1   year                     468 non-null    int32   \n",
      " 2   median_household_income  468 non-null    float64 \n",
      "dtypes: category(1), float64(1), int32(1)\n",
      "memory usage: 8.5 KB\n"
     ]
    }
   ],
   "source": [
    "df_income_corrected.info()"
   ]
  },
  {
   "cell_type": "code",
   "execution_count": 446,
   "metadata": {},
   "outputs": [
    {
     "data": {
      "text/html": [
       "<div>\n",
       "<style scoped>\n",
       "    .dataframe tbody tr th:only-of-type {\n",
       "        vertical-align: middle;\n",
       "    }\n",
       "\n",
       "    .dataframe tbody tr th {\n",
       "        vertical-align: top;\n",
       "    }\n",
       "\n",
       "    .dataframe thead th {\n",
       "        text-align: right;\n",
       "    }\n",
       "</style>\n",
       "<table border=\"1\" class=\"dataframe\">\n",
       "  <thead>\n",
       "    <tr style=\"text-align: right;\">\n",
       "      <th></th>\n",
       "      <th>state</th>\n",
       "      <th>year</th>\n",
       "      <th>median_household_income</th>\n",
       "    </tr>\n",
       "  </thead>\n",
       "  <tbody>\n",
       "    <tr>\n",
       "      <th>0</th>\n",
       "      <td>United States</td>\n",
       "      <td>1990</td>\n",
       "      <td>57500.0</td>\n",
       "    </tr>\n",
       "    <tr>\n",
       "      <th>1</th>\n",
       "      <td>Alabama</td>\n",
       "      <td>1990</td>\n",
       "      <td>45200.0</td>\n",
       "    </tr>\n",
       "    <tr>\n",
       "      <th>2</th>\n",
       "      <td>Alaska</td>\n",
       "      <td>1990</td>\n",
       "      <td>79300.0</td>\n",
       "    </tr>\n",
       "    <tr>\n",
       "      <th>3</th>\n",
       "      <td>Arizona</td>\n",
       "      <td>1990</td>\n",
       "      <td>52700.0</td>\n",
       "    </tr>\n",
       "    <tr>\n",
       "      <th>4</th>\n",
       "      <td>Arkansas</td>\n",
       "      <td>1990</td>\n",
       "      <td>40500.0</td>\n",
       "    </tr>\n",
       "  </tbody>\n",
       "</table>\n",
       "</div>"
      ],
      "text/plain": [
       "           state  year  median_household_income\n",
       "0  United States  1990                  57500.0\n",
       "1        Alabama  1990                  45200.0\n",
       "2         Alaska  1990                  79300.0\n",
       "3        Arizona  1990                  52700.0\n",
       "4       Arkansas  1990                  40500.0"
      ]
     },
     "execution_count": 446,
     "metadata": {},
     "output_type": "execute_result"
    }
   ],
   "source": [
    "df_income_corrected.head()"
   ]
  },
  {
   "cell_type": "code",
   "execution_count": 447,
   "metadata": {},
   "outputs": [],
   "source": [
    "file = 'Corrected_Median_Household_Income_By_State_1990-2017.csv'\n",
    "df_income_corrected.to_csv(raw_data+file,index = None, header=True)"
   ]
  },
  {
   "attachments": {},
   "cell_type": "markdown",
   "metadata": {},
   "source": [
    "We prepared the income data set in order to use it for our project. \n",
    "The original .xls data can be found in the data folder under external or the .csv under the folder raw.\n",
    "\n",
    "Now, we are able to add, the median household income to the death dataset by adding the corresponding value to the correct year and state present in the death dataset. Before that, we also need to correct the death dataset."
   ]
  },
  {
   "attachments": {},
   "cell_type": "markdown",
   "metadata": {},
   "source": [
    "#### Death Dataset"
   ]
  },
  {
   "attachments": {},
   "cell_type": "markdown",
   "metadata": {},
   "source": [
    "From the overview of the death dataset, we see the following things:\n",
    "\n",
    "* The Dtypes 113 Cause Name, Cause Name and State need to be changed to category\n",
    "* The year, deaths and death rate column already have the right typing\n",
    "* The column names need to be adjusted to be lowercase and have underscores instead of spaces\n",
    "* Also, there are no missing values present in the dataset"
   ]
  },
  {
   "cell_type": "code",
   "execution_count": 448,
   "metadata": {
    "tags": []
   },
   "outputs": [],
   "source": [
    "# Make a copy to perform corrections on\n",
    "df_death_corrected = df_death\n",
    "# Change column names to lowercase\n",
    "df_death_corrected.columns = df_death_corrected.columns.str.lower()\n",
    "# Change spaces and the '-' to underscores\n",
    "df_death_corrected.columns = df_death_corrected.columns.str.replace(r' ','_',regex=True)\n",
    "df_death_corrected.columns = df_death_corrected.columns.str.replace(r'-','_',regex=True)\n",
    "# Remove any leading or trailing whitespaces for the object columns\n",
    "df_death_corrected['113_cause_name'] = df_death_corrected['113_cause_name'].str.strip()\n",
    "df_death_corrected['cause_name'] = df_death_corrected['cause_name'].str.strip()\n",
    "df_death_corrected['state'] = df_death_corrected['state'].str.strip()\n",
    "# Change Dtype of 113 Cause Name, Cause Name and State column to category\n",
    "cols = df_death_corrected.select_dtypes(include='object').columns.to_list()\n",
    "df_death_corrected[cols] = df_death_corrected[cols].astype('category')"
   ]
  },
  {
   "attachments": {},
   "cell_type": "markdown",
   "metadata": {},
   "source": [
    "#### Joined Dataset\n",
    "\n",
    "Next we add the median household column from the income dataset to the death dataset by adding it to the corresponding state and year."
   ]
  },
  {
   "cell_type": "code",
   "execution_count": 449,
   "metadata": {},
   "outputs": [],
   "source": [
    "df_joined = pd.merge(\n",
    "    df_death_corrected,\n",
    "    df_income_corrected,\n",
    "    how = 'left',\n",
    "    on = ['year','state']\n",
    ")"
   ]
  },
  {
   "attachments": {},
   "cell_type": "markdown",
   "metadata": {},
   "source": [
    "We take a look at the joined dataset to see if we need to do anything before using it:"
   ]
  },
  {
   "cell_type": "code",
   "execution_count": 450,
   "metadata": {},
   "outputs": [
    {
     "name": "stdout",
     "output_type": "stream",
     "text": [
      "<class 'pandas.core.frame.DataFrame'>\n",
      "Int64Index: 10868 entries, 0 to 10867\n",
      "Data columns (total 7 columns):\n",
      " #   Column                   Non-Null Count  Dtype   \n",
      "---  ------                   --------------  -----   \n",
      " 0   year                     10868 non-null  int64   \n",
      " 1   113_cause_name           10868 non-null  category\n",
      " 2   cause_name               10868 non-null  category\n",
      " 3   state                    10868 non-null  category\n",
      " 4   deaths                   10868 non-null  int64   \n",
      " 5   age_adjusted_death_rate  10868 non-null  float64 \n",
      " 6   median_household_income  4576 non-null   float64 \n",
      "dtypes: category(3), float64(2), int64(2)\n",
      "memory usage: 459.6 KB\n"
     ]
    }
   ],
   "source": [
    "df_joined.info()"
   ]
  },
  {
   "attachments": {},
   "cell_type": "markdown",
   "metadata": {},
   "source": [
    "#### Imputed Dataset\n",
    "\n",
    "# VERWEIS EINFÜGEN\n",
    "We will impute the missing values by using a KNN Imputation since that will typically result in a good imputation for numerical values. In the appendix, you can find the imputation analysis and statistics in detail.\n",
    "\n",
    "The data needs to be scaled in order for the algorithm to perform well."
   ]
  },
  {
   "cell_type": "code",
   "execution_count": 451,
   "metadata": {},
   "outputs": [],
   "source": [
    "# Only keep numerical columns\n",
    "col_num = df_joined.select_dtypes(include=[np.number]).columns.to_list()\n",
    "\n",
    "# Original household median income \n",
    "original_df_joined = df_joined[col_num]\n",
    "\n",
    "# Scaled household median income\n",
    "scaler = MinMaxScaler()\n",
    "scaled_df_joined = scaler.fit_transform(original_df_joined)\n",
    "scaled_df_joined = pd.DataFrame(data=scaled_df_joined, columns=original_df_joined.columns)"
   ]
  },
  {
   "attachments": {},
   "cell_type": "markdown",
   "metadata": {},
   "source": [
    "After the imputation, we’ll have to use the inverse_transform() function from MinMaxScaler to bring the scaled dataset in the original form:"
   ]
  },
  {
   "cell_type": "code",
   "execution_count": 452,
   "metadata": {},
   "outputs": [],
   "source": [
    "# Impute\n",
    "imputer_scaled = KNNImputer(n_neighbors=1)\n",
    "imputed_scaled = imputer_scaled.fit_transform(scaled_df_joined)\n",
    "\n",
    "# Convert to DataFrames\n",
    "imputed_scaled = pd.DataFrame(data=imputed_scaled, columns=original_df_joined.columns)\n",
    "\n",
    "# Inverse the scaling\n",
    "imputed_scaled = scaler.inverse_transform(imputed_scaled)\n",
    "imputed_scaled = pd.DataFrame(data=imputed_scaled, columns=original_df_joined.columns)"
   ]
  },
  {
   "cell_type": "code",
   "execution_count": 453,
   "metadata": {},
   "outputs": [],
   "source": [
    "# Save the imputed values in the joined dataframe\n",
    "df_joined['median_household_income'] = imputed_scaled['median_household_income']"
   ]
  },
  {
   "attachments": {},
   "cell_type": "markdown",
   "metadata": {},
   "source": [
    "### Variable lists"
   ]
  },
  {
   "attachments": {},
   "cell_type": "markdown",
   "metadata": {},
   "source": [
    "# VERWEIS EINFÜGEN\n",
    "The list of used variables with a data dictionary can be found in the table under introduction."
   ]
  },
  {
   "cell_type": "code",
   "execution_count": 454,
   "metadata": {},
   "outputs": [],
   "source": [
    "# define outcome variable as y_label\n",
    "y_label = 'age_adjusted_death_rate'\n",
    "# select features\n",
    "features = df_joined.drop(columns=[y_label]).columns.tolist()\n",
    "# create feature data for data splitting\n",
    "X = df_joined[features]\n",
    "# create response for data splitting\n",
    "y = df_joined[y_label]"
   ]
  },
  {
   "attachments": {},
   "cell_type": "markdown",
   "metadata": {},
   "source": [
    "### Data splitting"
   ]
  },
  {
   "cell_type": "code",
   "execution_count": 455,
   "metadata": {},
   "outputs": [],
   "source": [
    "X_train, X_test, y_train, y_test = train_test_split(X, y, test_size=0.3, random_state=42)\n",
    "\n",
    "# data training set\n",
    "df_train = pd.DataFrame(X_train.copy())\n",
    "df_train = df_train.join(pd.DataFrame(y_train))"
   ]
  },
  {
   "attachments": {},
   "cell_type": "markdown",
   "metadata": {},
   "source": [
    "## Analysis\n",
    "\n",
    "Our response variable is the age-adjusted death rate.\n",
    "This variable shows the standardized percentage of deaths in a specific year for a specific state (adjusted for the age factor).\n",
    "\n",
    "The predictor variable will be the median household income. We will focus on the relation between the median income and the death rate for all death causes. Although we suspect the death cause, year and the state to be indicators for variation on a more detailed level. This can give us insights and potential relevant information for our model or fduring the data exploration.\n",
    "\n",
    "In order to test our hypotheses we will inspect summary statistics and use different visualizations in order to understand the relations between the predictor and response variables and gain further knowledge."
   ]
  },
  {
   "attachments": {},
   "cell_type": "markdown",
   "metadata": {},
   "source": [
    "First we copy the training dataframe into another variable. This way we prevent the training data to be accidentally changed during data exploration:"
   ]
  },
  {
   "cell_type": "code",
   "execution_count": 456,
   "metadata": {},
   "outputs": [],
   "source": [
    "df_explore = df_train"
   ]
  },
  {
   "cell_type": "markdown",
   "metadata": {},
   "source": [
    "### Descriptive statistics"
   ]
  },
  {
   "attachments": {},
   "cell_type": "markdown",
   "metadata": {},
   "source": [
    "Let's take a look at the exploration dataframe:"
   ]
  },
  {
   "cell_type": "code",
   "execution_count": 457,
   "metadata": {},
   "outputs": [
    {
     "data": {
      "text/html": [
       "<div>\n",
       "<style scoped>\n",
       "    .dataframe tbody tr th:only-of-type {\n",
       "        vertical-align: middle;\n",
       "    }\n",
       "\n",
       "    .dataframe tbody tr th {\n",
       "        vertical-align: top;\n",
       "    }\n",
       "\n",
       "    .dataframe thead th {\n",
       "        text-align: right;\n",
       "    }\n",
       "</style>\n",
       "<table border=\"1\" class=\"dataframe\">\n",
       "  <thead>\n",
       "    <tr style=\"text-align: right;\">\n",
       "      <th></th>\n",
       "      <th>count</th>\n",
       "      <th>mean</th>\n",
       "      <th>std</th>\n",
       "      <th>min</th>\n",
       "      <th>25%</th>\n",
       "      <th>50%</th>\n",
       "      <th>75%</th>\n",
       "      <th>max</th>\n",
       "    </tr>\n",
       "  </thead>\n",
       "  <tbody>\n",
       "    <tr>\n",
       "      <th>year</th>\n",
       "      <td>7607.0</td>\n",
       "      <td>2007.97</td>\n",
       "      <td>5.47</td>\n",
       "      <td>1999.0</td>\n",
       "      <td>2003.0</td>\n",
       "      <td>2008.0</td>\n",
       "      <td>2013.0</td>\n",
       "      <td>2017.0</td>\n",
       "    </tr>\n",
       "    <tr>\n",
       "      <th>deaths</th>\n",
       "      <td>7607.0</td>\n",
       "      <td>14941.20</td>\n",
       "      <td>108968.33</td>\n",
       "      <td>21.0</td>\n",
       "      <td>616.0</td>\n",
       "      <td>1734.0</td>\n",
       "      <td>5802.5</td>\n",
       "      <td>2813503.0</td>\n",
       "    </tr>\n",
       "    <tr>\n",
       "      <th>median_household_income</th>\n",
       "      <td>7607.0</td>\n",
       "      <td>57785.01</td>\n",
       "      <td>9368.38</td>\n",
       "      <td>40000.0</td>\n",
       "      <td>50400.0</td>\n",
       "      <td>55800.0</td>\n",
       "      <td>63400.0</td>\n",
       "      <td>82400.0</td>\n",
       "    </tr>\n",
       "    <tr>\n",
       "      <th>age_adjusted_death_rate</th>\n",
       "      <td>7607.0</td>\n",
       "      <td>126.77</td>\n",
       "      <td>221.84</td>\n",
       "      <td>2.6</td>\n",
       "      <td>19.2</td>\n",
       "      <td>36.0</td>\n",
       "      <td>153.2</td>\n",
       "      <td>1061.2</td>\n",
       "    </tr>\n",
       "  </tbody>\n",
       "</table>\n",
       "</div>"
      ],
      "text/plain": [
       "                          count      mean        std      min      25%  \\\n",
       "year                     7607.0   2007.97       5.47   1999.0   2003.0   \n",
       "deaths                   7607.0  14941.20  108968.33     21.0    616.0   \n",
       "median_household_income  7607.0  57785.01    9368.38  40000.0  50400.0   \n",
       "age_adjusted_death_rate  7607.0    126.77     221.84      2.6     19.2   \n",
       "\n",
       "                             50%      75%        max  \n",
       "year                      2008.0   2013.0     2017.0  \n",
       "deaths                    1734.0   5802.5  2813503.0  \n",
       "median_household_income  55800.0  63400.0    82400.0  \n",
       "age_adjusted_death_rate     36.0    153.2     1061.2  "
      ]
     },
     "execution_count": 457,
     "metadata": {},
     "output_type": "execute_result"
    }
   ],
   "source": [
    "df_explore.describe().round(2).T"
   ]
  },
  {
   "cell_type": "code",
   "execution_count": 458,
   "metadata": {},
   "outputs": [
    {
     "data": {
      "text/plain": [
       "year                          10.0\n",
       "deaths                      5186.5\n",
       "median_household_income    13000.0\n",
       "age_adjusted_death_rate      134.0\n",
       "dtype: float64"
      ]
     },
     "execution_count": 458,
     "metadata": {},
     "output_type": "execute_result"
    }
   ],
   "source": [
    "# Interquartile ranges\n",
    "q1 = df_explore.quantile(q = 0.25)\n",
    "q3 = df_explore.quantile(q = 0.75)\n",
    "iqr = q3-q1\n",
    "iqr"
   ]
  },
  {
   "attachments": {},
   "cell_type": "markdown",
   "metadata": {},
   "source": [
    "We can see that our lowest value for year is 1999 and the highest is 2017.\n",
    "\n",
    "The statistics for the total amount of deaths are similar to the death rate regarding the difference from minumum and maximum values as well as the range from the third quartile to the maximum.\n",
    "Our first interpretation is that the summarized values for every cause of death (described with the category 'All causes') could lead to the effect seen in the table above.\n",
    "\n",
    "We will check those interpretations in the exploratory data analysis and provide a more detailed interpretation for the age adjusted death rate as well as the median household income."
   ]
  },
  {
   "attachments": {},
   "cell_type": "markdown",
   "metadata": {},
   "source": [
    "### Exploratory data analysis"
   ]
  },
  {
   "attachments": {},
   "cell_type": "markdown",
   "metadata": {},
   "source": [
    "First we visualize the distribution for the age adjusted death rate"
   ]
  },
  {
   "cell_type": "code",
   "execution_count": 459,
   "metadata": {},
   "outputs": [
    {
     "data": {
      "text/plain": [
       "<matplotlib.legend.Legend at 0x28cafe5a220>"
      ]
     },
     "execution_count": 459,
     "metadata": {},
     "output_type": "execute_result"
    },
    {
     "data": {
      "image/png": "[encoded data removed]",
      "text/plain": [
       "<Figure size 500x300 with 1 Axes>"
      ]
     },
     "metadata": {},
     "output_type": "display_data"
    }
   ],
   "source": [
    "# Distribution of age_adjusted_death_rate\n",
    "df_explore[['age_adjusted_death_rate']].plot(\n",
    "    kind='kde',\n",
    "    figsize=(5, 3),\n",
    "    title='Distribution of age adjusted death rate unfiltered')\n",
    "\n",
    "plt.legend(prop={'size': 10})"
   ]
  },
  {
   "attachments": {},
   "cell_type": "markdown",
   "metadata": {},
   "source": [
    "The statistic and distribution for the age adjusted death rate show:\n",
    "* 75 % of the values are at or below 153.2 while the maximum goes up to 1061.2. This is a heavily right skewed distribution with alot of outliers since the IQR is at 134.\n",
    "* The distribution visualizes this effect but does not explain it yet.\n",
    "* The standard deviation shows that the values differ alot from the mean (relative to the first three quartiles) which can also explained with the skew.\n",
    "\n",
    "The distribution is right skewed but also bimodal. We will take a more detailed look at a bar plot to explore the reason for this distribution."
   ]
  },
  {
   "cell_type": "code",
   "execution_count": 460,
   "metadata": {},
   "outputs": [
    {
     "data": {
      "text/plain": [
       "<matplotlib.legend.Legend at 0x28cb159fd60>"
      ]
     },
     "execution_count": 460,
     "metadata": {},
     "output_type": "execute_result"
    },
    {
     "data": {
      "image/png": "[encoded data removed]",
      "text/plain": [
       "<Figure size 500x300 with 1 Axes>"
      ]
     },
     "metadata": {},
     "output_type": "display_data"
    }
   ],
   "source": [
    "# Distribution of median_household_income\n",
    "df_explore[['median_household_income']].plot(\n",
    "    kind='kde',\n",
    "    figsize=(5, 3),\n",
    "    title='Distribution of median household income')\n",
    "\n",
    "plt.legend(prop={'size': 8})"
   ]
  },
  {
   "attachments": {},
   "cell_type": "markdown",
   "metadata": {},
   "source": [
    "# VERWEIS EINFÜGEN\n",
    "\n",
    "The summary statistics in combination with the distribution show:\n",
    "\n",
    "* The distribution is unimodal and right skewed extending from 40k \\$ to over 80k $.\n",
    "* The median is found at 56350 $ and with an IQR at 13000 there are no outliers present in the income data.\n",
    "* The median (55800 $) is not in the middle between minimum and maximum (which would be around the mark where the third quartile is). This means the distribution is right skewed.\n",
    "\n",
    "The imputed data is very close to the origina data present in the income dataset. A comparison for the distribution before and after the imputation can be found in the appendix."
   ]
  },
  {
   "attachments": {},
   "cell_type": "markdown",
   "metadata": {},
   "source": [
    "# Visualisierung wiederholen als bar plot mit Kategorien für Death causes, um Bimodale Verteilung zu erklären !"
   ]
  },
  {
   "cell_type": "code",
   "execution_count": 461,
   "metadata": {},
   "outputs": [
    {
     "data": {
      "text/html": [
       "\n",
       "<div id=\"altair-viz-47ea58b63e6c46b98750107587dd55d3\"></div>\n",
       "<script type=\"text/javascript\">\n",
       "  var VEGA_DEBUG = (typeof VEGA_DEBUG == \"undefined\") ? {} : VEGA_DEBUG;\n",
       "  (function(spec, embedOpt){\n",
       "    let outputDiv = document.currentScript.previousElementSibling;\n",
       "    if (outputDiv.id !== \"altair-viz-47ea58b63e6c46b98750107587dd55d3\") {\n",
       "      outputDiv = document.getElementById(\"altair-viz-47ea58b63e6c46b98750107587dd55d3\");\n",
       "    }\n",
       "    const paths = {\n",
       "      \"vega\": \"https://cdn.jsdelivr.net/npm//vega@5?noext\",\n",
       "      \"vega-lib\": \"https://cdn.jsdelivr.net/npm//vega-lib?noext\",\n",
       "      \"vega-lite\": \"https://cdn.jsdelivr.net/npm//vega-lite@4.17.0?noext\",\n",
       "      \"vega-embed\": \"https://cdn.jsdelivr.net/npm//vega-embed@6?noext\",\n",
       "    };\n",
       "\n",
       "    function maybeLoadScript(lib, version) {\n",
       "      var key = `${lib.replace(\"-\", \"\")}_version`;\n",
       "      return (VEGA_DEBUG[key] == version) ?\n",
       "        Promise.resolve(paths[lib]) :\n",
       "        new Promise(function(resolve, reject) {\n",
       "          var s = document.createElement('script');\n",
       "          document.getElementsByTagName(\"head\")[0].appendChild(s);\n",
       "          s.async = true;\n",
       "          s.onload = () => {\n",
       "            VEGA_DEBUG[key] = version;\n",
       "            return resolve(paths[lib]);\n",
       "          };\n",
       "          s.onerror = () => reject(`Error loading script: ${paths[lib]}`);\n",
       "          s.src = paths[lib];\n",
       "        });\n",
       "    }\n",
       "\n",
       "    function showError(err) {\n",
       "      outputDiv.innerHTML = `<div class=\"error\" style=\"color:red;\">${err}</div>`;\n",
       "      throw err;\n",
       "    }\n",
       "\n",
       "    function displayChart(vegaEmbed) {\n",
       "      vegaEmbed(outputDiv, spec, embedOpt)\n",
       "        .catch(err => showError(`Javascript Error: ${err.message}<br>This usually means there's a typo in your chart specification. See the javascript console for the full traceback.`));\n",
       "    }\n",
       "\n",
       "    if(typeof define === \"function\" && define.amd) {\n",
       "      requirejs.config({paths});\n",
       "      require([\"vega-embed\"], displayChart, err => showError(`Error loading script: ${err.message}`));\n",
       "    } else {\n",
       "      maybeLoadScript(\"vega\", \"5\")\n",
       "        .then(() => maybeLoadScript(\"vega-lite\", \"4.17.0\"))\n",
       "        .then(() => maybeLoadScript(\"vega-embed\", \"6\"))\n",
       "        .catch(showError)\n",
       "        .then(() => displayChart(vegaEmbed));\n",
       "    }\n",
       "  })({\"config\": {\"view\": {\"continuousWidth\": 400, \"continuousHeight\": 300}}, \"data\": {\"name\": \"data-5161f6445eca31cb1876b55c16ed5dee\"}, \"mark\": \"bar\", \"encoding\": {\"x\": {\"bin\": true, \"field\": \"age_adjusted_death_rate\", \"type\": \"quantitative\"}, \"y\": {\"aggregate\": \"count\", \"type\": \"quantitative\"}}, \"$schema\": \"https://vega.github.io/schema/vega-lite/v4.17.0.json\", \"datasets\": {\"data-5161f6445eca31cb1876b55c16ed5dee\": [{\"age_adjusted_death_rate\": 20.2}, {\"age_adjusted_death_rate\": 21.1}, {\"age_adjusted_death_rate\": 18.2}, {\"age_adjusted_death_rate\": 11.2}, {\"age_adjusted_death_rate\": 37.1}, {\"age_adjusted_death_rate\": 18.4}, {\"age_adjusted_death_rate\": 61.6}, {\"age_adjusted_death_rate\": 20.4}, {\"age_adjusted_death_rate\": 46.5}, {\"age_adjusted_death_rate\": 864.7}, {\"age_adjusted_death_rate\": 45.0}, {\"age_adjusted_death_rate\": 13.2}, {\"age_adjusted_death_rate\": 158.0}, {\"age_adjusted_death_rate\": 39.7}, {\"age_adjusted_death_rate\": 11.4}, {\"age_adjusted_death_rate\": 285.9}, {\"age_adjusted_death_rate\": 8.8}, {\"age_adjusted_death_rate\": 11.3}, {\"age_adjusted_death_rate\": 19.0}, {\"age_adjusted_death_rate\": 299.0}, {\"age_adjusted_death_rate\": 10.2}, {\"age_adjusted_death_rate\": 18.7}, {\"age_adjusted_death_rate\": 198.9}, {\"age_adjusted_death_rate\": 47.4}, {\"age_adjusted_death_rate\": 6.7}, {\"age_adjusted_death_rate\": 7.7}, {\"age_adjusted_death_rate\": 29.5}, {\"age_adjusted_death_rate\": 239.9}, {\"age_adjusted_death_rate\": 151.8}, {\"age_adjusted_death_rate\": 45.0}, {\"age_adjusted_death_rate\": 874.3}, {\"age_adjusted_death_rate\": 6.2}, {\"age_adjusted_death_rate\": 17.9}, {\"age_adjusted_death_rate\": 11.3}, {\"age_adjusted_death_rate\": 14.3}, {\"age_adjusted_death_rate\": 10.5}, {\"age_adjusted_death_rate\": 20.2}, {\"age_adjusted_death_rate\": 19.9}, {\"age_adjusted_death_rate\": 205.9}, {\"age_adjusted_death_rate\": 35.0}, {\"age_adjusted_death_rate\": 20.0}, {\"age_adjusted_death_rate\": 36.7}, {\"age_adjusted_death_rate\": 14.8}, {\"age_adjusted_death_rate\": 22.3}, {\"age_adjusted_death_rate\": 32.1}, {\"age_adjusted_death_rate\": 47.7}, {\"age_adjusted_death_rate\": 17.6}, {\"age_adjusted_death_rate\": 66.7}, {\"age_adjusted_death_rate\": 19.2}, {\"age_adjusted_death_rate\": 41.2}, {\"age_adjusted_death_rate\": 312.8}, {\"age_adjusted_death_rate\": 17.9}, {\"age_adjusted_death_rate\": 14.5}, {\"age_adjusted_death_rate\": 786.7}, {\"age_adjusted_death_rate\": 20.9}, {\"age_adjusted_death_rate\": 41.2}, {\"age_adjusted_death_rate\": 29.8}, {\"age_adjusted_death_rate\": 19.7}, {\"age_adjusted_death_rate\": 13.8}, {\"age_adjusted_death_rate\": 209.7}, {\"age_adjusted_death_rate\": 27.3}, {\"age_adjusted_death_rate\": 29.7}, {\"age_adjusted_death_rate\": 28.3}, {\"age_adjusted_death_rate\": 143.0}, {\"age_adjusted_death_rate\": 920.9}, {\"age_adjusted_death_rate\": 29.9}, {\"age_adjusted_death_rate\": 67.7}, {\"age_adjusted_death_rate\": 12.3}, {\"age_adjusted_death_rate\": 53.9}, {\"age_adjusted_death_rate\": 22.4}, {\"age_adjusted_death_rate\": 22.0}, {\"age_adjusted_death_rate\": 19.8}, {\"age_adjusted_death_rate\": 19.8}, {\"age_adjusted_death_rate\": 19.0}, {\"age_adjusted_death_rate\": 57.8}, {\"age_adjusted_death_rate\": 18.8}, {\"age_adjusted_death_rate\": 15.4}, {\"age_adjusted_death_rate\": 36.1}, {\"age_adjusted_death_rate\": 8.9}, {\"age_adjusted_death_rate\": 17.4}, {\"age_adjusted_death_rate\": 19.8}, {\"age_adjusted_death_rate\": 774.6}, {\"age_adjusted_death_rate\": 19.7}, {\"age_adjusted_death_rate\": 36.2}, {\"age_adjusted_death_rate\": 26.5}, {\"age_adjusted_death_rate\": 973.3}, {\"age_adjusted_death_rate\": 40.1}, {\"age_adjusted_death_rate\": 825.2}, {\"age_adjusted_death_rate\": 231.6}, {\"age_adjusted_death_rate\": 59.9}, {\"age_adjusted_death_rate\": 233.9}, {\"age_adjusted_death_rate\": 149.6}, {\"age_adjusted_death_rate\": 27.0}, {\"age_adjusted_death_rate\": 8.2}, {\"age_adjusted_death_rate\": 28.1}, {\"age_adjusted_death_rate\": 165.9}, {\"age_adjusted_death_rate\": 38.5}, {\"age_adjusted_death_rate\": 26.2}, {\"age_adjusted_death_rate\": 720.6}, {\"age_adjusted_death_rate\": 18.7}, {\"age_adjusted_death_rate\": 42.7}, {\"age_adjusted_death_rate\": 12.6}, {\"age_adjusted_death_rate\": 18.9}, {\"age_adjusted_death_rate\": 37.4}, {\"age_adjusted_death_rate\": 11.5}, {\"age_adjusted_death_rate\": 8.7}, {\"age_adjusted_death_rate\": 19.8}, {\"age_adjusted_death_rate\": 23.7}, {\"age_adjusted_death_rate\": 12.3}, {\"age_adjusted_death_rate\": 38.8}, {\"age_adjusted_death_rate\": 17.2}, {\"age_adjusted_death_rate\": 21.4}, {\"age_adjusted_death_rate\": 20.3}, {\"age_adjusted_death_rate\": 21.6}, {\"age_adjusted_death_rate\": 24.1}, {\"age_adjusted_death_rate\": 42.2}, {\"age_adjusted_death_rate\": 15.1}, {\"age_adjusted_death_rate\": 134.0}, {\"age_adjusted_death_rate\": 22.1}, {\"age_adjusted_death_rate\": 166.0}, {\"age_adjusted_death_rate\": 201.3}, {\"age_adjusted_death_rate\": 21.9}, {\"age_adjusted_death_rate\": 22.5}, {\"age_adjusted_death_rate\": 50.4}, {\"age_adjusted_death_rate\": 24.6}, {\"age_adjusted_death_rate\": 170.1}, {\"age_adjusted_death_rate\": 208.3}, {\"age_adjusted_death_rate\": 58.1}, {\"age_adjusted_death_rate\": 14.4}, {\"age_adjusted_death_rate\": 8.8}, {\"age_adjusted_death_rate\": 17.5}, {\"age_adjusted_death_rate\": 17.1}, {\"age_adjusted_death_rate\": 709.8}, {\"age_adjusted_death_rate\": 39.3}, {\"age_adjusted_death_rate\": 15.9}, {\"age_adjusted_death_rate\": 48.7}, {\"age_adjusted_death_rate\": 45.7}, {\"age_adjusted_death_rate\": 18.4}, {\"age_adjusted_death_rate\": 178.8}, {\"age_adjusted_death_rate\": 11.6}, {\"age_adjusted_death_rate\": 184.2}, {\"age_adjusted_death_rate\": 14.3}, {\"age_adjusted_death_rate\": 789.2}, {\"age_adjusted_death_rate\": 37.1}, {\"age_adjusted_death_rate\": 11.0}, {\"age_adjusted_death_rate\": 28.8}, {\"age_adjusted_death_rate\": 16.6}, {\"age_adjusted_death_rate\": 11.2}, {\"age_adjusted_death_rate\": 7.6}, {\"age_adjusted_death_rate\": 47.5}, {\"age_adjusted_death_rate\": 158.7}, {\"age_adjusted_death_rate\": 11.0}, {\"age_adjusted_death_rate\": 174.3}, {\"age_adjusted_death_rate\": 765.5}, {\"age_adjusted_death_rate\": 37.6}, {\"age_adjusted_death_rate\": 35.7}, {\"age_adjusted_death_rate\": 46.7}, {\"age_adjusted_death_rate\": 175.6}, {\"age_adjusted_death_rate\": 16.2}, {\"age_adjusted_death_rate\": 38.3}, {\"age_adjusted_death_rate\": 37.5}, {\"age_adjusted_death_rate\": 43.1}, {\"age_adjusted_death_rate\": 20.7}, {\"age_adjusted_death_rate\": 24.6}, {\"age_adjusted_death_rate\": 46.5}, {\"age_adjusted_death_rate\": 15.1}, {\"age_adjusted_death_rate\": 720.9}, {\"age_adjusted_death_rate\": 34.2}, {\"age_adjusted_death_rate\": 177.5}, {\"age_adjusted_death_rate\": 175.1}, {\"age_adjusted_death_rate\": 56.4}, {\"age_adjusted_death_rate\": 45.6}, {\"age_adjusted_death_rate\": 21.4}, {\"age_adjusted_death_rate\": 44.8}, {\"age_adjusted_death_rate\": 14.3}, {\"age_adjusted_death_rate\": 258.0}, {\"age_adjusted_death_rate\": 57.5}, {\"age_adjusted_death_rate\": 35.7}, {\"age_adjusted_death_rate\": 220.6}, {\"age_adjusted_death_rate\": 18.3}, {\"age_adjusted_death_rate\": 822.0}, {\"age_adjusted_death_rate\": 905.4}, {\"age_adjusted_death_rate\": 39.7}, {\"age_adjusted_death_rate\": 46.5}, {\"age_adjusted_death_rate\": 731.8}, {\"age_adjusted_death_rate\": 19.7}, {\"age_adjusted_death_rate\": 47.1}, {\"age_adjusted_death_rate\": 174.9}, {\"age_adjusted_death_rate\": 14.4}, {\"age_adjusted_death_rate\": 59.0}, {\"age_adjusted_death_rate\": 22.4}, {\"age_adjusted_death_rate\": 11.9}, {\"age_adjusted_death_rate\": 33.5}, {\"age_adjusted_death_rate\": 54.2}, {\"age_adjusted_death_rate\": 702.2}, {\"age_adjusted_death_rate\": 26.8}, {\"age_adjusted_death_rate\": 173.2}, {\"age_adjusted_death_rate\": 53.4}, {\"age_adjusted_death_rate\": 31.6}, {\"age_adjusted_death_rate\": 19.9}, {\"age_adjusted_death_rate\": 9.4}, {\"age_adjusted_death_rate\": 41.1}, {\"age_adjusted_death_rate\": 29.8}, {\"age_adjusted_death_rate\": 3.7}, {\"age_adjusted_death_rate\": 29.8}, {\"age_adjusted_death_rate\": 127.4}, {\"age_adjusted_death_rate\": 8.3}, {\"age_adjusted_death_rate\": 36.6}, {\"age_adjusted_death_rate\": 26.8}, {\"age_adjusted_death_rate\": 47.1}, {\"age_adjusted_death_rate\": 199.3}, {\"age_adjusted_death_rate\": 1023.7}, {\"age_adjusted_death_rate\": 155.7}, {\"age_adjusted_death_rate\": 4.9}, {\"age_adjusted_death_rate\": 32.8}, {\"age_adjusted_death_rate\": 835.0}, {\"age_adjusted_death_rate\": 25.6}, {\"age_adjusted_death_rate\": 13.3}, {\"age_adjusted_death_rate\": 20.7}, {\"age_adjusted_death_rate\": 38.0}, {\"age_adjusted_death_rate\": 21.4}, {\"age_adjusted_death_rate\": 13.0}, {\"age_adjusted_death_rate\": 18.0}, {\"age_adjusted_death_rate\": 15.4}, {\"age_adjusted_death_rate\": 41.8}, {\"age_adjusted_death_rate\": 20.4}, {\"age_adjusted_death_rate\": 53.5}, {\"age_adjusted_death_rate\": 31.7}, {\"age_adjusted_death_rate\": 191.8}, {\"age_adjusted_death_rate\": 46.1}, {\"age_adjusted_death_rate\": 45.5}, {\"age_adjusted_death_rate\": 32.4}, {\"age_adjusted_death_rate\": 27.7}, {\"age_adjusted_death_rate\": 11.0}, {\"age_adjusted_death_rate\": 21.8}, {\"age_adjusted_death_rate\": 19.3}, {\"age_adjusted_death_rate\": 27.7}, {\"age_adjusted_death_rate\": 26.5}, {\"age_adjusted_death_rate\": 208.1}, {\"age_adjusted_death_rate\": 21.9}, {\"age_adjusted_death_rate\": 21.9}, {\"age_adjusted_death_rate\": 25.0}, {\"age_adjusted_death_rate\": 37.7}, {\"age_adjusted_death_rate\": 36.8}, {\"age_adjusted_death_rate\": 741.8}, {\"age_adjusted_death_rate\": 9.5}, {\"age_adjusted_death_rate\": 16.3}, {\"age_adjusted_death_rate\": 18.7}, {\"age_adjusted_death_rate\": 50.7}, {\"age_adjusted_death_rate\": 150.1}, {\"age_adjusted_death_rate\": 36.9}, {\"age_adjusted_death_rate\": 53.8}, {\"age_adjusted_death_rate\": 16.8}, {\"age_adjusted_death_rate\": 750.2}, {\"age_adjusted_death_rate\": 31.5}, {\"age_adjusted_death_rate\": 48.5}, {\"age_adjusted_death_rate\": 166.9}, {\"age_adjusted_death_rate\": 38.1}, {\"age_adjusted_death_rate\": 21.1}, {\"age_adjusted_death_rate\": 23.7}, {\"age_adjusted_death_rate\": 27.3}, {\"age_adjusted_death_rate\": 23.1}, {\"age_adjusted_death_rate\": 135.8}, {\"age_adjusted_death_rate\": 11.0}, {\"age_adjusted_death_rate\": 24.6}, {\"age_adjusted_death_rate\": 36.7}, {\"age_adjusted_death_rate\": 17.9}, {\"age_adjusted_death_rate\": 40.4}, {\"age_adjusted_death_rate\": 18.9}, {\"age_adjusted_death_rate\": 164.8}, {\"age_adjusted_death_rate\": 24.6}, {\"age_adjusted_death_rate\": 11.8}, {\"age_adjusted_death_rate\": 710.9}, {\"age_adjusted_death_rate\": 25.3}, {\"age_adjusted_death_rate\": 191.3}, {\"age_adjusted_death_rate\": 13.5}, {\"age_adjusted_death_rate\": 204.3}, {\"age_adjusted_death_rate\": 13.1}, {\"age_adjusted_death_rate\": 240.1}, {\"age_adjusted_death_rate\": 167.7}, {\"age_adjusted_death_rate\": 12.4}, {\"age_adjusted_death_rate\": 13.5}, {\"age_adjusted_death_rate\": 19.1}, {\"age_adjusted_death_rate\": 728.4}, {\"age_adjusted_death_rate\": 142.7}, {\"age_adjusted_death_rate\": 27.3}, {\"age_adjusted_death_rate\": 24.9}, {\"age_adjusted_death_rate\": 20.0}, {\"age_adjusted_death_rate\": 166.1}, {\"age_adjusted_death_rate\": 17.5}, {\"age_adjusted_death_rate\": 31.5}, {\"age_adjusted_death_rate\": 21.2}, {\"age_adjusted_death_rate\": 5.4}, {\"age_adjusted_death_rate\": 181.3}, {\"age_adjusted_death_rate\": 22.6}, {\"age_adjusted_death_rate\": 1009.3}, {\"age_adjusted_death_rate\": 717.5}, {\"age_adjusted_death_rate\": 53.9}, {\"age_adjusted_death_rate\": 14.8}, {\"age_adjusted_death_rate\": 718.1}, {\"age_adjusted_death_rate\": 38.8}, {\"age_adjusted_death_rate\": 19.8}, {\"age_adjusted_death_rate\": 236.2}, {\"age_adjusted_death_rate\": 26.3}, {\"age_adjusted_death_rate\": 13.1}, {\"age_adjusted_death_rate\": 677.9}, {\"age_adjusted_death_rate\": 9.0}, {\"age_adjusted_death_rate\": 31.8}, {\"age_adjusted_death_rate\": 784.5}, {\"age_adjusted_death_rate\": 800.1}, {\"age_adjusted_death_rate\": 223.2}, {\"age_adjusted_death_rate\": 13.1}, {\"age_adjusted_death_rate\": 22.6}, {\"age_adjusted_death_rate\": 46.5}, {\"age_adjusted_death_rate\": 36.1}, {\"age_adjusted_death_rate\": 25.6}, {\"age_adjusted_death_rate\": 20.9}, {\"age_adjusted_death_rate\": 6.6}, {\"age_adjusted_death_rate\": 12.1}, {\"age_adjusted_death_rate\": 25.9}, {\"age_adjusted_death_rate\": 142.2}, {\"age_adjusted_death_rate\": 54.8}, {\"age_adjusted_death_rate\": 13.2}, {\"age_adjusted_death_rate\": 25.2}, {\"age_adjusted_death_rate\": 32.6}, {\"age_adjusted_death_rate\": 784.4}, {\"age_adjusted_death_rate\": 887.6}, {\"age_adjusted_death_rate\": 142.2}, {\"age_adjusted_death_rate\": 11.8}, {\"age_adjusted_death_rate\": 38.5}, {\"age_adjusted_death_rate\": 15.6}, {\"age_adjusted_death_rate\": 150.0}, {\"age_adjusted_death_rate\": 58.2}, {\"age_adjusted_death_rate\": 196.3}, {\"age_adjusted_death_rate\": 41.0}, {\"age_adjusted_death_rate\": 24.6}, {\"age_adjusted_death_rate\": 52.4}, {\"age_adjusted_death_rate\": 24.9}, {\"age_adjusted_death_rate\": 40.2}, {\"age_adjusted_death_rate\": 161.3}, {\"age_adjusted_death_rate\": 29.9}, {\"age_adjusted_death_rate\": 27.1}, {\"age_adjusted_death_rate\": 24.2}, {\"age_adjusted_death_rate\": 33.0}, {\"age_adjusted_death_rate\": 47.0}, {\"age_adjusted_death_rate\": 16.3}, {\"age_adjusted_death_rate\": 27.8}, {\"age_adjusted_death_rate\": 9.7}, {\"age_adjusted_death_rate\": 692.7}, {\"age_adjusted_death_rate\": 48.6}, {\"age_adjusted_death_rate\": 17.9}, {\"age_adjusted_death_rate\": 166.3}, {\"age_adjusted_death_rate\": 48.7}, {\"age_adjusted_death_rate\": 203.3}, {\"age_adjusted_death_rate\": 14.6}, {\"age_adjusted_death_rate\": 262.5}, {\"age_adjusted_death_rate\": 190.7}, {\"age_adjusted_death_rate\": 201.4}, {\"age_adjusted_death_rate\": 169.0}, {\"age_adjusted_death_rate\": 21.9}, {\"age_adjusted_death_rate\": 20.6}, {\"age_adjusted_death_rate\": 21.1}, {\"age_adjusted_death_rate\": 23.0}, {\"age_adjusted_death_rate\": 27.8}, {\"age_adjusted_death_rate\": 30.6}, {\"age_adjusted_death_rate\": 161.2}, {\"age_adjusted_death_rate\": 188.6}, {\"age_adjusted_death_rate\": 164.5}, {\"age_adjusted_death_rate\": 14.7}, {\"age_adjusted_death_rate\": 43.8}, {\"age_adjusted_death_rate\": 20.2}, {\"age_adjusted_death_rate\": 35.0}, {\"age_adjusted_death_rate\": 63.6}, {\"age_adjusted_death_rate\": 30.2}, {\"age_adjusted_death_rate\": 64.0}, {\"age_adjusted_death_rate\": 25.5}, {\"age_adjusted_death_rate\": 50.2}, {\"age_adjusted_death_rate\": 207.4}, {\"age_adjusted_death_rate\": 182.2}, {\"age_adjusted_death_rate\": 47.2}, {\"age_adjusted_death_rate\": 196.0}, {\"age_adjusted_death_rate\": 5.5}, {\"age_adjusted_death_rate\": 22.8}, {\"age_adjusted_death_rate\": 156.5}, {\"age_adjusted_death_rate\": 16.0}, {\"age_adjusted_death_rate\": 18.3}, {\"age_adjusted_death_rate\": 9.3}, {\"age_adjusted_death_rate\": 27.2}, {\"age_adjusted_death_rate\": 15.6}, {\"age_adjusted_death_rate\": 152.9}, {\"age_adjusted_death_rate\": 27.0}, {\"age_adjusted_death_rate\": 64.3}, {\"age_adjusted_death_rate\": 40.2}, {\"age_adjusted_death_rate\": 8.0}, {\"age_adjusted_death_rate\": 244.1}, {\"age_adjusted_death_rate\": 212.2}, {\"age_adjusted_death_rate\": 25.8}, {\"age_adjusted_death_rate\": 19.7}, {\"age_adjusted_death_rate\": 39.0}, {\"age_adjusted_death_rate\": 48.6}, {\"age_adjusted_death_rate\": 22.4}, {\"age_adjusted_death_rate\": 19.0}, {\"age_adjusted_death_rate\": 26.0}, {\"age_adjusted_death_rate\": 663.1}, {\"age_adjusted_death_rate\": 722.0}, {\"age_adjusted_death_rate\": 15.1}, {\"age_adjusted_death_rate\": 734.3}, {\"age_adjusted_death_rate\": 903.8}, {\"age_adjusted_death_rate\": 183.9}, {\"age_adjusted_death_rate\": 164.1}, {\"age_adjusted_death_rate\": 17.6}, {\"age_adjusted_death_rate\": 20.5}, {\"age_adjusted_death_rate\": 56.7}, {\"age_adjusted_death_rate\": 38.7}, {\"age_adjusted_death_rate\": 177.3}, {\"age_adjusted_death_rate\": 7.2}, {\"age_adjusted_death_rate\": 39.1}, {\"age_adjusted_death_rate\": 53.2}, {\"age_adjusted_death_rate\": 17.3}, {\"age_adjusted_death_rate\": 29.0}, {\"age_adjusted_death_rate\": 190.1}, {\"age_adjusted_death_rate\": 27.0}, {\"age_adjusted_death_rate\": 48.8}, {\"age_adjusted_death_rate\": 176.1}, {\"age_adjusted_death_rate\": 218.8}, {\"age_adjusted_death_rate\": 31.4}, {\"age_adjusted_death_rate\": 41.9}, {\"age_adjusted_death_rate\": 172.4}, {\"age_adjusted_death_rate\": 39.1}, {\"age_adjusted_death_rate\": 25.0}, {\"age_adjusted_death_rate\": 151.4}, {\"age_adjusted_death_rate\": 36.2}, {\"age_adjusted_death_rate\": 40.9}, {\"age_adjusted_death_rate\": 28.6}, {\"age_adjusted_death_rate\": 6.0}, {\"age_adjusted_death_rate\": 55.9}, {\"age_adjusted_death_rate\": 173.5}, {\"age_adjusted_death_rate\": 11.2}, {\"age_adjusted_death_rate\": 904.3}, {\"age_adjusted_death_rate\": 33.3}, {\"age_adjusted_death_rate\": 39.3}, {\"age_adjusted_death_rate\": 193.8}, {\"age_adjusted_death_rate\": 34.2}, {\"age_adjusted_death_rate\": 14.6}, {\"age_adjusted_death_rate\": 18.3}, {\"age_adjusted_death_rate\": 36.3}, {\"age_adjusted_death_rate\": 815.1}, {\"age_adjusted_death_rate\": 38.1}, {\"age_adjusted_death_rate\": 14.8}, {\"age_adjusted_death_rate\": 24.4}, {\"age_adjusted_death_rate\": 52.7}, {\"age_adjusted_death_rate\": 11.2}, {\"age_adjusted_death_rate\": 25.1}, {\"age_adjusted_death_rate\": 35.8}, {\"age_adjusted_death_rate\": 1003.1}, {\"age_adjusted_death_rate\": 38.0}, {\"age_adjusted_death_rate\": 12.7}, {\"age_adjusted_death_rate\": 47.2}, {\"age_adjusted_death_rate\": 19.9}, {\"age_adjusted_death_rate\": 33.2}, {\"age_adjusted_death_rate\": 272.3}, {\"age_adjusted_death_rate\": 180.2}, {\"age_adjusted_death_rate\": 20.1}, {\"age_adjusted_death_rate\": 41.3}, {\"age_adjusted_death_rate\": 181.6}, {\"age_adjusted_death_rate\": 54.8}, {\"age_adjusted_death_rate\": 27.7}, {\"age_adjusted_death_rate\": 191.8}, {\"age_adjusted_death_rate\": 158.7}, {\"age_adjusted_death_rate\": 15.8}, {\"age_adjusted_death_rate\": 55.5}, {\"age_adjusted_death_rate\": 253.8}, {\"age_adjusted_death_rate\": 64.3}, {\"age_adjusted_death_rate\": 31.7}, {\"age_adjusted_death_rate\": 18.8}, {\"age_adjusted_death_rate\": 56.6}, {\"age_adjusted_death_rate\": 21.6}, {\"age_adjusted_death_rate\": 10.2}, {\"age_adjusted_death_rate\": 199.9}, {\"age_adjusted_death_rate\": 13.8}, {\"age_adjusted_death_rate\": 27.6}, {\"age_adjusted_death_rate\": 30.0}, {\"age_adjusted_death_rate\": 41.4}, {\"age_adjusted_death_rate\": 157.1}, {\"age_adjusted_death_rate\": 20.4}, {\"age_adjusted_death_rate\": 12.8}, {\"age_adjusted_death_rate\": 37.6}, {\"age_adjusted_death_rate\": 11.2}, {\"age_adjusted_death_rate\": 25.3}, {\"age_adjusted_death_rate\": 18.5}, {\"age_adjusted_death_rate\": 14.1}, {\"age_adjusted_death_rate\": 49.3}, {\"age_adjusted_death_rate\": 31.5}, {\"age_adjusted_death_rate\": 14.9}, {\"age_adjusted_death_rate\": 33.4}, {\"age_adjusted_death_rate\": 191.8}, {\"age_adjusted_death_rate\": 11.4}, {\"age_adjusted_death_rate\": 48.0}, {\"age_adjusted_death_rate\": 48.2}, {\"age_adjusted_death_rate\": 67.4}, {\"age_adjusted_death_rate\": 10.3}, {\"age_adjusted_death_rate\": 138.8}, {\"age_adjusted_death_rate\": 22.0}, {\"age_adjusted_death_rate\": 15.6}, {\"age_adjusted_death_rate\": 5.2}, {\"age_adjusted_death_rate\": 830.5}, {\"age_adjusted_death_rate\": 276.0}, {\"age_adjusted_death_rate\": 67.3}, {\"age_adjusted_death_rate\": 64.7}, {\"age_adjusted_death_rate\": 9.4}, {\"age_adjusted_death_rate\": 32.3}, {\"age_adjusted_death_rate\": 12.4}, {\"age_adjusted_death_rate\": 240.5}, {\"age_adjusted_death_rate\": 755.9}, {\"age_adjusted_death_rate\": 31.1}, {\"age_adjusted_death_rate\": 25.2}, {\"age_adjusted_death_rate\": 29.2}, {\"age_adjusted_death_rate\": 140.9}, {\"age_adjusted_death_rate\": 49.9}, {\"age_adjusted_death_rate\": 29.8}, {\"age_adjusted_death_rate\": 844.1}, {\"age_adjusted_death_rate\": 11.8}, {\"age_adjusted_death_rate\": 15.3}, {\"age_adjusted_death_rate\": 32.7}, {\"age_adjusted_death_rate\": 21.6}, {\"age_adjusted_death_rate\": 25.6}, {\"age_adjusted_death_rate\": 44.0}, {\"age_adjusted_death_rate\": 38.9}, {\"age_adjusted_death_rate\": 43.6}, {\"age_adjusted_death_rate\": 23.1}, {\"age_adjusted_death_rate\": 38.2}, {\"age_adjusted_death_rate\": 65.2}, {\"age_adjusted_death_rate\": 36.4}, {\"age_adjusted_death_rate\": 15.5}, {\"age_adjusted_death_rate\": 15.6}, {\"age_adjusted_death_rate\": 270.1}, {\"age_adjusted_death_rate\": 757.5}, {\"age_adjusted_death_rate\": 44.3}, {\"age_adjusted_death_rate\": 777.3}, {\"age_adjusted_death_rate\": 37.1}, {\"age_adjusted_death_rate\": 12.8}, {\"age_adjusted_death_rate\": 16.7}, {\"age_adjusted_death_rate\": 38.8}, {\"age_adjusted_death_rate\": 53.4}, {\"age_adjusted_death_rate\": 19.8}, {\"age_adjusted_death_rate\": 7.8}, {\"age_adjusted_death_rate\": 143.1}, {\"age_adjusted_death_rate\": 32.3}, {\"age_adjusted_death_rate\": 59.4}, {\"age_adjusted_death_rate\": 23.2}, {\"age_adjusted_death_rate\": 13.8}, {\"age_adjusted_death_rate\": 20.3}, {\"age_adjusted_death_rate\": 46.9}, {\"age_adjusted_death_rate\": 15.3}, {\"age_adjusted_death_rate\": 34.8}, {\"age_adjusted_death_rate\": 21.7}, {\"age_adjusted_death_rate\": 37.1}, {\"age_adjusted_death_rate\": 31.4}, {\"age_adjusted_death_rate\": 28.9}, {\"age_adjusted_death_rate\": 10.9}, {\"age_adjusted_death_rate\": 20.3}, {\"age_adjusted_death_rate\": 11.0}, {\"age_adjusted_death_rate\": 14.5}, {\"age_adjusted_death_rate\": 45.1}, {\"age_adjusted_death_rate\": 170.2}, {\"age_adjusted_death_rate\": 13.8}, {\"age_adjusted_death_rate\": 47.7}, {\"age_adjusted_death_rate\": 15.9}, {\"age_adjusted_death_rate\": 170.3}, {\"age_adjusted_death_rate\": 168.7}, {\"age_adjusted_death_rate\": 737.0}, {\"age_adjusted_death_rate\": 42.0}, {\"age_adjusted_death_rate\": 44.0}, {\"age_adjusted_death_rate\": 191.1}, {\"age_adjusted_death_rate\": 150.9}, {\"age_adjusted_death_rate\": 754.7}, {\"age_adjusted_death_rate\": 19.6}, {\"age_adjusted_death_rate\": 956.5}, {\"age_adjusted_death_rate\": 21.7}, {\"age_adjusted_death_rate\": 157.3}, {\"age_adjusted_death_rate\": 282.5}, {\"age_adjusted_death_rate\": 23.5}, {\"age_adjusted_death_rate\": 788.6}, {\"age_adjusted_death_rate\": 19.9}, {\"age_adjusted_death_rate\": 10.6}, {\"age_adjusted_death_rate\": 180.2}, {\"age_adjusted_death_rate\": 221.8}, {\"age_adjusted_death_rate\": 17.3}, {\"age_adjusted_death_rate\": 32.9}, {\"age_adjusted_death_rate\": 47.4}, {\"age_adjusted_death_rate\": 32.5}, {\"age_adjusted_death_rate\": 32.6}, {\"age_adjusted_death_rate\": 60.2}, {\"age_adjusted_death_rate\": 34.3}, {\"age_adjusted_death_rate\": 35.8}, {\"age_adjusted_death_rate\": 35.4}, {\"age_adjusted_death_rate\": 676.4}, {\"age_adjusted_death_rate\": 30.1}, {\"age_adjusted_death_rate\": 32.9}, {\"age_adjusted_death_rate\": 28.3}, {\"age_adjusted_death_rate\": 50.3}, {\"age_adjusted_death_rate\": 923.5}, {\"age_adjusted_death_rate\": 751.6}, {\"age_adjusted_death_rate\": 20.0}, {\"age_adjusted_death_rate\": 30.9}, {\"age_adjusted_death_rate\": 45.5}, {\"age_adjusted_death_rate\": 8.9}, {\"age_adjusted_death_rate\": 37.1}, {\"age_adjusted_death_rate\": 50.0}, {\"age_adjusted_death_rate\": 142.4}, {\"age_adjusted_death_rate\": 47.6}, {\"age_adjusted_death_rate\": 19.2}, {\"age_adjusted_death_rate\": 725.4}, {\"age_adjusted_death_rate\": 254.8}, {\"age_adjusted_death_rate\": 58.8}, {\"age_adjusted_death_rate\": 35.2}, {\"age_adjusted_death_rate\": 254.6}, {\"age_adjusted_death_rate\": 11.1}, {\"age_adjusted_death_rate\": 143.5}, {\"age_adjusted_death_rate\": 10.0}, {\"age_adjusted_death_rate\": 37.5}, {\"age_adjusted_death_rate\": 157.6}, {\"age_adjusted_death_rate\": 26.1}, {\"age_adjusted_death_rate\": 180.5}, {\"age_adjusted_death_rate\": 46.2}, {\"age_adjusted_death_rate\": 13.7}, {\"age_adjusted_death_rate\": 12.5}, {\"age_adjusted_death_rate\": 9.1}, {\"age_adjusted_death_rate\": 163.7}, {\"age_adjusted_death_rate\": 21.2}, {\"age_adjusted_death_rate\": 17.8}, {\"age_adjusted_death_rate\": 23.6}, {\"age_adjusted_death_rate\": 10.5}, {\"age_adjusted_death_rate\": 16.4}, {\"age_adjusted_death_rate\": 12.5}, {\"age_adjusted_death_rate\": 46.3}, {\"age_adjusted_death_rate\": 31.6}, {\"age_adjusted_death_rate\": 44.7}, {\"age_adjusted_death_rate\": 26.3}, {\"age_adjusted_death_rate\": 46.6}, {\"age_adjusted_death_rate\": 125.2}, {\"age_adjusted_death_rate\": 884.0}, {\"age_adjusted_death_rate\": 50.6}, {\"age_adjusted_death_rate\": 36.9}, {\"age_adjusted_death_rate\": 19.3}, {\"age_adjusted_death_rate\": 39.9}, {\"age_adjusted_death_rate\": 846.6}, {\"age_adjusted_death_rate\": 33.4}, {\"age_adjusted_death_rate\": 24.8}, {\"age_adjusted_death_rate\": 174.6}, {\"age_adjusted_death_rate\": 28.4}, {\"age_adjusted_death_rate\": 50.4}, {\"age_adjusted_death_rate\": 19.1}, {\"age_adjusted_death_rate\": 49.3}, {\"age_adjusted_death_rate\": 711.0}, {\"age_adjusted_death_rate\": 44.1}, {\"age_adjusted_death_rate\": 23.9}, {\"age_adjusted_death_rate\": 15.1}, {\"age_adjusted_death_rate\": 8.3}, {\"age_adjusted_death_rate\": 613.6}, {\"age_adjusted_death_rate\": 13.3}, {\"age_adjusted_death_rate\": 20.7}, {\"age_adjusted_death_rate\": 32.0}, {\"age_adjusted_death_rate\": 781.6}, {\"age_adjusted_death_rate\": 43.2}, {\"age_adjusted_death_rate\": 163.8}, {\"age_adjusted_death_rate\": 58.7}, {\"age_adjusted_death_rate\": 22.4}, {\"age_adjusted_death_rate\": 161.6}, {\"age_adjusted_death_rate\": 45.7}, {\"age_adjusted_death_rate\": 203.0}, {\"age_adjusted_death_rate\": 46.8}, {\"age_adjusted_death_rate\": 44.1}, {\"age_adjusted_death_rate\": 186.3}, {\"age_adjusted_death_rate\": 60.6}, {\"age_adjusted_death_rate\": 26.0}, {\"age_adjusted_death_rate\": 39.7}, {\"age_adjusted_death_rate\": 14.6}, {\"age_adjusted_death_rate\": 50.0}, {\"age_adjusted_death_rate\": 29.4}, {\"age_adjusted_death_rate\": 23.7}, {\"age_adjusted_death_rate\": 21.3}, {\"age_adjusted_death_rate\": 8.0}, {\"age_adjusted_death_rate\": 23.9}, {\"age_adjusted_death_rate\": 224.2}, {\"age_adjusted_death_rate\": 729.4}, {\"age_adjusted_death_rate\": 15.0}, {\"age_adjusted_death_rate\": 14.2}, {\"age_adjusted_death_rate\": 45.4}, {\"age_adjusted_death_rate\": 22.6}, {\"age_adjusted_death_rate\": 36.5}, {\"age_adjusted_death_rate\": 55.4}, {\"age_adjusted_death_rate\": 23.6}, {\"age_adjusted_death_rate\": 786.7}, {\"age_adjusted_death_rate\": 52.2}, {\"age_adjusted_death_rate\": 41.9}, {\"age_adjusted_death_rate\": 43.4}, {\"age_adjusted_death_rate\": 40.6}, {\"age_adjusted_death_rate\": 53.1}, {\"age_adjusted_death_rate\": 34.8}, {\"age_adjusted_death_rate\": 53.3}, {\"age_adjusted_death_rate\": 16.5}, {\"age_adjusted_death_rate\": 793.1}, {\"age_adjusted_death_rate\": 274.3}, {\"age_adjusted_death_rate\": 16.4}, {\"age_adjusted_death_rate\": 183.7}, {\"age_adjusted_death_rate\": 21.6}, {\"age_adjusted_death_rate\": 28.8}, {\"age_adjusted_death_rate\": 41.7}, {\"age_adjusted_death_rate\": 39.3}, {\"age_adjusted_death_rate\": 186.5}, {\"age_adjusted_death_rate\": 21.2}, {\"age_adjusted_death_rate\": 8.2}, {\"age_adjusted_death_rate\": 14.0}, {\"age_adjusted_death_rate\": 207.2}, {\"age_adjusted_death_rate\": 19.1}, {\"age_adjusted_death_rate\": 15.2}, {\"age_adjusted_death_rate\": 41.1}, {\"age_adjusted_death_rate\": 176.1}, {\"age_adjusted_death_rate\": 27.0}, {\"age_adjusted_death_rate\": 45.0}, {\"age_adjusted_death_rate\": 74.8}, {\"age_adjusted_death_rate\": 31.0}, {\"age_adjusted_death_rate\": 176.9}, {\"age_adjusted_death_rate\": 180.5}, {\"age_adjusted_death_rate\": 43.1}, {\"age_adjusted_death_rate\": 10.9}, {\"age_adjusted_death_rate\": 31.6}, {\"age_adjusted_death_rate\": 28.4}, {\"age_adjusted_death_rate\": 32.5}, {\"age_adjusted_death_rate\": 25.7}, {\"age_adjusted_death_rate\": 6.4}, {\"age_adjusted_death_rate\": 27.6}, {\"age_adjusted_death_rate\": 688.6}, {\"age_adjusted_death_rate\": 22.1}, {\"age_adjusted_death_rate\": 23.6}, {\"age_adjusted_death_rate\": 719.0}, {\"age_adjusted_death_rate\": 45.6}, {\"age_adjusted_death_rate\": 165.6}, {\"age_adjusted_death_rate\": 21.6}, {\"age_adjusted_death_rate\": 26.0}, {\"age_adjusted_death_rate\": 10.9}, {\"age_adjusted_death_rate\": 47.4}, {\"age_adjusted_death_rate\": 38.3}, {\"age_adjusted_death_rate\": 28.5}, {\"age_adjusted_death_rate\": 26.9}, {\"age_adjusted_death_rate\": 26.9}, {\"age_adjusted_death_rate\": 806.1}, {\"age_adjusted_death_rate\": 51.1}, {\"age_adjusted_death_rate\": 33.9}, {\"age_adjusted_death_rate\": 38.9}, {\"age_adjusted_death_rate\": 233.6}, {\"age_adjusted_death_rate\": 21.0}, {\"age_adjusted_death_rate\": 22.2}, {\"age_adjusted_death_rate\": 185.0}, {\"age_adjusted_death_rate\": 883.0}, {\"age_adjusted_death_rate\": 9.6}, {\"age_adjusted_death_rate\": 813.7}, {\"age_adjusted_death_rate\": 46.4}, {\"age_adjusted_death_rate\": 22.0}, {\"age_adjusted_death_rate\": 22.4}, {\"age_adjusted_death_rate\": 762.7}, {\"age_adjusted_death_rate\": 29.4}, {\"age_adjusted_death_rate\": 7.3}, {\"age_adjusted_death_rate\": 929.9}, {\"age_adjusted_death_rate\": 14.7}, {\"age_adjusted_death_rate\": 741.5}, {\"age_adjusted_death_rate\": 200.0}, {\"age_adjusted_death_rate\": 16.5}, {\"age_adjusted_death_rate\": 65.1}, {\"age_adjusted_death_rate\": 23.0}, {\"age_adjusted_death_rate\": 165.3}, {\"age_adjusted_death_rate\": 45.3}, {\"age_adjusted_death_rate\": 15.3}, {\"age_adjusted_death_rate\": 147.2}, {\"age_adjusted_death_rate\": 176.9}, {\"age_adjusted_death_rate\": 52.0}, {\"age_adjusted_death_rate\": 282.6}, {\"age_adjusted_death_rate\": 16.2}, {\"age_adjusted_death_rate\": 21.0}, {\"age_adjusted_death_rate\": 23.0}, {\"age_adjusted_death_rate\": 29.4}, {\"age_adjusted_death_rate\": 25.5}, {\"age_adjusted_death_rate\": 154.2}, {\"age_adjusted_death_rate\": 16.4}, {\"age_adjusted_death_rate\": 42.8}, {\"age_adjusted_death_rate\": 24.8}, {\"age_adjusted_death_rate\": 25.1}, {\"age_adjusted_death_rate\": 56.7}, {\"age_adjusted_death_rate\": 19.1}, {\"age_adjusted_death_rate\": 27.7}, {\"age_adjusted_death_rate\": 186.8}, {\"age_adjusted_death_rate\": 16.2}, {\"age_adjusted_death_rate\": 51.4}, {\"age_adjusted_death_rate\": 10.9}, {\"age_adjusted_death_rate\": 31.5}, {\"age_adjusted_death_rate\": 13.7}, {\"age_adjusted_death_rate\": 14.3}, {\"age_adjusted_death_rate\": 942.5}, {\"age_adjusted_death_rate\": 714.5}, {\"age_adjusted_death_rate\": 40.5}, {\"age_adjusted_death_rate\": 28.0}, {\"age_adjusted_death_rate\": 12.0}, {\"age_adjusted_death_rate\": 19.7}, {\"age_adjusted_death_rate\": 201.3}, {\"age_adjusted_death_rate\": 55.2}, {\"age_adjusted_death_rate\": 815.7}, {\"age_adjusted_death_rate\": 34.8}, {\"age_adjusted_death_rate\": 57.8}, {\"age_adjusted_death_rate\": 165.2}, {\"age_adjusted_death_rate\": 16.4}, {\"age_adjusted_death_rate\": 803.6}, {\"age_adjusted_death_rate\": 39.9}, {\"age_adjusted_death_rate\": 10.3}, {\"age_adjusted_death_rate\": 206.4}, {\"age_adjusted_death_rate\": 39.0}, {\"age_adjusted_death_rate\": 17.7}, {\"age_adjusted_death_rate\": 12.6}, {\"age_adjusted_death_rate\": 39.9}, {\"age_adjusted_death_rate\": 42.1}, {\"age_adjusted_death_rate\": 749.0}, {\"age_adjusted_death_rate\": 721.6}, {\"age_adjusted_death_rate\": 55.3}, {\"age_adjusted_death_rate\": 20.8}, {\"age_adjusted_death_rate\": 10.5}, {\"age_adjusted_death_rate\": 17.1}, {\"age_adjusted_death_rate\": 45.5}, {\"age_adjusted_death_rate\": 197.2}, {\"age_adjusted_death_rate\": 923.5}, {\"age_adjusted_death_rate\": 37.9}, {\"age_adjusted_death_rate\": 12.0}, {\"age_adjusted_death_rate\": 44.4}, {\"age_adjusted_death_rate\": 47.0}, {\"age_adjusted_death_rate\": 71.2}, {\"age_adjusted_death_rate\": 44.0}, {\"age_adjusted_death_rate\": 43.0}, {\"age_adjusted_death_rate\": 155.7}, {\"age_adjusted_death_rate\": 192.1}, {\"age_adjusted_death_rate\": 21.4}, {\"age_adjusted_death_rate\": 30.4}, {\"age_adjusted_death_rate\": 721.5}, {\"age_adjusted_death_rate\": 11.9}, {\"age_adjusted_death_rate\": 19.6}, {\"age_adjusted_death_rate\": 26.7}, {\"age_adjusted_death_rate\": 48.3}, {\"age_adjusted_death_rate\": 23.1}, {\"age_adjusted_death_rate\": 34.9}, {\"age_adjusted_death_rate\": 167.4}, {\"age_adjusted_death_rate\": 23.2}, {\"age_adjusted_death_rate\": 40.3}, {\"age_adjusted_death_rate\": 21.5}, {\"age_adjusted_death_rate\": 30.7}, {\"age_adjusted_death_rate\": 184.8}, {\"age_adjusted_death_rate\": 34.0}, {\"age_adjusted_death_rate\": 22.6}, {\"age_adjusted_death_rate\": 687.5}, {\"age_adjusted_death_rate\": 57.9}, {\"age_adjusted_death_rate\": 19.5}, {\"age_adjusted_death_rate\": 631.0}, {\"age_adjusted_death_rate\": 175.5}, {\"age_adjusted_death_rate\": 13.6}, {\"age_adjusted_death_rate\": 201.4}, {\"age_adjusted_death_rate\": 38.4}, {\"age_adjusted_death_rate\": 49.2}, {\"age_adjusted_death_rate\": 39.1}, {\"age_adjusted_death_rate\": 63.3}, {\"age_adjusted_death_rate\": 803.5}, {\"age_adjusted_death_rate\": 44.0}, {\"age_adjusted_death_rate\": 191.9}, {\"age_adjusted_death_rate\": 43.6}, {\"age_adjusted_death_rate\": 191.8}, {\"age_adjusted_death_rate\": 36.8}, {\"age_adjusted_death_rate\": 14.6}, {\"age_adjusted_death_rate\": 7.2}, {\"age_adjusted_death_rate\": 254.0}, {\"age_adjusted_death_rate\": 775.4}, {\"age_adjusted_death_rate\": 20.4}, {\"age_adjusted_death_rate\": 11.3}, {\"age_adjusted_death_rate\": 12.8}, {\"age_adjusted_death_rate\": 49.6}, {\"age_adjusted_death_rate\": 15.1}, {\"age_adjusted_death_rate\": 37.5}, {\"age_adjusted_death_rate\": 15.2}, {\"age_adjusted_death_rate\": 27.3}, {\"age_adjusted_death_rate\": 21.6}, {\"age_adjusted_death_rate\": 19.1}, {\"age_adjusted_death_rate\": 14.2}, {\"age_adjusted_death_rate\": 15.4}, {\"age_adjusted_death_rate\": 13.3}, {\"age_adjusted_death_rate\": 17.8}, {\"age_adjusted_death_rate\": 50.5}, {\"age_adjusted_death_rate\": 187.0}, {\"age_adjusted_death_rate\": 173.7}, {\"age_adjusted_death_rate\": 152.3}, {\"age_adjusted_death_rate\": 16.8}, {\"age_adjusted_death_rate\": 39.0}, {\"age_adjusted_death_rate\": 44.3}, {\"age_adjusted_death_rate\": 39.3}, {\"age_adjusted_death_rate\": 38.4}, {\"age_adjusted_death_rate\": 24.5}, {\"age_adjusted_death_rate\": 171.7}, {\"age_adjusted_death_rate\": 15.7}, {\"age_adjusted_death_rate\": 198.2}, {\"age_adjusted_death_rate\": 19.6}, {\"age_adjusted_death_rate\": 33.1}, {\"age_adjusted_death_rate\": 37.8}, {\"age_adjusted_death_rate\": 23.4}, {\"age_adjusted_death_rate\": 13.1}, {\"age_adjusted_death_rate\": 24.3}, {\"age_adjusted_death_rate\": 47.4}, {\"age_adjusted_death_rate\": 43.7}, {\"age_adjusted_death_rate\": 23.6}, {\"age_adjusted_death_rate\": 22.5}, {\"age_adjusted_death_rate\": 771.2}, {\"age_adjusted_death_rate\": 222.5}, {\"age_adjusted_death_rate\": 17.4}, {\"age_adjusted_death_rate\": 18.9}, {\"age_adjusted_death_rate\": 13.7}, {\"age_adjusted_death_rate\": 156.4}, {\"age_adjusted_death_rate\": 228.4}, {\"age_adjusted_death_rate\": 41.2}, {\"age_adjusted_death_rate\": 39.8}, {\"age_adjusted_death_rate\": 45.4}, {\"age_adjusted_death_rate\": 12.4}, {\"age_adjusted_death_rate\": 160.4}, {\"age_adjusted_death_rate\": 37.0}, {\"age_adjusted_death_rate\": 17.2}, {\"age_adjusted_death_rate\": 209.5}, {\"age_adjusted_death_rate\": 62.3}, {\"age_adjusted_death_rate\": 39.0}, {\"age_adjusted_death_rate\": 42.1}, {\"age_adjusted_death_rate\": 48.5}, {\"age_adjusted_death_rate\": 148.0}, {\"age_adjusted_death_rate\": 10.7}, {\"age_adjusted_death_rate\": 16.6}, {\"age_adjusted_death_rate\": 758.3}, {\"age_adjusted_death_rate\": 47.1}, {\"age_adjusted_death_rate\": 14.5}, {\"age_adjusted_death_rate\": 192.8}, {\"age_adjusted_death_rate\": 238.1}, {\"age_adjusted_death_rate\": 61.2}, {\"age_adjusted_death_rate\": 710.4}, {\"age_adjusted_death_rate\": 42.7}, {\"age_adjusted_death_rate\": 730.6}, {\"age_adjusted_death_rate\": 37.3}, {\"age_adjusted_death_rate\": 864.1}, {\"age_adjusted_death_rate\": 8.4}, {\"age_adjusted_death_rate\": 37.8}, {\"age_adjusted_death_rate\": 756.8}, {\"age_adjusted_death_rate\": 9.3}, {\"age_adjusted_death_rate\": 238.5}, {\"age_adjusted_death_rate\": 13.9}, {\"age_adjusted_death_rate\": 11.1}, {\"age_adjusted_death_rate\": 16.9}, {\"age_adjusted_death_rate\": 46.1}, {\"age_adjusted_death_rate\": 9.1}, {\"age_adjusted_death_rate\": 11.0}, {\"age_adjusted_death_rate\": 35.7}, {\"age_adjusted_death_rate\": 12.1}, {\"age_adjusted_death_rate\": 63.4}, {\"age_adjusted_death_rate\": 15.1}, {\"age_adjusted_death_rate\": 22.2}, {\"age_adjusted_death_rate\": 46.2}, {\"age_adjusted_death_rate\": 14.2}, {\"age_adjusted_death_rate\": 14.1}, {\"age_adjusted_death_rate\": 8.1}, {\"age_adjusted_death_rate\": 148.9}, {\"age_adjusted_death_rate\": 20.9}, {\"age_adjusted_death_rate\": 17.1}, {\"age_adjusted_death_rate\": 36.4}, {\"age_adjusted_death_rate\": 21.7}, {\"age_adjusted_death_rate\": 942.9}, {\"age_adjusted_death_rate\": 139.2}, {\"age_adjusted_death_rate\": 157.8}, {\"age_adjusted_death_rate\": 152.0}, {\"age_adjusted_death_rate\": 54.9}, {\"age_adjusted_death_rate\": 38.9}, {\"age_adjusted_death_rate\": 188.6}, {\"age_adjusted_death_rate\": 66.6}, {\"age_adjusted_death_rate\": 37.8}, {\"age_adjusted_death_rate\": 26.9}, {\"age_adjusted_death_rate\": 16.9}, {\"age_adjusted_death_rate\": 9.5}, {\"age_adjusted_death_rate\": 15.9}, {\"age_adjusted_death_rate\": 8.9}, {\"age_adjusted_death_rate\": 28.4}, {\"age_adjusted_death_rate\": 38.0}, {\"age_adjusted_death_rate\": 16.5}, {\"age_adjusted_death_rate\": 34.7}, {\"age_adjusted_death_rate\": 19.6}, {\"age_adjusted_death_rate\": 718.2}, {\"age_adjusted_death_rate\": 37.1}, {\"age_adjusted_death_rate\": 731.9}, {\"age_adjusted_death_rate\": 205.7}, {\"age_adjusted_death_rate\": 20.6}, {\"age_adjusted_death_rate\": 18.3}, {\"age_adjusted_death_rate\": 912.7}, {\"age_adjusted_death_rate\": 45.9}, {\"age_adjusted_death_rate\": 50.0}, {\"age_adjusted_death_rate\": 15.2}, {\"age_adjusted_death_rate\": 198.0}, {\"age_adjusted_death_rate\": 29.9}, {\"age_adjusted_death_rate\": 8.0}, {\"age_adjusted_death_rate\": 766.2}, {\"age_adjusted_death_rate\": 56.4}, {\"age_adjusted_death_rate\": 17.9}, {\"age_adjusted_death_rate\": 22.5}, {\"age_adjusted_death_rate\": 27.5}, {\"age_adjusted_death_rate\": 222.4}, {\"age_adjusted_death_rate\": 50.6}, {\"age_adjusted_death_rate\": 116.6}, {\"age_adjusted_death_rate\": 167.6}, {\"age_adjusted_death_rate\": 240.1}, {\"age_adjusted_death_rate\": 192.4}, {\"age_adjusted_death_rate\": 256.9}, {\"age_adjusted_death_rate\": 769.6}, {\"age_adjusted_death_rate\": 17.4}, {\"age_adjusted_death_rate\": 176.2}, {\"age_adjusted_death_rate\": 20.6}, {\"age_adjusted_death_rate\": 51.3}, {\"age_adjusted_death_rate\": 17.1}, {\"age_adjusted_death_rate\": 54.7}, {\"age_adjusted_death_rate\": 38.3}, {\"age_adjusted_death_rate\": 17.7}, {\"age_adjusted_death_rate\": 9.6}, {\"age_adjusted_death_rate\": 21.3}, {\"age_adjusted_death_rate\": 8.5}, {\"age_adjusted_death_rate\": 6.6}, {\"age_adjusted_death_rate\": 17.6}, {\"age_adjusted_death_rate\": 21.6}, {\"age_adjusted_death_rate\": 35.8}, {\"age_adjusted_death_rate\": 18.8}, {\"age_adjusted_death_rate\": 10.4}, {\"age_adjusted_death_rate\": 173.3}, {\"age_adjusted_death_rate\": 38.8}, {\"age_adjusted_death_rate\": 176.5}, {\"age_adjusted_death_rate\": 238.2}, {\"age_adjusted_death_rate\": 26.5}, {\"age_adjusted_death_rate\": 26.9}, {\"age_adjusted_death_rate\": 25.6}, {\"age_adjusted_death_rate\": 146.1}, {\"age_adjusted_death_rate\": 17.7}, {\"age_adjusted_death_rate\": 15.0}, {\"age_adjusted_death_rate\": 9.2}, {\"age_adjusted_death_rate\": 56.5}, {\"age_adjusted_death_rate\": 46.0}, {\"age_adjusted_death_rate\": 724.6}, {\"age_adjusted_death_rate\": 162.9}, {\"age_adjusted_death_rate\": 49.2}, {\"age_adjusted_death_rate\": 9.1}, {\"age_adjusted_death_rate\": 14.3}, {\"age_adjusted_death_rate\": 11.6}, {\"age_adjusted_death_rate\": 829.8}, {\"age_adjusted_death_rate\": 938.4}, {\"age_adjusted_death_rate\": 303.6}, {\"age_adjusted_death_rate\": 212.4}, {\"age_adjusted_death_rate\": 25.8}, {\"age_adjusted_death_rate\": 46.4}, {\"age_adjusted_death_rate\": 51.0}, {\"age_adjusted_death_rate\": 151.1}, {\"age_adjusted_death_rate\": 17.2}, {\"age_adjusted_death_rate\": 39.5}, {\"age_adjusted_death_rate\": 14.5}, {\"age_adjusted_death_rate\": 12.9}, {\"age_adjusted_death_rate\": 47.4}, {\"age_adjusted_death_rate\": 12.5}, {\"age_adjusted_death_rate\": 11.5}, {\"age_adjusted_death_rate\": 9.1}, {\"age_adjusted_death_rate\": 30.8}, {\"age_adjusted_death_rate\": 11.9}, {\"age_adjusted_death_rate\": 37.6}, {\"age_adjusted_death_rate\": 852.6}, {\"age_adjusted_death_rate\": 38.6}, {\"age_adjusted_death_rate\": 49.0}, {\"age_adjusted_death_rate\": 15.2}, {\"age_adjusted_death_rate\": 173.8}, {\"age_adjusted_death_rate\": 27.6}, {\"age_adjusted_death_rate\": 151.7}, {\"age_adjusted_death_rate\": 167.3}, {\"age_adjusted_death_rate\": 59.0}, {\"age_adjusted_death_rate\": 166.7}, {\"age_adjusted_death_rate\": 12.5}, {\"age_adjusted_death_rate\": 27.6}, {\"age_adjusted_death_rate\": 13.5}, {\"age_adjusted_death_rate\": 799.1}, {\"age_adjusted_death_rate\": 58.3}, {\"age_adjusted_death_rate\": 26.6}, {\"age_adjusted_death_rate\": 28.4}, {\"age_adjusted_death_rate\": 208.4}, {\"age_adjusted_death_rate\": 18.7}, {\"age_adjusted_death_rate\": 60.7}, {\"age_adjusted_death_rate\": 920.8}, {\"age_adjusted_death_rate\": 40.4}, {\"age_adjusted_death_rate\": 20.1}, {\"age_adjusted_death_rate\": 47.8}, {\"age_adjusted_death_rate\": 16.8}, {\"age_adjusted_death_rate\": 29.0}, {\"age_adjusted_death_rate\": 24.8}, {\"age_adjusted_death_rate\": 15.7}, {\"age_adjusted_death_rate\": 162.3}, {\"age_adjusted_death_rate\": 23.4}, {\"age_adjusted_death_rate\": 22.8}, {\"age_adjusted_death_rate\": 18.9}, {\"age_adjusted_death_rate\": 160.2}, {\"age_adjusted_death_rate\": 38.4}, {\"age_adjusted_death_rate\": 13.8}, {\"age_adjusted_death_rate\": 27.4}, {\"age_adjusted_death_rate\": 200.5}, {\"age_adjusted_death_rate\": 734.2}, {\"age_adjusted_death_rate\": 11.9}, {\"age_adjusted_death_rate\": 22.4}, {\"age_adjusted_death_rate\": 53.1}, {\"age_adjusted_death_rate\": 187.6}, {\"age_adjusted_death_rate\": 155.5}, {\"age_adjusted_death_rate\": 195.1}, {\"age_adjusted_death_rate\": 12.8}, {\"age_adjusted_death_rate\": 12.2}, {\"age_adjusted_death_rate\": 23.5}, {\"age_adjusted_death_rate\": 49.3}, {\"age_adjusted_death_rate\": 6.7}, {\"age_adjusted_death_rate\": 42.0}, {\"age_adjusted_death_rate\": 20.0}, {\"age_adjusted_death_rate\": 37.8}, {\"age_adjusted_death_rate\": 11.7}, {\"age_adjusted_death_rate\": 11.3}, {\"age_adjusted_death_rate\": 16.4}, {\"age_adjusted_death_rate\": 153.4}, {\"age_adjusted_death_rate\": 24.3}, {\"age_adjusted_death_rate\": 154.3}, {\"age_adjusted_death_rate\": 927.4}, {\"age_adjusted_death_rate\": 15.3}, {\"age_adjusted_death_rate\": 36.3}, {\"age_adjusted_death_rate\": 48.5}, {\"age_adjusted_death_rate\": 656.1}, {\"age_adjusted_death_rate\": 15.1}, {\"age_adjusted_death_rate\": 38.6}, {\"age_adjusted_death_rate\": 53.6}, {\"age_adjusted_death_rate\": 51.8}, {\"age_adjusted_death_rate\": 135.1}, {\"age_adjusted_death_rate\": 60.9}, {\"age_adjusted_death_rate\": 15.5}, {\"age_adjusted_death_rate\": 13.7}, {\"age_adjusted_death_rate\": 9.2}, {\"age_adjusted_death_rate\": 21.7}, {\"age_adjusted_death_rate\": 806.0}, {\"age_adjusted_death_rate\": 15.1}, {\"age_adjusted_death_rate\": 19.2}, {\"age_adjusted_death_rate\": 25.5}, {\"age_adjusted_death_rate\": 51.9}, {\"age_adjusted_death_rate\": 43.8}, {\"age_adjusted_death_rate\": 62.0}, {\"age_adjusted_death_rate\": 13.1}, {\"age_adjusted_death_rate\": 11.6}, {\"age_adjusted_death_rate\": 16.6}, {\"age_adjusted_death_rate\": 18.4}, {\"age_adjusted_death_rate\": 18.8}, {\"age_adjusted_death_rate\": 35.4}, {\"age_adjusted_death_rate\": 19.6}, {\"age_adjusted_death_rate\": 58.8}, {\"age_adjusted_death_rate\": 1006.3}, {\"age_adjusted_death_rate\": 175.0}, {\"age_adjusted_death_rate\": 828.2}, {\"age_adjusted_death_rate\": 52.6}, {\"age_adjusted_death_rate\": 963.7}, {\"age_adjusted_death_rate\": 40.8}, {\"age_adjusted_death_rate\": 64.6}, {\"age_adjusted_death_rate\": 9.9}, {\"age_adjusted_death_rate\": 47.2}, {\"age_adjusted_death_rate\": 24.5}, {\"age_adjusted_death_rate\": 25.9}, {\"age_adjusted_death_rate\": 14.4}, {\"age_adjusted_death_rate\": 18.0}, {\"age_adjusted_death_rate\": 19.0}, {\"age_adjusted_death_rate\": 32.4}, {\"age_adjusted_death_rate\": 184.4}, {\"age_adjusted_death_rate\": 56.0}, {\"age_adjusted_death_rate\": 15.6}, {\"age_adjusted_death_rate\": 163.3}, {\"age_adjusted_death_rate\": 54.8}, {\"age_adjusted_death_rate\": 14.6}, {\"age_adjusted_death_rate\": 196.4}, {\"age_adjusted_death_rate\": 33.1}, {\"age_adjusted_death_rate\": 46.7}, {\"age_adjusted_death_rate\": 37.9}, {\"age_adjusted_death_rate\": 9.0}, {\"age_adjusted_death_rate\": 25.1}, {\"age_adjusted_death_rate\": 23.6}, {\"age_adjusted_death_rate\": 49.5}, {\"age_adjusted_death_rate\": 22.3}, {\"age_adjusted_death_rate\": 34.3}, {\"age_adjusted_death_rate\": 778.9}, {\"age_adjusted_death_rate\": 21.6}, {\"age_adjusted_death_rate\": 182.1}, {\"age_adjusted_death_rate\": 149.3}, {\"age_adjusted_death_rate\": 27.2}, {\"age_adjusted_death_rate\": 756.0}, {\"age_adjusted_death_rate\": 31.4}, {\"age_adjusted_death_rate\": 13.0}, {\"age_adjusted_death_rate\": 11.9}, {\"age_adjusted_death_rate\": 20.0}, {\"age_adjusted_death_rate\": 45.8}, {\"age_adjusted_death_rate\": 153.0}, {\"age_adjusted_death_rate\": 19.5}, {\"age_adjusted_death_rate\": 43.0}, {\"age_adjusted_death_rate\": 802.2}, {\"age_adjusted_death_rate\": 13.9}, {\"age_adjusted_death_rate\": 15.3}, {\"age_adjusted_death_rate\": 13.2}, {\"age_adjusted_death_rate\": 49.1}, {\"age_adjusted_death_rate\": 38.6}, {\"age_adjusted_death_rate\": 168.5}, {\"age_adjusted_death_rate\": 24.3}, {\"age_adjusted_death_rate\": 14.9}, {\"age_adjusted_death_rate\": 28.6}, {\"age_adjusted_death_rate\": 42.6}, {\"age_adjusted_death_rate\": 816.9}, {\"age_adjusted_death_rate\": 18.5}, {\"age_adjusted_death_rate\": 7.6}, {\"age_adjusted_death_rate\": 44.6}, {\"age_adjusted_death_rate\": 10.1}, {\"age_adjusted_death_rate\": 16.3}, {\"age_adjusted_death_rate\": 38.8}, {\"age_adjusted_death_rate\": 24.3}, {\"age_adjusted_death_rate\": 20.5}, {\"age_adjusted_death_rate\": 149.5}, {\"age_adjusted_death_rate\": 205.5}, {\"age_adjusted_death_rate\": 37.3}, {\"age_adjusted_death_rate\": 737.4}, {\"age_adjusted_death_rate\": 25.3}, {\"age_adjusted_death_rate\": 168.7}, {\"age_adjusted_death_rate\": 18.2}, {\"age_adjusted_death_rate\": 784.0}, {\"age_adjusted_death_rate\": 14.8}, {\"age_adjusted_death_rate\": 53.3}, {\"age_adjusted_death_rate\": 16.6}, {\"age_adjusted_death_rate\": 808.4}, {\"age_adjusted_death_rate\": 26.7}, {\"age_adjusted_death_rate\": 191.0}, {\"age_adjusted_death_rate\": 53.7}, {\"age_adjusted_death_rate\": 46.7}, {\"age_adjusted_death_rate\": 23.6}, {\"age_adjusted_death_rate\": 712.1}, {\"age_adjusted_death_rate\": 731.0}, {\"age_adjusted_death_rate\": 56.9}, {\"age_adjusted_death_rate\": 12.3}, {\"age_adjusted_death_rate\": 53.3}, {\"age_adjusted_death_rate\": 28.2}, {\"age_adjusted_death_rate\": 20.6}, {\"age_adjusted_death_rate\": 158.8}, {\"age_adjusted_death_rate\": 28.9}, {\"age_adjusted_death_rate\": 35.2}, {\"age_adjusted_death_rate\": 1021.6}, {\"age_adjusted_death_rate\": 41.4}, {\"age_adjusted_death_rate\": 9.5}, {\"age_adjusted_death_rate\": 783.0}, {\"age_adjusted_death_rate\": 24.1}, {\"age_adjusted_death_rate\": 6.6}, {\"age_adjusted_death_rate\": 19.3}, {\"age_adjusted_death_rate\": 42.6}, {\"age_adjusted_death_rate\": 24.4}, {\"age_adjusted_death_rate\": 48.7}, {\"age_adjusted_death_rate\": 12.7}, {\"age_adjusted_death_rate\": 12.6}, {\"age_adjusted_death_rate\": 224.3}, {\"age_adjusted_death_rate\": 948.2}, {\"age_adjusted_death_rate\": 665.6}, {\"age_adjusted_death_rate\": 33.3}, {\"age_adjusted_death_rate\": 25.4}, {\"age_adjusted_death_rate\": 164.6}, {\"age_adjusted_death_rate\": 44.6}, {\"age_adjusted_death_rate\": 15.4}, {\"age_adjusted_death_rate\": 173.0}, {\"age_adjusted_death_rate\": 46.7}, {\"age_adjusted_death_rate\": 174.1}, {\"age_adjusted_death_rate\": 20.0}, {\"age_adjusted_death_rate\": 179.9}, {\"age_adjusted_death_rate\": 60.8}, {\"age_adjusted_death_rate\": 17.5}, {\"age_adjusted_death_rate\": 248.6}, {\"age_adjusted_death_rate\": 11.5}, {\"age_adjusted_death_rate\": 8.2}, {\"age_adjusted_death_rate\": 16.3}, {\"age_adjusted_death_rate\": 649.3}, {\"age_adjusted_death_rate\": 180.2}, {\"age_adjusted_death_rate\": 41.6}, {\"age_adjusted_death_rate\": 33.6}, {\"age_adjusted_death_rate\": 55.2}, {\"age_adjusted_death_rate\": 50.5}, {\"age_adjusted_death_rate\": 24.7}, {\"age_adjusted_death_rate\": 14.5}, {\"age_adjusted_death_rate\": 255.2}, {\"age_adjusted_death_rate\": 16.9}, {\"age_adjusted_death_rate\": 18.7}, {\"age_adjusted_death_rate\": 22.8}, {\"age_adjusted_death_rate\": 72.3}, {\"age_adjusted_death_rate\": 16.0}, {\"age_adjusted_death_rate\": 19.5}, {\"age_adjusted_death_rate\": 27.1}, {\"age_adjusted_death_rate\": 12.8}, {\"age_adjusted_death_rate\": 34.1}, {\"age_adjusted_death_rate\": 169.2}, {\"age_adjusted_death_rate\": 42.3}, {\"age_adjusted_death_rate\": 63.1}, {\"age_adjusted_death_rate\": 241.3}, {\"age_adjusted_death_rate\": 12.5}, {\"age_adjusted_death_rate\": 196.1}, {\"age_adjusted_death_rate\": 205.1}, {\"age_adjusted_death_rate\": 25.5}, {\"age_adjusted_death_rate\": 19.7}, {\"age_adjusted_death_rate\": 180.0}, {\"age_adjusted_death_rate\": 78.5}, {\"age_adjusted_death_rate\": 21.5}, {\"age_adjusted_death_rate\": 29.4}, {\"age_adjusted_death_rate\": 23.3}, {\"age_adjusted_death_rate\": 143.3}, {\"age_adjusted_death_rate\": 10.4}, {\"age_adjusted_death_rate\": 19.3}, {\"age_adjusted_death_rate\": 180.6}, {\"age_adjusted_death_rate\": 38.6}, {\"age_adjusted_death_rate\": 807.8}, {\"age_adjusted_death_rate\": 40.3}, {\"age_adjusted_death_rate\": 253.6}, {\"age_adjusted_death_rate\": 43.4}, {\"age_adjusted_death_rate\": 204.5}, {\"age_adjusted_death_rate\": 32.8}, {\"age_adjusted_death_rate\": 21.1}, {\"age_adjusted_death_rate\": 14.2}, {\"age_adjusted_death_rate\": 27.0}, {\"age_adjusted_death_rate\": 36.3}, {\"age_adjusted_death_rate\": 51.4}, {\"age_adjusted_death_rate\": 18.1}, {\"age_adjusted_death_rate\": 176.0}, {\"age_adjusted_death_rate\": 292.9}, {\"age_adjusted_death_rate\": 39.4}, {\"age_adjusted_death_rate\": 64.1}, {\"age_adjusted_death_rate\": 673.4}, {\"age_adjusted_death_rate\": 772.1}, {\"age_adjusted_death_rate\": 19.1}, {\"age_adjusted_death_rate\": 12.7}, {\"age_adjusted_death_rate\": 40.3}, {\"age_adjusted_death_rate\": 186.3}, {\"age_adjusted_death_rate\": 649.5}, {\"age_adjusted_death_rate\": 163.1}, {\"age_adjusted_death_rate\": 27.1}, {\"age_adjusted_death_rate\": 208.2}, {\"age_adjusted_death_rate\": 22.9}, {\"age_adjusted_death_rate\": 22.3}, {\"age_adjusted_death_rate\": 16.0}, {\"age_adjusted_death_rate\": 11.1}, {\"age_adjusted_death_rate\": 20.0}, {\"age_adjusted_death_rate\": 8.9}, {\"age_adjusted_death_rate\": 18.1}, {\"age_adjusted_death_rate\": 897.6}, {\"age_adjusted_death_rate\": 28.1}, {\"age_adjusted_death_rate\": 24.9}, {\"age_adjusted_death_rate\": 42.2}, {\"age_adjusted_death_rate\": 156.3}, {\"age_adjusted_death_rate\": 214.1}, {\"age_adjusted_death_rate\": 46.9}, {\"age_adjusted_death_rate\": 33.5}, {\"age_adjusted_death_rate\": 175.3}, {\"age_adjusted_death_rate\": 38.0}, {\"age_adjusted_death_rate\": 1004.8}, {\"age_adjusted_death_rate\": 18.3}, {\"age_adjusted_death_rate\": 60.4}, {\"age_adjusted_death_rate\": 28.3}, {\"age_adjusted_death_rate\": 49.3}, {\"age_adjusted_death_rate\": 18.9}, {\"age_adjusted_death_rate\": 23.6}, {\"age_adjusted_death_rate\": 15.6}, {\"age_adjusted_death_rate\": 35.3}, {\"age_adjusted_death_rate\": 33.4}, {\"age_adjusted_death_rate\": 49.9}, {\"age_adjusted_death_rate\": 5.7}, {\"age_adjusted_death_rate\": 44.2}, {\"age_adjusted_death_rate\": 48.9}, {\"age_adjusted_death_rate\": 51.5}, {\"age_adjusted_death_rate\": 164.9}, {\"age_adjusted_death_rate\": 710.4}, {\"age_adjusted_death_rate\": 38.0}, {\"age_adjusted_death_rate\": 45.6}, {\"age_adjusted_death_rate\": 218.9}, {\"age_adjusted_death_rate\": 43.2}, {\"age_adjusted_death_rate\": 17.8}, {\"age_adjusted_death_rate\": 47.4}, {\"age_adjusted_death_rate\": 45.8}, {\"age_adjusted_death_rate\": 26.1}, {\"age_adjusted_death_rate\": 23.6}, {\"age_adjusted_death_rate\": 39.4}, {\"age_adjusted_death_rate\": 51.3}, {\"age_adjusted_death_rate\": 739.7}, {\"age_adjusted_death_rate\": 56.4}, {\"age_adjusted_death_rate\": 14.2}, {\"age_adjusted_death_rate\": 341.2}, {\"age_adjusted_death_rate\": 20.2}, {\"age_adjusted_death_rate\": 166.2}, {\"age_adjusted_death_rate\": 152.3}, {\"age_adjusted_death_rate\": 197.4}, {\"age_adjusted_death_rate\": 12.0}, {\"age_adjusted_death_rate\": 11.9}, {\"age_adjusted_death_rate\": 41.0}, {\"age_adjusted_death_rate\": 185.7}, {\"age_adjusted_death_rate\": 187.2}, {\"age_adjusted_death_rate\": 155.7}, {\"age_adjusted_death_rate\": 34.2}, {\"age_adjusted_death_rate\": 45.2}, {\"age_adjusted_death_rate\": 12.8}, {\"age_adjusted_death_rate\": 731.4}, {\"age_adjusted_death_rate\": 13.6}, {\"age_adjusted_death_rate\": 9.3}, {\"age_adjusted_death_rate\": 31.5}, {\"age_adjusted_death_rate\": 23.4}, {\"age_adjusted_death_rate\": 14.5}, {\"age_adjusted_death_rate\": 19.6}, {\"age_adjusted_death_rate\": 45.5}, {\"age_adjusted_death_rate\": 24.8}, {\"age_adjusted_death_rate\": 780.2}, {\"age_adjusted_death_rate\": 23.0}, {\"age_adjusted_death_rate\": 211.7}, {\"age_adjusted_death_rate\": 162.4}, {\"age_adjusted_death_rate\": 23.8}, {\"age_adjusted_death_rate\": 129.8}, {\"age_adjusted_death_rate\": 874.2}, {\"age_adjusted_death_rate\": 916.3}, {\"age_adjusted_death_rate\": 177.5}, {\"age_adjusted_death_rate\": 38.4}, {\"age_adjusted_death_rate\": 72.1}, {\"age_adjusted_death_rate\": 178.4}, {\"age_adjusted_death_rate\": 23.0}, {\"age_adjusted_death_rate\": 12.9}, {\"age_adjusted_death_rate\": 21.9}, {\"age_adjusted_death_rate\": 682.9}, {\"age_adjusted_death_rate\": 46.0}, {\"age_adjusted_death_rate\": 45.5}, {\"age_adjusted_death_rate\": 25.8}, {\"age_adjusted_death_rate\": 177.6}, {\"age_adjusted_death_rate\": 25.8}, {\"age_adjusted_death_rate\": 66.3}, {\"age_adjusted_death_rate\": 35.2}, {\"age_adjusted_death_rate\": 50.4}, {\"age_adjusted_death_rate\": 12.9}, {\"age_adjusted_death_rate\": 26.5}, {\"age_adjusted_death_rate\": 787.6}, {\"age_adjusted_death_rate\": 261.1}, {\"age_adjusted_death_rate\": 59.0}, {\"age_adjusted_death_rate\": 25.1}, {\"age_adjusted_death_rate\": 18.8}, {\"age_adjusted_death_rate\": 52.9}, {\"age_adjusted_death_rate\": 8.3}, {\"age_adjusted_death_rate\": 58.3}, {\"age_adjusted_death_rate\": 588.7}, {\"age_adjusted_death_rate\": 193.4}, {\"age_adjusted_death_rate\": 36.7}, {\"age_adjusted_death_rate\": 223.3}, {\"age_adjusted_death_rate\": 754.7}, {\"age_adjusted_death_rate\": 9.2}, {\"age_adjusted_death_rate\": 177.0}, {\"age_adjusted_death_rate\": 25.2}, {\"age_adjusted_death_rate\": 7.7}, {\"age_adjusted_death_rate\": 177.2}, {\"age_adjusted_death_rate\": 46.3}, {\"age_adjusted_death_rate\": 55.6}, {\"age_adjusted_death_rate\": 202.2}, {\"age_adjusted_death_rate\": 29.4}, {\"age_adjusted_death_rate\": 24.2}, {\"age_adjusted_death_rate\": 724.2}, {\"age_adjusted_death_rate\": 29.9}, {\"age_adjusted_death_rate\": 18.8}, {\"age_adjusted_death_rate\": 14.1}, {\"age_adjusted_death_rate\": 183.0}, {\"age_adjusted_death_rate\": 28.1}, {\"age_adjusted_death_rate\": 55.6}, {\"age_adjusted_death_rate\": 8.0}, {\"age_adjusted_death_rate\": 30.5}, {\"age_adjusted_death_rate\": 185.2}, {\"age_adjusted_death_rate\": 78.6}, {\"age_adjusted_death_rate\": 50.9}, {\"age_adjusted_death_rate\": 14.7}, {\"age_adjusted_death_rate\": 153.2}, {\"age_adjusted_death_rate\": 9.6}, {\"age_adjusted_death_rate\": 39.6}, {\"age_adjusted_death_rate\": 57.9}, {\"age_adjusted_death_rate\": 13.6}, {\"age_adjusted_death_rate\": 152.8}, {\"age_adjusted_death_rate\": 33.4}, {\"age_adjusted_death_rate\": 180.9}, {\"age_adjusted_death_rate\": 170.7}, {\"age_adjusted_death_rate\": 19.7}, {\"age_adjusted_death_rate\": 14.9}, {\"age_adjusted_death_rate\": 13.5}, {\"age_adjusted_death_rate\": 41.6}, {\"age_adjusted_death_rate\": 18.4}, {\"age_adjusted_death_rate\": 16.1}, {\"age_adjusted_death_rate\": 19.3}, {\"age_adjusted_death_rate\": 24.9}, {\"age_adjusted_death_rate\": 151.4}, {\"age_adjusted_death_rate\": 70.9}, {\"age_adjusted_death_rate\": 25.5}, {\"age_adjusted_death_rate\": 38.5}, {\"age_adjusted_death_rate\": 31.4}, {\"age_adjusted_death_rate\": 11.3}, {\"age_adjusted_death_rate\": 18.5}, {\"age_adjusted_death_rate\": 54.5}, {\"age_adjusted_death_rate\": 23.9}, {\"age_adjusted_death_rate\": 19.0}, {\"age_adjusted_death_rate\": 25.9}, {\"age_adjusted_death_rate\": 18.2}, {\"age_adjusted_death_rate\": 71.6}, {\"age_adjusted_death_rate\": 24.9}, {\"age_adjusted_death_rate\": 26.5}, {\"age_adjusted_death_rate\": 40.8}, {\"age_adjusted_death_rate\": 39.2}, {\"age_adjusted_death_rate\": 23.5}, {\"age_adjusted_death_rate\": 47.7}, {\"age_adjusted_death_rate\": 45.0}, {\"age_adjusted_death_rate\": 21.2}, {\"age_adjusted_death_rate\": 21.2}, {\"age_adjusted_death_rate\": 26.2}, {\"age_adjusted_death_rate\": 42.0}, {\"age_adjusted_death_rate\": 55.2}, {\"age_adjusted_death_rate\": 25.2}, {\"age_adjusted_death_rate\": 61.8}, {\"age_adjusted_death_rate\": 16.6}, {\"age_adjusted_death_rate\": 62.0}, {\"age_adjusted_death_rate\": 10.8}, {\"age_adjusted_death_rate\": 46.5}, {\"age_adjusted_death_rate\": 159.2}, {\"age_adjusted_death_rate\": 202.1}, {\"age_adjusted_death_rate\": 39.3}, {\"age_adjusted_death_rate\": 237.6}, {\"age_adjusted_death_rate\": 21.5}, {\"age_adjusted_death_rate\": 25.2}, {\"age_adjusted_death_rate\": 20.5}, {\"age_adjusted_death_rate\": 34.7}, {\"age_adjusted_death_rate\": 20.4}, {\"age_adjusted_death_rate\": 50.2}, {\"age_adjusted_death_rate\": 751.3}, {\"age_adjusted_death_rate\": 11.2}, {\"age_adjusted_death_rate\": 195.5}, {\"age_adjusted_death_rate\": 757.6}, {\"age_adjusted_death_rate\": 15.8}, {\"age_adjusted_death_rate\": 198.3}, {\"age_adjusted_death_rate\": 62.1}, {\"age_adjusted_death_rate\": 18.7}, {\"age_adjusted_death_rate\": 205.4}, {\"age_adjusted_death_rate\": 40.8}, {\"age_adjusted_death_rate\": 8.0}, {\"age_adjusted_death_rate\": 64.3}, {\"age_adjusted_death_rate\": 30.0}, {\"age_adjusted_death_rate\": 311.3}, {\"age_adjusted_death_rate\": 11.6}, {\"age_adjusted_death_rate\": 39.3}, {\"age_adjusted_death_rate\": 36.1}, {\"age_adjusted_death_rate\": 889.6}, {\"age_adjusted_death_rate\": 48.8}, {\"age_adjusted_death_rate\": 26.1}, {\"age_adjusted_death_rate\": 23.5}, {\"age_adjusted_death_rate\": 33.6}, {\"age_adjusted_death_rate\": 770.7}, {\"age_adjusted_death_rate\": 54.0}, {\"age_adjusted_death_rate\": 17.4}, {\"age_adjusted_death_rate\": 699.1}, {\"age_adjusted_death_rate\": 18.0}, {\"age_adjusted_death_rate\": 26.9}, {\"age_adjusted_death_rate\": 60.1}, {\"age_adjusted_death_rate\": 47.5}, {\"age_adjusted_death_rate\": 169.8}, {\"age_adjusted_death_rate\": 16.6}, {\"age_adjusted_death_rate\": 745.6}, {\"age_adjusted_death_rate\": 34.6}, {\"age_adjusted_death_rate\": 11.3}, {\"age_adjusted_death_rate\": 761.9}, {\"age_adjusted_death_rate\": 45.4}, {\"age_adjusted_death_rate\": 195.4}, {\"age_adjusted_death_rate\": 7.7}, {\"age_adjusted_death_rate\": 38.0}, {\"age_adjusted_death_rate\": 39.0}, {\"age_adjusted_death_rate\": 156.1}, {\"age_adjusted_death_rate\": 128.4}, {\"age_adjusted_death_rate\": 39.1}, {\"age_adjusted_death_rate\": 61.4}, {\"age_adjusted_death_rate\": 27.4}, {\"age_adjusted_death_rate\": 15.4}, {\"age_adjusted_death_rate\": 191.3}, {\"age_adjusted_death_rate\": 13.6}, {\"age_adjusted_death_rate\": 18.7}, {\"age_adjusted_death_rate\": 38.2}, {\"age_adjusted_death_rate\": 138.1}, {\"age_adjusted_death_rate\": 325.5}, {\"age_adjusted_death_rate\": 187.9}, {\"age_adjusted_death_rate\": 10.0}, {\"age_adjusted_death_rate\": 15.8}, {\"age_adjusted_death_rate\": 12.6}, {\"age_adjusted_death_rate\": 38.3}, {\"age_adjusted_death_rate\": 50.1}, {\"age_adjusted_death_rate\": 774.2}, {\"age_adjusted_death_rate\": 22.7}, {\"age_adjusted_death_rate\": 22.1}, {\"age_adjusted_death_rate\": 216.3}, {\"age_adjusted_death_rate\": 19.4}, {\"age_adjusted_death_rate\": 10.0}, {\"age_adjusted_death_rate\": 22.8}, {\"age_adjusted_death_rate\": 47.8}, {\"age_adjusted_death_rate\": 23.9}, {\"age_adjusted_death_rate\": 18.0}, {\"age_adjusted_death_rate\": 33.3}, {\"age_adjusted_death_rate\": 22.2}, {\"age_adjusted_death_rate\": 46.7}, {\"age_adjusted_death_rate\": 14.1}, {\"age_adjusted_death_rate\": 18.6}, {\"age_adjusted_death_rate\": 206.1}, {\"age_adjusted_death_rate\": 11.8}, {\"age_adjusted_death_rate\": 177.8}, {\"age_adjusted_death_rate\": 33.5}, {\"age_adjusted_death_rate\": 207.3}, {\"age_adjusted_death_rate\": 19.6}, {\"age_adjusted_death_rate\": 822.3}, {\"age_adjusted_death_rate\": 155.3}, {\"age_adjusted_death_rate\": 183.1}, {\"age_adjusted_death_rate\": 37.7}, {\"age_adjusted_death_rate\": 13.5}, {\"age_adjusted_death_rate\": 184.1}, {\"age_adjusted_death_rate\": 6.1}, {\"age_adjusted_death_rate\": 182.6}, {\"age_adjusted_death_rate\": 24.2}, {\"age_adjusted_death_rate\": 187.4}, {\"age_adjusted_death_rate\": 43.0}, {\"age_adjusted_death_rate\": 11.7}, {\"age_adjusted_death_rate\": 21.2}, {\"age_adjusted_death_rate\": 163.8}, {\"age_adjusted_death_rate\": 703.8}, {\"age_adjusted_death_rate\": 731.2}, {\"age_adjusted_death_rate\": 211.7}, {\"age_adjusted_death_rate\": 193.7}, {\"age_adjusted_death_rate\": 825.1}, {\"age_adjusted_death_rate\": 13.6}, {\"age_adjusted_death_rate\": 12.7}, {\"age_adjusted_death_rate\": 167.3}, {\"age_adjusted_death_rate\": 145.8}, {\"age_adjusted_death_rate\": 146.6}, {\"age_adjusted_death_rate\": 28.4}, {\"age_adjusted_death_rate\": 42.0}, {\"age_adjusted_death_rate\": 170.0}, {\"age_adjusted_death_rate\": 11.2}, {\"age_adjusted_death_rate\": 31.3}, {\"age_adjusted_death_rate\": 164.7}, {\"age_adjusted_death_rate\": 171.4}, {\"age_adjusted_death_rate\": 44.0}, {\"age_adjusted_death_rate\": 11.5}, {\"age_adjusted_death_rate\": 20.2}, {\"age_adjusted_death_rate\": 213.6}, {\"age_adjusted_death_rate\": 954.2}, {\"age_adjusted_death_rate\": 53.8}, {\"age_adjusted_death_rate\": 18.5}, {\"age_adjusted_death_rate\": 44.8}, {\"age_adjusted_death_rate\": 24.6}, {\"age_adjusted_death_rate\": 47.0}, {\"age_adjusted_death_rate\": 13.9}, {\"age_adjusted_death_rate\": 22.5}, {\"age_adjusted_death_rate\": 194.8}, {\"age_adjusted_death_rate\": 157.4}, {\"age_adjusted_death_rate\": 58.0}, {\"age_adjusted_death_rate\": 27.8}, {\"age_adjusted_death_rate\": 45.2}, {\"age_adjusted_death_rate\": 12.2}, {\"age_adjusted_death_rate\": 37.9}, {\"age_adjusted_death_rate\": 31.6}, {\"age_adjusted_death_rate\": 33.2}, {\"age_adjusted_death_rate\": 17.1}, {\"age_adjusted_death_rate\": 891.0}, {\"age_adjusted_death_rate\": 696.8}, {\"age_adjusted_death_rate\": 12.3}, {\"age_adjusted_death_rate\": 40.1}, {\"age_adjusted_death_rate\": 19.8}, {\"age_adjusted_death_rate\": 30.5}, {\"age_adjusted_death_rate\": 21.1}, {\"age_adjusted_death_rate\": 18.8}, {\"age_adjusted_death_rate\": 236.0}, {\"age_adjusted_death_rate\": 15.9}, {\"age_adjusted_death_rate\": 16.2}, {\"age_adjusted_death_rate\": 190.6}, {\"age_adjusted_death_rate\": 164.1}, {\"age_adjusted_death_rate\": 49.6}, {\"age_adjusted_death_rate\": 790.0}, {\"age_adjusted_death_rate\": 20.7}, {\"age_adjusted_death_rate\": 265.8}, {\"age_adjusted_death_rate\": 46.8}, {\"age_adjusted_death_rate\": 48.5}, {\"age_adjusted_death_rate\": 879.1}, {\"age_adjusted_death_rate\": 750.8}, {\"age_adjusted_death_rate\": 5.9}, {\"age_adjusted_death_rate\": 19.6}, {\"age_adjusted_death_rate\": 155.0}, {\"age_adjusted_death_rate\": 42.4}, {\"age_adjusted_death_rate\": 51.1}, {\"age_adjusted_death_rate\": 10.4}, {\"age_adjusted_death_rate\": 24.4}, {\"age_adjusted_death_rate\": 23.5}, {\"age_adjusted_death_rate\": 45.8}, {\"age_adjusted_death_rate\": 170.2}, {\"age_adjusted_death_rate\": 15.3}, {\"age_adjusted_death_rate\": 43.4}, {\"age_adjusted_death_rate\": 56.3}, {\"age_adjusted_death_rate\": 38.5}, {\"age_adjusted_death_rate\": 18.9}, {\"age_adjusted_death_rate\": 772.4}, {\"age_adjusted_death_rate\": 25.0}, {\"age_adjusted_death_rate\": 19.1}, {\"age_adjusted_death_rate\": 164.5}, {\"age_adjusted_death_rate\": 43.9}, {\"age_adjusted_death_rate\": 143.1}, {\"age_adjusted_death_rate\": 30.9}, {\"age_adjusted_death_rate\": 14.6}, {\"age_adjusted_death_rate\": 194.0}, {\"age_adjusted_death_rate\": 812.0}, {\"age_adjusted_death_rate\": 913.4}, {\"age_adjusted_death_rate\": 209.0}, {\"age_adjusted_death_rate\": 39.2}, {\"age_adjusted_death_rate\": 29.7}, {\"age_adjusted_death_rate\": 14.0}, {\"age_adjusted_death_rate\": 9.9}, {\"age_adjusted_death_rate\": 30.6}, {\"age_adjusted_death_rate\": 174.5}, {\"age_adjusted_death_rate\": 166.6}, {\"age_adjusted_death_rate\": 13.7}, {\"age_adjusted_death_rate\": 22.1}, {\"age_adjusted_death_rate\": 55.2}, {\"age_adjusted_death_rate\": 59.3}, {\"age_adjusted_death_rate\": 17.9}, {\"age_adjusted_death_rate\": 45.6}, {\"age_adjusted_death_rate\": 18.4}, {\"age_adjusted_death_rate\": 13.5}, {\"age_adjusted_death_rate\": 19.0}, {\"age_adjusted_death_rate\": 219.8}, {\"age_adjusted_death_rate\": 176.3}, {\"age_adjusted_death_rate\": 12.9}, {\"age_adjusted_death_rate\": 48.0}, {\"age_adjusted_death_rate\": 798.7}, {\"age_adjusted_death_rate\": 24.8}, {\"age_adjusted_death_rate\": 15.8}, {\"age_adjusted_death_rate\": 986.4}, {\"age_adjusted_death_rate\": 55.5}, {\"age_adjusted_death_rate\": 27.7}, {\"age_adjusted_death_rate\": 48.9}, {\"age_adjusted_death_rate\": 727.8}, {\"age_adjusted_death_rate\": 10.5}, {\"age_adjusted_death_rate\": 298.8}, {\"age_adjusted_death_rate\": 15.5}, {\"age_adjusted_death_rate\": 35.8}, {\"age_adjusted_death_rate\": 44.4}, {\"age_adjusted_death_rate\": 20.3}, {\"age_adjusted_death_rate\": 40.2}, {\"age_adjusted_death_rate\": 156.0}, {\"age_adjusted_death_rate\": 22.5}, {\"age_adjusted_death_rate\": 10.9}, {\"age_adjusted_death_rate\": 150.9}, {\"age_adjusted_death_rate\": 43.7}, {\"age_adjusted_death_rate\": 190.7}, {\"age_adjusted_death_rate\": 10.3}, {\"age_adjusted_death_rate\": 18.2}, {\"age_adjusted_death_rate\": 723.8}, {\"age_adjusted_death_rate\": 21.2}, {\"age_adjusted_death_rate\": 12.5}, {\"age_adjusted_death_rate\": 47.6}, {\"age_adjusted_death_rate\": 149.5}, {\"age_adjusted_death_rate\": 43.8}, {\"age_adjusted_death_rate\": 49.5}, {\"age_adjusted_death_rate\": 19.7}, {\"age_adjusted_death_rate\": 9.0}, {\"age_adjusted_death_rate\": 155.1}, {\"age_adjusted_death_rate\": 13.0}, {\"age_adjusted_death_rate\": 16.6}, {\"age_adjusted_death_rate\": 42.8}, {\"age_adjusted_death_rate\": 27.4}, {\"age_adjusted_death_rate\": 198.1}, {\"age_adjusted_death_rate\": 19.2}, {\"age_adjusted_death_rate\": 194.2}, {\"age_adjusted_death_rate\": 18.5}, {\"age_adjusted_death_rate\": 16.8}, {\"age_adjusted_death_rate\": 204.1}, {\"age_adjusted_death_rate\": 19.3}, {\"age_adjusted_death_rate\": 251.2}, {\"age_adjusted_death_rate\": 194.3}, {\"age_adjusted_death_rate\": 221.6}, {\"age_adjusted_death_rate\": 28.0}, {\"age_adjusted_death_rate\": 152.7}, {\"age_adjusted_death_rate\": 21.8}, {\"age_adjusted_death_rate\": 8.2}, {\"age_adjusted_death_rate\": 6.4}, {\"age_adjusted_death_rate\": 27.1}, {\"age_adjusted_death_rate\": 37.6}, {\"age_adjusted_death_rate\": 20.4}, {\"age_adjusted_death_rate\": 14.4}, {\"age_adjusted_death_rate\": 54.8}, {\"age_adjusted_death_rate\": 14.8}, {\"age_adjusted_death_rate\": 31.7}, {\"age_adjusted_death_rate\": 10.2}, {\"age_adjusted_death_rate\": 195.1}, {\"age_adjusted_death_rate\": 15.1}, {\"age_adjusted_death_rate\": 24.9}, {\"age_adjusted_death_rate\": 154.2}, {\"age_adjusted_death_rate\": 15.7}, {\"age_adjusted_death_rate\": 20.8}, {\"age_adjusted_death_rate\": 32.5}, {\"age_adjusted_death_rate\": 22.3}, {\"age_adjusted_death_rate\": 44.5}, {\"age_adjusted_death_rate\": 21.6}, {\"age_adjusted_death_rate\": 16.6}, {\"age_adjusted_death_rate\": 16.1}, {\"age_adjusted_death_rate\": 7.8}, {\"age_adjusted_death_rate\": 16.8}, {\"age_adjusted_death_rate\": 14.8}, {\"age_adjusted_death_rate\": 51.6}, {\"age_adjusted_death_rate\": 138.3}, {\"age_adjusted_death_rate\": 18.8}, {\"age_adjusted_death_rate\": 32.8}, {\"age_adjusted_death_rate\": 17.6}, {\"age_adjusted_death_rate\": 16.1}, {\"age_adjusted_death_rate\": 10.5}, {\"age_adjusted_death_rate\": 833.9}, {\"age_adjusted_death_rate\": 66.5}, {\"age_adjusted_death_rate\": 715.5}, {\"age_adjusted_death_rate\": 157.7}, {\"age_adjusted_death_rate\": 13.3}, {\"age_adjusted_death_rate\": 128.2}, {\"age_adjusted_death_rate\": 13.4}, {\"age_adjusted_death_rate\": 20.7}, {\"age_adjusted_death_rate\": 165.2}, {\"age_adjusted_death_rate\": 23.5}, {\"age_adjusted_death_rate\": 9.4}, {\"age_adjusted_death_rate\": 39.6}, {\"age_adjusted_death_rate\": 173.7}, {\"age_adjusted_death_rate\": 25.0}, {\"age_adjusted_death_rate\": 26.2}, {\"age_adjusted_death_rate\": 19.8}, {\"age_adjusted_death_rate\": 814.1}, {\"age_adjusted_death_rate\": 171.2}, {\"age_adjusted_death_rate\": 38.3}, {\"age_adjusted_death_rate\": 177.3}, {\"age_adjusted_death_rate\": 46.9}, {\"age_adjusted_death_rate\": 14.8}, {\"age_adjusted_death_rate\": 218.5}, {\"age_adjusted_death_rate\": 20.9}, {\"age_adjusted_death_rate\": 203.0}, {\"age_adjusted_death_rate\": 50.4}, {\"age_adjusted_death_rate\": 883.7}, {\"age_adjusted_death_rate\": 17.3}, {\"age_adjusted_death_rate\": 42.9}, {\"age_adjusted_death_rate\": 29.5}, {\"age_adjusted_death_rate\": 17.5}, {\"age_adjusted_death_rate\": 48.3}, {\"age_adjusted_death_rate\": 43.4}, {\"age_adjusted_death_rate\": 709.6}, {\"age_adjusted_death_rate\": 20.5}, {\"age_adjusted_death_rate\": 10.8}, {\"age_adjusted_death_rate\": 187.7}, {\"age_adjusted_death_rate\": 50.6}, {\"age_adjusted_death_rate\": 165.0}, {\"age_adjusted_death_rate\": 40.4}, {\"age_adjusted_death_rate\": 15.8}, {\"age_adjusted_death_rate\": 38.0}, {\"age_adjusted_death_rate\": 27.6}, {\"age_adjusted_death_rate\": 13.0}, {\"age_adjusted_death_rate\": 20.4}, {\"age_adjusted_death_rate\": 792.1}, {\"age_adjusted_death_rate\": 198.5}, {\"age_adjusted_death_rate\": 158.0}, {\"age_adjusted_death_rate\": 17.8}, {\"age_adjusted_death_rate\": 33.0}, {\"age_adjusted_death_rate\": 760.0}, {\"age_adjusted_death_rate\": 13.2}, {\"age_adjusted_death_rate\": 22.3}, {\"age_adjusted_death_rate\": 38.2}, {\"age_adjusted_death_rate\": 36.7}, {\"age_adjusted_death_rate\": 47.2}, {\"age_adjusted_death_rate\": 54.1}, {\"age_adjusted_death_rate\": 8.9}, {\"age_adjusted_death_rate\": 14.2}, {\"age_adjusted_death_rate\": 167.2}, {\"age_adjusted_death_rate\": 820.1}, {\"age_adjusted_death_rate\": 33.2}, {\"age_adjusted_death_rate\": 45.5}, {\"age_adjusted_death_rate\": 11.2}, {\"age_adjusted_death_rate\": 24.3}, {\"age_adjusted_death_rate\": 155.2}, {\"age_adjusted_death_rate\": 220.5}, {\"age_adjusted_death_rate\": 13.8}, {\"age_adjusted_death_rate\": 48.2}, {\"age_adjusted_death_rate\": 20.0}, {\"age_adjusted_death_rate\": 21.2}, {\"age_adjusted_death_rate\": 13.3}, {\"age_adjusted_death_rate\": 714.7}, {\"age_adjusted_death_rate\": 58.4}, {\"age_adjusted_death_rate\": 42.1}, {\"age_adjusted_death_rate\": 31.6}, {\"age_adjusted_death_rate\": 67.6}, {\"age_adjusted_death_rate\": 182.3}, {\"age_adjusted_death_rate\": 184.4}, {\"age_adjusted_death_rate\": 172.8}, {\"age_adjusted_death_rate\": 35.4}, {\"age_adjusted_death_rate\": 5.9}, {\"age_adjusted_death_rate\": 174.2}, {\"age_adjusted_death_rate\": 33.7}, {\"age_adjusted_death_rate\": 810.4}, {\"age_adjusted_death_rate\": 302.3}, {\"age_adjusted_death_rate\": 182.4}, {\"age_adjusted_death_rate\": 771.5}, {\"age_adjusted_death_rate\": 167.2}, {\"age_adjusted_death_rate\": 15.0}, {\"age_adjusted_death_rate\": 23.7}, {\"age_adjusted_death_rate\": 208.6}, {\"age_adjusted_death_rate\": 784.0}, {\"age_adjusted_death_rate\": 25.7}, {\"age_adjusted_death_rate\": 25.5}, {\"age_adjusted_death_rate\": 17.0}, {\"age_adjusted_death_rate\": 160.1}, {\"age_adjusted_death_rate\": 219.1}, {\"age_adjusted_death_rate\": 24.0}, {\"age_adjusted_death_rate\": 20.8}, {\"age_adjusted_death_rate\": 130.3}, {\"age_adjusted_death_rate\": 26.7}, {\"age_adjusted_death_rate\": 9.4}, {\"age_adjusted_death_rate\": 208.2}, {\"age_adjusted_death_rate\": 69.6}, {\"age_adjusted_death_rate\": 41.2}, {\"age_adjusted_death_rate\": 156.7}, {\"age_adjusted_death_rate\": 20.8}, {\"age_adjusted_death_rate\": 207.3}, {\"age_adjusted_death_rate\": 13.0}, {\"age_adjusted_death_rate\": 707.0}, {\"age_adjusted_death_rate\": 38.9}, {\"age_adjusted_death_rate\": 962.0}, {\"age_adjusted_death_rate\": 45.3}, {\"age_adjusted_death_rate\": 179.9}, {\"age_adjusted_death_rate\": 165.1}, {\"age_adjusted_death_rate\": 150.8}, {\"age_adjusted_death_rate\": 14.1}, {\"age_adjusted_death_rate\": 54.7}, {\"age_adjusted_death_rate\": 46.0}, {\"age_adjusted_death_rate\": 156.6}, {\"age_adjusted_death_rate\": 890.8}, {\"age_adjusted_death_rate\": 1012.3}, {\"age_adjusted_death_rate\": 45.0}, {\"age_adjusted_death_rate\": 37.7}, {\"age_adjusted_death_rate\": 39.5}, {\"age_adjusted_death_rate\": 178.8}, {\"age_adjusted_death_rate\": 23.5}, {\"age_adjusted_death_rate\": 27.4}, {\"age_adjusted_death_rate\": 11.9}, {\"age_adjusted_death_rate\": 210.5}, {\"age_adjusted_death_rate\": 201.6}, {\"age_adjusted_death_rate\": 728.0}, {\"age_adjusted_death_rate\": 849.3}, {\"age_adjusted_death_rate\": 231.8}, {\"age_adjusted_death_rate\": 757.8}, {\"age_adjusted_death_rate\": 915.0}, {\"age_adjusted_death_rate\": 34.6}, {\"age_adjusted_death_rate\": 721.1}, {\"age_adjusted_death_rate\": 20.2}, {\"age_adjusted_death_rate\": 188.5}, {\"age_adjusted_death_rate\": 13.3}, {\"age_adjusted_death_rate\": 122.1}, {\"age_adjusted_death_rate\": 19.8}, {\"age_adjusted_death_rate\": 5.6}, {\"age_adjusted_death_rate\": 38.7}, {\"age_adjusted_death_rate\": 24.0}, {\"age_adjusted_death_rate\": 162.5}, {\"age_adjusted_death_rate\": 38.7}, {\"age_adjusted_death_rate\": 11.4}, {\"age_adjusted_death_rate\": 52.2}, {\"age_adjusted_death_rate\": 25.9}, {\"age_adjusted_death_rate\": 40.6}, {\"age_adjusted_death_rate\": 140.7}, {\"age_adjusted_death_rate\": 671.9}, {\"age_adjusted_death_rate\": 22.7}, {\"age_adjusted_death_rate\": 14.5}, {\"age_adjusted_death_rate\": 49.1}, {\"age_adjusted_death_rate\": 60.8}, {\"age_adjusted_death_rate\": 27.2}, {\"age_adjusted_death_rate\": 170.7}, {\"age_adjusted_death_rate\": 179.7}, {\"age_adjusted_death_rate\": 186.8}, {\"age_adjusted_death_rate\": 179.5}, {\"age_adjusted_death_rate\": 13.1}, {\"age_adjusted_death_rate\": 12.5}, {\"age_adjusted_death_rate\": 28.2}, {\"age_adjusted_death_rate\": 9.4}, {\"age_adjusted_death_rate\": 13.7}, {\"age_adjusted_death_rate\": 16.8}, {\"age_adjusted_death_rate\": 24.6}, {\"age_adjusted_death_rate\": 54.8}, {\"age_adjusted_death_rate\": 782.3}, {\"age_adjusted_death_rate\": 130.3}, {\"age_adjusted_death_rate\": 154.4}, {\"age_adjusted_death_rate\": 19.7}, {\"age_adjusted_death_rate\": 276.4}, {\"age_adjusted_death_rate\": 184.5}, {\"age_adjusted_death_rate\": 183.1}, {\"age_adjusted_death_rate\": 35.8}, {\"age_adjusted_death_rate\": 225.9}, {\"age_adjusted_death_rate\": 24.0}, {\"age_adjusted_death_rate\": 17.9}, {\"age_adjusted_death_rate\": 23.5}, {\"age_adjusted_death_rate\": 227.8}, {\"age_adjusted_death_rate\": 145.9}, {\"age_adjusted_death_rate\": 705.9}, {\"age_adjusted_death_rate\": 40.7}, {\"age_adjusted_death_rate\": 35.5}, {\"age_adjusted_death_rate\": 26.1}, {\"age_adjusted_death_rate\": 14.7}, {\"age_adjusted_death_rate\": 11.3}, {\"age_adjusted_death_rate\": 163.1}, {\"age_adjusted_death_rate\": 8.7}, {\"age_adjusted_death_rate\": 203.9}, {\"age_adjusted_death_rate\": 43.6}, {\"age_adjusted_death_rate\": 182.3}, {\"age_adjusted_death_rate\": 16.5}, {\"age_adjusted_death_rate\": 722.5}, {\"age_adjusted_death_rate\": 17.0}, {\"age_adjusted_death_rate\": 15.5}, {\"age_adjusted_death_rate\": 982.8}, {\"age_adjusted_death_rate\": 11.9}, {\"age_adjusted_death_rate\": 21.7}, {\"age_adjusted_death_rate\": 52.2}, {\"age_adjusted_death_rate\": 40.1}, {\"age_adjusted_death_rate\": 16.8}, {\"age_adjusted_death_rate\": 11.9}, {\"age_adjusted_death_rate\": 201.7}, {\"age_adjusted_death_rate\": 23.9}, {\"age_adjusted_death_rate\": 37.6}, {\"age_adjusted_death_rate\": 30.7}, {\"age_adjusted_death_rate\": 19.5}, {\"age_adjusted_death_rate\": 20.9}, {\"age_adjusted_death_rate\": 59.1}, {\"age_adjusted_death_rate\": 265.8}, {\"age_adjusted_death_rate\": 10.5}, {\"age_adjusted_death_rate\": 843.3}, {\"age_adjusted_death_rate\": 10.2}, {\"age_adjusted_death_rate\": 53.3}, {\"age_adjusted_death_rate\": 14.6}, {\"age_adjusted_death_rate\": 24.6}, {\"age_adjusted_death_rate\": 38.5}, {\"age_adjusted_death_rate\": 19.4}, {\"age_adjusted_death_rate\": 185.1}, {\"age_adjusted_death_rate\": 795.9}, {\"age_adjusted_death_rate\": 39.5}, {\"age_adjusted_death_rate\": 19.0}, {\"age_adjusted_death_rate\": 21.7}, {\"age_adjusted_death_rate\": 30.2}, {\"age_adjusted_death_rate\": 775.3}, {\"age_adjusted_death_rate\": 43.7}, {\"age_adjusted_death_rate\": 152.6}, {\"age_adjusted_death_rate\": 40.8}, {\"age_adjusted_death_rate\": 26.2}, {\"age_adjusted_death_rate\": 13.1}, {\"age_adjusted_death_rate\": 31.5}, {\"age_adjusted_death_rate\": 18.7}, {\"age_adjusted_death_rate\": 41.8}, {\"age_adjusted_death_rate\": 181.6}, {\"age_adjusted_death_rate\": 752.0}, {\"age_adjusted_death_rate\": 12.9}, {\"age_adjusted_death_rate\": 41.6}, {\"age_adjusted_death_rate\": 44.7}, {\"age_adjusted_death_rate\": 173.1}, {\"age_adjusted_death_rate\": 175.8}, {\"age_adjusted_death_rate\": 19.2}, {\"age_adjusted_death_rate\": 30.6}, {\"age_adjusted_death_rate\": 28.9}, {\"age_adjusted_death_rate\": 33.0}, {\"age_adjusted_death_rate\": 39.3}, {\"age_adjusted_death_rate\": 18.6}, {\"age_adjusted_death_rate\": 156.1}, {\"age_adjusted_death_rate\": 41.8}, {\"age_adjusted_death_rate\": 50.9}, {\"age_adjusted_death_rate\": 152.9}, {\"age_adjusted_death_rate\": 13.2}, {\"age_adjusted_death_rate\": 39.3}, {\"age_adjusted_death_rate\": 29.6}, {\"age_adjusted_death_rate\": 10.7}, {\"age_adjusted_death_rate\": 42.1}, {\"age_adjusted_death_rate\": 12.0}, {\"age_adjusted_death_rate\": 182.7}, {\"age_adjusted_death_rate\": 54.7}, {\"age_adjusted_death_rate\": 21.7}, {\"age_adjusted_death_rate\": 15.7}, {\"age_adjusted_death_rate\": 26.4}, {\"age_adjusted_death_rate\": 56.4}, {\"age_adjusted_death_rate\": 11.4}, {\"age_adjusted_death_rate\": 158.4}, {\"age_adjusted_death_rate\": 43.2}, {\"age_adjusted_death_rate\": 43.2}, {\"age_adjusted_death_rate\": 17.5}, {\"age_adjusted_death_rate\": 20.3}, {\"age_adjusted_death_rate\": 200.6}, {\"age_adjusted_death_rate\": 260.9}, {\"age_adjusted_death_rate\": 125.7}, {\"age_adjusted_death_rate\": 18.5}, {\"age_adjusted_death_rate\": 21.7}, {\"age_adjusted_death_rate\": 18.7}, {\"age_adjusted_death_rate\": 38.6}, {\"age_adjusted_death_rate\": 53.9}, {\"age_adjusted_death_rate\": 25.5}, {\"age_adjusted_death_rate\": 13.9}, {\"age_adjusted_death_rate\": 153.4}, {\"age_adjusted_death_rate\": 21.7}, {\"age_adjusted_death_rate\": 58.7}, {\"age_adjusted_death_rate\": 21.7}, {\"age_adjusted_death_rate\": 663.5}, {\"age_adjusted_death_rate\": 49.6}, {\"age_adjusted_death_rate\": 47.2}, {\"age_adjusted_death_rate\": 28.3}, {\"age_adjusted_death_rate\": 12.5}, {\"age_adjusted_death_rate\": 13.4}, {\"age_adjusted_death_rate\": 9.0}, {\"age_adjusted_death_rate\": 28.1}, {\"age_adjusted_death_rate\": 22.1}, {\"age_adjusted_death_rate\": 29.8}, {\"age_adjusted_death_rate\": 28.3}, {\"age_adjusted_death_rate\": 38.0}, {\"age_adjusted_death_rate\": 161.3}, {\"age_adjusted_death_rate\": 176.9}, {\"age_adjusted_death_rate\": 44.5}, {\"age_adjusted_death_rate\": 13.4}, {\"age_adjusted_death_rate\": 25.3}, {\"age_adjusted_death_rate\": 50.9}, {\"age_adjusted_death_rate\": 176.8}, {\"age_adjusted_death_rate\": 15.2}, {\"age_adjusted_death_rate\": 53.9}, {\"age_adjusted_death_rate\": 163.5}, {\"age_adjusted_death_rate\": 45.7}, {\"age_adjusted_death_rate\": 28.5}, {\"age_adjusted_death_rate\": 22.1}, {\"age_adjusted_death_rate\": 7.8}, {\"age_adjusted_death_rate\": 41.6}, {\"age_adjusted_death_rate\": 21.5}, {\"age_adjusted_death_rate\": 680.5}, {\"age_adjusted_death_rate\": 23.1}, {\"age_adjusted_death_rate\": 15.3}, {\"age_adjusted_death_rate\": 62.4}, {\"age_adjusted_death_rate\": 14.2}, {\"age_adjusted_death_rate\": 45.3}, {\"age_adjusted_death_rate\": 12.6}, {\"age_adjusted_death_rate\": 29.6}, {\"age_adjusted_death_rate\": 56.1}, {\"age_adjusted_death_rate\": 153.2}, {\"age_adjusted_death_rate\": 158.8}, {\"age_adjusted_death_rate\": 40.7}, {\"age_adjusted_death_rate\": 34.9}, {\"age_adjusted_death_rate\": 54.3}, {\"age_adjusted_death_rate\": 209.8}, {\"age_adjusted_death_rate\": 37.3}, {\"age_adjusted_death_rate\": 677.1}, {\"age_adjusted_death_rate\": 162.2}, {\"age_adjusted_death_rate\": 16.3}, {\"age_adjusted_death_rate\": 22.6}, {\"age_adjusted_death_rate\": 38.8}, {\"age_adjusted_death_rate\": 161.0}, {\"age_adjusted_death_rate\": 35.2}, {\"age_adjusted_death_rate\": 39.5}, {\"age_adjusted_death_rate\": 17.7}, {\"age_adjusted_death_rate\": 939.3}, {\"age_adjusted_death_rate\": 9.7}, {\"age_adjusted_death_rate\": 56.4}, {\"age_adjusted_death_rate\": 20.2}, {\"age_adjusted_death_rate\": 58.9}, {\"age_adjusted_death_rate\": 19.3}, {\"age_adjusted_death_rate\": 204.4}, {\"age_adjusted_death_rate\": 30.8}, {\"age_adjusted_death_rate\": 32.3}, {\"age_adjusted_death_rate\": 175.3}, {\"age_adjusted_death_rate\": 24.7}, {\"age_adjusted_death_rate\": 22.7}, {\"age_adjusted_death_rate\": 146.7}, {\"age_adjusted_death_rate\": 65.4}, {\"age_adjusted_death_rate\": 279.2}, {\"age_adjusted_death_rate\": 159.4}, {\"age_adjusted_death_rate\": 57.1}, {\"age_adjusted_death_rate\": 145.9}, {\"age_adjusted_death_rate\": 17.2}, {\"age_adjusted_death_rate\": 18.3}, {\"age_adjusted_death_rate\": 24.6}, {\"age_adjusted_death_rate\": 173.8}, {\"age_adjusted_death_rate\": 25.2}, {\"age_adjusted_death_rate\": 25.1}, {\"age_adjusted_death_rate\": 25.6}, {\"age_adjusted_death_rate\": 10.3}, {\"age_adjusted_death_rate\": 10.4}, {\"age_adjusted_death_rate\": 19.1}, {\"age_adjusted_death_rate\": 198.7}, {\"age_adjusted_death_rate\": 253.8}, {\"age_adjusted_death_rate\": 204.4}, {\"age_adjusted_death_rate\": 20.0}, {\"age_adjusted_death_rate\": 18.3}, {\"age_adjusted_death_rate\": 15.0}, {\"age_adjusted_death_rate\": 154.2}, {\"age_adjusted_death_rate\": 34.2}, {\"age_adjusted_death_rate\": 17.3}, {\"age_adjusted_death_rate\": 43.2}, {\"age_adjusted_death_rate\": 739.0}, {\"age_adjusted_death_rate\": 12.2}, {\"age_adjusted_death_rate\": 147.9}, {\"age_adjusted_death_rate\": 51.3}, {\"age_adjusted_death_rate\": 14.1}, {\"age_adjusted_death_rate\": 27.8}, {\"age_adjusted_death_rate\": 33.8}, {\"age_adjusted_death_rate\": 706.2}, {\"age_adjusted_death_rate\": 19.6}, {\"age_adjusted_death_rate\": 184.0}, {\"age_adjusted_death_rate\": 53.1}, {\"age_adjusted_death_rate\": 783.5}, {\"age_adjusted_death_rate\": 893.8}, {\"age_adjusted_death_rate\": 36.7}, {\"age_adjusted_death_rate\": 11.2}, {\"age_adjusted_death_rate\": 49.0}, {\"age_adjusted_death_rate\": 42.9}, {\"age_adjusted_death_rate\": 26.2}, {\"age_adjusted_death_rate\": 7.5}, {\"age_adjusted_death_rate\": 169.3}, {\"age_adjusted_death_rate\": 236.3}, {\"age_adjusted_death_rate\": 13.0}, {\"age_adjusted_death_rate\": 44.2}, {\"age_adjusted_death_rate\": 43.5}, {\"age_adjusted_death_rate\": 200.0}, {\"age_adjusted_death_rate\": 35.9}, {\"age_adjusted_death_rate\": 12.0}, {\"age_adjusted_death_rate\": 22.8}, {\"age_adjusted_death_rate\": 803.0}, {\"age_adjusted_death_rate\": 20.1}, {\"age_adjusted_death_rate\": 12.8}, {\"age_adjusted_death_rate\": 180.5}, {\"age_adjusted_death_rate\": 146.2}, {\"age_adjusted_death_rate\": 20.0}, {\"age_adjusted_death_rate\": 749.6}, {\"age_adjusted_death_rate\": 16.8}, {\"age_adjusted_death_rate\": 25.5}, {\"age_adjusted_death_rate\": 27.2}, {\"age_adjusted_death_rate\": 33.1}, {\"age_adjusted_death_rate\": 22.5}, {\"age_adjusted_death_rate\": 246.7}, {\"age_adjusted_death_rate\": 22.8}, {\"age_adjusted_death_rate\": 11.8}, {\"age_adjusted_death_rate\": 19.0}, {\"age_adjusted_death_rate\": 995.3}, {\"age_adjusted_death_rate\": 195.1}, {\"age_adjusted_death_rate\": 18.0}, {\"age_adjusted_death_rate\": 46.5}, {\"age_adjusted_death_rate\": 12.7}, {\"age_adjusted_death_rate\": 54.7}, {\"age_adjusted_death_rate\": 8.1}, {\"age_adjusted_death_rate\": 19.4}, {\"age_adjusted_death_rate\": 18.3}, {\"age_adjusted_death_rate\": 187.0}, {\"age_adjusted_death_rate\": 26.8}, {\"age_adjusted_death_rate\": 42.3}, {\"age_adjusted_death_rate\": 217.4}, {\"age_adjusted_death_rate\": 15.4}, {\"age_adjusted_death_rate\": 17.5}, {\"age_adjusted_death_rate\": 30.4}, {\"age_adjusted_death_rate\": 50.0}, {\"age_adjusted_death_rate\": 12.2}, {\"age_adjusted_death_rate\": 787.6}, {\"age_adjusted_death_rate\": 17.0}, {\"age_adjusted_death_rate\": 34.1}, {\"age_adjusted_death_rate\": 158.8}, {\"age_adjusted_death_rate\": 57.0}, {\"age_adjusted_death_rate\": 16.2}, {\"age_adjusted_death_rate\": 166.0}, {\"age_adjusted_death_rate\": 5.3}, {\"age_adjusted_death_rate\": 26.3}, {\"age_adjusted_death_rate\": 15.5}, {\"age_adjusted_death_rate\": 46.8}, {\"age_adjusted_death_rate\": 140.0}, {\"age_adjusted_death_rate\": 54.9}, {\"age_adjusted_death_rate\": 211.7}, {\"age_adjusted_death_rate\": 160.3}, {\"age_adjusted_death_rate\": 17.5}, {\"age_adjusted_death_rate\": 40.7}, {\"age_adjusted_death_rate\": 39.0}, {\"age_adjusted_death_rate\": 16.7}, {\"age_adjusted_death_rate\": 48.9}, {\"age_adjusted_death_rate\": 798.8}, {\"age_adjusted_death_rate\": 212.1}, {\"age_adjusted_death_rate\": 26.1}, {\"age_adjusted_death_rate\": 12.0}, {\"age_adjusted_death_rate\": 170.6}, {\"age_adjusted_death_rate\": 32.0}, {\"age_adjusted_death_rate\": 46.9}, {\"age_adjusted_death_rate\": 10.0}, {\"age_adjusted_death_rate\": 156.1}, {\"age_adjusted_death_rate\": 21.3}, {\"age_adjusted_death_rate\": 9.5}, {\"age_adjusted_death_rate\": 56.7}, {\"age_adjusted_death_rate\": 13.4}, {\"age_adjusted_death_rate\": 768.3}, {\"age_adjusted_death_rate\": 757.2}, {\"age_adjusted_death_rate\": 44.4}, {\"age_adjusted_death_rate\": 17.4}, {\"age_adjusted_death_rate\": 217.4}, {\"age_adjusted_death_rate\": 161.0}, {\"age_adjusted_death_rate\": 58.1}, {\"age_adjusted_death_rate\": 155.4}, {\"age_adjusted_death_rate\": 21.6}, {\"age_adjusted_death_rate\": 22.9}, {\"age_adjusted_death_rate\": 707.8}, {\"age_adjusted_death_rate\": 22.3}, {\"age_adjusted_death_rate\": 17.7}, {\"age_adjusted_death_rate\": 7.2}, {\"age_adjusted_death_rate\": 149.2}, {\"age_adjusted_death_rate\": 63.0}, {\"age_adjusted_death_rate\": 27.2}, {\"age_adjusted_death_rate\": 14.8}, {\"age_adjusted_death_rate\": 17.5}, {\"age_adjusted_death_rate\": 831.1}, {\"age_adjusted_death_rate\": 63.8}, {\"age_adjusted_death_rate\": 20.3}, {\"age_adjusted_death_rate\": 179.4}, {\"age_adjusted_death_rate\": 37.4}, {\"age_adjusted_death_rate\": 640.7}, {\"age_adjusted_death_rate\": 8.7}, {\"age_adjusted_death_rate\": 965.1}, {\"age_adjusted_death_rate\": 16.6}, {\"age_adjusted_death_rate\": 25.1}, {\"age_adjusted_death_rate\": 6.5}, {\"age_adjusted_death_rate\": 706.1}, {\"age_adjusted_death_rate\": 21.4}, {\"age_adjusted_death_rate\": 44.7}, {\"age_adjusted_death_rate\": 30.1}, {\"age_adjusted_death_rate\": 24.0}, {\"age_adjusted_death_rate\": 22.3}, {\"age_adjusted_death_rate\": 8.4}, {\"age_adjusted_death_rate\": 23.4}, {\"age_adjusted_death_rate\": 15.2}, {\"age_adjusted_death_rate\": 55.6}, {\"age_adjusted_death_rate\": 161.7}, {\"age_adjusted_death_rate\": 699.7}, {\"age_adjusted_death_rate\": 35.2}, {\"age_adjusted_death_rate\": 192.4}, {\"age_adjusted_death_rate\": 55.3}, {\"age_adjusted_death_rate\": 35.9}, {\"age_adjusted_death_rate\": 20.0}, {\"age_adjusted_death_rate\": 51.6}, {\"age_adjusted_death_rate\": 22.1}, {\"age_adjusted_death_rate\": 4.5}, {\"age_adjusted_death_rate\": 194.8}, {\"age_adjusted_death_rate\": 41.7}, {\"age_adjusted_death_rate\": 273.2}, {\"age_adjusted_death_rate\": 33.1}, {\"age_adjusted_death_rate\": 52.7}, {\"age_adjusted_death_rate\": 15.0}, {\"age_adjusted_death_rate\": 51.9}, {\"age_adjusted_death_rate\": 40.2}, {\"age_adjusted_death_rate\": 23.6}, {\"age_adjusted_death_rate\": 28.5}, {\"age_adjusted_death_rate\": 22.7}, {\"age_adjusted_death_rate\": 27.1}, {\"age_adjusted_death_rate\": 219.3}, {\"age_adjusted_death_rate\": 8.4}, {\"age_adjusted_death_rate\": 282.8}, {\"age_adjusted_death_rate\": 19.8}, {\"age_adjusted_death_rate\": 208.7}, {\"age_adjusted_death_rate\": 147.5}, {\"age_adjusted_death_rate\": 23.8}, {\"age_adjusted_death_rate\": 35.1}, {\"age_adjusted_death_rate\": 17.6}, {\"age_adjusted_death_rate\": 869.9}, {\"age_adjusted_death_rate\": 9.6}, {\"age_adjusted_death_rate\": 198.0}, {\"age_adjusted_death_rate\": 9.3}, {\"age_adjusted_death_rate\": 11.9}, {\"age_adjusted_death_rate\": 11.6}, {\"age_adjusted_death_rate\": 196.4}, {\"age_adjusted_death_rate\": 19.7}, {\"age_adjusted_death_rate\": 22.7}, {\"age_adjusted_death_rate\": 15.4}, {\"age_adjusted_death_rate\": 67.7}, {\"age_adjusted_death_rate\": 17.9}, {\"age_adjusted_death_rate\": 896.4}, {\"age_adjusted_death_rate\": 659.3}, {\"age_adjusted_death_rate\": 795.7}, {\"age_adjusted_death_rate\": 200.9}, {\"age_adjusted_death_rate\": 283.8}, {\"age_adjusted_death_rate\": 39.1}, {\"age_adjusted_death_rate\": 13.9}, {\"age_adjusted_death_rate\": 8.6}, {\"age_adjusted_death_rate\": 53.8}, {\"age_adjusted_death_rate\": 15.4}, {\"age_adjusted_death_rate\": 13.1}, {\"age_adjusted_death_rate\": 35.8}, {\"age_adjusted_death_rate\": 42.7}, {\"age_adjusted_death_rate\": 10.0}, {\"age_adjusted_death_rate\": 34.5}, {\"age_adjusted_death_rate\": 6.7}, {\"age_adjusted_death_rate\": 175.6}, {\"age_adjusted_death_rate\": 854.8}, {\"age_adjusted_death_rate\": 48.6}, {\"age_adjusted_death_rate\": 14.3}, {\"age_adjusted_death_rate\": 11.1}, {\"age_adjusted_death_rate\": 28.4}, {\"age_adjusted_death_rate\": 33.9}, {\"age_adjusted_death_rate\": 49.7}, {\"age_adjusted_death_rate\": 19.1}, {\"age_adjusted_death_rate\": 21.1}, {\"age_adjusted_death_rate\": 53.6}, {\"age_adjusted_death_rate\": 947.5}, {\"age_adjusted_death_rate\": 51.3}, {\"age_adjusted_death_rate\": 57.6}, {\"age_adjusted_death_rate\": 9.9}, {\"age_adjusted_death_rate\": 11.1}, {\"age_adjusted_death_rate\": 19.9}, {\"age_adjusted_death_rate\": 45.7}, {\"age_adjusted_death_rate\": 44.6}, {\"age_adjusted_death_rate\": 50.8}, {\"age_adjusted_death_rate\": 851.3}, {\"age_adjusted_death_rate\": 173.7}, {\"age_adjusted_death_rate\": 36.8}, {\"age_adjusted_death_rate\": 168.7}, {\"age_adjusted_death_rate\": 33.2}, {\"age_adjusted_death_rate\": 652.9}, {\"age_adjusted_death_rate\": 28.7}, {\"age_adjusted_death_rate\": 19.1}, {\"age_adjusted_death_rate\": 32.9}, {\"age_adjusted_death_rate\": 45.0}, {\"age_adjusted_death_rate\": 21.6}, {\"age_adjusted_death_rate\": 828.4}, {\"age_adjusted_death_rate\": 19.1}, {\"age_adjusted_death_rate\": 15.4}, {\"age_adjusted_death_rate\": 785.2}, {\"age_adjusted_death_rate\": 23.0}, {\"age_adjusted_death_rate\": 24.4}, {\"age_adjusted_death_rate\": 26.4}, {\"age_adjusted_death_rate\": 873.9}, {\"age_adjusted_death_rate\": 190.6}, {\"age_adjusted_death_rate\": 21.2}, {\"age_adjusted_death_rate\": 200.0}, {\"age_adjusted_death_rate\": 7.4}, {\"age_adjusted_death_rate\": 37.5}, {\"age_adjusted_death_rate\": 127.0}, {\"age_adjusted_death_rate\": 17.4}, {\"age_adjusted_death_rate\": 13.8}, {\"age_adjusted_death_rate\": 171.9}, {\"age_adjusted_death_rate\": 26.1}, {\"age_adjusted_death_rate\": 55.0}, {\"age_adjusted_death_rate\": 13.1}, {\"age_adjusted_death_rate\": 24.9}, {\"age_adjusted_death_rate\": 240.3}, {\"age_adjusted_death_rate\": 28.1}, {\"age_adjusted_death_rate\": 7.0}, {\"age_adjusted_death_rate\": 13.3}, {\"age_adjusted_death_rate\": 14.2}, {\"age_adjusted_death_rate\": 14.6}, {\"age_adjusted_death_rate\": 15.3}, {\"age_adjusted_death_rate\": 129.8}, {\"age_adjusted_death_rate\": 32.3}, {\"age_adjusted_death_rate\": 817.9}, {\"age_adjusted_death_rate\": 293.6}, {\"age_adjusted_death_rate\": 47.0}, {\"age_adjusted_death_rate\": 180.4}, {\"age_adjusted_death_rate\": 36.1}, {\"age_adjusted_death_rate\": 776.1}, {\"age_adjusted_death_rate\": 186.7}, {\"age_adjusted_death_rate\": 174.6}, {\"age_adjusted_death_rate\": 12.0}, {\"age_adjusted_death_rate\": 35.3}, {\"age_adjusted_death_rate\": 14.4}, {\"age_adjusted_death_rate\": 164.1}, {\"age_adjusted_death_rate\": 838.5}, {\"age_adjusted_death_rate\": 19.5}, {\"age_adjusted_death_rate\": 45.1}, {\"age_adjusted_death_rate\": 19.4}, {\"age_adjusted_death_rate\": 13.7}, {\"age_adjusted_death_rate\": 44.5}, {\"age_adjusted_death_rate\": 10.5}, {\"age_adjusted_death_rate\": 188.5}, {\"age_adjusted_death_rate\": 652.1}, {\"age_adjusted_death_rate\": 16.1}, {\"age_adjusted_death_rate\": 144.6}, {\"age_adjusted_death_rate\": 15.9}, {\"age_adjusted_death_rate\": 12.1}, {\"age_adjusted_death_rate\": 20.6}, {\"age_adjusted_death_rate\": 32.9}, {\"age_adjusted_death_rate\": 270.5}, {\"age_adjusted_death_rate\": 24.4}, {\"age_adjusted_death_rate\": 46.8}, {\"age_adjusted_death_rate\": 14.4}, {\"age_adjusted_death_rate\": 15.4}, {\"age_adjusted_death_rate\": 47.1}, {\"age_adjusted_death_rate\": 39.3}, {\"age_adjusted_death_rate\": 32.4}, {\"age_adjusted_death_rate\": 38.4}, {\"age_adjusted_death_rate\": 717.2}, {\"age_adjusted_death_rate\": 40.6}, {\"age_adjusted_death_rate\": 64.6}, {\"age_adjusted_death_rate\": 40.8}, {\"age_adjusted_death_rate\": 18.9}, {\"age_adjusted_death_rate\": 57.5}, {\"age_adjusted_death_rate\": 16.9}, {\"age_adjusted_death_rate\": 657.9}, {\"age_adjusted_death_rate\": 50.4}, {\"age_adjusted_death_rate\": 7.0}, {\"age_adjusted_death_rate\": 35.8}, {\"age_adjusted_death_rate\": 718.2}, {\"age_adjusted_death_rate\": 27.0}, {\"age_adjusted_death_rate\": 669.9}, {\"age_adjusted_death_rate\": 50.2}, {\"age_adjusted_death_rate\": 177.7}, {\"age_adjusted_death_rate\": 1004.1}, {\"age_adjusted_death_rate\": 872.7}, {\"age_adjusted_death_rate\": 829.5}, {\"age_adjusted_death_rate\": 28.3}, {\"age_adjusted_death_rate\": 791.4}, {\"age_adjusted_death_rate\": 16.2}, {\"age_adjusted_death_rate\": 675.8}, {\"age_adjusted_death_rate\": 30.9}, {\"age_adjusted_death_rate\": 193.8}, {\"age_adjusted_death_rate\": 181.8}, {\"age_adjusted_death_rate\": 48.8}, {\"age_adjusted_death_rate\": 13.4}, {\"age_adjusted_death_rate\": 41.2}, {\"age_adjusted_death_rate\": 11.2}, {\"age_adjusted_death_rate\": 24.1}, {\"age_adjusted_death_rate\": 16.4}, {\"age_adjusted_death_rate\": 34.9}, {\"age_adjusted_death_rate\": 14.3}, {\"age_adjusted_death_rate\": 15.6}, {\"age_adjusted_death_rate\": 44.1}, {\"age_adjusted_death_rate\": 45.0}, {\"age_adjusted_death_rate\": 43.6}, {\"age_adjusted_death_rate\": 166.3}, {\"age_adjusted_death_rate\": 30.0}, {\"age_adjusted_death_rate\": 794.7}, {\"age_adjusted_death_rate\": 272.4}, {\"age_adjusted_death_rate\": 38.4}, {\"age_adjusted_death_rate\": 49.5}, {\"age_adjusted_death_rate\": 28.4}, {\"age_adjusted_death_rate\": 205.7}, {\"age_adjusted_death_rate\": 41.8}, {\"age_adjusted_death_rate\": 55.0}, {\"age_adjusted_death_rate\": 24.4}, {\"age_adjusted_death_rate\": 6.3}, {\"age_adjusted_death_rate\": 31.4}, {\"age_adjusted_death_rate\": 770.0}, {\"age_adjusted_death_rate\": 164.7}, {\"age_adjusted_death_rate\": 36.2}, {\"age_adjusted_death_rate\": 46.9}, {\"age_adjusted_death_rate\": 29.3}, {\"age_adjusted_death_rate\": 783.2}, {\"age_adjusted_death_rate\": 44.1}, {\"age_adjusted_death_rate\": 8.3}, {\"age_adjusted_death_rate\": 11.1}, {\"age_adjusted_death_rate\": 185.7}, {\"age_adjusted_death_rate\": 33.9}, {\"age_adjusted_death_rate\": 155.1}, {\"age_adjusted_death_rate\": 35.6}, {\"age_adjusted_death_rate\": 245.0}, {\"age_adjusted_death_rate\": 191.4}, {\"age_adjusted_death_rate\": 19.9}, {\"age_adjusted_death_rate\": 191.2}, {\"age_adjusted_death_rate\": 189.9}, {\"age_adjusted_death_rate\": 42.9}, {\"age_adjusted_death_rate\": 15.4}, {\"age_adjusted_death_rate\": 246.2}, {\"age_adjusted_death_rate\": 43.2}, {\"age_adjusted_death_rate\": 19.2}, {\"age_adjusted_death_rate\": 12.3}, {\"age_adjusted_death_rate\": 16.5}, {\"age_adjusted_death_rate\": 47.2}, {\"age_adjusted_death_rate\": 13.0}, {\"age_adjusted_death_rate\": 25.4}, {\"age_adjusted_death_rate\": 771.6}, {\"age_adjusted_death_rate\": 44.6}, {\"age_adjusted_death_rate\": 48.3}, {\"age_adjusted_death_rate\": 52.4}, {\"age_adjusted_death_rate\": 23.2}, {\"age_adjusted_death_rate\": 11.0}, {\"age_adjusted_death_rate\": 35.8}, {\"age_adjusted_death_rate\": 225.1}, {\"age_adjusted_death_rate\": 151.4}, {\"age_adjusted_death_rate\": 164.7}, {\"age_adjusted_death_rate\": 24.3}, {\"age_adjusted_death_rate\": 50.5}, {\"age_adjusted_death_rate\": 5.9}, {\"age_adjusted_death_rate\": 226.9}, {\"age_adjusted_death_rate\": 14.4}, {\"age_adjusted_death_rate\": 44.1}, {\"age_adjusted_death_rate\": 212.3}, {\"age_adjusted_death_rate\": 188.4}, {\"age_adjusted_death_rate\": 13.3}, {\"age_adjusted_death_rate\": 24.3}, {\"age_adjusted_death_rate\": 160.2}, {\"age_adjusted_death_rate\": 792.4}, {\"age_adjusted_death_rate\": 24.1}, {\"age_adjusted_death_rate\": 169.4}, {\"age_adjusted_death_rate\": 15.9}, {\"age_adjusted_death_rate\": 152.8}, {\"age_adjusted_death_rate\": 39.0}, {\"age_adjusted_death_rate\": 52.6}, {\"age_adjusted_death_rate\": 208.8}, {\"age_adjusted_death_rate\": 38.6}, {\"age_adjusted_death_rate\": 122.4}, {\"age_adjusted_death_rate\": 752.1}, {\"age_adjusted_death_rate\": 26.7}, {\"age_adjusted_death_rate\": 44.9}, {\"age_adjusted_death_rate\": 222.1}, {\"age_adjusted_death_rate\": 228.0}, {\"age_adjusted_death_rate\": 151.5}, {\"age_adjusted_death_rate\": 46.6}, {\"age_adjusted_death_rate\": 794.0}, {\"age_adjusted_death_rate\": 22.1}, {\"age_adjusted_death_rate\": 187.1}, {\"age_adjusted_death_rate\": 170.5}, {\"age_adjusted_death_rate\": 24.8}, {\"age_adjusted_death_rate\": 20.0}, {\"age_adjusted_death_rate\": 24.7}, {\"age_adjusted_death_rate\": 11.1}, {\"age_adjusted_death_rate\": 27.1}, {\"age_adjusted_death_rate\": 13.0}, {\"age_adjusted_death_rate\": 776.2}, {\"age_adjusted_death_rate\": 45.0}, {\"age_adjusted_death_rate\": 28.3}, {\"age_adjusted_death_rate\": 182.2}, {\"age_adjusted_death_rate\": 30.9}, {\"age_adjusted_death_rate\": 45.6}, {\"age_adjusted_death_rate\": 23.5}, {\"age_adjusted_death_rate\": 55.6}, {\"age_adjusted_death_rate\": 38.4}, {\"age_adjusted_death_rate\": 12.2}, {\"age_adjusted_death_rate\": 50.4}, {\"age_adjusted_death_rate\": 956.6}, {\"age_adjusted_death_rate\": 45.7}, {\"age_adjusted_death_rate\": 12.0}, {\"age_adjusted_death_rate\": 42.7}, {\"age_adjusted_death_rate\": 16.5}, {\"age_adjusted_death_rate\": 22.0}, {\"age_adjusted_death_rate\": 23.5}, {\"age_adjusted_death_rate\": 22.9}, {\"age_adjusted_death_rate\": 12.2}, {\"age_adjusted_death_rate\": 27.0}, {\"age_adjusted_death_rate\": 18.2}, {\"age_adjusted_death_rate\": 154.2}, {\"age_adjusted_death_rate\": 897.5}, {\"age_adjusted_death_rate\": 34.9}, {\"age_adjusted_death_rate\": 32.9}, {\"age_adjusted_death_rate\": 205.4}, {\"age_adjusted_death_rate\": 44.5}, {\"age_adjusted_death_rate\": 801.8}, {\"age_adjusted_death_rate\": 145.9}, {\"age_adjusted_death_rate\": 52.5}, {\"age_adjusted_death_rate\": 43.2}, {\"age_adjusted_death_rate\": 5.2}, {\"age_adjusted_death_rate\": 14.2}, {\"age_adjusted_death_rate\": 19.2}, {\"age_adjusted_death_rate\": 157.1}, {\"age_adjusted_death_rate\": 8.2}, {\"age_adjusted_death_rate\": 27.2}, {\"age_adjusted_death_rate\": 723.0}, {\"age_adjusted_death_rate\": 9.6}, {\"age_adjusted_death_rate\": 20.0}, {\"age_adjusted_death_rate\": 238.3}, {\"age_adjusted_death_rate\": 36.0}, {\"age_adjusted_death_rate\": 23.4}, {\"age_adjusted_death_rate\": 18.0}, {\"age_adjusted_death_rate\": 186.9}, {\"age_adjusted_death_rate\": 198.8}, {\"age_adjusted_death_rate\": 31.5}, {\"age_adjusted_death_rate\": 47.5}, {\"age_adjusted_death_rate\": 17.8}, {\"age_adjusted_death_rate\": 22.8}, {\"age_adjusted_death_rate\": 46.8}, {\"age_adjusted_death_rate\": 152.6}, {\"age_adjusted_death_rate\": 12.7}, {\"age_adjusted_death_rate\": 24.0}, {\"age_adjusted_death_rate\": 182.3}, {\"age_adjusted_death_rate\": 140.3}, {\"age_adjusted_death_rate\": 30.3}, {\"age_adjusted_death_rate\": 127.6}, {\"age_adjusted_death_rate\": 210.3}, {\"age_adjusted_death_rate\": 141.0}, {\"age_adjusted_death_rate\": 18.2}, {\"age_adjusted_death_rate\": 214.5}, {\"age_adjusted_death_rate\": 11.3}, {\"age_adjusted_death_rate\": 6.8}, {\"age_adjusted_death_rate\": 27.4}, {\"age_adjusted_death_rate\": 25.4}, {\"age_adjusted_death_rate\": 13.4}, {\"age_adjusted_death_rate\": 147.8}, {\"age_adjusted_death_rate\": 34.0}, {\"age_adjusted_death_rate\": 135.0}, {\"age_adjusted_death_rate\": 706.2}, {\"age_adjusted_death_rate\": 183.2}, {\"age_adjusted_death_rate\": 10.6}, {\"age_adjusted_death_rate\": 31.4}, {\"age_adjusted_death_rate\": 22.6}, {\"age_adjusted_death_rate\": 22.7}, {\"age_adjusted_death_rate\": 15.9}, {\"age_adjusted_death_rate\": 62.3}, {\"age_adjusted_death_rate\": 44.2}, {\"age_adjusted_death_rate\": 11.5}, {\"age_adjusted_death_rate\": 183.8}, {\"age_adjusted_death_rate\": 788.7}, {\"age_adjusted_death_rate\": 35.3}, {\"age_adjusted_death_rate\": 119.1}, {\"age_adjusted_death_rate\": 147.0}, {\"age_adjusted_death_rate\": 40.1}, {\"age_adjusted_death_rate\": 26.6}, {\"age_adjusted_death_rate\": 33.0}, {\"age_adjusted_death_rate\": 12.2}, {\"age_adjusted_death_rate\": 24.6}, {\"age_adjusted_death_rate\": 48.2}, {\"age_adjusted_death_rate\": 160.9}, {\"age_adjusted_death_rate\": 32.5}, {\"age_adjusted_death_rate\": 20.8}, {\"age_adjusted_death_rate\": 190.8}, {\"age_adjusted_death_rate\": 40.9}, {\"age_adjusted_death_rate\": 17.2}, {\"age_adjusted_death_rate\": 20.4}, {\"age_adjusted_death_rate\": 674.0}, {\"age_adjusted_death_rate\": 9.8}, {\"age_adjusted_death_rate\": 20.1}, {\"age_adjusted_death_rate\": 191.1}, {\"age_adjusted_death_rate\": 24.4}, {\"age_adjusted_death_rate\": 186.2}, {\"age_adjusted_death_rate\": 55.9}, {\"age_adjusted_death_rate\": 35.8}, {\"age_adjusted_death_rate\": 22.5}, {\"age_adjusted_death_rate\": 34.7}, {\"age_adjusted_death_rate\": 760.7}, {\"age_adjusted_death_rate\": 156.9}, {\"age_adjusted_death_rate\": 246.1}, {\"age_adjusted_death_rate\": 45.1}, {\"age_adjusted_death_rate\": 986.4}, {\"age_adjusted_death_rate\": 12.6}, {\"age_adjusted_death_rate\": 116.5}, {\"age_adjusted_death_rate\": 15.0}, {\"age_adjusted_death_rate\": 881.1}, {\"age_adjusted_death_rate\": 23.5}, {\"age_adjusted_death_rate\": 30.4}, {\"age_adjusted_death_rate\": 47.5}, {\"age_adjusted_death_rate\": 291.3}, {\"age_adjusted_death_rate\": 33.9}, {\"age_adjusted_death_rate\": 18.4}, {\"age_adjusted_death_rate\": 15.8}, {\"age_adjusted_death_rate\": 191.0}, {\"age_adjusted_death_rate\": 28.0}, {\"age_adjusted_death_rate\": 25.1}, {\"age_adjusted_death_rate\": 23.4}, {\"age_adjusted_death_rate\": 11.0}, {\"age_adjusted_death_rate\": 13.3}, {\"age_adjusted_death_rate\": 11.4}, {\"age_adjusted_death_rate\": 42.4}, {\"age_adjusted_death_rate\": 5.2}, {\"age_adjusted_death_rate\": 22.1}, {\"age_adjusted_death_rate\": 146.9}, {\"age_adjusted_death_rate\": 20.6}, {\"age_adjusted_death_rate\": 164.6}, {\"age_adjusted_death_rate\": 60.5}, {\"age_adjusted_death_rate\": 38.8}, {\"age_adjusted_death_rate\": 124.7}, {\"age_adjusted_death_rate\": 20.2}, {\"age_adjusted_death_rate\": 178.7}, {\"age_adjusted_death_rate\": 14.9}, {\"age_adjusted_death_rate\": 6.5}, {\"age_adjusted_death_rate\": 22.1}, {\"age_adjusted_death_rate\": 20.9}, {\"age_adjusted_death_rate\": 32.3}, {\"age_adjusted_death_rate\": 185.0}, {\"age_adjusted_death_rate\": 22.3}, {\"age_adjusted_death_rate\": 33.6}, {\"age_adjusted_death_rate\": 28.9}, {\"age_adjusted_death_rate\": 174.9}, {\"age_adjusted_death_rate\": 18.3}, {\"age_adjusted_death_rate\": 16.1}, {\"age_adjusted_death_rate\": 753.3}, {\"age_adjusted_death_rate\": 234.2}, {\"age_adjusted_death_rate\": 23.3}, {\"age_adjusted_death_rate\": 20.3}, {\"age_adjusted_death_rate\": 722.3}, {\"age_adjusted_death_rate\": 63.6}, {\"age_adjusted_death_rate\": 170.3}, {\"age_adjusted_death_rate\": 18.9}, {\"age_adjusted_death_rate\": 28.7}, {\"age_adjusted_death_rate\": 15.1}, {\"age_adjusted_death_rate\": 26.7}, {\"age_adjusted_death_rate\": 28.5}, {\"age_adjusted_death_rate\": 61.2}, {\"age_adjusted_death_rate\": 19.4}, {\"age_adjusted_death_rate\": 42.5}, {\"age_adjusted_death_rate\": 38.8}, {\"age_adjusted_death_rate\": 720.9}, {\"age_adjusted_death_rate\": 15.3}, {\"age_adjusted_death_rate\": 40.7}, {\"age_adjusted_death_rate\": 193.0}, {\"age_adjusted_death_rate\": 206.9}, {\"age_adjusted_death_rate\": 761.8}, {\"age_adjusted_death_rate\": 196.3}, {\"age_adjusted_death_rate\": 33.3}, {\"age_adjusted_death_rate\": 25.7}, {\"age_adjusted_death_rate\": 23.8}, {\"age_adjusted_death_rate\": 218.8}, {\"age_adjusted_death_rate\": 19.4}, {\"age_adjusted_death_rate\": 38.2}, {\"age_adjusted_death_rate\": 39.6}, {\"age_adjusted_death_rate\": 15.7}, {\"age_adjusted_death_rate\": 12.5}, {\"age_adjusted_death_rate\": 146.6}, {\"age_adjusted_death_rate\": 25.1}, {\"age_adjusted_death_rate\": 37.3}, {\"age_adjusted_death_rate\": 263.0}, {\"age_adjusted_death_rate\": 22.9}, {\"age_adjusted_death_rate\": 32.8}, {\"age_adjusted_death_rate\": 28.3}, {\"age_adjusted_death_rate\": 28.6}, {\"age_adjusted_death_rate\": 52.7}, {\"age_adjusted_death_rate\": 168.8}, {\"age_adjusted_death_rate\": 10.9}, {\"age_adjusted_death_rate\": 1031.6}, {\"age_adjusted_death_rate\": 119.2}, {\"age_adjusted_death_rate\": 19.1}, {\"age_adjusted_death_rate\": 46.2}, {\"age_adjusted_death_rate\": 20.2}, {\"age_adjusted_death_rate\": 186.5}, {\"age_adjusted_death_rate\": 11.7}, {\"age_adjusted_death_rate\": 853.7}, {\"age_adjusted_death_rate\": 792.0}, {\"age_adjusted_death_rate\": 703.2}, {\"age_adjusted_death_rate\": 20.9}, {\"age_adjusted_death_rate\": 256.3}, {\"age_adjusted_death_rate\": 11.4}, {\"age_adjusted_death_rate\": 33.4}, {\"age_adjusted_death_rate\": 806.6}, {\"age_adjusted_death_rate\": 26.7}, {\"age_adjusted_death_rate\": 49.9}, {\"age_adjusted_death_rate\": 22.3}, {\"age_adjusted_death_rate\": 175.5}, {\"age_adjusted_death_rate\": 32.5}, {\"age_adjusted_death_rate\": 24.1}, {\"age_adjusted_death_rate\": 18.2}, {\"age_adjusted_death_rate\": 14.3}, {\"age_adjusted_death_rate\": 30.8}, {\"age_adjusted_death_rate\": 13.2}, {\"age_adjusted_death_rate\": 572.0}, {\"age_adjusted_death_rate\": 772.1}, {\"age_adjusted_death_rate\": 21.2}, {\"age_adjusted_death_rate\": 823.0}, {\"age_adjusted_death_rate\": 179.9}, {\"age_adjusted_death_rate\": 17.9}, {\"age_adjusted_death_rate\": 43.4}, {\"age_adjusted_death_rate\": 213.1}, {\"age_adjusted_death_rate\": 35.4}, {\"age_adjusted_death_rate\": 37.1}, {\"age_adjusted_death_rate\": 24.4}, {\"age_adjusted_death_rate\": 14.1}, {\"age_adjusted_death_rate\": 49.2}, {\"age_adjusted_death_rate\": 34.1}, {\"age_adjusted_death_rate\": 192.6}, {\"age_adjusted_death_rate\": 211.9}, {\"age_adjusted_death_rate\": 25.5}, {\"age_adjusted_death_rate\": 40.5}, {\"age_adjusted_death_rate\": 179.7}, {\"age_adjusted_death_rate\": 19.5}, {\"age_adjusted_death_rate\": 13.9}, {\"age_adjusted_death_rate\": 13.3}, {\"age_adjusted_death_rate\": 820.6}, {\"age_adjusted_death_rate\": 61.7}, {\"age_adjusted_death_rate\": 168.4}, {\"age_adjusted_death_rate\": 11.3}, {\"age_adjusted_death_rate\": 42.7}, {\"age_adjusted_death_rate\": 43.0}, {\"age_adjusted_death_rate\": 41.3}, {\"age_adjusted_death_rate\": 170.9}, {\"age_adjusted_death_rate\": 31.4}, {\"age_adjusted_death_rate\": 10.0}, {\"age_adjusted_death_rate\": 193.0}, {\"age_adjusted_death_rate\": 19.1}, {\"age_adjusted_death_rate\": 50.2}, {\"age_adjusted_death_rate\": 166.0}, {\"age_adjusted_death_rate\": 47.3}, {\"age_adjusted_death_rate\": 16.2}, {\"age_adjusted_death_rate\": 212.7}, {\"age_adjusted_death_rate\": 14.3}, {\"age_adjusted_death_rate\": 25.8}, {\"age_adjusted_death_rate\": 68.9}, {\"age_adjusted_death_rate\": 16.6}, {\"age_adjusted_death_rate\": 16.6}, {\"age_adjusted_death_rate\": 159.3}, {\"age_adjusted_death_rate\": 909.5}, {\"age_adjusted_death_rate\": 189.8}, {\"age_adjusted_death_rate\": 24.5}, {\"age_adjusted_death_rate\": 13.4}, {\"age_adjusted_death_rate\": 38.6}, {\"age_adjusted_death_rate\": 55.6}, {\"age_adjusted_death_rate\": 206.1}, {\"age_adjusted_death_rate\": 15.2}, {\"age_adjusted_death_rate\": 29.0}, {\"age_adjusted_death_rate\": 34.4}, {\"age_adjusted_death_rate\": 51.0}, {\"age_adjusted_death_rate\": 30.0}, {\"age_adjusted_death_rate\": 166.8}, {\"age_adjusted_death_rate\": 15.2}, {\"age_adjusted_death_rate\": 19.3}, {\"age_adjusted_death_rate\": 24.4}, {\"age_adjusted_death_rate\": 752.5}, {\"age_adjusted_death_rate\": 13.9}, {\"age_adjusted_death_rate\": 844.4}, {\"age_adjusted_death_rate\": 38.2}, {\"age_adjusted_death_rate\": 163.0}, {\"age_adjusted_death_rate\": 14.0}, {\"age_adjusted_death_rate\": 867.0}, {\"age_adjusted_death_rate\": 25.5}, {\"age_adjusted_death_rate\": 710.4}, {\"age_adjusted_death_rate\": 29.8}, {\"age_adjusted_death_rate\": 11.7}, {\"age_adjusted_death_rate\": 20.2}, {\"age_adjusted_death_rate\": 11.4}, {\"age_adjusted_death_rate\": 142.4}, {\"age_adjusted_death_rate\": 13.8}, {\"age_adjusted_death_rate\": 33.0}, {\"age_adjusted_death_rate\": 15.0}, {\"age_adjusted_death_rate\": 11.4}, {\"age_adjusted_death_rate\": 48.6}, {\"age_adjusted_death_rate\": 47.6}, {\"age_adjusted_death_rate\": 158.0}, {\"age_adjusted_death_rate\": 10.7}, {\"age_adjusted_death_rate\": 15.8}, {\"age_adjusted_death_rate\": 27.7}, {\"age_adjusted_death_rate\": 20.5}, {\"age_adjusted_death_rate\": 741.6}, {\"age_adjusted_death_rate\": 51.5}, {\"age_adjusted_death_rate\": 18.9}, {\"age_adjusted_death_rate\": 12.7}, {\"age_adjusted_death_rate\": 14.6}, {\"age_adjusted_death_rate\": 61.2}, {\"age_adjusted_death_rate\": 927.3}, {\"age_adjusted_death_rate\": 46.0}, {\"age_adjusted_death_rate\": 59.0}, {\"age_adjusted_death_rate\": 12.6}, {\"age_adjusted_death_rate\": 17.9}, {\"age_adjusted_death_rate\": 981.4}, {\"age_adjusted_death_rate\": 907.0}, {\"age_adjusted_death_rate\": 36.6}, {\"age_adjusted_death_rate\": 215.2}, {\"age_adjusted_death_rate\": 44.4}, {\"age_adjusted_death_rate\": 767.2}, {\"age_adjusted_death_rate\": 25.8}, {\"age_adjusted_death_rate\": 32.4}, {\"age_adjusted_death_rate\": 182.7}, {\"age_adjusted_death_rate\": 297.3}, {\"age_adjusted_death_rate\": 214.6}, {\"age_adjusted_death_rate\": 167.2}, {\"age_adjusted_death_rate\": 791.8}, {\"age_adjusted_death_rate\": 5.1}, {\"age_adjusted_death_rate\": 38.2}, {\"age_adjusted_death_rate\": 48.3}, {\"age_adjusted_death_rate\": 17.2}, {\"age_adjusted_death_rate\": 39.4}, {\"age_adjusted_death_rate\": 17.6}, {\"age_adjusted_death_rate\": 173.3}, {\"age_adjusted_death_rate\": 48.3}, {\"age_adjusted_death_rate\": 17.1}, {\"age_adjusted_death_rate\": 21.2}, {\"age_adjusted_death_rate\": 60.4}, {\"age_adjusted_death_rate\": 7.7}, {\"age_adjusted_death_rate\": 20.4}, {\"age_adjusted_death_rate\": 18.6}, {\"age_adjusted_death_rate\": 190.1}, {\"age_adjusted_death_rate\": 28.7}, {\"age_adjusted_death_rate\": 31.6}, {\"age_adjusted_death_rate\": 160.7}, {\"age_adjusted_death_rate\": 27.9}, {\"age_adjusted_death_rate\": 15.2}, {\"age_adjusted_death_rate\": 18.3}, {\"age_adjusted_death_rate\": 27.2}, {\"age_adjusted_death_rate\": 35.8}, {\"age_adjusted_death_rate\": 201.8}, {\"age_adjusted_death_rate\": 721.1}, {\"age_adjusted_death_rate\": 24.2}, {\"age_adjusted_death_rate\": 61.3}, {\"age_adjusted_death_rate\": 17.7}, {\"age_adjusted_death_rate\": 29.9}, {\"age_adjusted_death_rate\": 190.0}, {\"age_adjusted_death_rate\": 8.8}, {\"age_adjusted_death_rate\": 58.8}, {\"age_adjusted_death_rate\": 35.4}, {\"age_adjusted_death_rate\": 15.7}, {\"age_adjusted_death_rate\": 37.5}, {\"age_adjusted_death_rate\": 14.3}, {\"age_adjusted_death_rate\": 26.7}, {\"age_adjusted_death_rate\": 26.7}, {\"age_adjusted_death_rate\": 20.5}, {\"age_adjusted_death_rate\": 808.2}, {\"age_adjusted_death_rate\": 205.1}, {\"age_adjusted_death_rate\": 45.0}, {\"age_adjusted_death_rate\": 11.5}, {\"age_adjusted_death_rate\": 52.8}, {\"age_adjusted_death_rate\": 196.3}, {\"age_adjusted_death_rate\": 24.5}, {\"age_adjusted_death_rate\": 665.4}, {\"age_adjusted_death_rate\": 12.9}, {\"age_adjusted_death_rate\": 18.6}, {\"age_adjusted_death_rate\": 191.7}, {\"age_adjusted_death_rate\": 185.0}, {\"age_adjusted_death_rate\": 17.5}, {\"age_adjusted_death_rate\": 848.6}, {\"age_adjusted_death_rate\": 21.8}, {\"age_adjusted_death_rate\": 48.5}, {\"age_adjusted_death_rate\": 174.4}, {\"age_adjusted_death_rate\": 236.8}, {\"age_adjusted_death_rate\": 58.2}, {\"age_adjusted_death_rate\": 961.6}, {\"age_adjusted_death_rate\": 25.1}, {\"age_adjusted_death_rate\": 21.8}, {\"age_adjusted_death_rate\": 30.3}, {\"age_adjusted_death_rate\": 9.8}, {\"age_adjusted_death_rate\": 17.7}, {\"age_adjusted_death_rate\": 722.7}, {\"age_adjusted_death_rate\": 17.6}, {\"age_adjusted_death_rate\": 140.9}, {\"age_adjusted_death_rate\": 45.4}, {\"age_adjusted_death_rate\": 212.0}, {\"age_adjusted_death_rate\": 35.9}, {\"age_adjusted_death_rate\": 13.4}, {\"age_adjusted_death_rate\": 41.8}, {\"age_adjusted_death_rate\": 37.0}, {\"age_adjusted_death_rate\": 11.5}, {\"age_adjusted_death_rate\": 819.6}, {\"age_adjusted_death_rate\": 11.3}, {\"age_adjusted_death_rate\": 36.8}, {\"age_adjusted_death_rate\": 19.0}, {\"age_adjusted_death_rate\": 143.8}, {\"age_adjusted_death_rate\": 43.5}, {\"age_adjusted_death_rate\": 182.8}, {\"age_adjusted_death_rate\": 15.7}, {\"age_adjusted_death_rate\": 23.4}, {\"age_adjusted_death_rate\": 28.2}, {\"age_adjusted_death_rate\": 13.2}, {\"age_adjusted_death_rate\": 212.8}, {\"age_adjusted_death_rate\": 8.3}, {\"age_adjusted_death_rate\": 44.0}, {\"age_adjusted_death_rate\": 15.6}, {\"age_adjusted_death_rate\": 994.0}, {\"age_adjusted_death_rate\": 29.7}, {\"age_adjusted_death_rate\": 13.2}, {\"age_adjusted_death_rate\": 172.0}, {\"age_adjusted_death_rate\": 23.9}, {\"age_adjusted_death_rate\": 10.8}, {\"age_adjusted_death_rate\": 168.6}, {\"age_adjusted_death_rate\": 14.2}, {\"age_adjusted_death_rate\": 11.6}, {\"age_adjusted_death_rate\": 179.4}, {\"age_adjusted_death_rate\": 27.9}, {\"age_adjusted_death_rate\": 14.8}, {\"age_adjusted_death_rate\": 981.0}, {\"age_adjusted_death_rate\": 1028.7}, {\"age_adjusted_death_rate\": 989.4}, {\"age_adjusted_death_rate\": 161.9}, {\"age_adjusted_death_rate\": 24.8}, {\"age_adjusted_death_rate\": 56.5}, {\"age_adjusted_death_rate\": 27.3}, {\"age_adjusted_death_rate\": 20.4}, {\"age_adjusted_death_rate\": 43.2}, {\"age_adjusted_death_rate\": 21.7}, {\"age_adjusted_death_rate\": 15.8}, {\"age_adjusted_death_rate\": 34.8}, {\"age_adjusted_death_rate\": 11.8}, {\"age_adjusted_death_rate\": 28.8}, {\"age_adjusted_death_rate\": 192.1}, {\"age_adjusted_death_rate\": 29.6}, {\"age_adjusted_death_rate\": 64.9}, {\"age_adjusted_death_rate\": 20.8}, {\"age_adjusted_death_rate\": 14.7}, {\"age_adjusted_death_rate\": 19.6}, {\"age_adjusted_death_rate\": 45.4}, {\"age_adjusted_death_rate\": 17.6}, {\"age_adjusted_death_rate\": 17.4}, {\"age_adjusted_death_rate\": 44.8}, {\"age_adjusted_death_rate\": 752.4}, {\"age_adjusted_death_rate\": 38.7}, {\"age_adjusted_death_rate\": 165.6}, {\"age_adjusted_death_rate\": 43.8}, {\"age_adjusted_death_rate\": 37.5}, {\"age_adjusted_death_rate\": 184.9}, {\"age_adjusted_death_rate\": 63.4}, {\"age_adjusted_death_rate\": 14.2}, {\"age_adjusted_death_rate\": 253.8}, {\"age_adjusted_death_rate\": 898.6}, {\"age_adjusted_death_rate\": 724.6}, {\"age_adjusted_death_rate\": 32.4}, {\"age_adjusted_death_rate\": 789.9}, {\"age_adjusted_death_rate\": 17.5}, {\"age_adjusted_death_rate\": 33.1}, {\"age_adjusted_death_rate\": 12.5}, {\"age_adjusted_death_rate\": 69.9}, {\"age_adjusted_death_rate\": 19.5}, {\"age_adjusted_death_rate\": 18.7}, {\"age_adjusted_death_rate\": 45.6}, {\"age_adjusted_death_rate\": 43.1}, {\"age_adjusted_death_rate\": 15.5}, {\"age_adjusted_death_rate\": 18.2}, {\"age_adjusted_death_rate\": 179.2}, {\"age_adjusted_death_rate\": 9.8}, {\"age_adjusted_death_rate\": 47.9}, {\"age_adjusted_death_rate\": 15.6}, {\"age_adjusted_death_rate\": 13.3}, {\"age_adjusted_death_rate\": 181.7}, {\"age_adjusted_death_rate\": 52.7}, {\"age_adjusted_death_rate\": 13.1}, {\"age_adjusted_death_rate\": 214.7}, {\"age_adjusted_death_rate\": 17.9}, {\"age_adjusted_death_rate\": 30.1}, {\"age_adjusted_death_rate\": 52.9}, {\"age_adjusted_death_rate\": 18.7}, {\"age_adjusted_death_rate\": 31.9}, {\"age_adjusted_death_rate\": 10.1}, {\"age_adjusted_death_rate\": 14.5}, {\"age_adjusted_death_rate\": 23.0}, {\"age_adjusted_death_rate\": 18.6}, {\"age_adjusted_death_rate\": 228.5}, {\"age_adjusted_death_rate\": 25.3}, {\"age_adjusted_death_rate\": 20.6}, {\"age_adjusted_death_rate\": 159.9}, {\"age_adjusted_death_rate\": 655.4}, {\"age_adjusted_death_rate\": 948.9}, {\"age_adjusted_death_rate\": 159.6}, {\"age_adjusted_death_rate\": 27.7}, {\"age_adjusted_death_rate\": 19.0}, {\"age_adjusted_death_rate\": 31.5}, {\"age_adjusted_death_rate\": 48.6}, {\"age_adjusted_death_rate\": 35.7}, {\"age_adjusted_death_rate\": 61.1}, {\"age_adjusted_death_rate\": 30.3}, {\"age_adjusted_death_rate\": 32.9}, {\"age_adjusted_death_rate\": 917.7}, {\"age_adjusted_death_rate\": 178.8}, {\"age_adjusted_death_rate\": 24.4}, {\"age_adjusted_death_rate\": 9.8}, {\"age_adjusted_death_rate\": 14.5}, {\"age_adjusted_death_rate\": 48.4}, {\"age_adjusted_death_rate\": 234.0}, {\"age_adjusted_death_rate\": 56.9}, {\"age_adjusted_death_rate\": 16.4}, {\"age_adjusted_death_rate\": 13.9}, {\"age_adjusted_death_rate\": 44.4}, {\"age_adjusted_death_rate\": 182.8}, {\"age_adjusted_death_rate\": 880.0}, {\"age_adjusted_death_rate\": 26.1}, {\"age_adjusted_death_rate\": 25.8}, {\"age_adjusted_death_rate\": 179.5}, {\"age_adjusted_death_rate\": 19.5}, {\"age_adjusted_death_rate\": 56.9}, {\"age_adjusted_death_rate\": 956.1}, {\"age_adjusted_death_rate\": 29.3}, {\"age_adjusted_death_rate\": 18.4}, {\"age_adjusted_death_rate\": 46.2}, {\"age_adjusted_death_rate\": 220.8}, {\"age_adjusted_death_rate\": 28.8}, {\"age_adjusted_death_rate\": 14.7}, {\"age_adjusted_death_rate\": 804.3}, {\"age_adjusted_death_rate\": 186.2}, {\"age_adjusted_death_rate\": 35.8}, {\"age_adjusted_death_rate\": 63.0}, {\"age_adjusted_death_rate\": 310.6}, {\"age_adjusted_death_rate\": 46.5}, {\"age_adjusted_death_rate\": 172.5}, {\"age_adjusted_death_rate\": 18.2}, {\"age_adjusted_death_rate\": 10.1}, {\"age_adjusted_death_rate\": 152.5}, {\"age_adjusted_death_rate\": 65.2}, {\"age_adjusted_death_rate\": 21.1}, {\"age_adjusted_death_rate\": 50.2}, {\"age_adjusted_death_rate\": 45.6}, {\"age_adjusted_death_rate\": 13.1}, {\"age_adjusted_death_rate\": 693.7}, {\"age_adjusted_death_rate\": 41.3}, {\"age_adjusted_death_rate\": 7.5}, {\"age_adjusted_death_rate\": 19.1}, {\"age_adjusted_death_rate\": 59.0}, {\"age_adjusted_death_rate\": 137.6}, {\"age_adjusted_death_rate\": 714.7}, {\"age_adjusted_death_rate\": 17.1}, {\"age_adjusted_death_rate\": 155.8}, {\"age_adjusted_death_rate\": 160.0}, {\"age_adjusted_death_rate\": 190.4}, {\"age_adjusted_death_rate\": 172.9}, {\"age_adjusted_death_rate\": 16.8}, {\"age_adjusted_death_rate\": 208.2}, {\"age_adjusted_death_rate\": 52.8}, {\"age_adjusted_death_rate\": 19.6}, {\"age_adjusted_death_rate\": 204.1}, {\"age_adjusted_death_rate\": 158.5}, {\"age_adjusted_death_rate\": 203.4}, {\"age_adjusted_death_rate\": 192.6}, {\"age_adjusted_death_rate\": 23.4}, {\"age_adjusted_death_rate\": 171.0}, {\"age_adjusted_death_rate\": 53.2}, {\"age_adjusted_death_rate\": 915.3}, {\"age_adjusted_death_rate\": 63.7}, {\"age_adjusted_death_rate\": 50.0}, {\"age_adjusted_death_rate\": 769.8}, {\"age_adjusted_death_rate\": 21.8}, {\"age_adjusted_death_rate\": 60.9}, {\"age_adjusted_death_rate\": 888.9}, {\"age_adjusted_death_rate\": 21.0}, {\"age_adjusted_death_rate\": 186.7}, {\"age_adjusted_death_rate\": 10.1}, {\"age_adjusted_death_rate\": 49.1}, {\"age_adjusted_death_rate\": 29.6}, {\"age_adjusted_death_rate\": 12.4}, {\"age_adjusted_death_rate\": 29.4}, {\"age_adjusted_death_rate\": 41.0}, {\"age_adjusted_death_rate\": 980.2}, {\"age_adjusted_death_rate\": 16.5}, {\"age_adjusted_death_rate\": 29.8}, {\"age_adjusted_death_rate\": 13.5}, {\"age_adjusted_death_rate\": 71.7}, {\"age_adjusted_death_rate\": 19.0}, {\"age_adjusted_death_rate\": 56.6}, {\"age_adjusted_death_rate\": 33.2}, {\"age_adjusted_death_rate\": 33.4}, {\"age_adjusted_death_rate\": 26.3}, {\"age_adjusted_death_rate\": 19.4}, {\"age_adjusted_death_rate\": 272.4}, {\"age_adjusted_death_rate\": 767.3}, {\"age_adjusted_death_rate\": 35.0}, {\"age_adjusted_death_rate\": 32.9}, {\"age_adjusted_death_rate\": 19.0}, {\"age_adjusted_death_rate\": 21.5}, {\"age_adjusted_death_rate\": 19.0}, {\"age_adjusted_death_rate\": 15.5}, {\"age_adjusted_death_rate\": 40.8}, {\"age_adjusted_death_rate\": 8.5}, {\"age_adjusted_death_rate\": 11.2}, {\"age_adjusted_death_rate\": 45.3}, {\"age_adjusted_death_rate\": 20.5}, {\"age_adjusted_death_rate\": 875.6}, {\"age_adjusted_death_rate\": 23.0}, {\"age_adjusted_death_rate\": 14.6}, {\"age_adjusted_death_rate\": 22.2}, {\"age_adjusted_death_rate\": 6.9}, {\"age_adjusted_death_rate\": 34.4}, {\"age_adjusted_death_rate\": 38.5}, {\"age_adjusted_death_rate\": 28.6}, {\"age_adjusted_death_rate\": 15.7}, {\"age_adjusted_death_rate\": 26.1}, {\"age_adjusted_death_rate\": 20.4}, {\"age_adjusted_death_rate\": 37.3}, {\"age_adjusted_death_rate\": 184.7}, {\"age_adjusted_death_rate\": 39.3}, {\"age_adjusted_death_rate\": 165.6}, {\"age_adjusted_death_rate\": 17.3}, {\"age_adjusted_death_rate\": 798.0}, {\"age_adjusted_death_rate\": 32.7}, {\"age_adjusted_death_rate\": 16.6}, {\"age_adjusted_death_rate\": 20.0}, {\"age_adjusted_death_rate\": 9.5}, {\"age_adjusted_death_rate\": 27.5}, {\"age_adjusted_death_rate\": 43.3}, {\"age_adjusted_death_rate\": 837.6}, {\"age_adjusted_death_rate\": 38.1}, {\"age_adjusted_death_rate\": 11.0}, {\"age_adjusted_death_rate\": 27.0}, {\"age_adjusted_death_rate\": 894.2}, {\"age_adjusted_death_rate\": 45.3}, {\"age_adjusted_death_rate\": 35.2}, {\"age_adjusted_death_rate\": 174.0}, {\"age_adjusted_death_rate\": 14.8}, {\"age_adjusted_death_rate\": 20.6}, {\"age_adjusted_death_rate\": 42.8}, {\"age_adjusted_death_rate\": 31.3}, {\"age_adjusted_death_rate\": 61.2}, {\"age_adjusted_death_rate\": 9.3}, {\"age_adjusted_death_rate\": 31.1}, {\"age_adjusted_death_rate\": 832.1}, {\"age_adjusted_death_rate\": 11.9}, {\"age_adjusted_death_rate\": 20.2}, {\"age_adjusted_death_rate\": 41.1}, {\"age_adjusted_death_rate\": 40.9}, {\"age_adjusted_death_rate\": 13.0}, {\"age_adjusted_death_rate\": 216.5}, {\"age_adjusted_death_rate\": 14.8}, {\"age_adjusted_death_rate\": 21.0}, {\"age_adjusted_death_rate\": 28.1}, {\"age_adjusted_death_rate\": 57.1}, {\"age_adjusted_death_rate\": 229.9}, {\"age_adjusted_death_rate\": 37.3}, {\"age_adjusted_death_rate\": 21.6}, {\"age_adjusted_death_rate\": 151.8}, {\"age_adjusted_death_rate\": 190.4}, {\"age_adjusted_death_rate\": 43.0}, {\"age_adjusted_death_rate\": 33.6}, {\"age_adjusted_death_rate\": 271.9}, {\"age_adjusted_death_rate\": 15.2}, {\"age_adjusted_death_rate\": 215.2}, {\"age_adjusted_death_rate\": 192.5}, {\"age_adjusted_death_rate\": 18.9}, {\"age_adjusted_death_rate\": 26.4}, {\"age_adjusted_death_rate\": 11.5}, {\"age_adjusted_death_rate\": 66.5}, {\"age_adjusted_death_rate\": 796.2}, {\"age_adjusted_death_rate\": 169.0}, {\"age_adjusted_death_rate\": 33.7}, {\"age_adjusted_death_rate\": 130.7}, {\"age_adjusted_death_rate\": 50.5}, {\"age_adjusted_death_rate\": 796.6}, {\"age_adjusted_death_rate\": 185.3}, {\"age_adjusted_death_rate\": 10.4}, {\"age_adjusted_death_rate\": 13.4}, {\"age_adjusted_death_rate\": 163.6}, {\"age_adjusted_death_rate\": 27.8}, {\"age_adjusted_death_rate\": 9.9}, {\"age_adjusted_death_rate\": 20.8}, {\"age_adjusted_death_rate\": 34.7}, {\"age_adjusted_death_rate\": 167.9}, {\"age_adjusted_death_rate\": 39.7}, {\"age_adjusted_death_rate\": 17.9}, {\"age_adjusted_death_rate\": 757.5}, {\"age_adjusted_death_rate\": 36.9}, {\"age_adjusted_death_rate\": 199.1}, {\"age_adjusted_death_rate\": 29.2}, {\"age_adjusted_death_rate\": 7.6}, {\"age_adjusted_death_rate\": 45.7}, {\"age_adjusted_death_rate\": 40.3}, {\"age_adjusted_death_rate\": 49.8}, {\"age_adjusted_death_rate\": 855.9}, {\"age_adjusted_death_rate\": 50.9}, {\"age_adjusted_death_rate\": 20.7}, {\"age_adjusted_death_rate\": 207.1}, {\"age_adjusted_death_rate\": 23.5}, {\"age_adjusted_death_rate\": 15.0}, {\"age_adjusted_death_rate\": 41.5}, {\"age_adjusted_death_rate\": 155.3}, {\"age_adjusted_death_rate\": 20.6}, {\"age_adjusted_death_rate\": 724.4}, {\"age_adjusted_death_rate\": 28.5}, {\"age_adjusted_death_rate\": 37.8}, {\"age_adjusted_death_rate\": 17.0}, {\"age_adjusted_death_rate\": 180.2}, {\"age_adjusted_death_rate\": 15.7}, {\"age_adjusted_death_rate\": 8.6}, {\"age_adjusted_death_rate\": 64.2}, {\"age_adjusted_death_rate\": 26.3}, {\"age_adjusted_death_rate\": 170.0}, {\"age_adjusted_death_rate\": 163.6}, {\"age_adjusted_death_rate\": 43.8}, {\"age_adjusted_death_rate\": 49.6}, {\"age_adjusted_death_rate\": 15.0}, {\"age_adjusted_death_rate\": 156.6}, {\"age_adjusted_death_rate\": 10.7}, {\"age_adjusted_death_rate\": 42.9}, {\"age_adjusted_death_rate\": 164.7}, {\"age_adjusted_death_rate\": 748.2}, {\"age_adjusted_death_rate\": 48.6}, {\"age_adjusted_death_rate\": 15.9}, {\"age_adjusted_death_rate\": 181.7}, {\"age_adjusted_death_rate\": 12.5}, {\"age_adjusted_death_rate\": 37.5}, {\"age_adjusted_death_rate\": 57.4}, {\"age_adjusted_death_rate\": 17.6}, {\"age_adjusted_death_rate\": 36.6}, {\"age_adjusted_death_rate\": 732.4}, {\"age_adjusted_death_rate\": 16.7}, {\"age_adjusted_death_rate\": 20.8}, {\"age_adjusted_death_rate\": 158.1}, {\"age_adjusted_death_rate\": 926.4}, {\"age_adjusted_death_rate\": 785.6}, {\"age_adjusted_death_rate\": 50.5}, {\"age_adjusted_death_rate\": 18.0}, {\"age_adjusted_death_rate\": 230.0}, {\"age_adjusted_death_rate\": 192.8}, {\"age_adjusted_death_rate\": 21.6}, {\"age_adjusted_death_rate\": 867.1}, {\"age_adjusted_death_rate\": 15.7}, {\"age_adjusted_death_rate\": 22.7}, {\"age_adjusted_death_rate\": 12.0}, {\"age_adjusted_death_rate\": 21.3}, {\"age_adjusted_death_rate\": 876.1}, {\"age_adjusted_death_rate\": 14.8}, {\"age_adjusted_death_rate\": 19.7}, {\"age_adjusted_death_rate\": 901.8}, {\"age_adjusted_death_rate\": 11.2}, {\"age_adjusted_death_rate\": 16.3}, {\"age_adjusted_death_rate\": 818.4}, {\"age_adjusted_death_rate\": 11.7}, {\"age_adjusted_death_rate\": 15.4}, {\"age_adjusted_death_rate\": 10.9}, {\"age_adjusted_death_rate\": 49.4}, {\"age_adjusted_death_rate\": 58.5}, {\"age_adjusted_death_rate\": 23.8}, {\"age_adjusted_death_rate\": 32.1}, {\"age_adjusted_death_rate\": 177.8}, {\"age_adjusted_death_rate\": 193.5}, {\"age_adjusted_death_rate\": 181.3}, {\"age_adjusted_death_rate\": 42.3}, {\"age_adjusted_death_rate\": 12.3}, {\"age_adjusted_death_rate\": 17.3}, {\"age_adjusted_death_rate\": 13.6}, {\"age_adjusted_death_rate\": 233.8}, {\"age_adjusted_death_rate\": 12.9}, {\"age_adjusted_death_rate\": 16.2}, {\"age_adjusted_death_rate\": 46.6}, {\"age_adjusted_death_rate\": 760.6}, {\"age_adjusted_death_rate\": 164.2}, {\"age_adjusted_death_rate\": 36.5}, {\"age_adjusted_death_rate\": 26.1}, {\"age_adjusted_death_rate\": 288.1}, {\"age_adjusted_death_rate\": 11.8}, {\"age_adjusted_death_rate\": 31.4}, {\"age_adjusted_death_rate\": 17.9}, {\"age_adjusted_death_rate\": 209.7}, {\"age_adjusted_death_rate\": 22.0}, {\"age_adjusted_death_rate\": 25.0}, {\"age_adjusted_death_rate\": 28.9}, {\"age_adjusted_death_rate\": 175.8}, {\"age_adjusted_death_rate\": 40.8}, {\"age_adjusted_death_rate\": 13.1}, {\"age_adjusted_death_rate\": 759.0}, {\"age_adjusted_death_rate\": 182.1}, {\"age_adjusted_death_rate\": 189.2}, {\"age_adjusted_death_rate\": 20.6}, {\"age_adjusted_death_rate\": 153.0}, {\"age_adjusted_death_rate\": 35.3}, {\"age_adjusted_death_rate\": 24.2}, {\"age_adjusted_death_rate\": 19.8}, {\"age_adjusted_death_rate\": 152.0}, {\"age_adjusted_death_rate\": 43.6}, {\"age_adjusted_death_rate\": 11.2}, {\"age_adjusted_death_rate\": 14.1}, {\"age_adjusted_death_rate\": 22.1}, {\"age_adjusted_death_rate\": 18.6}, {\"age_adjusted_death_rate\": 12.4}, {\"age_adjusted_death_rate\": 26.4}, {\"age_adjusted_death_rate\": 24.8}, {\"age_adjusted_death_rate\": 182.0}, {\"age_adjusted_death_rate\": 29.7}, {\"age_adjusted_death_rate\": 77.9}, {\"age_adjusted_death_rate\": 12.8}, {\"age_adjusted_death_rate\": 17.9}, {\"age_adjusted_death_rate\": 672.1}, {\"age_adjusted_death_rate\": 195.1}, {\"age_adjusted_death_rate\": 47.8}, {\"age_adjusted_death_rate\": 22.1}, {\"age_adjusted_death_rate\": 29.7}, {\"age_adjusted_death_rate\": 716.3}, {\"age_adjusted_death_rate\": 36.1}, {\"age_adjusted_death_rate\": 35.8}, {\"age_adjusted_death_rate\": 807.8}, {\"age_adjusted_death_rate\": 37.2}, {\"age_adjusted_death_rate\": 10.3}, {\"age_adjusted_death_rate\": 9.8}, {\"age_adjusted_death_rate\": 49.8}, {\"age_adjusted_death_rate\": 35.8}, {\"age_adjusted_death_rate\": 14.7}, {\"age_adjusted_death_rate\": 31.8}, {\"age_adjusted_death_rate\": 10.6}, {\"age_adjusted_death_rate\": 907.8}, {\"age_adjusted_death_rate\": 26.6}, {\"age_adjusted_death_rate\": 21.1}, {\"age_adjusted_death_rate\": 25.3}, {\"age_adjusted_death_rate\": 13.3}, {\"age_adjusted_death_rate\": 38.3}, {\"age_adjusted_death_rate\": 13.2}, {\"age_adjusted_death_rate\": 44.4}, {\"age_adjusted_death_rate\": 142.5}, {\"age_adjusted_death_rate\": 49.3}, {\"age_adjusted_death_rate\": 185.7}, {\"age_adjusted_death_rate\": 15.0}, {\"age_adjusted_death_rate\": 170.8}, {\"age_adjusted_death_rate\": 146.8}, {\"age_adjusted_death_rate\": 25.4}, {\"age_adjusted_death_rate\": 49.7}, {\"age_adjusted_death_rate\": 17.1}, {\"age_adjusted_death_rate\": 66.6}, {\"age_adjusted_death_rate\": 37.4}, {\"age_adjusted_death_rate\": 18.4}, {\"age_adjusted_death_rate\": 57.2}, {\"age_adjusted_death_rate\": 25.6}, {\"age_adjusted_death_rate\": 39.3}, {\"age_adjusted_death_rate\": 194.4}, {\"age_adjusted_death_rate\": 205.2}, {\"age_adjusted_death_rate\": 14.0}, {\"age_adjusted_death_rate\": 959.6}, {\"age_adjusted_death_rate\": 22.5}, {\"age_adjusted_death_rate\": 211.2}, {\"age_adjusted_death_rate\": 249.5}, {\"age_adjusted_death_rate\": 13.5}, {\"age_adjusted_death_rate\": 23.4}, {\"age_adjusted_death_rate\": 17.4}, {\"age_adjusted_death_rate\": 19.3}, {\"age_adjusted_death_rate\": 33.8}, {\"age_adjusted_death_rate\": 19.7}, {\"age_adjusted_death_rate\": 26.7}, {\"age_adjusted_death_rate\": 18.2}, {\"age_adjusted_death_rate\": 35.5}, {\"age_adjusted_death_rate\": 35.9}, {\"age_adjusted_death_rate\": 43.0}, {\"age_adjusted_death_rate\": 14.3}, {\"age_adjusted_death_rate\": 36.3}, {\"age_adjusted_death_rate\": 21.2}, {\"age_adjusted_death_rate\": 14.4}, {\"age_adjusted_death_rate\": 8.0}, {\"age_adjusted_death_rate\": 9.0}, {\"age_adjusted_death_rate\": 283.2}, {\"age_adjusted_death_rate\": 13.1}, {\"age_adjusted_death_rate\": 630.1}, {\"age_adjusted_death_rate\": 31.0}, {\"age_adjusted_death_rate\": 162.3}, {\"age_adjusted_death_rate\": 202.7}, {\"age_adjusted_death_rate\": 197.0}, {\"age_adjusted_death_rate\": 13.5}, {\"age_adjusted_death_rate\": 23.4}, {\"age_adjusted_death_rate\": 19.7}, {\"age_adjusted_death_rate\": 17.9}, {\"age_adjusted_death_rate\": 9.7}, {\"age_adjusted_death_rate\": 184.6}, {\"age_adjusted_death_rate\": 42.9}, {\"age_adjusted_death_rate\": 163.2}, {\"age_adjusted_death_rate\": 22.5}, {\"age_adjusted_death_rate\": 14.7}, {\"age_adjusted_death_rate\": 150.3}, {\"age_adjusted_death_rate\": 13.9}, {\"age_adjusted_death_rate\": 14.5}, {\"age_adjusted_death_rate\": 35.1}, {\"age_adjusted_death_rate\": 20.5}, {\"age_adjusted_death_rate\": 169.7}, {\"age_adjusted_death_rate\": 16.3}, {\"age_adjusted_death_rate\": 28.8}, {\"age_adjusted_death_rate\": 16.0}, {\"age_adjusted_death_rate\": 23.6}, {\"age_adjusted_death_rate\": 52.6}, {\"age_adjusted_death_rate\": 700.1}, {\"age_adjusted_death_rate\": 16.4}, {\"age_adjusted_death_rate\": 23.1}, {\"age_adjusted_death_rate\": 48.2}, {\"age_adjusted_death_rate\": 36.8}, {\"age_adjusted_death_rate\": 73.1}, {\"age_adjusted_death_rate\": 16.5}, {\"age_adjusted_death_rate\": 148.7}, {\"age_adjusted_death_rate\": 17.3}, {\"age_adjusted_death_rate\": 662.0}, {\"age_adjusted_death_rate\": 17.8}, {\"age_adjusted_death_rate\": 38.2}, {\"age_adjusted_death_rate\": 39.1}, {\"age_adjusted_death_rate\": 672.9}, {\"age_adjusted_death_rate\": 14.6}, {\"age_adjusted_death_rate\": 194.7}, {\"age_adjusted_death_rate\": 10.1}, {\"age_adjusted_death_rate\": 27.5}, {\"age_adjusted_death_rate\": 47.4}, {\"age_adjusted_death_rate\": 19.3}, {\"age_adjusted_death_rate\": 14.0}, {\"age_adjusted_death_rate\": 22.6}, {\"age_adjusted_death_rate\": 816.9}, {\"age_adjusted_death_rate\": 688.9}, {\"age_adjusted_death_rate\": 31.7}, {\"age_adjusted_death_rate\": 717.3}, {\"age_adjusted_death_rate\": 47.5}, {\"age_adjusted_death_rate\": 56.7}, {\"age_adjusted_death_rate\": 158.0}, {\"age_adjusted_death_rate\": 9.7}, {\"age_adjusted_death_rate\": 212.0}, {\"age_adjusted_death_rate\": 19.1}, {\"age_adjusted_death_rate\": 22.1}, {\"age_adjusted_death_rate\": 16.8}, {\"age_adjusted_death_rate\": 21.9}, {\"age_adjusted_death_rate\": 16.4}, {\"age_adjusted_death_rate\": 64.1}, {\"age_adjusted_death_rate\": 52.9}, {\"age_adjusted_death_rate\": 745.3}, {\"age_adjusted_death_rate\": 30.1}, {\"age_adjusted_death_rate\": 59.0}, {\"age_adjusted_death_rate\": 14.4}, {\"age_adjusted_death_rate\": 20.8}, {\"age_adjusted_death_rate\": 12.1}, {\"age_adjusted_death_rate\": 17.4}, {\"age_adjusted_death_rate\": 21.3}, {\"age_adjusted_death_rate\": 18.0}, {\"age_adjusted_death_rate\": 10.8}, {\"age_adjusted_death_rate\": 179.0}, {\"age_adjusted_death_rate\": 43.2}, {\"age_adjusted_death_rate\": 169.5}, {\"age_adjusted_death_rate\": 40.0}, {\"age_adjusted_death_rate\": 22.2}, {\"age_adjusted_death_rate\": 55.7}, {\"age_adjusted_death_rate\": 33.4}, {\"age_adjusted_death_rate\": 17.0}, {\"age_adjusted_death_rate\": 45.3}, {\"age_adjusted_death_rate\": 842.3}, {\"age_adjusted_death_rate\": 23.4}, {\"age_adjusted_death_rate\": 53.8}, {\"age_adjusted_death_rate\": 10.1}, {\"age_adjusted_death_rate\": 25.2}, {\"age_adjusted_death_rate\": 6.9}, {\"age_adjusted_death_rate\": 718.3}, {\"age_adjusted_death_rate\": 18.8}, {\"age_adjusted_death_rate\": 172.2}, {\"age_adjusted_death_rate\": 14.3}, {\"age_adjusted_death_rate\": 20.4}, {\"age_adjusted_death_rate\": 683.2}, {\"age_adjusted_death_rate\": 171.2}, {\"age_adjusted_death_rate\": 152.9}, {\"age_adjusted_death_rate\": 6.2}, {\"age_adjusted_death_rate\": 34.1}, {\"age_adjusted_death_rate\": 10.1}, {\"age_adjusted_death_rate\": 733.7}, {\"age_adjusted_death_rate\": 8.9}, {\"age_adjusted_death_rate\": 44.0}, {\"age_adjusted_death_rate\": 22.7}, {\"age_adjusted_death_rate\": 150.7}, {\"age_adjusted_death_rate\": 164.5}, {\"age_adjusted_death_rate\": 216.8}, {\"age_adjusted_death_rate\": 14.1}, {\"age_adjusted_death_rate\": 57.9}, {\"age_adjusted_death_rate\": 148.9}, {\"age_adjusted_death_rate\": 46.9}, {\"age_adjusted_death_rate\": 11.6}, {\"age_adjusted_death_rate\": 332.6}, {\"age_adjusted_death_rate\": 38.0}, {\"age_adjusted_death_rate\": 18.2}, {\"age_adjusted_death_rate\": 11.4}, {\"age_adjusted_death_rate\": 22.3}, {\"age_adjusted_death_rate\": 9.1}, {\"age_adjusted_death_rate\": 33.9}, {\"age_adjusted_death_rate\": 47.0}, {\"age_adjusted_death_rate\": 8.8}, {\"age_adjusted_death_rate\": 230.4}, {\"age_adjusted_death_rate\": 195.7}, {\"age_adjusted_death_rate\": 12.6}, {\"age_adjusted_death_rate\": 30.7}, {\"age_adjusted_death_rate\": 7.3}, {\"age_adjusted_death_rate\": 34.4}, {\"age_adjusted_death_rate\": 12.1}, {\"age_adjusted_death_rate\": 164.0}, {\"age_adjusted_death_rate\": 21.6}, {\"age_adjusted_death_rate\": 148.4}, {\"age_adjusted_death_rate\": 19.2}, {\"age_adjusted_death_rate\": 13.6}, {\"age_adjusted_death_rate\": 51.5}, {\"age_adjusted_death_rate\": 35.6}, {\"age_adjusted_death_rate\": 23.7}, {\"age_adjusted_death_rate\": 48.7}, {\"age_adjusted_death_rate\": 21.4}, {\"age_adjusted_death_rate\": 752.6}, {\"age_adjusted_death_rate\": 7.7}, {\"age_adjusted_death_rate\": 172.0}, {\"age_adjusted_death_rate\": 53.2}, {\"age_adjusted_death_rate\": 45.5}, {\"age_adjusted_death_rate\": 38.0}, {\"age_adjusted_death_rate\": 57.2}, {\"age_adjusted_death_rate\": 199.9}, {\"age_adjusted_death_rate\": 34.5}, {\"age_adjusted_death_rate\": 40.6}, {\"age_adjusted_death_rate\": 856.8}, {\"age_adjusted_death_rate\": 53.0}, {\"age_adjusted_death_rate\": 24.5}, {\"age_adjusted_death_rate\": 24.3}, {\"age_adjusted_death_rate\": 158.3}, {\"age_adjusted_death_rate\": 61.4}, {\"age_adjusted_death_rate\": 61.2}, {\"age_adjusted_death_rate\": 25.2}, {\"age_adjusted_death_rate\": 13.2}, {\"age_adjusted_death_rate\": 10.5}, {\"age_adjusted_death_rate\": 279.1}, {\"age_adjusted_death_rate\": 158.5}, {\"age_adjusted_death_rate\": 41.5}, {\"age_adjusted_death_rate\": 42.7}, {\"age_adjusted_death_rate\": 72.9}, {\"age_adjusted_death_rate\": 26.8}, {\"age_adjusted_death_rate\": 175.9}, {\"age_adjusted_death_rate\": 100.3}, {\"age_adjusted_death_rate\": 14.7}, {\"age_adjusted_death_rate\": 12.7}, {\"age_adjusted_death_rate\": 138.9}, {\"age_adjusted_death_rate\": 18.0}, {\"age_adjusted_death_rate\": 146.7}, {\"age_adjusted_death_rate\": 145.4}, {\"age_adjusted_death_rate\": 152.6}, {\"age_adjusted_death_rate\": 21.2}, {\"age_adjusted_death_rate\": 786.4}, {\"age_adjusted_death_rate\": 21.9}, {\"age_adjusted_death_rate\": 36.5}, {\"age_adjusted_death_rate\": 34.6}, {\"age_adjusted_death_rate\": 910.7}, {\"age_adjusted_death_rate\": 139.1}, {\"age_adjusted_death_rate\": 12.4}, {\"age_adjusted_death_rate\": 30.6}, {\"age_adjusted_death_rate\": 13.4}, {\"age_adjusted_death_rate\": 24.6}, {\"age_adjusted_death_rate\": 33.9}, {\"age_adjusted_death_rate\": 13.3}, {\"age_adjusted_death_rate\": 686.5}, {\"age_adjusted_death_rate\": 181.8}, {\"age_adjusted_death_rate\": 23.9}, {\"age_adjusted_death_rate\": 22.0}, {\"age_adjusted_death_rate\": 28.8}, {\"age_adjusted_death_rate\": 18.1}, {\"age_adjusted_death_rate\": 50.1}, {\"age_adjusted_death_rate\": 22.7}, {\"age_adjusted_death_rate\": 769.9}, {\"age_adjusted_death_rate\": 14.6}, {\"age_adjusted_death_rate\": 27.5}, {\"age_adjusted_death_rate\": 58.1}, {\"age_adjusted_death_rate\": 22.0}, {\"age_adjusted_death_rate\": 150.6}, {\"age_adjusted_death_rate\": 212.1}, {\"age_adjusted_death_rate\": 20.1}, {\"age_adjusted_death_rate\": 24.5}, {\"age_adjusted_death_rate\": 45.7}, {\"age_adjusted_death_rate\": 19.9}, {\"age_adjusted_death_rate\": 41.5}, {\"age_adjusted_death_rate\": 190.0}, {\"age_adjusted_death_rate\": 782.4}, {\"age_adjusted_death_rate\": 12.6}, {\"age_adjusted_death_rate\": 30.5}, {\"age_adjusted_death_rate\": 20.1}, {\"age_adjusted_death_rate\": 13.3}, {\"age_adjusted_death_rate\": 23.0}, {\"age_adjusted_death_rate\": 10.8}, {\"age_adjusted_death_rate\": 16.9}, {\"age_adjusted_death_rate\": 157.3}, {\"age_adjusted_death_rate\": 4.1}, {\"age_adjusted_death_rate\": 731.9}, {\"age_adjusted_death_rate\": 48.7}, {\"age_adjusted_death_rate\": 18.2}, {\"age_adjusted_death_rate\": 15.4}, {\"age_adjusted_death_rate\": 200.8}, {\"age_adjusted_death_rate\": 30.0}, {\"age_adjusted_death_rate\": 5.7}, {\"age_adjusted_death_rate\": 34.5}, {\"age_adjusted_death_rate\": 1034.1}, {\"age_adjusted_death_rate\": 24.0}, {\"age_adjusted_death_rate\": 47.9}, {\"age_adjusted_death_rate\": 38.0}, {\"age_adjusted_death_rate\": 29.4}, {\"age_adjusted_death_rate\": 31.6}, {\"age_adjusted_death_rate\": 39.9}, {\"age_adjusted_death_rate\": 32.7}, {\"age_adjusted_death_rate\": 62.4}, {\"age_adjusted_death_rate\": 48.0}, {\"age_adjusted_death_rate\": 43.0}, {\"age_adjusted_death_rate\": 56.1}, {\"age_adjusted_death_rate\": 50.3}, {\"age_adjusted_death_rate\": 19.8}, {\"age_adjusted_death_rate\": 154.2}, {\"age_adjusted_death_rate\": 44.8}, {\"age_adjusted_death_rate\": 19.5}, {\"age_adjusted_death_rate\": 264.9}, {\"age_adjusted_death_rate\": 47.1}, {\"age_adjusted_death_rate\": 209.0}, {\"age_adjusted_death_rate\": 12.3}, {\"age_adjusted_death_rate\": 24.5}, {\"age_adjusted_death_rate\": 26.4}, {\"age_adjusted_death_rate\": 161.2}, {\"age_adjusted_death_rate\": 50.1}, {\"age_adjusted_death_rate\": 39.4}, {\"age_adjusted_death_rate\": 28.9}, {\"age_adjusted_death_rate\": 12.1}, {\"age_adjusted_death_rate\": 28.1}, {\"age_adjusted_death_rate\": 22.2}, {\"age_adjusted_death_rate\": 21.3}, {\"age_adjusted_death_rate\": 48.6}, {\"age_adjusted_death_rate\": 20.9}, {\"age_adjusted_death_rate\": 46.7}, {\"age_adjusted_death_rate\": 235.2}, {\"age_adjusted_death_rate\": 11.3}, {\"age_adjusted_death_rate\": 753.2}, {\"age_adjusted_death_rate\": 857.7}, {\"age_adjusted_death_rate\": 20.2}, {\"age_adjusted_death_rate\": 41.3}, {\"age_adjusted_death_rate\": 23.7}, {\"age_adjusted_death_rate\": 37.1}, {\"age_adjusted_death_rate\": 48.4}, {\"age_adjusted_death_rate\": 918.7}, {\"age_adjusted_death_rate\": 159.5}, {\"age_adjusted_death_rate\": 161.0}, {\"age_adjusted_death_rate\": 38.9}, {\"age_adjusted_death_rate\": 201.6}, {\"age_adjusted_death_rate\": 19.2}, {\"age_adjusted_death_rate\": 16.8}, {\"age_adjusted_death_rate\": 205.7}, {\"age_adjusted_death_rate\": 44.2}, {\"age_adjusted_death_rate\": 677.8}, {\"age_adjusted_death_rate\": 65.6}, {\"age_adjusted_death_rate\": 26.1}, {\"age_adjusted_death_rate\": 35.9}, {\"age_adjusted_death_rate\": 23.3}, {\"age_adjusted_death_rate\": 43.0}, {\"age_adjusted_death_rate\": 11.2}, {\"age_adjusted_death_rate\": 12.2}, {\"age_adjusted_death_rate\": 23.6}, {\"age_adjusted_death_rate\": 43.3}, {\"age_adjusted_death_rate\": 32.0}, {\"age_adjusted_death_rate\": 48.7}, {\"age_adjusted_death_rate\": 53.3}, {\"age_adjusted_death_rate\": 926.7}, {\"age_adjusted_death_rate\": 22.7}, {\"age_adjusted_death_rate\": 33.7}, {\"age_adjusted_death_rate\": 46.0}, {\"age_adjusted_death_rate\": 793.5}, {\"age_adjusted_death_rate\": 912.6}, {\"age_adjusted_death_rate\": 184.7}, {\"age_adjusted_death_rate\": 148.5}, {\"age_adjusted_death_rate\": 40.1}, {\"age_adjusted_death_rate\": 20.1}, {\"age_adjusted_death_rate\": 171.9}, {\"age_adjusted_death_rate\": 23.1}, {\"age_adjusted_death_rate\": 28.9}, {\"age_adjusted_death_rate\": 20.8}, {\"age_adjusted_death_rate\": 159.4}, {\"age_adjusted_death_rate\": 136.1}, {\"age_adjusted_death_rate\": 39.3}, {\"age_adjusted_death_rate\": 11.3}, {\"age_adjusted_death_rate\": 38.0}, {\"age_adjusted_death_rate\": 13.4}, {\"age_adjusted_death_rate\": 8.8}, {\"age_adjusted_death_rate\": 993.0}, {\"age_adjusted_death_rate\": 35.3}, {\"age_adjusted_death_rate\": 819.5}, {\"age_adjusted_death_rate\": 24.6}, {\"age_adjusted_death_rate\": 211.9}, {\"age_adjusted_death_rate\": 23.3}, {\"age_adjusted_death_rate\": 18.7}, {\"age_adjusted_death_rate\": 9.2}, {\"age_adjusted_death_rate\": 34.0}, {\"age_adjusted_death_rate\": 16.0}, {\"age_adjusted_death_rate\": 799.4}, {\"age_adjusted_death_rate\": 917.1}, {\"age_adjusted_death_rate\": 28.3}, {\"age_adjusted_death_rate\": 32.3}, {\"age_adjusted_death_rate\": 17.5}, {\"age_adjusted_death_rate\": 22.4}, {\"age_adjusted_death_rate\": 40.6}, {\"age_adjusted_death_rate\": 29.4}, {\"age_adjusted_death_rate\": 41.8}, {\"age_adjusted_death_rate\": 26.5}, {\"age_adjusted_death_rate\": 14.9}, {\"age_adjusted_death_rate\": 22.3}, {\"age_adjusted_death_rate\": 214.7}, {\"age_adjusted_death_rate\": 18.0}, {\"age_adjusted_death_rate\": 37.8}, {\"age_adjusted_death_rate\": 22.9}, {\"age_adjusted_death_rate\": 21.9}, {\"age_adjusted_death_rate\": 41.8}, {\"age_adjusted_death_rate\": 17.7}, {\"age_adjusted_death_rate\": 22.3}, {\"age_adjusted_death_rate\": 11.3}, {\"age_adjusted_death_rate\": 170.6}, {\"age_adjusted_death_rate\": 173.9}, {\"age_adjusted_death_rate\": 15.7}, {\"age_adjusted_death_rate\": 821.7}, {\"age_adjusted_death_rate\": 42.2}, {\"age_adjusted_death_rate\": 178.6}, {\"age_adjusted_death_rate\": 40.8}, {\"age_adjusted_death_rate\": 19.2}, {\"age_adjusted_death_rate\": 32.3}, {\"age_adjusted_death_rate\": 202.5}, {\"age_adjusted_death_rate\": 10.2}, {\"age_adjusted_death_rate\": 15.1}, {\"age_adjusted_death_rate\": 15.9}, {\"age_adjusted_death_rate\": 20.0}, {\"age_adjusted_death_rate\": 7.2}, {\"age_adjusted_death_rate\": 17.7}, {\"age_adjusted_death_rate\": 166.4}, {\"age_adjusted_death_rate\": 16.9}, {\"age_adjusted_death_rate\": 34.4}, {\"age_adjusted_death_rate\": 17.4}, {\"age_adjusted_death_rate\": 751.9}, {\"age_adjusted_death_rate\": 39.1}, {\"age_adjusted_death_rate\": 21.9}, {\"age_adjusted_death_rate\": 14.3}, {\"age_adjusted_death_rate\": 41.3}, {\"age_adjusted_death_rate\": 213.0}, {\"age_adjusted_death_rate\": 16.5}, {\"age_adjusted_death_rate\": 236.0}, {\"age_adjusted_death_rate\": 44.9}, {\"age_adjusted_death_rate\": 19.2}, {\"age_adjusted_death_rate\": 32.1}, {\"age_adjusted_death_rate\": 174.6}, {\"age_adjusted_death_rate\": 7.0}, {\"age_adjusted_death_rate\": 757.2}, {\"age_adjusted_death_rate\": 27.7}, {\"age_adjusted_death_rate\": 184.0}, {\"age_adjusted_death_rate\": 18.1}, {\"age_adjusted_death_rate\": 56.0}, {\"age_adjusted_death_rate\": 42.4}, {\"age_adjusted_death_rate\": 18.3}, {\"age_adjusted_death_rate\": 22.4}, {\"age_adjusted_death_rate\": 55.8}, {\"age_adjusted_death_rate\": 731.6}, {\"age_adjusted_death_rate\": 17.8}, {\"age_adjusted_death_rate\": 33.3}, {\"age_adjusted_death_rate\": 19.7}, {\"age_adjusted_death_rate\": 182.2}, {\"age_adjusted_death_rate\": 53.3}, {\"age_adjusted_death_rate\": 7.1}, {\"age_adjusted_death_rate\": 17.7}, {\"age_adjusted_death_rate\": 21.5}, {\"age_adjusted_death_rate\": 16.9}, {\"age_adjusted_death_rate\": 19.3}, {\"age_adjusted_death_rate\": 794.6}, {\"age_adjusted_death_rate\": 26.0}, {\"age_adjusted_death_rate\": 682.7}, {\"age_adjusted_death_rate\": 20.2}, {\"age_adjusted_death_rate\": 20.2}, {\"age_adjusted_death_rate\": 16.8}, {\"age_adjusted_death_rate\": 17.8}, {\"age_adjusted_death_rate\": 28.5}, {\"age_adjusted_death_rate\": 33.6}, {\"age_adjusted_death_rate\": 27.9}, {\"age_adjusted_death_rate\": 195.6}, {\"age_adjusted_death_rate\": 22.1}, {\"age_adjusted_death_rate\": 48.7}, {\"age_adjusted_death_rate\": 203.7}, {\"age_adjusted_death_rate\": 38.1}, {\"age_adjusted_death_rate\": 19.6}, {\"age_adjusted_death_rate\": 25.5}, {\"age_adjusted_death_rate\": 18.8}, {\"age_adjusted_death_rate\": 908.9}, {\"age_adjusted_death_rate\": 14.0}, {\"age_adjusted_death_rate\": 47.9}, {\"age_adjusted_death_rate\": 28.2}, {\"age_adjusted_death_rate\": 667.5}, {\"age_adjusted_death_rate\": 22.3}, {\"age_adjusted_death_rate\": 29.8}, {\"age_adjusted_death_rate\": 23.9}, {\"age_adjusted_death_rate\": 19.2}, {\"age_adjusted_death_rate\": 182.9}, {\"age_adjusted_death_rate\": 693.8}, {\"age_adjusted_death_rate\": 11.1}, {\"age_adjusted_death_rate\": 44.9}, {\"age_adjusted_death_rate\": 207.8}, {\"age_adjusted_death_rate\": 193.9}, {\"age_adjusted_death_rate\": 41.1}, {\"age_adjusted_death_rate\": 9.9}, {\"age_adjusted_death_rate\": 47.6}, {\"age_adjusted_death_rate\": 200.1}, {\"age_adjusted_death_rate\": 45.3}, {\"age_adjusted_death_rate\": 54.9}, {\"age_adjusted_death_rate\": 8.5}, {\"age_adjusted_death_rate\": 23.2}, {\"age_adjusted_death_rate\": 9.3}, {\"age_adjusted_death_rate\": 14.7}, {\"age_adjusted_death_rate\": 44.6}, {\"age_adjusted_death_rate\": 13.2}, {\"age_adjusted_death_rate\": 27.5}, {\"age_adjusted_death_rate\": 22.4}, {\"age_adjusted_death_rate\": 167.5}, {\"age_adjusted_death_rate\": 19.9}, {\"age_adjusted_death_rate\": 30.5}, {\"age_adjusted_death_rate\": 17.6}, {\"age_adjusted_death_rate\": 150.8}, {\"age_adjusted_death_rate\": 783.5}, {\"age_adjusted_death_rate\": 25.7}, {\"age_adjusted_death_rate\": 26.7}, {\"age_adjusted_death_rate\": 44.0}, {\"age_adjusted_death_rate\": 148.6}, {\"age_adjusted_death_rate\": 135.3}, {\"age_adjusted_death_rate\": 9.2}, {\"age_adjusted_death_rate\": 25.3}, {\"age_adjusted_death_rate\": 50.5}, {\"age_adjusted_death_rate\": 193.4}, {\"age_adjusted_death_rate\": 22.8}, {\"age_adjusted_death_rate\": 15.5}, {\"age_adjusted_death_rate\": 44.6}, {\"age_adjusted_death_rate\": 13.4}, {\"age_adjusted_death_rate\": 33.6}, {\"age_adjusted_death_rate\": 301.6}, {\"age_adjusted_death_rate\": 10.3}, {\"age_adjusted_death_rate\": 190.5}, {\"age_adjusted_death_rate\": 31.3}, {\"age_adjusted_death_rate\": 19.4}, {\"age_adjusted_death_rate\": 172.0}, {\"age_adjusted_death_rate\": 13.4}, {\"age_adjusted_death_rate\": 863.5}, {\"age_adjusted_death_rate\": 151.5}, {\"age_adjusted_death_rate\": 196.5}, {\"age_adjusted_death_rate\": 139.2}, {\"age_adjusted_death_rate\": 197.4}, {\"age_adjusted_death_rate\": 58.9}, {\"age_adjusted_death_rate\": 259.1}, {\"age_adjusted_death_rate\": 22.2}, {\"age_adjusted_death_rate\": 59.8}, {\"age_adjusted_death_rate\": 893.2}, {\"age_adjusted_death_rate\": 34.9}, {\"age_adjusted_death_rate\": 14.9}, {\"age_adjusted_death_rate\": 21.3}, {\"age_adjusted_death_rate\": 10.7}, {\"age_adjusted_death_rate\": 37.6}, {\"age_adjusted_death_rate\": 138.2}, {\"age_adjusted_death_rate\": 60.1}, {\"age_adjusted_death_rate\": 21.5}, {\"age_adjusted_death_rate\": 14.8}, {\"age_adjusted_death_rate\": 210.9}, {\"age_adjusted_death_rate\": 23.0}, {\"age_adjusted_death_rate\": 249.5}, {\"age_adjusted_death_rate\": 12.4}, {\"age_adjusted_death_rate\": 12.3}, {\"age_adjusted_death_rate\": 161.3}, {\"age_adjusted_death_rate\": 747.0}, {\"age_adjusted_death_rate\": 21.9}, {\"age_adjusted_death_rate\": 19.2}, {\"age_adjusted_death_rate\": 189.0}, {\"age_adjusted_death_rate\": 12.3}, {\"age_adjusted_death_rate\": 709.1}, {\"age_adjusted_death_rate\": 179.6}, {\"age_adjusted_death_rate\": 18.0}, {\"age_adjusted_death_rate\": 20.0}, {\"age_adjusted_death_rate\": 11.2}, {\"age_adjusted_death_rate\": 35.3}, {\"age_adjusted_death_rate\": 844.4}, {\"age_adjusted_death_rate\": 714.7}, {\"age_adjusted_death_rate\": 14.8}, {\"age_adjusted_death_rate\": 40.4}, {\"age_adjusted_death_rate\": 142.4}, {\"age_adjusted_death_rate\": 19.9}, {\"age_adjusted_death_rate\": 151.8}, {\"age_adjusted_death_rate\": 13.0}, {\"age_adjusted_death_rate\": 34.9}, {\"age_adjusted_death_rate\": 39.5}, {\"age_adjusted_death_rate\": 31.3}, {\"age_adjusted_death_rate\": 37.9}, {\"age_adjusted_death_rate\": 184.7}, {\"age_adjusted_death_rate\": 27.7}, {\"age_adjusted_death_rate\": 21.9}, {\"age_adjusted_death_rate\": 42.7}, {\"age_adjusted_death_rate\": 623.6}, {\"age_adjusted_death_rate\": 1002.1}, {\"age_adjusted_death_rate\": 33.2}, {\"age_adjusted_death_rate\": 154.5}, {\"age_adjusted_death_rate\": 52.9}, {\"age_adjusted_death_rate\": 45.5}, {\"age_adjusted_death_rate\": 281.7}, {\"age_adjusted_death_rate\": 20.3}, {\"age_adjusted_death_rate\": 13.7}, {\"age_adjusted_death_rate\": 19.7}, {\"age_adjusted_death_rate\": 14.1}, {\"age_adjusted_death_rate\": 56.8}, {\"age_adjusted_death_rate\": 21.3}, {\"age_adjusted_death_rate\": 9.7}, {\"age_adjusted_death_rate\": 50.7}, {\"age_adjusted_death_rate\": 11.9}, {\"age_adjusted_death_rate\": 945.6}, {\"age_adjusted_death_rate\": 220.4}, {\"age_adjusted_death_rate\": 153.2}, {\"age_adjusted_death_rate\": 34.1}, {\"age_adjusted_death_rate\": 40.8}, {\"age_adjusted_death_rate\": 27.6}, {\"age_adjusted_death_rate\": 65.0}, {\"age_adjusted_death_rate\": 48.5}, {\"age_adjusted_death_rate\": 42.9}, {\"age_adjusted_death_rate\": 31.3}, {\"age_adjusted_death_rate\": 26.6}, {\"age_adjusted_death_rate\": 5.6}, {\"age_adjusted_death_rate\": 31.9}, {\"age_adjusted_death_rate\": 44.8}, {\"age_adjusted_death_rate\": 14.5}, {\"age_adjusted_death_rate\": 26.1}, {\"age_adjusted_death_rate\": 20.4}, {\"age_adjusted_death_rate\": 24.8}, {\"age_adjusted_death_rate\": 170.6}, {\"age_adjusted_death_rate\": 42.5}, {\"age_adjusted_death_rate\": 18.7}, {\"age_adjusted_death_rate\": 222.5}, {\"age_adjusted_death_rate\": 30.8}, {\"age_adjusted_death_rate\": 35.8}, {\"age_adjusted_death_rate\": 52.9}, {\"age_adjusted_death_rate\": 26.7}, {\"age_adjusted_death_rate\": 25.1}, {\"age_adjusted_death_rate\": 13.1}, {\"age_adjusted_death_rate\": 169.2}, {\"age_adjusted_death_rate\": 190.5}, {\"age_adjusted_death_rate\": 21.6}, {\"age_adjusted_death_rate\": 32.6}, {\"age_adjusted_death_rate\": 35.8}, {\"age_adjusted_death_rate\": 20.8}, {\"age_adjusted_death_rate\": 23.5}, {\"age_adjusted_death_rate\": 12.9}, {\"age_adjusted_death_rate\": 771.1}, {\"age_adjusted_death_rate\": 20.7}, {\"age_adjusted_death_rate\": 39.0}, {\"age_adjusted_death_rate\": 24.4}, {\"age_adjusted_death_rate\": 29.2}, {\"age_adjusted_death_rate\": 13.6}, {\"age_adjusted_death_rate\": 18.1}, {\"age_adjusted_death_rate\": 24.6}, {\"age_adjusted_death_rate\": 42.0}, {\"age_adjusted_death_rate\": 219.6}, {\"age_adjusted_death_rate\": 16.5}, {\"age_adjusted_death_rate\": 154.1}, {\"age_adjusted_death_rate\": 761.3}, {\"age_adjusted_death_rate\": 41.7}, {\"age_adjusted_death_rate\": 15.1}, {\"age_adjusted_death_rate\": 15.2}, {\"age_adjusted_death_rate\": 12.3}, {\"age_adjusted_death_rate\": 22.6}, {\"age_adjusted_death_rate\": 161.3}, {\"age_adjusted_death_rate\": 815.7}, {\"age_adjusted_death_rate\": 162.5}, {\"age_adjusted_death_rate\": 8.8}, {\"age_adjusted_death_rate\": 13.2}, {\"age_adjusted_death_rate\": 20.3}, {\"age_adjusted_death_rate\": 10.9}, {\"age_adjusted_death_rate\": 14.8}, {\"age_adjusted_death_rate\": 25.5}, {\"age_adjusted_death_rate\": 47.6}, {\"age_adjusted_death_rate\": 21.9}, {\"age_adjusted_death_rate\": 11.6}, {\"age_adjusted_death_rate\": 48.3}, {\"age_adjusted_death_rate\": 28.2}, {\"age_adjusted_death_rate\": 18.4}, {\"age_adjusted_death_rate\": 55.2}, {\"age_adjusted_death_rate\": 37.9}, {\"age_adjusted_death_rate\": 193.1}, {\"age_adjusted_death_rate\": 21.1}, {\"age_adjusted_death_rate\": 946.0}, {\"age_adjusted_death_rate\": 189.9}, {\"age_adjusted_death_rate\": 155.4}, {\"age_adjusted_death_rate\": 11.1}, {\"age_adjusted_death_rate\": 15.6}, {\"age_adjusted_death_rate\": 6.8}, {\"age_adjusted_death_rate\": 10.2}, {\"age_adjusted_death_rate\": 25.9}, {\"age_adjusted_death_rate\": 14.4}, {\"age_adjusted_death_rate\": 176.4}, {\"age_adjusted_death_rate\": 46.4}, {\"age_adjusted_death_rate\": 21.5}, {\"age_adjusted_death_rate\": 40.1}, {\"age_adjusted_death_rate\": 19.9}, {\"age_adjusted_death_rate\": 200.9}, {\"age_adjusted_death_rate\": 646.5}, {\"age_adjusted_death_rate\": 68.1}, {\"age_adjusted_death_rate\": 12.7}, {\"age_adjusted_death_rate\": 32.6}, {\"age_adjusted_death_rate\": 233.7}, {\"age_adjusted_death_rate\": 35.2}, {\"age_adjusted_death_rate\": 812.8}, {\"age_adjusted_death_rate\": 8.3}, {\"age_adjusted_death_rate\": 47.1}, {\"age_adjusted_death_rate\": 30.4}, {\"age_adjusted_death_rate\": 909.5}, {\"age_adjusted_death_rate\": 15.8}, {\"age_adjusted_death_rate\": 17.7}, {\"age_adjusted_death_rate\": 151.5}, {\"age_adjusted_death_rate\": 44.6}, {\"age_adjusted_death_rate\": 42.4}, {\"age_adjusted_death_rate\": 20.7}, {\"age_adjusted_death_rate\": 190.5}, {\"age_adjusted_death_rate\": 40.0}, {\"age_adjusted_death_rate\": 18.3}, {\"age_adjusted_death_rate\": 22.1}, {\"age_adjusted_death_rate\": 734.3}, {\"age_adjusted_death_rate\": 16.8}, {\"age_adjusted_death_rate\": 26.1}, {\"age_adjusted_death_rate\": 177.2}, {\"age_adjusted_death_rate\": 191.6}, {\"age_adjusted_death_rate\": 857.6}, {\"age_adjusted_death_rate\": 56.3}, {\"age_adjusted_death_rate\": 659.2}, {\"age_adjusted_death_rate\": 28.2}, {\"age_adjusted_death_rate\": 20.6}, {\"age_adjusted_death_rate\": 42.1}, {\"age_adjusted_death_rate\": 225.6}, {\"age_adjusted_death_rate\": 23.3}, {\"age_adjusted_death_rate\": 24.6}, {\"age_adjusted_death_rate\": 42.5}, {\"age_adjusted_death_rate\": 195.2}, {\"age_adjusted_death_rate\": 12.5}, {\"age_adjusted_death_rate\": 6.1}, {\"age_adjusted_death_rate\": 24.3}, {\"age_adjusted_death_rate\": 172.6}, {\"age_adjusted_death_rate\": 20.1}, {\"age_adjusted_death_rate\": 152.4}, {\"age_adjusted_death_rate\": 27.4}, {\"age_adjusted_death_rate\": 48.5}, {\"age_adjusted_death_rate\": 18.7}, {\"age_adjusted_death_rate\": 154.1}, {\"age_adjusted_death_rate\": 15.1}, {\"age_adjusted_death_rate\": 12.8}, {\"age_adjusted_death_rate\": 164.5}, {\"age_adjusted_death_rate\": 26.4}, {\"age_adjusted_death_rate\": 50.4}, {\"age_adjusted_death_rate\": 10.3}, {\"age_adjusted_death_rate\": 10.2}, {\"age_adjusted_death_rate\": 9.9}, {\"age_adjusted_death_rate\": 18.2}, {\"age_adjusted_death_rate\": 48.6}, {\"age_adjusted_death_rate\": 14.1}, {\"age_adjusted_death_rate\": 23.6}, {\"age_adjusted_death_rate\": 202.2}, {\"age_adjusted_death_rate\": 12.4}, {\"age_adjusted_death_rate\": 39.9}, {\"age_adjusted_death_rate\": 27.4}, {\"age_adjusted_death_rate\": 870.5}, {\"age_adjusted_death_rate\": 16.4}, {\"age_adjusted_death_rate\": 19.7}, {\"age_adjusted_death_rate\": 41.5}, {\"age_adjusted_death_rate\": 24.5}, {\"age_adjusted_death_rate\": 41.5}, {\"age_adjusted_death_rate\": 35.8}, {\"age_adjusted_death_rate\": 1043.4}, {\"age_adjusted_death_rate\": 18.5}, {\"age_adjusted_death_rate\": 35.6}, {\"age_adjusted_death_rate\": 13.0}, {\"age_adjusted_death_rate\": 155.5}, {\"age_adjusted_death_rate\": 13.6}, {\"age_adjusted_death_rate\": 12.6}, {\"age_adjusted_death_rate\": 187.6}, {\"age_adjusted_death_rate\": 10.5}, {\"age_adjusted_death_rate\": 14.6}, {\"age_adjusted_death_rate\": 15.0}, {\"age_adjusted_death_rate\": 6.7}, {\"age_adjusted_death_rate\": 49.9}, {\"age_adjusted_death_rate\": 17.0}, {\"age_adjusted_death_rate\": 44.2}, {\"age_adjusted_death_rate\": 195.0}, {\"age_adjusted_death_rate\": 13.6}, {\"age_adjusted_death_rate\": 59.4}, {\"age_adjusted_death_rate\": 11.5}, {\"age_adjusted_death_rate\": 156.9}, {\"age_adjusted_death_rate\": 19.0}, {\"age_adjusted_death_rate\": 44.0}, {\"age_adjusted_death_rate\": 185.5}, {\"age_adjusted_death_rate\": 68.3}, {\"age_adjusted_death_rate\": 7.9}, {\"age_adjusted_death_rate\": 10.9}, {\"age_adjusted_death_rate\": 19.6}, {\"age_adjusted_death_rate\": 693.1}, {\"age_adjusted_death_rate\": 41.5}, {\"age_adjusted_death_rate\": 7.2}, {\"age_adjusted_death_rate\": 15.9}, {\"age_adjusted_death_rate\": 12.9}, {\"age_adjusted_death_rate\": 155.9}, {\"age_adjusted_death_rate\": 179.9}, {\"age_adjusted_death_rate\": 808.1}, {\"age_adjusted_death_rate\": 46.9}, {\"age_adjusted_death_rate\": 166.0}, {\"age_adjusted_death_rate\": 9.3}, {\"age_adjusted_death_rate\": 21.8}, {\"age_adjusted_death_rate\": 25.5}, {\"age_adjusted_death_rate\": 46.3}, {\"age_adjusted_death_rate\": 41.4}, {\"age_adjusted_death_rate\": 39.3}, {\"age_adjusted_death_rate\": 153.1}, {\"age_adjusted_death_rate\": 13.6}, {\"age_adjusted_death_rate\": 167.2}, {\"age_adjusted_death_rate\": 47.8}, {\"age_adjusted_death_rate\": 193.7}, {\"age_adjusted_death_rate\": 23.2}, {\"age_adjusted_death_rate\": 9.4}, {\"age_adjusted_death_rate\": 30.5}, {\"age_adjusted_death_rate\": 779.7}, {\"age_adjusted_death_rate\": 39.7}, {\"age_adjusted_death_rate\": 44.3}, {\"age_adjusted_death_rate\": 29.8}, {\"age_adjusted_death_rate\": 62.7}, {\"age_adjusted_death_rate\": 7.9}, {\"age_adjusted_death_rate\": 22.9}, {\"age_adjusted_death_rate\": 17.0}, {\"age_adjusted_death_rate\": 14.2}, {\"age_adjusted_death_rate\": 35.0}, {\"age_adjusted_death_rate\": 12.0}, {\"age_adjusted_death_rate\": 160.1}, {\"age_adjusted_death_rate\": 23.7}, {\"age_adjusted_death_rate\": 943.3}, {\"age_adjusted_death_rate\": 12.5}, {\"age_adjusted_death_rate\": 19.9}, {\"age_adjusted_death_rate\": 27.4}, {\"age_adjusted_death_rate\": 13.9}, {\"age_adjusted_death_rate\": 15.7}, {\"age_adjusted_death_rate\": 709.6}, {\"age_adjusted_death_rate\": 222.8}, {\"age_adjusted_death_rate\": 24.2}, {\"age_adjusted_death_rate\": 15.4}, {\"age_adjusted_death_rate\": 833.3}, {\"age_adjusted_death_rate\": 51.5}, {\"age_adjusted_death_rate\": 17.5}, {\"age_adjusted_death_rate\": 15.1}, {\"age_adjusted_death_rate\": 23.5}, {\"age_adjusted_death_rate\": 14.5}, {\"age_adjusted_death_rate\": 13.7}, {\"age_adjusted_death_rate\": 37.0}, {\"age_adjusted_death_rate\": 16.6}, {\"age_adjusted_death_rate\": 9.9}, {\"age_adjusted_death_rate\": 15.9}, {\"age_adjusted_death_rate\": 239.9}, {\"age_adjusted_death_rate\": 54.6}, {\"age_adjusted_death_rate\": 11.9}, {\"age_adjusted_death_rate\": 19.8}, {\"age_adjusted_death_rate\": 202.2}, {\"age_adjusted_death_rate\": 32.6}, {\"age_adjusted_death_rate\": 145.6}, {\"age_adjusted_death_rate\": 21.5}, {\"age_adjusted_death_rate\": 168.0}, {\"age_adjusted_death_rate\": 191.7}, {\"age_adjusted_death_rate\": 170.5}, {\"age_adjusted_death_rate\": 10.4}, {\"age_adjusted_death_rate\": 48.9}, {\"age_adjusted_death_rate\": 19.0}, {\"age_adjusted_death_rate\": 25.8}, {\"age_adjusted_death_rate\": 19.8}, {\"age_adjusted_death_rate\": 45.7}, {\"age_adjusted_death_rate\": 10.3}, {\"age_adjusted_death_rate\": 59.3}, {\"age_adjusted_death_rate\": 44.4}, {\"age_adjusted_death_rate\": 14.8}, {\"age_adjusted_death_rate\": 20.8}, {\"age_adjusted_death_rate\": 661.7}, {\"age_adjusted_death_rate\": 65.8}, {\"age_adjusted_death_rate\": 33.9}, {\"age_adjusted_death_rate\": 15.1}, {\"age_adjusted_death_rate\": 18.6}, {\"age_adjusted_death_rate\": 22.0}, {\"age_adjusted_death_rate\": 21.5}, {\"age_adjusted_death_rate\": 20.8}, {\"age_adjusted_death_rate\": 13.6}, {\"age_adjusted_death_rate\": 10.3}, {\"age_adjusted_death_rate\": 8.5}, {\"age_adjusted_death_rate\": 19.5}, {\"age_adjusted_death_rate\": 25.5}, {\"age_adjusted_death_rate\": 48.8}, {\"age_adjusted_death_rate\": 137.2}, {\"age_adjusted_death_rate\": 40.8}, {\"age_adjusted_death_rate\": 13.6}, {\"age_adjusted_death_rate\": 164.8}, {\"age_adjusted_death_rate\": 11.7}, {\"age_adjusted_death_rate\": 252.1}, {\"age_adjusted_death_rate\": 589.6}, {\"age_adjusted_death_rate\": 18.2}, {\"age_adjusted_death_rate\": 6.8}, {\"age_adjusted_death_rate\": 37.6}, {\"age_adjusted_death_rate\": 40.8}, {\"age_adjusted_death_rate\": 51.4}, {\"age_adjusted_death_rate\": 9.4}, {\"age_adjusted_death_rate\": 22.0}, {\"age_adjusted_death_rate\": 15.5}, {\"age_adjusted_death_rate\": 272.7}, {\"age_adjusted_death_rate\": 52.8}, {\"age_adjusted_death_rate\": 160.3}, {\"age_adjusted_death_rate\": 19.0}, {\"age_adjusted_death_rate\": 29.9}, {\"age_adjusted_death_rate\": 22.7}, {\"age_adjusted_death_rate\": 269.2}, {\"age_adjusted_death_rate\": 7.1}, {\"age_adjusted_death_rate\": 35.1}, {\"age_adjusted_death_rate\": 7.0}, {\"age_adjusted_death_rate\": 14.1}, {\"age_adjusted_death_rate\": 20.8}, {\"age_adjusted_death_rate\": 35.8}, {\"age_adjusted_death_rate\": 33.3}, {\"age_adjusted_death_rate\": 40.7}, {\"age_adjusted_death_rate\": 194.8}, {\"age_adjusted_death_rate\": 24.0}, {\"age_adjusted_death_rate\": 164.1}, {\"age_adjusted_death_rate\": 28.3}, {\"age_adjusted_death_rate\": 170.5}, {\"age_adjusted_death_rate\": 697.4}, {\"age_adjusted_death_rate\": 39.8}, {\"age_adjusted_death_rate\": 16.5}, {\"age_adjusted_death_rate\": 44.2}, {\"age_adjusted_death_rate\": 191.7}, {\"age_adjusted_death_rate\": 65.5}, {\"age_adjusted_death_rate\": 203.0}, {\"age_adjusted_death_rate\": 50.7}, {\"age_adjusted_death_rate\": 12.0}, {\"age_adjusted_death_rate\": 162.2}, {\"age_adjusted_death_rate\": 31.1}, {\"age_adjusted_death_rate\": 55.7}, {\"age_adjusted_death_rate\": 16.1}, {\"age_adjusted_death_rate\": 43.4}, {\"age_adjusted_death_rate\": 197.5}, {\"age_adjusted_death_rate\": 158.9}, {\"age_adjusted_death_rate\": 210.4}, {\"age_adjusted_death_rate\": 17.8}, {\"age_adjusted_death_rate\": 11.9}, {\"age_adjusted_death_rate\": 44.2}, {\"age_adjusted_death_rate\": 932.3}, {\"age_adjusted_death_rate\": 170.0}, {\"age_adjusted_death_rate\": 40.7}, {\"age_adjusted_death_rate\": 895.3}, {\"age_adjusted_death_rate\": 15.9}, {\"age_adjusted_death_rate\": 12.7}, {\"age_adjusted_death_rate\": 17.8}, {\"age_adjusted_death_rate\": 266.5}, {\"age_adjusted_death_rate\": 169.6}, {\"age_adjusted_death_rate\": 17.0}, {\"age_adjusted_death_rate\": 142.7}, {\"age_adjusted_death_rate\": 40.4}, {\"age_adjusted_death_rate\": 43.0}, {\"age_adjusted_death_rate\": 12.2}, {\"age_adjusted_death_rate\": 24.3}, {\"age_adjusted_death_rate\": 133.7}, {\"age_adjusted_death_rate\": 65.8}, {\"age_adjusted_death_rate\": 155.7}, {\"age_adjusted_death_rate\": 29.5}, {\"age_adjusted_death_rate\": 15.1}, {\"age_adjusted_death_rate\": 172.7}, {\"age_adjusted_death_rate\": 17.9}, {\"age_adjusted_death_rate\": 204.0}, {\"age_adjusted_death_rate\": 202.3}, {\"age_adjusted_death_rate\": 81.4}, {\"age_adjusted_death_rate\": 223.7}, {\"age_adjusted_death_rate\": 22.4}, {\"age_adjusted_death_rate\": 192.2}, {\"age_adjusted_death_rate\": 36.9}, {\"age_adjusted_death_rate\": 278.5}, {\"age_adjusted_death_rate\": 5.4}, {\"age_adjusted_death_rate\": 61.4}, {\"age_adjusted_death_rate\": 13.5}, {\"age_adjusted_death_rate\": 13.6}, {\"age_adjusted_death_rate\": 951.7}, {\"age_adjusted_death_rate\": 55.2}, {\"age_adjusted_death_rate\": 804.6}, {\"age_adjusted_death_rate\": 21.9}, {\"age_adjusted_death_rate\": 700.9}, {\"age_adjusted_death_rate\": 41.7}, {\"age_adjusted_death_rate\": 41.5}, {\"age_adjusted_death_rate\": 29.3}, {\"age_adjusted_death_rate\": 29.9}, {\"age_adjusted_death_rate\": 185.2}, {\"age_adjusted_death_rate\": 204.4}, {\"age_adjusted_death_rate\": 15.7}, {\"age_adjusted_death_rate\": 38.2}, {\"age_adjusted_death_rate\": 36.2}, {\"age_adjusted_death_rate\": 11.2}, {\"age_adjusted_death_rate\": 232.6}, {\"age_adjusted_death_rate\": 26.0}, {\"age_adjusted_death_rate\": 60.3}, {\"age_adjusted_death_rate\": 278.1}, {\"age_adjusted_death_rate\": 16.4}, {\"age_adjusted_death_rate\": 17.3}, {\"age_adjusted_death_rate\": 293.8}, {\"age_adjusted_death_rate\": 931.5}, {\"age_adjusted_death_rate\": 15.5}, {\"age_adjusted_death_rate\": 190.6}, {\"age_adjusted_death_rate\": 741.5}, {\"age_adjusted_death_rate\": 19.2}, {\"age_adjusted_death_rate\": 24.0}, {\"age_adjusted_death_rate\": 863.3}, {\"age_adjusted_death_rate\": 14.9}, {\"age_adjusted_death_rate\": 860.8}, {\"age_adjusted_death_rate\": 67.4}, {\"age_adjusted_death_rate\": 731.9}, {\"age_adjusted_death_rate\": 13.3}, {\"age_adjusted_death_rate\": 27.2}, {\"age_adjusted_death_rate\": 185.9}, {\"age_adjusted_death_rate\": 164.8}, {\"age_adjusted_death_rate\": 20.7}, {\"age_adjusted_death_rate\": 30.8}, {\"age_adjusted_death_rate\": 14.7}, {\"age_adjusted_death_rate\": 17.1}, {\"age_adjusted_death_rate\": 11.7}, {\"age_adjusted_death_rate\": 19.4}, {\"age_adjusted_death_rate\": 34.9}, {\"age_adjusted_death_rate\": 66.5}, {\"age_adjusted_death_rate\": 52.2}, {\"age_adjusted_death_rate\": 196.1}, {\"age_adjusted_death_rate\": 13.7}, {\"age_adjusted_death_rate\": 11.8}, {\"age_adjusted_death_rate\": 54.0}, {\"age_adjusted_death_rate\": 13.0}, {\"age_adjusted_death_rate\": 11.1}, {\"age_adjusted_death_rate\": 75.7}, {\"age_adjusted_death_rate\": 11.4}, {\"age_adjusted_death_rate\": 39.7}, {\"age_adjusted_death_rate\": 17.5}, {\"age_adjusted_death_rate\": 21.3}, {\"age_adjusted_death_rate\": 279.2}, {\"age_adjusted_death_rate\": 10.0}, {\"age_adjusted_death_rate\": 17.4}, {\"age_adjusted_death_rate\": 18.9}, {\"age_adjusted_death_rate\": 35.6}, {\"age_adjusted_death_rate\": 38.4}, {\"age_adjusted_death_rate\": 17.9}, {\"age_adjusted_death_rate\": 6.5}, {\"age_adjusted_death_rate\": 15.3}, {\"age_adjusted_death_rate\": 25.3}, {\"age_adjusted_death_rate\": 20.3}, {\"age_adjusted_death_rate\": 162.9}, {\"age_adjusted_death_rate\": 35.4}, {\"age_adjusted_death_rate\": 54.7}, {\"age_adjusted_death_rate\": 125.4}, {\"age_adjusted_death_rate\": 10.0}, {\"age_adjusted_death_rate\": 25.0}, {\"age_adjusted_death_rate\": 12.4}, {\"age_adjusted_death_rate\": 715.4}, {\"age_adjusted_death_rate\": 817.9}, {\"age_adjusted_death_rate\": 46.1}, {\"age_adjusted_death_rate\": 925.2}, {\"age_adjusted_death_rate\": 188.9}, {\"age_adjusted_death_rate\": 8.0}, {\"age_adjusted_death_rate\": 205.9}, {\"age_adjusted_death_rate\": 12.5}, {\"age_adjusted_death_rate\": 24.0}, {\"age_adjusted_death_rate\": 23.3}, {\"age_adjusted_death_rate\": 177.8}, {\"age_adjusted_death_rate\": 19.3}, {\"age_adjusted_death_rate\": 51.9}, {\"age_adjusted_death_rate\": 169.0}, {\"age_adjusted_death_rate\": 786.4}, {\"age_adjusted_death_rate\": 19.0}, {\"age_adjusted_death_rate\": 46.3}, {\"age_adjusted_death_rate\": 18.4}, {\"age_adjusted_death_rate\": 68.3}, {\"age_adjusted_death_rate\": 64.2}, {\"age_adjusted_death_rate\": 39.5}, {\"age_adjusted_death_rate\": 164.8}, {\"age_adjusted_death_rate\": 150.2}, {\"age_adjusted_death_rate\": 759.4}, {\"age_adjusted_death_rate\": 9.4}, {\"age_adjusted_death_rate\": 236.1}, {\"age_adjusted_death_rate\": 16.2}, {\"age_adjusted_death_rate\": 33.9}, {\"age_adjusted_death_rate\": 22.4}, {\"age_adjusted_death_rate\": 17.4}, {\"age_adjusted_death_rate\": 42.4}, {\"age_adjusted_death_rate\": 30.2}, {\"age_adjusted_death_rate\": 30.9}, {\"age_adjusted_death_rate\": 45.3}, {\"age_adjusted_death_rate\": 13.4}, {\"age_adjusted_death_rate\": 24.2}, {\"age_adjusted_death_rate\": 54.1}, {\"age_adjusted_death_rate\": 183.4}, {\"age_adjusted_death_rate\": 18.2}, {\"age_adjusted_death_rate\": 12.0}, {\"age_adjusted_death_rate\": 12.2}, {\"age_adjusted_death_rate\": 11.5}, {\"age_adjusted_death_rate\": 23.1}, {\"age_adjusted_death_rate\": 150.9}, {\"age_adjusted_death_rate\": 38.6}, {\"age_adjusted_death_rate\": 15.9}, {\"age_adjusted_death_rate\": 6.6}, {\"age_adjusted_death_rate\": 19.2}, {\"age_adjusted_death_rate\": 30.0}, {\"age_adjusted_death_rate\": 22.6}, {\"age_adjusted_death_rate\": 38.1}, {\"age_adjusted_death_rate\": 27.1}, {\"age_adjusted_death_rate\": 41.3}, {\"age_adjusted_death_rate\": 1008.5}, {\"age_adjusted_death_rate\": 195.1}, {\"age_adjusted_death_rate\": 19.6}, {\"age_adjusted_death_rate\": 71.0}, {\"age_adjusted_death_rate\": 47.4}, {\"age_adjusted_death_rate\": 46.9}, {\"age_adjusted_death_rate\": 58.3}, {\"age_adjusted_death_rate\": 231.9}, {\"age_adjusted_death_rate\": 12.7}, {\"age_adjusted_death_rate\": 44.6}, {\"age_adjusted_death_rate\": 148.1}, {\"age_adjusted_death_rate\": 156.1}, {\"age_adjusted_death_rate\": 691.6}, {\"age_adjusted_death_rate\": 16.2}, {\"age_adjusted_death_rate\": 24.6}, {\"age_adjusted_death_rate\": 16.9}, {\"age_adjusted_death_rate\": 32.4}, {\"age_adjusted_death_rate\": 49.4}, {\"age_adjusted_death_rate\": 11.0}, {\"age_adjusted_death_rate\": 32.5}, {\"age_adjusted_death_rate\": 973.0}, {\"age_adjusted_death_rate\": 188.7}, {\"age_adjusted_death_rate\": 11.8}, {\"age_adjusted_death_rate\": 47.7}, {\"age_adjusted_death_rate\": 22.6}, {\"age_adjusted_death_rate\": 38.3}, {\"age_adjusted_death_rate\": 45.0}, {\"age_adjusted_death_rate\": 177.9}, {\"age_adjusted_death_rate\": 196.0}, {\"age_adjusted_death_rate\": 213.8}, {\"age_adjusted_death_rate\": 31.6}, {\"age_adjusted_death_rate\": 666.0}, {\"age_adjusted_death_rate\": 14.5}, {\"age_adjusted_death_rate\": 22.8}, {\"age_adjusted_death_rate\": 55.1}, {\"age_adjusted_death_rate\": 807.7}, {\"age_adjusted_death_rate\": 45.5}, {\"age_adjusted_death_rate\": 706.6}, {\"age_adjusted_death_rate\": 37.9}, {\"age_adjusted_death_rate\": 175.5}, {\"age_adjusted_death_rate\": 40.1}, {\"age_adjusted_death_rate\": 21.1}, {\"age_adjusted_death_rate\": 49.9}, {\"age_adjusted_death_rate\": 30.1}, {\"age_adjusted_death_rate\": 54.1}, {\"age_adjusted_death_rate\": 13.1}, {\"age_adjusted_death_rate\": 167.6}, {\"age_adjusted_death_rate\": 39.4}, {\"age_adjusted_death_rate\": 44.7}, {\"age_adjusted_death_rate\": 54.8}, {\"age_adjusted_death_rate\": 9.6}, {\"age_adjusted_death_rate\": 23.7}, {\"age_adjusted_death_rate\": 67.3}, {\"age_adjusted_death_rate\": 40.2}, {\"age_adjusted_death_rate\": 41.6}, {\"age_adjusted_death_rate\": 22.6}, {\"age_adjusted_death_rate\": 15.6}, {\"age_adjusted_death_rate\": 154.3}, {\"age_adjusted_death_rate\": 166.0}, {\"age_adjusted_death_rate\": 40.6}, {\"age_adjusted_death_rate\": 15.9}, {\"age_adjusted_death_rate\": 881.1}, {\"age_adjusted_death_rate\": 54.1}, {\"age_adjusted_death_rate\": 46.0}, {\"age_adjusted_death_rate\": 36.2}, {\"age_adjusted_death_rate\": 838.2}, {\"age_adjusted_death_rate\": 12.1}, {\"age_adjusted_death_rate\": 36.9}, {\"age_adjusted_death_rate\": 46.0}, {\"age_adjusted_death_rate\": 204.2}, {\"age_adjusted_death_rate\": 203.0}, {\"age_adjusted_death_rate\": 16.0}, {\"age_adjusted_death_rate\": 16.9}, {\"age_adjusted_death_rate\": 247.2}, {\"age_adjusted_death_rate\": 66.4}, {\"age_adjusted_death_rate\": 57.6}, {\"age_adjusted_death_rate\": 32.7}, {\"age_adjusted_death_rate\": 10.3}, {\"age_adjusted_death_rate\": 12.6}, {\"age_adjusted_death_rate\": 172.3}, {\"age_adjusted_death_rate\": 251.1}, {\"age_adjusted_death_rate\": 817.1}, {\"age_adjusted_death_rate\": 741.6}, {\"age_adjusted_death_rate\": 20.2}, {\"age_adjusted_death_rate\": 210.4}, {\"age_adjusted_death_rate\": 43.9}, {\"age_adjusted_death_rate\": 38.3}, {\"age_adjusted_death_rate\": 43.4}, {\"age_adjusted_death_rate\": 29.4}, {\"age_adjusted_death_rate\": 9.0}, {\"age_adjusted_death_rate\": 214.7}, {\"age_adjusted_death_rate\": 38.5}, {\"age_adjusted_death_rate\": 56.2}, {\"age_adjusted_death_rate\": 15.4}, {\"age_adjusted_death_rate\": 24.2}, {\"age_adjusted_death_rate\": 144.6}, {\"age_adjusted_death_rate\": 24.9}, {\"age_adjusted_death_rate\": 30.3}, {\"age_adjusted_death_rate\": 674.6}, {\"age_adjusted_death_rate\": 163.1}, {\"age_adjusted_death_rate\": 817.4}, {\"age_adjusted_death_rate\": 26.8}, {\"age_adjusted_death_rate\": 21.5}, {\"age_adjusted_death_rate\": 38.1}, {\"age_adjusted_death_rate\": 41.0}, {\"age_adjusted_death_rate\": 178.6}, {\"age_adjusted_death_rate\": 34.8}, {\"age_adjusted_death_rate\": 30.8}, {\"age_adjusted_death_rate\": 19.8}, {\"age_adjusted_death_rate\": 40.4}, {\"age_adjusted_death_rate\": 169.2}, {\"age_adjusted_death_rate\": 15.0}, {\"age_adjusted_death_rate\": 17.3}, {\"age_adjusted_death_rate\": 13.9}, {\"age_adjusted_death_rate\": 808.1}, {\"age_adjusted_death_rate\": 11.0}, {\"age_adjusted_death_rate\": 43.5}, {\"age_adjusted_death_rate\": 16.4}, {\"age_adjusted_death_rate\": 8.4}, {\"age_adjusted_death_rate\": 46.9}, {\"age_adjusted_death_rate\": 19.7}, {\"age_adjusted_death_rate\": 26.8}, {\"age_adjusted_death_rate\": 44.8}, {\"age_adjusted_death_rate\": 187.7}, {\"age_adjusted_death_rate\": 41.6}, {\"age_adjusted_death_rate\": 14.4}, {\"age_adjusted_death_rate\": 24.2}, {\"age_adjusted_death_rate\": 17.2}, {\"age_adjusted_death_rate\": 16.8}, {\"age_adjusted_death_rate\": 16.6}, {\"age_adjusted_death_rate\": 22.3}, {\"age_adjusted_death_rate\": 189.9}, {\"age_adjusted_death_rate\": 157.4}, {\"age_adjusted_death_rate\": 22.1}, {\"age_adjusted_death_rate\": 40.0}, {\"age_adjusted_death_rate\": 177.7}, {\"age_adjusted_death_rate\": 16.6}, {\"age_adjusted_death_rate\": 753.4}, {\"age_adjusted_death_rate\": 22.7}, {\"age_adjusted_death_rate\": 28.5}, {\"age_adjusted_death_rate\": 19.8}, {\"age_adjusted_death_rate\": 14.0}, {\"age_adjusted_death_rate\": 16.0}, {\"age_adjusted_death_rate\": 13.9}, {\"age_adjusted_death_rate\": 9.5}, {\"age_adjusted_death_rate\": 27.3}, {\"age_adjusted_death_rate\": 43.7}, {\"age_adjusted_death_rate\": 840.0}, {\"age_adjusted_death_rate\": 16.0}, {\"age_adjusted_death_rate\": 13.0}, {\"age_adjusted_death_rate\": 40.6}, {\"age_adjusted_death_rate\": 202.1}, {\"age_adjusted_death_rate\": 243.7}, {\"age_adjusted_death_rate\": 22.8}, {\"age_adjusted_death_rate\": 199.8}, {\"age_adjusted_death_rate\": 177.6}, {\"age_adjusted_death_rate\": 45.8}, {\"age_adjusted_death_rate\": 7.6}, {\"age_adjusted_death_rate\": 21.6}, {\"age_adjusted_death_rate\": 228.1}, {\"age_adjusted_death_rate\": 15.0}, {\"age_adjusted_death_rate\": 30.7}, {\"age_adjusted_death_rate\": 16.5}, {\"age_adjusted_death_rate\": 167.6}, {\"age_adjusted_death_rate\": 23.9}, {\"age_adjusted_death_rate\": 15.7}, {\"age_adjusted_death_rate\": 27.2}, {\"age_adjusted_death_rate\": 152.5}, {\"age_adjusted_death_rate\": 37.3}, {\"age_adjusted_death_rate\": 21.1}, {\"age_adjusted_death_rate\": 10.0}, {\"age_adjusted_death_rate\": 164.2}, {\"age_adjusted_death_rate\": 18.1}, {\"age_adjusted_death_rate\": 25.3}, {\"age_adjusted_death_rate\": 58.4}, {\"age_adjusted_death_rate\": 37.3}, {\"age_adjusted_death_rate\": 18.1}, {\"age_adjusted_death_rate\": 24.7}, {\"age_adjusted_death_rate\": 153.3}, {\"age_adjusted_death_rate\": 22.6}, {\"age_adjusted_death_rate\": 249.4}, {\"age_adjusted_death_rate\": 166.9}, {\"age_adjusted_death_rate\": 48.9}, {\"age_adjusted_death_rate\": 9.3}, {\"age_adjusted_death_rate\": 679.3}, {\"age_adjusted_death_rate\": 185.5}, {\"age_adjusted_death_rate\": 182.3}, {\"age_adjusted_death_rate\": 185.3}, {\"age_adjusted_death_rate\": 9.9}, {\"age_adjusted_death_rate\": 30.2}, {\"age_adjusted_death_rate\": 806.2}, {\"age_adjusted_death_rate\": 44.5}, {\"age_adjusted_death_rate\": 12.1}, {\"age_adjusted_death_rate\": 19.6}, {\"age_adjusted_death_rate\": 25.3}, {\"age_adjusted_death_rate\": 12.5}, {\"age_adjusted_death_rate\": 33.9}, {\"age_adjusted_death_rate\": 14.6}, {\"age_adjusted_death_rate\": 35.2}, {\"age_adjusted_death_rate\": 45.6}, {\"age_adjusted_death_rate\": 24.3}, {\"age_adjusted_death_rate\": 187.0}, {\"age_adjusted_death_rate\": 68.9}, {\"age_adjusted_death_rate\": 35.9}, {\"age_adjusted_death_rate\": 40.7}, {\"age_adjusted_death_rate\": 48.6}, {\"age_adjusted_death_rate\": 26.4}, {\"age_adjusted_death_rate\": 210.2}, {\"age_adjusted_death_rate\": 14.2}, {\"age_adjusted_death_rate\": 32.6}, {\"age_adjusted_death_rate\": 33.2}, {\"age_adjusted_death_rate\": 184.5}, {\"age_adjusted_death_rate\": 22.0}, {\"age_adjusted_death_rate\": 172.2}, {\"age_adjusted_death_rate\": 43.7}, {\"age_adjusted_death_rate\": 11.3}, {\"age_adjusted_death_rate\": 169.7}, {\"age_adjusted_death_rate\": 13.3}, {\"age_adjusted_death_rate\": 12.6}, {\"age_adjusted_death_rate\": 47.9}, {\"age_adjusted_death_rate\": 49.6}, {\"age_adjusted_death_rate\": 28.9}, {\"age_adjusted_death_rate\": 151.1}, {\"age_adjusted_death_rate\": 192.1}, {\"age_adjusted_death_rate\": 21.3}, {\"age_adjusted_death_rate\": 18.6}, {\"age_adjusted_death_rate\": 42.6}, {\"age_adjusted_death_rate\": 48.6}, {\"age_adjusted_death_rate\": 42.3}, {\"age_adjusted_death_rate\": 19.2}, {\"age_adjusted_death_rate\": 16.2}, {\"age_adjusted_death_rate\": 7.7}, {\"age_adjusted_death_rate\": 18.4}, {\"age_adjusted_death_rate\": 44.9}, {\"age_adjusted_death_rate\": 47.9}, {\"age_adjusted_death_rate\": 21.4}, {\"age_adjusted_death_rate\": 3.8}, {\"age_adjusted_death_rate\": 768.0}, {\"age_adjusted_death_rate\": 180.1}, {\"age_adjusted_death_rate\": 46.4}, {\"age_adjusted_death_rate\": 18.5}, {\"age_adjusted_death_rate\": 12.6}, {\"age_adjusted_death_rate\": 42.3}, {\"age_adjusted_death_rate\": 55.9}, {\"age_adjusted_death_rate\": 207.9}, {\"age_adjusted_death_rate\": 229.7}, {\"age_adjusted_death_rate\": 12.0}, {\"age_adjusted_death_rate\": 15.5}, {\"age_adjusted_death_rate\": 211.7}, {\"age_adjusted_death_rate\": 163.5}, {\"age_adjusted_death_rate\": 902.2}, {\"age_adjusted_death_rate\": 39.1}, {\"age_adjusted_death_rate\": 15.8}, {\"age_adjusted_death_rate\": 147.8}, {\"age_adjusted_death_rate\": 24.3}, {\"age_adjusted_death_rate\": 182.5}, {\"age_adjusted_death_rate\": 165.5}, {\"age_adjusted_death_rate\": 202.0}, {\"age_adjusted_death_rate\": 43.8}, {\"age_adjusted_death_rate\": 11.7}, {\"age_adjusted_death_rate\": 16.6}, {\"age_adjusted_death_rate\": 726.6}, {\"age_adjusted_death_rate\": 40.4}, {\"age_adjusted_death_rate\": 35.6}, {\"age_adjusted_death_rate\": 37.0}, {\"age_adjusted_death_rate\": 29.0}, {\"age_adjusted_death_rate\": 10.4}, {\"age_adjusted_death_rate\": 64.5}, {\"age_adjusted_death_rate\": 10.0}, {\"age_adjusted_death_rate\": 29.5}, {\"age_adjusted_death_rate\": 23.7}, {\"age_adjusted_death_rate\": 205.9}, {\"age_adjusted_death_rate\": 51.5}, {\"age_adjusted_death_rate\": 19.4}, {\"age_adjusted_death_rate\": 17.9}, {\"age_adjusted_death_rate\": 19.1}, {\"age_adjusted_death_rate\": 171.3}, {\"age_adjusted_death_rate\": 214.1}, {\"age_adjusted_death_rate\": 13.8}, {\"age_adjusted_death_rate\": 156.4}, {\"age_adjusted_death_rate\": 26.4}, {\"age_adjusted_death_rate\": 23.1}, {\"age_adjusted_death_rate\": 21.5}, {\"age_adjusted_death_rate\": 53.6}, {\"age_adjusted_death_rate\": 21.9}, {\"age_adjusted_death_rate\": 17.0}, {\"age_adjusted_death_rate\": 30.6}, {\"age_adjusted_death_rate\": 167.8}, {\"age_adjusted_death_rate\": 34.4}, {\"age_adjusted_death_rate\": 63.8}, {\"age_adjusted_death_rate\": 200.0}, {\"age_adjusted_death_rate\": 175.4}, {\"age_adjusted_death_rate\": 152.9}, {\"age_adjusted_death_rate\": 6.6}, {\"age_adjusted_death_rate\": 196.5}, {\"age_adjusted_death_rate\": 136.7}, {\"age_adjusted_death_rate\": 20.0}, {\"age_adjusted_death_rate\": 10.9}, {\"age_adjusted_death_rate\": 20.7}, {\"age_adjusted_death_rate\": 154.5}, {\"age_adjusted_death_rate\": 181.1}, {\"age_adjusted_death_rate\": 22.6}, {\"age_adjusted_death_rate\": 10.1}, {\"age_adjusted_death_rate\": 22.9}, {\"age_adjusted_death_rate\": 15.6}, {\"age_adjusted_death_rate\": 32.1}, {\"age_adjusted_death_rate\": 7.7}, {\"age_adjusted_death_rate\": 197.8}, {\"age_adjusted_death_rate\": 70.2}, {\"age_adjusted_death_rate\": 34.0}, {\"age_adjusted_death_rate\": 12.3}, {\"age_adjusted_death_rate\": 12.5}, {\"age_adjusted_death_rate\": 17.2}, {\"age_adjusted_death_rate\": 26.0}, {\"age_adjusted_death_rate\": 21.3}, {\"age_adjusted_death_rate\": 29.6}, {\"age_adjusted_death_rate\": 12.2}, {\"age_adjusted_death_rate\": 35.4}, {\"age_adjusted_death_rate\": 584.9}, {\"age_adjusted_death_rate\": 10.4}, {\"age_adjusted_death_rate\": 36.9}, {\"age_adjusted_death_rate\": 43.9}, {\"age_adjusted_death_rate\": 7.7}, {\"age_adjusted_death_rate\": 16.9}, {\"age_adjusted_death_rate\": 7.7}, {\"age_adjusted_death_rate\": 929.1}, {\"age_adjusted_death_rate\": 59.9}, {\"age_adjusted_death_rate\": 8.1}, {\"age_adjusted_death_rate\": 15.6}, {\"age_adjusted_death_rate\": 20.0}, {\"age_adjusted_death_rate\": 48.0}, {\"age_adjusted_death_rate\": 32.9}, {\"age_adjusted_death_rate\": 15.9}, {\"age_adjusted_death_rate\": 16.8}, {\"age_adjusted_death_rate\": 950.5}, {\"age_adjusted_death_rate\": 721.9}, {\"age_adjusted_death_rate\": 23.7}, {\"age_adjusted_death_rate\": 19.3}, {\"age_adjusted_death_rate\": 16.2}, {\"age_adjusted_death_rate\": 24.4}, {\"age_adjusted_death_rate\": 50.9}, {\"age_adjusted_death_rate\": 36.2}, {\"age_adjusted_death_rate\": 13.2}, {\"age_adjusted_death_rate\": 37.7}, {\"age_adjusted_death_rate\": 21.7}, {\"age_adjusted_death_rate\": 665.5}, {\"age_adjusted_death_rate\": 14.9}, {\"age_adjusted_death_rate\": 35.4}, {\"age_adjusted_death_rate\": 28.1}, {\"age_adjusted_death_rate\": 227.9}, {\"age_adjusted_death_rate\": 6.9}, {\"age_adjusted_death_rate\": 229.4}, {\"age_adjusted_death_rate\": 15.9}, {\"age_adjusted_death_rate\": 21.2}, {\"age_adjusted_death_rate\": 176.3}, {\"age_adjusted_death_rate\": 24.7}, {\"age_adjusted_death_rate\": 21.6}, {\"age_adjusted_death_rate\": 8.7}, {\"age_adjusted_death_rate\": 43.5}, {\"age_adjusted_death_rate\": 41.4}, {\"age_adjusted_death_rate\": 21.5}, {\"age_adjusted_death_rate\": 205.7}, {\"age_adjusted_death_rate\": 28.9}, {\"age_adjusted_death_rate\": 22.1}, {\"age_adjusted_death_rate\": 14.8}, {\"age_adjusted_death_rate\": 172.7}, {\"age_adjusted_death_rate\": 22.9}, {\"age_adjusted_death_rate\": 26.9}, {\"age_adjusted_death_rate\": 233.1}, {\"age_adjusted_death_rate\": 35.3}, {\"age_adjusted_death_rate\": 24.8}, {\"age_adjusted_death_rate\": 25.4}, {\"age_adjusted_death_rate\": 14.5}, {\"age_adjusted_death_rate\": 36.0}, {\"age_adjusted_death_rate\": 36.2}, {\"age_adjusted_death_rate\": 10.3}, {\"age_adjusted_death_rate\": 13.9}, {\"age_adjusted_death_rate\": 10.8}, {\"age_adjusted_death_rate\": 44.7}, {\"age_adjusted_death_rate\": 19.1}, {\"age_adjusted_death_rate\": 10.3}, {\"age_adjusted_death_rate\": 9.3}, {\"age_adjusted_death_rate\": 215.5}, {\"age_adjusted_death_rate\": 31.6}, {\"age_adjusted_death_rate\": 214.4}, {\"age_adjusted_death_rate\": 13.0}, {\"age_adjusted_death_rate\": 58.9}, {\"age_adjusted_death_rate\": 219.2}, {\"age_adjusted_death_rate\": 154.9}, {\"age_adjusted_death_rate\": 35.4}, {\"age_adjusted_death_rate\": 605.7}, {\"age_adjusted_death_rate\": 22.1}, {\"age_adjusted_death_rate\": 285.4}, {\"age_adjusted_death_rate\": 44.8}, {\"age_adjusted_death_rate\": 189.2}, {\"age_adjusted_death_rate\": 12.6}, {\"age_adjusted_death_rate\": 53.0}, {\"age_adjusted_death_rate\": 15.7}, {\"age_adjusted_death_rate\": 23.9}, {\"age_adjusted_death_rate\": 184.4}, {\"age_adjusted_death_rate\": 25.6}, {\"age_adjusted_death_rate\": 21.0}, {\"age_adjusted_death_rate\": 872.0}, {\"age_adjusted_death_rate\": 219.9}, {\"age_adjusted_death_rate\": 189.1}, {\"age_adjusted_death_rate\": 26.8}, {\"age_adjusted_death_rate\": 26.6}, {\"age_adjusted_death_rate\": 41.3}, {\"age_adjusted_death_rate\": 60.3}, {\"age_adjusted_death_rate\": 16.8}, {\"age_adjusted_death_rate\": 23.6}, {\"age_adjusted_death_rate\": 13.2}, {\"age_adjusted_death_rate\": 180.8}, {\"age_adjusted_death_rate\": 21.3}, {\"age_adjusted_death_rate\": 221.8}, {\"age_adjusted_death_rate\": 203.3}, {\"age_adjusted_death_rate\": 46.2}, {\"age_adjusted_death_rate\": 41.3}, {\"age_adjusted_death_rate\": 185.5}, {\"age_adjusted_death_rate\": 62.4}, {\"age_adjusted_death_rate\": 16.4}, {\"age_adjusted_death_rate\": 173.0}, {\"age_adjusted_death_rate\": 806.5}, {\"age_adjusted_death_rate\": 35.3}, {\"age_adjusted_death_rate\": 177.3}, {\"age_adjusted_death_rate\": 46.9}, {\"age_adjusted_death_rate\": 41.0}, {\"age_adjusted_death_rate\": 205.4}, {\"age_adjusted_death_rate\": 21.5}, {\"age_adjusted_death_rate\": 187.4}, {\"age_adjusted_death_rate\": 226.1}, {\"age_adjusted_death_rate\": 20.0}, {\"age_adjusted_death_rate\": 665.7}, {\"age_adjusted_death_rate\": 217.1}, {\"age_adjusted_death_rate\": 24.1}, {\"age_adjusted_death_rate\": 1000.9}, {\"age_adjusted_death_rate\": 52.5}, {\"age_adjusted_death_rate\": 199.9}, {\"age_adjusted_death_rate\": 27.0}, {\"age_adjusted_death_rate\": 31.6}, {\"age_adjusted_death_rate\": 19.7}, {\"age_adjusted_death_rate\": 689.7}, {\"age_adjusted_death_rate\": 47.7}, {\"age_adjusted_death_rate\": 12.0}, {\"age_adjusted_death_rate\": 52.6}, {\"age_adjusted_death_rate\": 30.1}, {\"age_adjusted_death_rate\": 37.6}, {\"age_adjusted_death_rate\": 197.3}, {\"age_adjusted_death_rate\": 747.0}, {\"age_adjusted_death_rate\": 12.2}, {\"age_adjusted_death_rate\": 19.4}, {\"age_adjusted_death_rate\": 49.7}, {\"age_adjusted_death_rate\": 174.0}, {\"age_adjusted_death_rate\": 59.9}, {\"age_adjusted_death_rate\": 33.4}, {\"age_adjusted_death_rate\": 22.7}, {\"age_adjusted_death_rate\": 12.3}, {\"age_adjusted_death_rate\": 786.8}, {\"age_adjusted_death_rate\": 10.3}, {\"age_adjusted_death_rate\": 13.4}, {\"age_adjusted_death_rate\": 10.4}, {\"age_adjusted_death_rate\": 14.7}, {\"age_adjusted_death_rate\": 6.8}, {\"age_adjusted_death_rate\": 26.7}, {\"age_adjusted_death_rate\": 54.0}, {\"age_adjusted_death_rate\": 18.0}, {\"age_adjusted_death_rate\": 43.3}, {\"age_adjusted_death_rate\": 228.1}, {\"age_adjusted_death_rate\": 46.0}, {\"age_adjusted_death_rate\": 138.5}, {\"age_adjusted_death_rate\": 35.2}, {\"age_adjusted_death_rate\": 22.4}, {\"age_adjusted_death_rate\": 17.6}, {\"age_adjusted_death_rate\": 12.3}, {\"age_adjusted_death_rate\": 945.0}, {\"age_adjusted_death_rate\": 19.8}, {\"age_adjusted_death_rate\": 50.1}, {\"age_adjusted_death_rate\": 21.4}, {\"age_adjusted_death_rate\": 23.4}, {\"age_adjusted_death_rate\": 149.7}, {\"age_adjusted_death_rate\": 66.0}, {\"age_adjusted_death_rate\": 29.6}, {\"age_adjusted_death_rate\": 733.0}, {\"age_adjusted_death_rate\": 719.8}, {\"age_adjusted_death_rate\": 6.8}, {\"age_adjusted_death_rate\": 36.9}, {\"age_adjusted_death_rate\": 19.7}, {\"age_adjusted_death_rate\": 18.4}, {\"age_adjusted_death_rate\": 38.0}, {\"age_adjusted_death_rate\": 832.3}, {\"age_adjusted_death_rate\": 191.7}, {\"age_adjusted_death_rate\": 20.9}, {\"age_adjusted_death_rate\": 14.4}, {\"age_adjusted_death_rate\": 29.6}, {\"age_adjusted_death_rate\": 52.9}, {\"age_adjusted_death_rate\": 25.6}, {\"age_adjusted_death_rate\": 966.4}, {\"age_adjusted_death_rate\": 44.5}, {\"age_adjusted_death_rate\": 197.9}, {\"age_adjusted_death_rate\": 14.1}, {\"age_adjusted_death_rate\": 37.1}, {\"age_adjusted_death_rate\": 51.5}, {\"age_adjusted_death_rate\": 24.0}, {\"age_adjusted_death_rate\": 43.8}, {\"age_adjusted_death_rate\": 57.7}, {\"age_adjusted_death_rate\": 60.0}, {\"age_adjusted_death_rate\": 11.7}, {\"age_adjusted_death_rate\": 8.2}, {\"age_adjusted_death_rate\": 22.3}, {\"age_adjusted_death_rate\": 296.6}, {\"age_adjusted_death_rate\": 14.4}, {\"age_adjusted_death_rate\": 39.3}, {\"age_adjusted_death_rate\": 71.5}, {\"age_adjusted_death_rate\": 17.2}, {\"age_adjusted_death_rate\": 31.4}, {\"age_adjusted_death_rate\": 26.4}, {\"age_adjusted_death_rate\": 24.4}, {\"age_adjusted_death_rate\": 22.6}, {\"age_adjusted_death_rate\": 197.4}, {\"age_adjusted_death_rate\": 9.5}, {\"age_adjusted_death_rate\": 49.4}, {\"age_adjusted_death_rate\": 19.0}, {\"age_adjusted_death_rate\": 189.2}, {\"age_adjusted_death_rate\": 9.8}, {\"age_adjusted_death_rate\": 717.8}, {\"age_adjusted_death_rate\": 40.8}, {\"age_adjusted_death_rate\": 977.1}, {\"age_adjusted_death_rate\": 16.3}, {\"age_adjusted_death_rate\": 13.6}, {\"age_adjusted_death_rate\": 18.7}, {\"age_adjusted_death_rate\": 10.5}, {\"age_adjusted_death_rate\": 58.1}, {\"age_adjusted_death_rate\": 7.3}, {\"age_adjusted_death_rate\": 180.1}, {\"age_adjusted_death_rate\": 43.4}, {\"age_adjusted_death_rate\": 23.3}, {\"age_adjusted_death_rate\": 39.4}, {\"age_adjusted_death_rate\": 17.4}, {\"age_adjusted_death_rate\": 18.4}, {\"age_adjusted_death_rate\": 57.1}, {\"age_adjusted_death_rate\": 43.1}, {\"age_adjusted_death_rate\": 10.5}, {\"age_adjusted_death_rate\": 960.5}, {\"age_adjusted_death_rate\": 12.7}, {\"age_adjusted_death_rate\": 26.6}, {\"age_adjusted_death_rate\": 15.2}, {\"age_adjusted_death_rate\": 210.3}, {\"age_adjusted_death_rate\": 906.3}, {\"age_adjusted_death_rate\": 60.4}, {\"age_adjusted_death_rate\": 763.8}, {\"age_adjusted_death_rate\": 18.2}, {\"age_adjusted_death_rate\": 22.5}, {\"age_adjusted_death_rate\": 15.5}, {\"age_adjusted_death_rate\": 54.5}, {\"age_adjusted_death_rate\": 24.4}, {\"age_adjusted_death_rate\": 782.2}, {\"age_adjusted_death_rate\": 39.3}, {\"age_adjusted_death_rate\": 184.2}, {\"age_adjusted_death_rate\": 49.7}, {\"age_adjusted_death_rate\": 253.6}, {\"age_adjusted_death_rate\": 15.0}, {\"age_adjusted_death_rate\": 25.1}, {\"age_adjusted_death_rate\": 14.1}, {\"age_adjusted_death_rate\": 205.9}, {\"age_adjusted_death_rate\": 6.0}, {\"age_adjusted_death_rate\": 18.0}, {\"age_adjusted_death_rate\": 979.5}, {\"age_adjusted_death_rate\": 29.1}, {\"age_adjusted_death_rate\": 32.7}, {\"age_adjusted_death_rate\": 13.1}, {\"age_adjusted_death_rate\": 150.9}, {\"age_adjusted_death_rate\": 227.0}, {\"age_adjusted_death_rate\": 179.5}, {\"age_adjusted_death_rate\": 9.9}, {\"age_adjusted_death_rate\": 160.0}, {\"age_adjusted_death_rate\": 18.1}, {\"age_adjusted_death_rate\": 17.3}, {\"age_adjusted_death_rate\": 62.7}, {\"age_adjusted_death_rate\": 52.0}, {\"age_adjusted_death_rate\": 9.0}, {\"age_adjusted_death_rate\": 43.1}, {\"age_adjusted_death_rate\": 37.5}, {\"age_adjusted_death_rate\": 20.4}, {\"age_adjusted_death_rate\": 12.1}, {\"age_adjusted_death_rate\": 38.0}, {\"age_adjusted_death_rate\": 168.2}, {\"age_adjusted_death_rate\": 23.2}, {\"age_adjusted_death_rate\": 51.6}, {\"age_adjusted_death_rate\": 881.6}, {\"age_adjusted_death_rate\": 25.6}, {\"age_adjusted_death_rate\": 18.6}, {\"age_adjusted_death_rate\": 284.9}, {\"age_adjusted_death_rate\": 206.3}, {\"age_adjusted_death_rate\": 32.4}, {\"age_adjusted_death_rate\": 850.5}, {\"age_adjusted_death_rate\": 176.6}, {\"age_adjusted_death_rate\": 26.4}, {\"age_adjusted_death_rate\": 12.8}, {\"age_adjusted_death_rate\": 6.3}, {\"age_adjusted_death_rate\": 250.9}, {\"age_adjusted_death_rate\": 25.4}, {\"age_adjusted_death_rate\": 747.2}, {\"age_adjusted_death_rate\": 831.3}, {\"age_adjusted_death_rate\": 176.2}, {\"age_adjusted_death_rate\": 12.7}, {\"age_adjusted_death_rate\": 13.2}, {\"age_adjusted_death_rate\": 181.1}, {\"age_adjusted_death_rate\": 728.8}, {\"age_adjusted_death_rate\": 35.6}, {\"age_adjusted_death_rate\": 158.7}, {\"age_adjusted_death_rate\": 861.3}, {\"age_adjusted_death_rate\": 232.3}, {\"age_adjusted_death_rate\": 22.5}, {\"age_adjusted_death_rate\": 36.0}, {\"age_adjusted_death_rate\": 37.5}, {\"age_adjusted_death_rate\": 22.7}, {\"age_adjusted_death_rate\": 55.7}, {\"age_adjusted_death_rate\": 30.2}, {\"age_adjusted_death_rate\": 44.8}, {\"age_adjusted_death_rate\": 56.6}, {\"age_adjusted_death_rate\": 29.7}, {\"age_adjusted_death_rate\": 38.4}, {\"age_adjusted_death_rate\": 231.3}, {\"age_adjusted_death_rate\": 228.8}, {\"age_adjusted_death_rate\": 24.0}, {\"age_adjusted_death_rate\": 48.8}, {\"age_adjusted_death_rate\": 15.1}, {\"age_adjusted_death_rate\": 38.3}, {\"age_adjusted_death_rate\": 10.8}, {\"age_adjusted_death_rate\": 165.8}, {\"age_adjusted_death_rate\": 18.1}, {\"age_adjusted_death_rate\": 910.9}, {\"age_adjusted_death_rate\": 67.5}, {\"age_adjusted_death_rate\": 959.7}, {\"age_adjusted_death_rate\": 17.6}, {\"age_adjusted_death_rate\": 167.2}, {\"age_adjusted_death_rate\": 1013.7}, {\"age_adjusted_death_rate\": 700.1}, {\"age_adjusted_death_rate\": 15.6}, {\"age_adjusted_death_rate\": 19.9}, {\"age_adjusted_death_rate\": 15.6}, {\"age_adjusted_death_rate\": 46.6}, {\"age_adjusted_death_rate\": 131.0}, {\"age_adjusted_death_rate\": 20.6}, {\"age_adjusted_death_rate\": 798.2}, {\"age_adjusted_death_rate\": 53.2}, {\"age_adjusted_death_rate\": 27.0}, {\"age_adjusted_death_rate\": 40.3}, {\"age_adjusted_death_rate\": 11.4}, {\"age_adjusted_death_rate\": 17.1}, {\"age_adjusted_death_rate\": 10.4}, {\"age_adjusted_death_rate\": 11.3}, {\"age_adjusted_death_rate\": 70.4}, {\"age_adjusted_death_rate\": 14.2}, {\"age_adjusted_death_rate\": 13.9}, {\"age_adjusted_death_rate\": 26.1}, {\"age_adjusted_death_rate\": 17.2}, {\"age_adjusted_death_rate\": 60.1}, {\"age_adjusted_death_rate\": 60.0}, {\"age_adjusted_death_rate\": 14.3}, {\"age_adjusted_death_rate\": 257.3}, {\"age_adjusted_death_rate\": 13.5}, {\"age_adjusted_death_rate\": 208.6}, {\"age_adjusted_death_rate\": 12.2}, {\"age_adjusted_death_rate\": 21.2}, {\"age_adjusted_death_rate\": 56.2}, {\"age_adjusted_death_rate\": 72.1}, {\"age_adjusted_death_rate\": 49.1}, {\"age_adjusted_death_rate\": 26.9}, {\"age_adjusted_death_rate\": 41.7}, {\"age_adjusted_death_rate\": 13.0}, {\"age_adjusted_death_rate\": 891.9}, {\"age_adjusted_death_rate\": 41.4}, {\"age_adjusted_death_rate\": 46.0}, {\"age_adjusted_death_rate\": 681.4}, {\"age_adjusted_death_rate\": 43.4}, {\"age_adjusted_death_rate\": 865.1}, {\"age_adjusted_death_rate\": 65.6}, {\"age_adjusted_death_rate\": 149.6}, {\"age_adjusted_death_rate\": 700.1}, {\"age_adjusted_death_rate\": 28.7}, {\"age_adjusted_death_rate\": 19.2}, {\"age_adjusted_death_rate\": 16.9}, {\"age_adjusted_death_rate\": 58.9}, {\"age_adjusted_death_rate\": 16.2}, {\"age_adjusted_death_rate\": 10.3}, {\"age_adjusted_death_rate\": 43.6}, {\"age_adjusted_death_rate\": 25.9}, {\"age_adjusted_death_rate\": 11.5}, {\"age_adjusted_death_rate\": 49.2}, {\"age_adjusted_death_rate\": 11.1}, {\"age_adjusted_death_rate\": 748.4}, {\"age_adjusted_death_rate\": 9.5}, {\"age_adjusted_death_rate\": 19.2}, {\"age_adjusted_death_rate\": 44.9}, {\"age_adjusted_death_rate\": 59.2}, {\"age_adjusted_death_rate\": 181.1}, {\"age_adjusted_death_rate\": 10.9}, {\"age_adjusted_death_rate\": 192.1}, {\"age_adjusted_death_rate\": 47.5}, {\"age_adjusted_death_rate\": 13.2}, {\"age_adjusted_death_rate\": 42.8}, {\"age_adjusted_death_rate\": 45.8}, {\"age_adjusted_death_rate\": 952.7}, {\"age_adjusted_death_rate\": 50.8}, {\"age_adjusted_death_rate\": 50.5}, {\"age_adjusted_death_rate\": 49.2}, {\"age_adjusted_death_rate\": 754.2}, {\"age_adjusted_death_rate\": 43.0}, {\"age_adjusted_death_rate\": 22.3}, {\"age_adjusted_death_rate\": 12.0}, {\"age_adjusted_death_rate\": 33.8}, {\"age_adjusted_death_rate\": 13.1}, {\"age_adjusted_death_rate\": 20.2}, {\"age_adjusted_death_rate\": 76.8}, {\"age_adjusted_death_rate\": 10.3}, {\"age_adjusted_death_rate\": 56.3}, {\"age_adjusted_death_rate\": 190.9}, {\"age_adjusted_death_rate\": 55.6}, {\"age_adjusted_death_rate\": 6.6}, {\"age_adjusted_death_rate\": 47.4}, {\"age_adjusted_death_rate\": 47.5}, {\"age_adjusted_death_rate\": 23.7}, {\"age_adjusted_death_rate\": 42.9}, {\"age_adjusted_death_rate\": 23.2}, {\"age_adjusted_death_rate\": 163.4}, {\"age_adjusted_death_rate\": 41.4}, {\"age_adjusted_death_rate\": 207.1}, {\"age_adjusted_death_rate\": 58.3}, {\"age_adjusted_death_rate\": 36.9}, {\"age_adjusted_death_rate\": 10.7}, {\"age_adjusted_death_rate\": 29.1}, {\"age_adjusted_death_rate\": 164.3}, {\"age_adjusted_death_rate\": 654.0}, {\"age_adjusted_death_rate\": 13.7}, {\"age_adjusted_death_rate\": 199.9}, {\"age_adjusted_death_rate\": 37.9}, {\"age_adjusted_death_rate\": 35.8}, {\"age_adjusted_death_rate\": 22.6}, {\"age_adjusted_death_rate\": 23.9}, {\"age_adjusted_death_rate\": 24.5}, {\"age_adjusted_death_rate\": 31.7}, {\"age_adjusted_death_rate\": 40.3}, {\"age_adjusted_death_rate\": 26.6}, {\"age_adjusted_death_rate\": 27.8}, {\"age_adjusted_death_rate\": 22.7}, {\"age_adjusted_death_rate\": 835.9}, {\"age_adjusted_death_rate\": 878.2}, {\"age_adjusted_death_rate\": 19.4}, {\"age_adjusted_death_rate\": 20.8}, {\"age_adjusted_death_rate\": 31.1}, {\"age_adjusted_death_rate\": 173.2}, {\"age_adjusted_death_rate\": 46.4}, {\"age_adjusted_death_rate\": 29.6}, {\"age_adjusted_death_rate\": 20.7}, {\"age_adjusted_death_rate\": 14.3}, {\"age_adjusted_death_rate\": 20.1}, {\"age_adjusted_death_rate\": 14.4}, {\"age_adjusted_death_rate\": 14.5}, {\"age_adjusted_death_rate\": 21.3}, {\"age_adjusted_death_rate\": 56.1}, {\"age_adjusted_death_rate\": 168.0}, {\"age_adjusted_death_rate\": 36.4}, {\"age_adjusted_death_rate\": 54.5}, {\"age_adjusted_death_rate\": 173.1}, {\"age_adjusted_death_rate\": 16.4}, {\"age_adjusted_death_rate\": 25.9}, {\"age_adjusted_death_rate\": 41.9}, {\"age_adjusted_death_rate\": 13.7}, {\"age_adjusted_death_rate\": 217.3}, {\"age_adjusted_death_rate\": 12.2}, {\"age_adjusted_death_rate\": 39.1}, {\"age_adjusted_death_rate\": 39.1}, {\"age_adjusted_death_rate\": 18.6}, {\"age_adjusted_death_rate\": 232.7}, {\"age_adjusted_death_rate\": 24.6}, {\"age_adjusted_death_rate\": 17.4}, {\"age_adjusted_death_rate\": 285.7}, {\"age_adjusted_death_rate\": 36.7}, {\"age_adjusted_death_rate\": 17.0}, {\"age_adjusted_death_rate\": 7.2}, {\"age_adjusted_death_rate\": 165.2}, {\"age_adjusted_death_rate\": 45.6}, {\"age_adjusted_death_rate\": 160.2}, {\"age_adjusted_death_rate\": 54.4}, {\"age_adjusted_death_rate\": 59.8}, {\"age_adjusted_death_rate\": 17.6}, {\"age_adjusted_death_rate\": 20.8}, {\"age_adjusted_death_rate\": 19.4}, {\"age_adjusted_death_rate\": 163.0}, {\"age_adjusted_death_rate\": 18.0}, {\"age_adjusted_death_rate\": 13.0}, {\"age_adjusted_death_rate\": 23.9}, {\"age_adjusted_death_rate\": 890.2}, {\"age_adjusted_death_rate\": 13.3}, {\"age_adjusted_death_rate\": 12.4}, {\"age_adjusted_death_rate\": 63.1}, {\"age_adjusted_death_rate\": 196.6}, {\"age_adjusted_death_rate\": 5.6}, {\"age_adjusted_death_rate\": 201.5}, {\"age_adjusted_death_rate\": 11.8}, {\"age_adjusted_death_rate\": 6.3}, {\"age_adjusted_death_rate\": 20.0}, {\"age_adjusted_death_rate\": 51.5}, {\"age_adjusted_death_rate\": 23.8}, {\"age_adjusted_death_rate\": 7.8}, {\"age_adjusted_death_rate\": 158.0}, {\"age_adjusted_death_rate\": 42.8}, {\"age_adjusted_death_rate\": 18.1}, {\"age_adjusted_death_rate\": 24.3}, {\"age_adjusted_death_rate\": 869.1}, {\"age_adjusted_death_rate\": 169.2}, {\"age_adjusted_death_rate\": 333.5}, {\"age_adjusted_death_rate\": 15.4}, {\"age_adjusted_death_rate\": 64.5}, {\"age_adjusted_death_rate\": 12.7}, {\"age_adjusted_death_rate\": 58.9}, {\"age_adjusted_death_rate\": 828.7}, {\"age_adjusted_death_rate\": 20.5}, {\"age_adjusted_death_rate\": 17.4}, {\"age_adjusted_death_rate\": 11.7}, {\"age_adjusted_death_rate\": 175.9}, {\"age_adjusted_death_rate\": 196.4}, {\"age_adjusted_death_rate\": 164.4}, {\"age_adjusted_death_rate\": 15.4}, {\"age_adjusted_death_rate\": 743.8}, {\"age_adjusted_death_rate\": 18.1}, {\"age_adjusted_death_rate\": 170.1}, {\"age_adjusted_death_rate\": 22.9}, {\"age_adjusted_death_rate\": 55.3}, {\"age_adjusted_death_rate\": 933.6}, {\"age_adjusted_death_rate\": 14.9}, {\"age_adjusted_death_rate\": 210.6}, {\"age_adjusted_death_rate\": 200.2}, {\"age_adjusted_death_rate\": 149.0}, {\"age_adjusted_death_rate\": 12.4}, {\"age_adjusted_death_rate\": 39.4}, {\"age_adjusted_death_rate\": 20.2}, {\"age_adjusted_death_rate\": 16.3}, {\"age_adjusted_death_rate\": 22.8}, {\"age_adjusted_death_rate\": 18.4}, {\"age_adjusted_death_rate\": 18.6}, {\"age_adjusted_death_rate\": 273.4}, {\"age_adjusted_death_rate\": 31.7}, {\"age_adjusted_death_rate\": 47.6}, {\"age_adjusted_death_rate\": 39.6}, {\"age_adjusted_death_rate\": 8.3}, {\"age_adjusted_death_rate\": 23.3}, {\"age_adjusted_death_rate\": 1034.3}, {\"age_adjusted_death_rate\": 20.6}, {\"age_adjusted_death_rate\": 61.0}, {\"age_adjusted_death_rate\": 22.0}, {\"age_adjusted_death_rate\": 186.3}, {\"age_adjusted_death_rate\": 17.8}, {\"age_adjusted_death_rate\": 12.6}, {\"age_adjusted_death_rate\": 32.8}, {\"age_adjusted_death_rate\": 11.2}, {\"age_adjusted_death_rate\": 11.7}, {\"age_adjusted_death_rate\": 42.6}, {\"age_adjusted_death_rate\": 36.7}, {\"age_adjusted_death_rate\": 51.5}, {\"age_adjusted_death_rate\": 228.1}, {\"age_adjusted_death_rate\": 163.1}, {\"age_adjusted_death_rate\": 36.4}, {\"age_adjusted_death_rate\": 40.9}, {\"age_adjusted_death_rate\": 129.8}, {\"age_adjusted_death_rate\": 853.7}, {\"age_adjusted_death_rate\": 44.9}, {\"age_adjusted_death_rate\": 675.0}, {\"age_adjusted_death_rate\": 14.0}, {\"age_adjusted_death_rate\": 22.2}, {\"age_adjusted_death_rate\": 11.3}, {\"age_adjusted_death_rate\": 690.4}, {\"age_adjusted_death_rate\": 27.7}, {\"age_adjusted_death_rate\": 39.0}, {\"age_adjusted_death_rate\": 669.0}, {\"age_adjusted_death_rate\": 773.3}, {\"age_adjusted_death_rate\": 766.0}, {\"age_adjusted_death_rate\": 38.6}, {\"age_adjusted_death_rate\": 26.2}, {\"age_adjusted_death_rate\": 24.1}, {\"age_adjusted_death_rate\": 22.6}, {\"age_adjusted_death_rate\": 23.5}, {\"age_adjusted_death_rate\": 27.8}, {\"age_adjusted_death_rate\": 65.0}, {\"age_adjusted_death_rate\": 46.2}, {\"age_adjusted_death_rate\": 47.6}, {\"age_adjusted_death_rate\": 23.9}, {\"age_adjusted_death_rate\": 18.3}, {\"age_adjusted_death_rate\": 40.7}, {\"age_adjusted_death_rate\": 23.8}, {\"age_adjusted_death_rate\": 12.8}, {\"age_adjusted_death_rate\": 213.2}, {\"age_adjusted_death_rate\": 40.0}, {\"age_adjusted_death_rate\": 20.3}, {\"age_adjusted_death_rate\": 53.2}, {\"age_adjusted_death_rate\": 25.9}, {\"age_adjusted_death_rate\": 13.0}, {\"age_adjusted_death_rate\": 8.8}, {\"age_adjusted_death_rate\": 831.5}, {\"age_adjusted_death_rate\": 31.7}, {\"age_adjusted_death_rate\": 46.5}, {\"age_adjusted_death_rate\": 12.7}, {\"age_adjusted_death_rate\": 38.6}, {\"age_adjusted_death_rate\": 17.9}, {\"age_adjusted_death_rate\": 165.5}, {\"age_adjusted_death_rate\": 17.3}, {\"age_adjusted_death_rate\": 11.2}, {\"age_adjusted_death_rate\": 20.6}, {\"age_adjusted_death_rate\": 13.1}, {\"age_adjusted_death_rate\": 13.1}, {\"age_adjusted_death_rate\": 27.4}, {\"age_adjusted_death_rate\": 51.6}, {\"age_adjusted_death_rate\": 709.7}, {\"age_adjusted_death_rate\": 12.3}, {\"age_adjusted_death_rate\": 16.0}, {\"age_adjusted_death_rate\": 943.4}, {\"age_adjusted_death_rate\": 738.3}, {\"age_adjusted_death_rate\": 20.0}, {\"age_adjusted_death_rate\": 27.5}, {\"age_adjusted_death_rate\": 288.7}, {\"age_adjusted_death_rate\": 163.2}, {\"age_adjusted_death_rate\": 54.4}, {\"age_adjusted_death_rate\": 775.3}, {\"age_adjusted_death_rate\": 20.2}, {\"age_adjusted_death_rate\": 10.5}, {\"age_adjusted_death_rate\": 46.7}, {\"age_adjusted_death_rate\": 5.5}, {\"age_adjusted_death_rate\": 170.9}, {\"age_adjusted_death_rate\": 35.4}, {\"age_adjusted_death_rate\": 38.1}, {\"age_adjusted_death_rate\": 225.6}, {\"age_adjusted_death_rate\": 26.1}, {\"age_adjusted_death_rate\": 13.4}, {\"age_adjusted_death_rate\": 153.6}, {\"age_adjusted_death_rate\": 201.6}, {\"age_adjusted_death_rate\": 44.7}, {\"age_adjusted_death_rate\": 45.8}, {\"age_adjusted_death_rate\": 166.9}, {\"age_adjusted_death_rate\": 24.9}, {\"age_adjusted_death_rate\": 864.5}, {\"age_adjusted_death_rate\": 820.1}, {\"age_adjusted_death_rate\": 52.7}, {\"age_adjusted_death_rate\": 10.6}, {\"age_adjusted_death_rate\": 10.4}, {\"age_adjusted_death_rate\": 203.7}, {\"age_adjusted_death_rate\": 38.4}, {\"age_adjusted_death_rate\": 6.5}, {\"age_adjusted_death_rate\": 11.9}, {\"age_adjusted_death_rate\": 12.3}, {\"age_adjusted_death_rate\": 71.6}, {\"age_adjusted_death_rate\": 166.1}, {\"age_adjusted_death_rate\": 14.5}, {\"age_adjusted_death_rate\": 39.6}, {\"age_adjusted_death_rate\": 47.8}, {\"age_adjusted_death_rate\": 11.2}, {\"age_adjusted_death_rate\": 35.8}, {\"age_adjusted_death_rate\": 16.2}, {\"age_adjusted_death_rate\": 170.4}, {\"age_adjusted_death_rate\": 42.8}, {\"age_adjusted_death_rate\": 42.6}, {\"age_adjusted_death_rate\": 20.2}, {\"age_adjusted_death_rate\": 18.0}, {\"age_adjusted_death_rate\": 641.3}, {\"age_adjusted_death_rate\": 21.2}, {\"age_adjusted_death_rate\": 65.1}, {\"age_adjusted_death_rate\": 35.7}, {\"age_adjusted_death_rate\": 22.7}, {\"age_adjusted_death_rate\": 56.0}, {\"age_adjusted_death_rate\": 26.5}, {\"age_adjusted_death_rate\": 11.1}, {\"age_adjusted_death_rate\": 41.9}, {\"age_adjusted_death_rate\": 724.0}, {\"age_adjusted_death_rate\": 183.9}, {\"age_adjusted_death_rate\": 42.5}, {\"age_adjusted_death_rate\": 48.1}, {\"age_adjusted_death_rate\": 44.5}, {\"age_adjusted_death_rate\": 751.3}, {\"age_adjusted_death_rate\": 27.8}, {\"age_adjusted_death_rate\": 198.1}, {\"age_adjusted_death_rate\": 19.3}, {\"age_adjusted_death_rate\": 259.2}, {\"age_adjusted_death_rate\": 181.0}, {\"age_adjusted_death_rate\": 9.6}, {\"age_adjusted_death_rate\": 756.0}, {\"age_adjusted_death_rate\": 14.4}, {\"age_adjusted_death_rate\": 23.4}, {\"age_adjusted_death_rate\": 8.0}, {\"age_adjusted_death_rate\": 45.0}, {\"age_adjusted_death_rate\": 170.9}, {\"age_adjusted_death_rate\": 240.3}, {\"age_adjusted_death_rate\": 41.6}, {\"age_adjusted_death_rate\": 44.8}, {\"age_adjusted_death_rate\": 43.5}, {\"age_adjusted_death_rate\": 17.2}, {\"age_adjusted_death_rate\": 194.7}, {\"age_adjusted_death_rate\": 20.0}, {\"age_adjusted_death_rate\": 9.9}, {\"age_adjusted_death_rate\": 16.2}, {\"age_adjusted_death_rate\": 182.7}, {\"age_adjusted_death_rate\": 37.0}, {\"age_adjusted_death_rate\": 22.3}, {\"age_adjusted_death_rate\": 13.3}, {\"age_adjusted_death_rate\": 9.7}, {\"age_adjusted_death_rate\": 12.5}, {\"age_adjusted_death_rate\": 178.3}, {\"age_adjusted_death_rate\": 57.2}, {\"age_adjusted_death_rate\": 19.0}, {\"age_adjusted_death_rate\": 39.3}, {\"age_adjusted_death_rate\": 41.9}, {\"age_adjusted_death_rate\": 781.2}, {\"age_adjusted_death_rate\": 175.0}, {\"age_adjusted_death_rate\": 188.4}, {\"age_adjusted_death_rate\": 273.4}, {\"age_adjusted_death_rate\": 40.4}, {\"age_adjusted_death_rate\": 30.9}, {\"age_adjusted_death_rate\": 27.5}, {\"age_adjusted_death_rate\": 44.1}, {\"age_adjusted_death_rate\": 26.7}, {\"age_adjusted_death_rate\": 141.3}, {\"age_adjusted_death_rate\": 779.9}, {\"age_adjusted_death_rate\": 29.5}, {\"age_adjusted_death_rate\": 33.9}, {\"age_adjusted_death_rate\": 29.9}, {\"age_adjusted_death_rate\": 47.4}, {\"age_adjusted_death_rate\": 206.4}, {\"age_adjusted_death_rate\": 53.8}, {\"age_adjusted_death_rate\": 27.3}, {\"age_adjusted_death_rate\": 41.6}, {\"age_adjusted_death_rate\": 174.7}, {\"age_adjusted_death_rate\": 59.1}, {\"age_adjusted_death_rate\": 197.3}, {\"age_adjusted_death_rate\": 42.6}, {\"age_adjusted_death_rate\": 41.7}, {\"age_adjusted_death_rate\": 38.6}, {\"age_adjusted_death_rate\": 44.5}, {\"age_adjusted_death_rate\": 39.4}, {\"age_adjusted_death_rate\": 48.3}, {\"age_adjusted_death_rate\": 19.8}, {\"age_adjusted_death_rate\": 22.0}, {\"age_adjusted_death_rate\": 11.8}, {\"age_adjusted_death_rate\": 848.7}, {\"age_adjusted_death_rate\": 205.3}, {\"age_adjusted_death_rate\": 904.2}, {\"age_adjusted_death_rate\": 22.8}, {\"age_adjusted_death_rate\": 24.0}, {\"age_adjusted_death_rate\": 681.5}, {\"age_adjusted_death_rate\": 31.1}, {\"age_adjusted_death_rate\": 48.1}, {\"age_adjusted_death_rate\": 170.8}, {\"age_adjusted_death_rate\": 52.9}, {\"age_adjusted_death_rate\": 36.1}, {\"age_adjusted_death_rate\": 44.7}, {\"age_adjusted_death_rate\": 9.9}, {\"age_adjusted_death_rate\": 224.1}, {\"age_adjusted_death_rate\": 49.4}, {\"age_adjusted_death_rate\": 40.9}, {\"age_adjusted_death_rate\": 52.7}, {\"age_adjusted_death_rate\": 177.1}, {\"age_adjusted_death_rate\": 19.3}, {\"age_adjusted_death_rate\": 41.3}, {\"age_adjusted_death_rate\": 182.6}, {\"age_adjusted_death_rate\": 26.2}, {\"age_adjusted_death_rate\": 199.4}, {\"age_adjusted_death_rate\": 21.8}, {\"age_adjusted_death_rate\": 15.8}, {\"age_adjusted_death_rate\": 18.2}, {\"age_adjusted_death_rate\": 46.6}, {\"age_adjusted_death_rate\": 19.4}, {\"age_adjusted_death_rate\": 25.9}, {\"age_adjusted_death_rate\": 180.3}, {\"age_adjusted_death_rate\": 206.7}, {\"age_adjusted_death_rate\": 30.9}, {\"age_adjusted_death_rate\": 19.9}, {\"age_adjusted_death_rate\": 59.3}, {\"age_adjusted_death_rate\": 15.9}, {\"age_adjusted_death_rate\": 217.1}, {\"age_adjusted_death_rate\": 11.6}, {\"age_adjusted_death_rate\": 21.5}, {\"age_adjusted_death_rate\": 15.0}, {\"age_adjusted_death_rate\": 51.3}, {\"age_adjusted_death_rate\": 22.9}, {\"age_adjusted_death_rate\": 19.9}, {\"age_adjusted_death_rate\": 17.7}, {\"age_adjusted_death_rate\": 865.9}, {\"age_adjusted_death_rate\": 9.7}, {\"age_adjusted_death_rate\": 11.1}, {\"age_adjusted_death_rate\": 1061.2}, {\"age_adjusted_death_rate\": 32.7}, {\"age_adjusted_death_rate\": 40.7}, {\"age_adjusted_death_rate\": 225.0}, {\"age_adjusted_death_rate\": 149.3}, {\"age_adjusted_death_rate\": 28.5}, {\"age_adjusted_death_rate\": 257.6}, {\"age_adjusted_death_rate\": 40.8}, {\"age_adjusted_death_rate\": 15.3}, {\"age_adjusted_death_rate\": 15.1}, {\"age_adjusted_death_rate\": 179.4}, {\"age_adjusted_death_rate\": 13.2}, {\"age_adjusted_death_rate\": 33.4}, {\"age_adjusted_death_rate\": 20.3}, {\"age_adjusted_death_rate\": 60.5}, {\"age_adjusted_death_rate\": 56.3}, {\"age_adjusted_death_rate\": 41.3}, {\"age_adjusted_death_rate\": 38.5}, {\"age_adjusted_death_rate\": 33.3}, {\"age_adjusted_death_rate\": 60.2}, {\"age_adjusted_death_rate\": 15.3}, {\"age_adjusted_death_rate\": 12.7}, {\"age_adjusted_death_rate\": 174.6}, {\"age_adjusted_death_rate\": 14.2}, {\"age_adjusted_death_rate\": 44.7}, {\"age_adjusted_death_rate\": 52.6}, {\"age_adjusted_death_rate\": 16.3}, {\"age_adjusted_death_rate\": 57.6}, {\"age_adjusted_death_rate\": 183.3}, {\"age_adjusted_death_rate\": 17.7}, {\"age_adjusted_death_rate\": 746.2}, {\"age_adjusted_death_rate\": 12.9}, {\"age_adjusted_death_rate\": 31.7}, {\"age_adjusted_death_rate\": 9.5}, {\"age_adjusted_death_rate\": 840.3}, {\"age_adjusted_death_rate\": 29.5}, {\"age_adjusted_death_rate\": 796.1}, {\"age_adjusted_death_rate\": 35.3}, {\"age_adjusted_death_rate\": 8.4}, {\"age_adjusted_death_rate\": 9.0}, {\"age_adjusted_death_rate\": 20.3}, {\"age_adjusted_death_rate\": 20.6}, {\"age_adjusted_death_rate\": 38.1}, {\"age_adjusted_death_rate\": 5.8}, {\"age_adjusted_death_rate\": 48.3}, {\"age_adjusted_death_rate\": 1049.9}, {\"age_adjusted_death_rate\": 24.9}, {\"age_adjusted_death_rate\": 58.3}, {\"age_adjusted_death_rate\": 18.9}, {\"age_adjusted_death_rate\": 37.9}, {\"age_adjusted_death_rate\": 11.2}, {\"age_adjusted_death_rate\": 33.3}, {\"age_adjusted_death_rate\": 15.0}, {\"age_adjusted_death_rate\": 22.1}, {\"age_adjusted_death_rate\": 34.9}, {\"age_adjusted_death_rate\": 692.7}, {\"age_adjusted_death_rate\": 21.1}, {\"age_adjusted_death_rate\": 18.1}, {\"age_adjusted_death_rate\": 54.9}, {\"age_adjusted_death_rate\": 22.3}, {\"age_adjusted_death_rate\": 771.6}, {\"age_adjusted_death_rate\": 27.8}, {\"age_adjusted_death_rate\": 156.3}, {\"age_adjusted_death_rate\": 196.7}, {\"age_adjusted_death_rate\": 9.8}, {\"age_adjusted_death_rate\": 733.1}, {\"age_adjusted_death_rate\": 18.7}, {\"age_adjusted_death_rate\": 726.8}, {\"age_adjusted_death_rate\": 19.7}, {\"age_adjusted_death_rate\": 192.7}, {\"age_adjusted_death_rate\": 137.9}, {\"age_adjusted_death_rate\": 46.0}, {\"age_adjusted_death_rate\": 11.8}, {\"age_adjusted_death_rate\": 27.9}, {\"age_adjusted_death_rate\": 16.6}, {\"age_adjusted_death_rate\": 58.1}, {\"age_adjusted_death_rate\": 168.4}, {\"age_adjusted_death_rate\": 17.1}, {\"age_adjusted_death_rate\": 22.0}, {\"age_adjusted_death_rate\": 11.2}, {\"age_adjusted_death_rate\": 40.8}, {\"age_adjusted_death_rate\": 11.9}, {\"age_adjusted_death_rate\": 16.0}, {\"age_adjusted_death_rate\": 24.6}, {\"age_adjusted_death_rate\": 669.5}, {\"age_adjusted_death_rate\": 41.8}, {\"age_adjusted_death_rate\": 218.6}, {\"age_adjusted_death_rate\": 153.2}, {\"age_adjusted_death_rate\": 36.5}, {\"age_adjusted_death_rate\": 10.6}, {\"age_adjusted_death_rate\": 273.5}, {\"age_adjusted_death_rate\": 9.7}, {\"age_adjusted_death_rate\": 15.6}, {\"age_adjusted_death_rate\": 188.3}, {\"age_adjusted_death_rate\": 39.7}, {\"age_adjusted_death_rate\": 20.6}, {\"age_adjusted_death_rate\": 185.3}, {\"age_adjusted_death_rate\": 28.0}, {\"age_adjusted_death_rate\": 33.2}, {\"age_adjusted_death_rate\": 208.1}, {\"age_adjusted_death_rate\": 138.8}, {\"age_adjusted_death_rate\": 48.2}, {\"age_adjusted_death_rate\": 49.0}, {\"age_adjusted_death_rate\": 35.4}, {\"age_adjusted_death_rate\": 18.2}, {\"age_adjusted_death_rate\": 35.6}, {\"age_adjusted_death_rate\": 51.7}, {\"age_adjusted_death_rate\": 44.1}, {\"age_adjusted_death_rate\": 24.2}, {\"age_adjusted_death_rate\": 17.2}, {\"age_adjusted_death_rate\": 14.9}, {\"age_adjusted_death_rate\": 157.1}, {\"age_adjusted_death_rate\": 28.8}, {\"age_adjusted_death_rate\": 749.2}, {\"age_adjusted_death_rate\": 24.8}, {\"age_adjusted_death_rate\": 21.1}, {\"age_adjusted_death_rate\": 7.0}, {\"age_adjusted_death_rate\": 22.7}, {\"age_adjusted_death_rate\": 975.2}, {\"age_adjusted_death_rate\": 793.6}, {\"age_adjusted_death_rate\": 899.9}, {\"age_adjusted_death_rate\": 206.7}, {\"age_adjusted_death_rate\": 38.5}, {\"age_adjusted_death_rate\": 31.7}, {\"age_adjusted_death_rate\": 33.0}, {\"age_adjusted_death_rate\": 68.7}, {\"age_adjusted_death_rate\": 13.2}, {\"age_adjusted_death_rate\": 17.3}, {\"age_adjusted_death_rate\": 177.9}, {\"age_adjusted_death_rate\": 25.0}, {\"age_adjusted_death_rate\": 812.5}, {\"age_adjusted_death_rate\": 56.8}, {\"age_adjusted_death_rate\": 28.8}, {\"age_adjusted_death_rate\": 24.4}, {\"age_adjusted_death_rate\": 15.7}, {\"age_adjusted_death_rate\": 23.3}, {\"age_adjusted_death_rate\": 11.1}, {\"age_adjusted_death_rate\": 17.7}, {\"age_adjusted_death_rate\": 19.8}, {\"age_adjusted_death_rate\": 33.6}, {\"age_adjusted_death_rate\": 19.3}, {\"age_adjusted_death_rate\": 250.9}, {\"age_adjusted_death_rate\": 818.1}, {\"age_adjusted_death_rate\": 48.1}, {\"age_adjusted_death_rate\": 769.6}, {\"age_adjusted_death_rate\": 9.4}, {\"age_adjusted_death_rate\": 19.0}, {\"age_adjusted_death_rate\": 62.4}, {\"age_adjusted_death_rate\": 12.5}, {\"age_adjusted_death_rate\": 65.6}, {\"age_adjusted_death_rate\": 41.4}, {\"age_adjusted_death_rate\": 13.6}, {\"age_adjusted_death_rate\": 715.3}, {\"age_adjusted_death_rate\": 45.2}, {\"age_adjusted_death_rate\": 46.9}, {\"age_adjusted_death_rate\": 30.2}, {\"age_adjusted_death_rate\": 9.4}, {\"age_adjusted_death_rate\": 39.7}, {\"age_adjusted_death_rate\": 188.5}, {\"age_adjusted_death_rate\": 19.8}, {\"age_adjusted_death_rate\": 34.4}, {\"age_adjusted_death_rate\": 36.1}, {\"age_adjusted_death_rate\": 57.9}, {\"age_adjusted_death_rate\": 261.2}, {\"age_adjusted_death_rate\": 25.3}, {\"age_adjusted_death_rate\": 20.1}, {\"age_adjusted_death_rate\": 30.1}, {\"age_adjusted_death_rate\": 60.6}, {\"age_adjusted_death_rate\": 24.5}, {\"age_adjusted_death_rate\": 23.8}, {\"age_adjusted_death_rate\": 18.3}, {\"age_adjusted_death_rate\": 156.2}, {\"age_adjusted_death_rate\": 793.2}, {\"age_adjusted_death_rate\": 12.7}, {\"age_adjusted_death_rate\": 57.7}, {\"age_adjusted_death_rate\": 55.4}, {\"age_adjusted_death_rate\": 19.9}, {\"age_adjusted_death_rate\": 27.1}, {\"age_adjusted_death_rate\": 49.6}, {\"age_adjusted_death_rate\": 16.2}, {\"age_adjusted_death_rate\": 12.1}, {\"age_adjusted_death_rate\": 224.3}, {\"age_adjusted_death_rate\": 25.7}, {\"age_adjusted_death_rate\": 25.9}, {\"age_adjusted_death_rate\": 10.0}, {\"age_adjusted_death_rate\": 30.5}, {\"age_adjusted_death_rate\": 186.2}, {\"age_adjusted_death_rate\": 174.9}, {\"age_adjusted_death_rate\": 9.5}, {\"age_adjusted_death_rate\": 14.2}, {\"age_adjusted_death_rate\": 20.3}, {\"age_adjusted_death_rate\": 41.7}, {\"age_adjusted_death_rate\": 22.1}, {\"age_adjusted_death_rate\": 21.3}, {\"age_adjusted_death_rate\": 42.2}, {\"age_adjusted_death_rate\": 21.3}, {\"age_adjusted_death_rate\": 22.6}, {\"age_adjusted_death_rate\": 182.5}, {\"age_adjusted_death_rate\": 13.9}, {\"age_adjusted_death_rate\": 13.1}, {\"age_adjusted_death_rate\": 20.9}, {\"age_adjusted_death_rate\": 59.6}, {\"age_adjusted_death_rate\": 823.7}, {\"age_adjusted_death_rate\": 238.0}, {\"age_adjusted_death_rate\": 13.1}, {\"age_adjusted_death_rate\": 17.3}, {\"age_adjusted_death_rate\": 195.0}, {\"age_adjusted_death_rate\": 14.4}, {\"age_adjusted_death_rate\": 21.6}, {\"age_adjusted_death_rate\": 23.0}, {\"age_adjusted_death_rate\": 14.5}, {\"age_adjusted_death_rate\": 752.6}, {\"age_adjusted_death_rate\": 747.4}, {\"age_adjusted_death_rate\": 16.5}, {\"age_adjusted_death_rate\": 775.8}, {\"age_adjusted_death_rate\": 23.0}, {\"age_adjusted_death_rate\": 288.5}, {\"age_adjusted_death_rate\": 25.8}, {\"age_adjusted_death_rate\": 12.1}, {\"age_adjusted_death_rate\": 144.3}, {\"age_adjusted_death_rate\": 40.5}, {\"age_adjusted_death_rate\": 33.4}, {\"age_adjusted_death_rate\": 44.4}, {\"age_adjusted_death_rate\": 56.0}, {\"age_adjusted_death_rate\": 65.3}, {\"age_adjusted_death_rate\": 16.1}, {\"age_adjusted_death_rate\": 36.3}, {\"age_adjusted_death_rate\": 182.0}, {\"age_adjusted_death_rate\": 204.8}, {\"age_adjusted_death_rate\": 50.5}, {\"age_adjusted_death_rate\": 55.0}, {\"age_adjusted_death_rate\": 9.1}, {\"age_adjusted_death_rate\": 23.3}, {\"age_adjusted_death_rate\": 886.4}, {\"age_adjusted_death_rate\": 12.2}, {\"age_adjusted_death_rate\": 8.1}, {\"age_adjusted_death_rate\": 12.9}, {\"age_adjusted_death_rate\": 12.5}, {\"age_adjusted_death_rate\": 644.0}, {\"age_adjusted_death_rate\": 30.7}, {\"age_adjusted_death_rate\": 39.6}, {\"age_adjusted_death_rate\": 30.3}, {\"age_adjusted_death_rate\": 193.8}, {\"age_adjusted_death_rate\": 15.0}, {\"age_adjusted_death_rate\": 20.3}, {\"age_adjusted_death_rate\": 14.6}, {\"age_adjusted_death_rate\": 166.1}, {\"age_adjusted_death_rate\": 39.2}, {\"age_adjusted_death_rate\": 36.8}, {\"age_adjusted_death_rate\": 28.7}, {\"age_adjusted_death_rate\": 42.4}, {\"age_adjusted_death_rate\": 979.5}, {\"age_adjusted_death_rate\": 56.2}, {\"age_adjusted_death_rate\": 42.4}, {\"age_adjusted_death_rate\": 198.8}, {\"age_adjusted_death_rate\": 26.0}, {\"age_adjusted_death_rate\": 20.5}, {\"age_adjusted_death_rate\": 12.0}, {\"age_adjusted_death_rate\": 203.0}, {\"age_adjusted_death_rate\": 145.5}, {\"age_adjusted_death_rate\": 158.2}, {\"age_adjusted_death_rate\": 18.5}, {\"age_adjusted_death_rate\": 40.3}, {\"age_adjusted_death_rate\": 54.2}, {\"age_adjusted_death_rate\": 19.5}, {\"age_adjusted_death_rate\": 44.1}, {\"age_adjusted_death_rate\": 11.7}, {\"age_adjusted_death_rate\": 16.4}, {\"age_adjusted_death_rate\": 38.9}, {\"age_adjusted_death_rate\": 36.7}, {\"age_adjusted_death_rate\": 17.5}, {\"age_adjusted_death_rate\": 20.1}, {\"age_adjusted_death_rate\": 616.9}, {\"age_adjusted_death_rate\": 38.4}, {\"age_adjusted_death_rate\": 38.4}, {\"age_adjusted_death_rate\": 34.4}, {\"age_adjusted_death_rate\": 26.6}, {\"age_adjusted_death_rate\": 62.7}, {\"age_adjusted_death_rate\": 24.5}, {\"age_adjusted_death_rate\": 13.9}, {\"age_adjusted_death_rate\": 192.4}, {\"age_adjusted_death_rate\": 16.1}, {\"age_adjusted_death_rate\": 50.1}, {\"age_adjusted_death_rate\": 180.2}, {\"age_adjusted_death_rate\": 17.3}, {\"age_adjusted_death_rate\": 185.5}, {\"age_adjusted_death_rate\": 66.4}, {\"age_adjusted_death_rate\": 15.1}, {\"age_adjusted_death_rate\": 44.0}, {\"age_adjusted_death_rate\": 49.8}, {\"age_adjusted_death_rate\": 299.5}, {\"age_adjusted_death_rate\": 18.9}, {\"age_adjusted_death_rate\": 651.0}, {\"age_adjusted_death_rate\": 896.4}, {\"age_adjusted_death_rate\": 9.6}, {\"age_adjusted_death_rate\": 16.4}, {\"age_adjusted_death_rate\": 36.1}, {\"age_adjusted_death_rate\": 19.7}, {\"age_adjusted_death_rate\": 12.9}, {\"age_adjusted_death_rate\": 67.0}, {\"age_adjusted_death_rate\": 25.3}, {\"age_adjusted_death_rate\": 17.5}, {\"age_adjusted_death_rate\": 880.6}, {\"age_adjusted_death_rate\": 16.1}, {\"age_adjusted_death_rate\": 26.5}, {\"age_adjusted_death_rate\": 39.0}, {\"age_adjusted_death_rate\": 45.3}, {\"age_adjusted_death_rate\": 15.1}, {\"age_adjusted_death_rate\": 18.4}, {\"age_adjusted_death_rate\": 16.3}, {\"age_adjusted_death_rate\": 4.5}, {\"age_adjusted_death_rate\": 24.5}, {\"age_adjusted_death_rate\": 14.3}, {\"age_adjusted_death_rate\": 16.8}, {\"age_adjusted_death_rate\": 59.5}, {\"age_adjusted_death_rate\": 33.6}, {\"age_adjusted_death_rate\": 154.6}, {\"age_adjusted_death_rate\": 19.8}, {\"age_adjusted_death_rate\": 35.1}, {\"age_adjusted_death_rate\": 30.5}, {\"age_adjusted_death_rate\": 188.3}, {\"age_adjusted_death_rate\": 155.7}, {\"age_adjusted_death_rate\": 162.4}, {\"age_adjusted_death_rate\": 179.0}, {\"age_adjusted_death_rate\": 25.6}, {\"age_adjusted_death_rate\": 630.4}, {\"age_adjusted_death_rate\": 181.7}, {\"age_adjusted_death_rate\": 53.7}, {\"age_adjusted_death_rate\": 888.4}, {\"age_adjusted_death_rate\": 57.2}, {\"age_adjusted_death_rate\": 34.3}, {\"age_adjusted_death_rate\": 12.5}, {\"age_adjusted_death_rate\": 19.2}, {\"age_adjusted_death_rate\": 31.4}, {\"age_adjusted_death_rate\": 832.2}, {\"age_adjusted_death_rate\": 38.8}, {\"age_adjusted_death_rate\": 14.4}, {\"age_adjusted_death_rate\": 15.6}, {\"age_adjusted_death_rate\": 291.2}, {\"age_adjusted_death_rate\": 37.8}, {\"age_adjusted_death_rate\": 34.9}, {\"age_adjusted_death_rate\": 14.2}, {\"age_adjusted_death_rate\": 250.3}, {\"age_adjusted_death_rate\": 692.3}, {\"age_adjusted_death_rate\": 11.3}, {\"age_adjusted_death_rate\": 19.5}, {\"age_adjusted_death_rate\": 11.9}, {\"age_adjusted_death_rate\": 120.3}, {\"age_adjusted_death_rate\": 146.2}, {\"age_adjusted_death_rate\": 20.7}, {\"age_adjusted_death_rate\": 36.9}, {\"age_adjusted_death_rate\": 180.6}, {\"age_adjusted_death_rate\": 28.4}, {\"age_adjusted_death_rate\": 16.3}, {\"age_adjusted_death_rate\": 27.6}, {\"age_adjusted_death_rate\": 13.6}, {\"age_adjusted_death_rate\": 8.9}, {\"age_adjusted_death_rate\": 158.4}, {\"age_adjusted_death_rate\": 39.9}, {\"age_adjusted_death_rate\": 221.5}, {\"age_adjusted_death_rate\": 13.9}, {\"age_adjusted_death_rate\": 19.2}, {\"age_adjusted_death_rate\": 762.3}, {\"age_adjusted_death_rate\": 147.8}, {\"age_adjusted_death_rate\": 30.2}, {\"age_adjusted_death_rate\": 666.6}, {\"age_adjusted_death_rate\": 172.7}, {\"age_adjusted_death_rate\": 180.2}, {\"age_adjusted_death_rate\": 245.5}, {\"age_adjusted_death_rate\": 41.6}, {\"age_adjusted_death_rate\": 35.9}, {\"age_adjusted_death_rate\": 52.9}, {\"age_adjusted_death_rate\": 45.2}, {\"age_adjusted_death_rate\": 28.3}, {\"age_adjusted_death_rate\": 16.1}, {\"age_adjusted_death_rate\": 902.4}, {\"age_adjusted_death_rate\": 27.1}, {\"age_adjusted_death_rate\": 19.0}, {\"age_adjusted_death_rate\": 177.8}, {\"age_adjusted_death_rate\": 26.6}, {\"age_adjusted_death_rate\": 10.6}, {\"age_adjusted_death_rate\": 36.0}, {\"age_adjusted_death_rate\": 999.1}, {\"age_adjusted_death_rate\": 53.8}, {\"age_adjusted_death_rate\": 58.8}, {\"age_adjusted_death_rate\": 177.2}, {\"age_adjusted_death_rate\": 14.2}, {\"age_adjusted_death_rate\": 23.8}, {\"age_adjusted_death_rate\": 19.2}, {\"age_adjusted_death_rate\": 62.4}, {\"age_adjusted_death_rate\": 25.3}, {\"age_adjusted_death_rate\": 30.6}, {\"age_adjusted_death_rate\": 55.9}, {\"age_adjusted_death_rate\": 178.1}, {\"age_adjusted_death_rate\": 32.2}, {\"age_adjusted_death_rate\": 41.7}, {\"age_adjusted_death_rate\": 764.2}, {\"age_adjusted_death_rate\": 18.7}, {\"age_adjusted_death_rate\": 169.7}, {\"age_adjusted_death_rate\": 247.5}, {\"age_adjusted_death_rate\": 50.7}, {\"age_adjusted_death_rate\": 12.0}, {\"age_adjusted_death_rate\": 184.4}, {\"age_adjusted_death_rate\": 181.7}, {\"age_adjusted_death_rate\": 11.5}, {\"age_adjusted_death_rate\": 31.9}, {\"age_adjusted_death_rate\": 167.7}, {\"age_adjusted_death_rate\": 32.5}, {\"age_adjusted_death_rate\": 45.8}, {\"age_adjusted_death_rate\": 171.1}, {\"age_adjusted_death_rate\": 7.3}, {\"age_adjusted_death_rate\": 19.7}, {\"age_adjusted_death_rate\": 206.8}, {\"age_adjusted_death_rate\": 20.4}, {\"age_adjusted_death_rate\": 225.1}, {\"age_adjusted_death_rate\": 247.7}, {\"age_adjusted_death_rate\": 34.3}, {\"age_adjusted_death_rate\": 17.3}, {\"age_adjusted_death_rate\": 45.5}, {\"age_adjusted_death_rate\": 32.3}, {\"age_adjusted_death_rate\": 139.3}, {\"age_adjusted_death_rate\": 8.9}, {\"age_adjusted_death_rate\": 24.0}, {\"age_adjusted_death_rate\": 677.6}, {\"age_adjusted_death_rate\": 11.7}, {\"age_adjusted_death_rate\": 194.3}, {\"age_adjusted_death_rate\": 25.6}, {\"age_adjusted_death_rate\": 168.1}, {\"age_adjusted_death_rate\": 13.7}, {\"age_adjusted_death_rate\": 42.7}, {\"age_adjusted_death_rate\": 46.3}, {\"age_adjusted_death_rate\": 146.9}, {\"age_adjusted_death_rate\": 52.0}, {\"age_adjusted_death_rate\": 22.3}, {\"age_adjusted_death_rate\": 161.4}, {\"age_adjusted_death_rate\": 46.2}, {\"age_adjusted_death_rate\": 25.7}, {\"age_adjusted_death_rate\": 17.7}, {\"age_adjusted_death_rate\": 15.5}, {\"age_adjusted_death_rate\": 27.2}, {\"age_adjusted_death_rate\": 22.4}, {\"age_adjusted_death_rate\": 44.8}, {\"age_adjusted_death_rate\": 29.8}, {\"age_adjusted_death_rate\": 179.5}, {\"age_adjusted_death_rate\": 16.4}, {\"age_adjusted_death_rate\": 47.3}, {\"age_adjusted_death_rate\": 24.4}, {\"age_adjusted_death_rate\": 45.7}, {\"age_adjusted_death_rate\": 24.3}, {\"age_adjusted_death_rate\": 34.6}, {\"age_adjusted_death_rate\": 136.1}, {\"age_adjusted_death_rate\": 11.9}, {\"age_adjusted_death_rate\": 14.5}, {\"age_adjusted_death_rate\": 16.8}, {\"age_adjusted_death_rate\": 44.5}, {\"age_adjusted_death_rate\": 24.4}, {\"age_adjusted_death_rate\": 29.6}, {\"age_adjusted_death_rate\": 15.0}, {\"age_adjusted_death_rate\": 27.4}, {\"age_adjusted_death_rate\": 151.0}, {\"age_adjusted_death_rate\": 207.8}, {\"age_adjusted_death_rate\": 31.7}, {\"age_adjusted_death_rate\": 28.3}, {\"age_adjusted_death_rate\": 17.2}, {\"age_adjusted_death_rate\": 69.0}, {\"age_adjusted_death_rate\": 8.9}, {\"age_adjusted_death_rate\": 9.7}, {\"age_adjusted_death_rate\": 198.1}, {\"age_adjusted_death_rate\": 169.1}, {\"age_adjusted_death_rate\": 44.8}, {\"age_adjusted_death_rate\": 44.0}, {\"age_adjusted_death_rate\": 20.2}, {\"age_adjusted_death_rate\": 22.3}, {\"age_adjusted_death_rate\": 200.4}, {\"age_adjusted_death_rate\": 21.9}, {\"age_adjusted_death_rate\": 189.6}, {\"age_adjusted_death_rate\": 44.2}, {\"age_adjusted_death_rate\": 214.0}, {\"age_adjusted_death_rate\": 36.6}, {\"age_adjusted_death_rate\": 18.7}, {\"age_adjusted_death_rate\": 40.4}, {\"age_adjusted_death_rate\": 28.5}, {\"age_adjusted_death_rate\": 24.5}, {\"age_adjusted_death_rate\": 21.8}, {\"age_adjusted_death_rate\": 21.5}, {\"age_adjusted_death_rate\": 38.6}, {\"age_adjusted_death_rate\": 53.0}, {\"age_adjusted_death_rate\": 590.8}, {\"age_adjusted_death_rate\": 745.6}, {\"age_adjusted_death_rate\": 8.9}, {\"age_adjusted_death_rate\": 61.2}, {\"age_adjusted_death_rate\": 12.6}, {\"age_adjusted_death_rate\": 201.8}, {\"age_adjusted_death_rate\": 846.6}, {\"age_adjusted_death_rate\": 10.2}, {\"age_adjusted_death_rate\": 25.2}, {\"age_adjusted_death_rate\": 771.1}, {\"age_adjusted_death_rate\": 23.5}, {\"age_adjusted_death_rate\": 234.5}, {\"age_adjusted_death_rate\": 39.9}, {\"age_adjusted_death_rate\": 25.2}, {\"age_adjusted_death_rate\": 204.9}, {\"age_adjusted_death_rate\": 837.8}, {\"age_adjusted_death_rate\": 12.5}, {\"age_adjusted_death_rate\": 17.9}, {\"age_adjusted_death_rate\": 49.2}, {\"age_adjusted_death_rate\": 24.9}, {\"age_adjusted_death_rate\": 14.2}, {\"age_adjusted_death_rate\": 12.8}, {\"age_adjusted_death_rate\": 10.9}, {\"age_adjusted_death_rate\": 149.2}, {\"age_adjusted_death_rate\": 15.8}, {\"age_adjusted_death_rate\": 48.6}, {\"age_adjusted_death_rate\": 23.6}, {\"age_adjusted_death_rate\": 57.2}, {\"age_adjusted_death_rate\": 16.9}, {\"age_adjusted_death_rate\": 4.5}, {\"age_adjusted_death_rate\": 21.7}, {\"age_adjusted_death_rate\": 35.9}, {\"age_adjusted_death_rate\": 11.8}, {\"age_adjusted_death_rate\": 24.6}, {\"age_adjusted_death_rate\": 13.2}, {\"age_adjusted_death_rate\": 156.1}, {\"age_adjusted_death_rate\": 8.8}, {\"age_adjusted_death_rate\": 12.9}, {\"age_adjusted_death_rate\": 16.5}, {\"age_adjusted_death_rate\": 39.6}, {\"age_adjusted_death_rate\": 36.3}, {\"age_adjusted_death_rate\": 26.4}, {\"age_adjusted_death_rate\": 26.0}, {\"age_adjusted_death_rate\": 135.0}, {\"age_adjusted_death_rate\": 157.6}, {\"age_adjusted_death_rate\": 970.6}, {\"age_adjusted_death_rate\": 16.9}, {\"age_adjusted_death_rate\": 19.9}, {\"age_adjusted_death_rate\": 20.8}, {\"age_adjusted_death_rate\": 679.3}, {\"age_adjusted_death_rate\": 13.7}, {\"age_adjusted_death_rate\": 24.7}, {\"age_adjusted_death_rate\": 38.2}, {\"age_adjusted_death_rate\": 179.4}, {\"age_adjusted_death_rate\": 11.1}, {\"age_adjusted_death_rate\": 16.5}, {\"age_adjusted_death_rate\": 228.7}, {\"age_adjusted_death_rate\": 19.6}, {\"age_adjusted_death_rate\": 31.7}, {\"age_adjusted_death_rate\": 142.9}, {\"age_adjusted_death_rate\": 864.1}, {\"age_adjusted_death_rate\": 183.0}, {\"age_adjusted_death_rate\": 35.8}, {\"age_adjusted_death_rate\": 31.0}, {\"age_adjusted_death_rate\": 49.5}, {\"age_adjusted_death_rate\": 47.9}, {\"age_adjusted_death_rate\": 11.9}, {\"age_adjusted_death_rate\": 18.2}, {\"age_adjusted_death_rate\": 7.8}, {\"age_adjusted_death_rate\": 49.2}, {\"age_adjusted_death_rate\": 16.8}, {\"age_adjusted_death_rate\": 8.9}, {\"age_adjusted_death_rate\": 8.2}, {\"age_adjusted_death_rate\": 809.3}, {\"age_adjusted_death_rate\": 17.3}, {\"age_adjusted_death_rate\": 19.8}, {\"age_adjusted_death_rate\": 16.7}, {\"age_adjusted_death_rate\": 27.1}, {\"age_adjusted_death_rate\": 50.1}, {\"age_adjusted_death_rate\": 756.7}, {\"age_adjusted_death_rate\": 156.9}, {\"age_adjusted_death_rate\": 34.8}, {\"age_adjusted_death_rate\": 52.2}, {\"age_adjusted_death_rate\": 40.2}, {\"age_adjusted_death_rate\": 689.3}, {\"age_adjusted_death_rate\": 163.2}, {\"age_adjusted_death_rate\": 9.7}, {\"age_adjusted_death_rate\": 20.7}, {\"age_adjusted_death_rate\": 184.2}, {\"age_adjusted_death_rate\": 43.1}, {\"age_adjusted_death_rate\": 191.6}, {\"age_adjusted_death_rate\": 11.0}, {\"age_adjusted_death_rate\": 33.4}, {\"age_adjusted_death_rate\": 38.1}, {\"age_adjusted_death_rate\": 25.6}, {\"age_adjusted_death_rate\": 18.6}, {\"age_adjusted_death_rate\": 31.7}, {\"age_adjusted_death_rate\": 229.3}, {\"age_adjusted_death_rate\": 42.8}, {\"age_adjusted_death_rate\": 732.1}, {\"age_adjusted_death_rate\": 15.7}, {\"age_adjusted_death_rate\": 16.0}, {\"age_adjusted_death_rate\": 157.8}, {\"age_adjusted_death_rate\": 11.5}, {\"age_adjusted_death_rate\": 39.5}, {\"age_adjusted_death_rate\": 14.4}, {\"age_adjusted_death_rate\": 65.8}, {\"age_adjusted_death_rate\": 22.8}, {\"age_adjusted_death_rate\": 201.3}, {\"age_adjusted_death_rate\": 39.9}, {\"age_adjusted_death_rate\": 15.5}, {\"age_adjusted_death_rate\": 198.5}, {\"age_adjusted_death_rate\": 12.4}, {\"age_adjusted_death_rate\": 31.9}, {\"age_adjusted_death_rate\": 52.8}, {\"age_adjusted_death_rate\": 59.0}, {\"age_adjusted_death_rate\": 52.1}, {\"age_adjusted_death_rate\": 42.7}, {\"age_adjusted_death_rate\": 14.9}, {\"age_adjusted_death_rate\": 46.5}, {\"age_adjusted_death_rate\": 46.5}, {\"age_adjusted_death_rate\": 834.1}, {\"age_adjusted_death_rate\": 36.9}, {\"age_adjusted_death_rate\": 171.3}, {\"age_adjusted_death_rate\": 195.1}, {\"age_adjusted_death_rate\": 19.1}, {\"age_adjusted_death_rate\": 230.4}, {\"age_adjusted_death_rate\": 47.7}, {\"age_adjusted_death_rate\": 17.7}, {\"age_adjusted_death_rate\": 13.7}, {\"age_adjusted_death_rate\": 45.0}, {\"age_adjusted_death_rate\": 41.5}, {\"age_adjusted_death_rate\": 217.5}, {\"age_adjusted_death_rate\": 61.3}, {\"age_adjusted_death_rate\": 29.7}, {\"age_adjusted_death_rate\": 167.8}, {\"age_adjusted_death_rate\": 132.9}, {\"age_adjusted_death_rate\": 13.7}, {\"age_adjusted_death_rate\": 2.6}, {\"age_adjusted_death_rate\": 56.1}, {\"age_adjusted_death_rate\": 21.6}, {\"age_adjusted_death_rate\": 53.2}, {\"age_adjusted_death_rate\": 189.9}, {\"age_adjusted_death_rate\": 30.7}, {\"age_adjusted_death_rate\": 736.8}, {\"age_adjusted_death_rate\": 784.2}, {\"age_adjusted_death_rate\": 21.5}, {\"age_adjusted_death_rate\": 10.2}, {\"age_adjusted_death_rate\": 136.4}, {\"age_adjusted_death_rate\": 5.2}, {\"age_adjusted_death_rate\": 37.8}, {\"age_adjusted_death_rate\": 9.3}, {\"age_adjusted_death_rate\": 201.8}, {\"age_adjusted_death_rate\": 7.7}, {\"age_adjusted_death_rate\": 16.3}, {\"age_adjusted_death_rate\": 254.7}, {\"age_adjusted_death_rate\": 202.1}, {\"age_adjusted_death_rate\": 59.1}, {\"age_adjusted_death_rate\": 186.4}, {\"age_adjusted_death_rate\": 23.7}, {\"age_adjusted_death_rate\": 185.1}, {\"age_adjusted_death_rate\": 45.6}, {\"age_adjusted_death_rate\": 260.1}, {\"age_adjusted_death_rate\": 38.9}, {\"age_adjusted_death_rate\": 52.8}, {\"age_adjusted_death_rate\": 20.4}, {\"age_adjusted_death_rate\": 20.1}, {\"age_adjusted_death_rate\": 30.5}, {\"age_adjusted_death_rate\": 32.3}, {\"age_adjusted_death_rate\": 23.9}, {\"age_adjusted_death_rate\": 24.1}, {\"age_adjusted_death_rate\": 27.0}, {\"age_adjusted_death_rate\": 158.6}, {\"age_adjusted_death_rate\": 52.1}, {\"age_adjusted_death_rate\": 55.6}, {\"age_adjusted_death_rate\": 43.2}, {\"age_adjusted_death_rate\": 53.4}, {\"age_adjusted_death_rate\": 14.0}, {\"age_adjusted_death_rate\": 149.8}, {\"age_adjusted_death_rate\": 187.9}, {\"age_adjusted_death_rate\": 37.3}, {\"age_adjusted_death_rate\": 10.5}, {\"age_adjusted_death_rate\": 27.5}, {\"age_adjusted_death_rate\": 198.6}, {\"age_adjusted_death_rate\": 14.3}, {\"age_adjusted_death_rate\": 19.3}, {\"age_adjusted_death_rate\": 171.6}, {\"age_adjusted_death_rate\": 6.6}, {\"age_adjusted_death_rate\": 12.4}, {\"age_adjusted_death_rate\": 59.0}, {\"age_adjusted_death_rate\": 44.7}, {\"age_adjusted_death_rate\": 50.7}, {\"age_adjusted_death_rate\": 34.9}, {\"age_adjusted_death_rate\": 16.8}, {\"age_adjusted_death_rate\": 16.7}, {\"age_adjusted_death_rate\": 15.5}, {\"age_adjusted_death_rate\": 29.9}, {\"age_adjusted_death_rate\": 43.7}, {\"age_adjusted_death_rate\": 47.1}, {\"age_adjusted_death_rate\": 56.2}, {\"age_adjusted_death_rate\": 45.9}, {\"age_adjusted_death_rate\": 44.6}, {\"age_adjusted_death_rate\": 49.9}, {\"age_adjusted_death_rate\": 300.5}, {\"age_adjusted_death_rate\": 13.4}, {\"age_adjusted_death_rate\": 807.5}, {\"age_adjusted_death_rate\": 152.7}, {\"age_adjusted_death_rate\": 25.8}, {\"age_adjusted_death_rate\": 22.9}, {\"age_adjusted_death_rate\": 41.8}, {\"age_adjusted_death_rate\": 23.6}, {\"age_adjusted_death_rate\": 12.1}, {\"age_adjusted_death_rate\": 27.6}, {\"age_adjusted_death_rate\": 952.7}, {\"age_adjusted_death_rate\": 22.6}, {\"age_adjusted_death_rate\": 191.1}, {\"age_adjusted_death_rate\": 21.9}, {\"age_adjusted_death_rate\": 46.7}, {\"age_adjusted_death_rate\": 833.4}, {\"age_adjusted_death_rate\": 10.3}, {\"age_adjusted_death_rate\": 41.7}, {\"age_adjusted_death_rate\": 158.0}, {\"age_adjusted_death_rate\": 11.4}, {\"age_adjusted_death_rate\": 26.3}, {\"age_adjusted_death_rate\": 815.0}, {\"age_adjusted_death_rate\": 690.4}, {\"age_adjusted_death_rate\": 27.8}, {\"age_adjusted_death_rate\": 17.2}, {\"age_adjusted_death_rate\": 28.3}, {\"age_adjusted_death_rate\": 27.9}, {\"age_adjusted_death_rate\": 19.6}, {\"age_adjusted_death_rate\": 241.2}, {\"age_adjusted_death_rate\": 39.3}, {\"age_adjusted_death_rate\": 20.3}, {\"age_adjusted_death_rate\": 47.0}, {\"age_adjusted_death_rate\": 15.7}, {\"age_adjusted_death_rate\": 173.4}, {\"age_adjusted_death_rate\": 18.4}, {\"age_adjusted_death_rate\": 749.6}, {\"age_adjusted_death_rate\": 745.0}, {\"age_adjusted_death_rate\": 38.8}, {\"age_adjusted_death_rate\": 21.1}, {\"age_adjusted_death_rate\": 724.4}, {\"age_adjusted_death_rate\": 14.2}, {\"age_adjusted_death_rate\": 14.2}, {\"age_adjusted_death_rate\": 56.1}, {\"age_adjusted_death_rate\": 30.6}, {\"age_adjusted_death_rate\": 128.6}, {\"age_adjusted_death_rate\": 15.5}, {\"age_adjusted_death_rate\": 33.0}, {\"age_adjusted_death_rate\": 48.2}, {\"age_adjusted_death_rate\": 40.5}, {\"age_adjusted_death_rate\": 218.8}, {\"age_adjusted_death_rate\": 24.7}, {\"age_adjusted_death_rate\": 19.9}, {\"age_adjusted_death_rate\": 53.6}, {\"age_adjusted_death_rate\": 201.8}, {\"age_adjusted_death_rate\": 63.9}, {\"age_adjusted_death_rate\": 17.3}, {\"age_adjusted_death_rate\": 157.5}, {\"age_adjusted_death_rate\": 28.5}, {\"age_adjusted_death_rate\": 26.0}, {\"age_adjusted_death_rate\": 212.6}, {\"age_adjusted_death_rate\": 20.5}, {\"age_adjusted_death_rate\": 60.2}, {\"age_adjusted_death_rate\": 213.6}, {\"age_adjusted_death_rate\": 13.4}, {\"age_adjusted_death_rate\": 78.5}, {\"age_adjusted_death_rate\": 19.8}, {\"age_adjusted_death_rate\": 239.8}, {\"age_adjusted_death_rate\": 10.5}, {\"age_adjusted_death_rate\": 35.3}, {\"age_adjusted_death_rate\": 43.5}, {\"age_adjusted_death_rate\": 45.1}, {\"age_adjusted_death_rate\": 45.5}, {\"age_adjusted_death_rate\": 37.0}, {\"age_adjusted_death_rate\": 40.7}, {\"age_adjusted_death_rate\": 22.4}, {\"age_adjusted_death_rate\": 45.8}, {\"age_adjusted_death_rate\": 11.4}, {\"age_adjusted_death_rate\": 32.8}, {\"age_adjusted_death_rate\": 33.8}, {\"age_adjusted_death_rate\": 27.2}, {\"age_adjusted_death_rate\": 866.7}, {\"age_adjusted_death_rate\": 12.4}, {\"age_adjusted_death_rate\": 39.6}, {\"age_adjusted_death_rate\": 45.3}, {\"age_adjusted_death_rate\": 717.6}, {\"age_adjusted_death_rate\": 68.7}, {\"age_adjusted_death_rate\": 167.0}, {\"age_adjusted_death_rate\": 199.3}, {\"age_adjusted_death_rate\": 46.3}, {\"age_adjusted_death_rate\": 167.5}, {\"age_adjusted_death_rate\": 27.8}, {\"age_adjusted_death_rate\": 957.2}, {\"age_adjusted_death_rate\": 270.3}, {\"age_adjusted_death_rate\": 49.5}, {\"age_adjusted_death_rate\": 22.0}, {\"age_adjusted_death_rate\": 255.3}, {\"age_adjusted_death_rate\": 677.1}, {\"age_adjusted_death_rate\": 9.1}, {\"age_adjusted_death_rate\": 1013.4}, {\"age_adjusted_death_rate\": 23.1}, {\"age_adjusted_death_rate\": 137.1}, {\"age_adjusted_death_rate\": 53.2}, {\"age_adjusted_death_rate\": 52.2}, {\"age_adjusted_death_rate\": 47.0}, {\"age_adjusted_death_rate\": 198.0}, {\"age_adjusted_death_rate\": 46.8}, {\"age_adjusted_death_rate\": 13.6}, {\"age_adjusted_death_rate\": 61.4}, {\"age_adjusted_death_rate\": 21.3}, {\"age_adjusted_death_rate\": 23.8}, {\"age_adjusted_death_rate\": 177.6}, {\"age_adjusted_death_rate\": 178.2}, {\"age_adjusted_death_rate\": 53.3}, {\"age_adjusted_death_rate\": 29.4}, {\"age_adjusted_death_rate\": 65.9}, {\"age_adjusted_death_rate\": 23.5}, {\"age_adjusted_death_rate\": 11.6}, {\"age_adjusted_death_rate\": 40.0}, {\"age_adjusted_death_rate\": 22.0}, {\"age_adjusted_death_rate\": 56.4}, {\"age_adjusted_death_rate\": 19.8}, {\"age_adjusted_death_rate\": 19.8}, {\"age_adjusted_death_rate\": 35.8}, {\"age_adjusted_death_rate\": 15.7}, {\"age_adjusted_death_rate\": 19.6}, {\"age_adjusted_death_rate\": 11.5}, {\"age_adjusted_death_rate\": 24.0}, {\"age_adjusted_death_rate\": 39.6}, {\"age_adjusted_death_rate\": 39.4}, {\"age_adjusted_death_rate\": 230.1}, {\"age_adjusted_death_rate\": 19.5}, {\"age_adjusted_death_rate\": 21.2}, {\"age_adjusted_death_rate\": 42.0}, {\"age_adjusted_death_rate\": 39.4}, {\"age_adjusted_death_rate\": 14.0}, {\"age_adjusted_death_rate\": 43.8}, {\"age_adjusted_death_rate\": 39.5}, {\"age_adjusted_death_rate\": 52.6}, {\"age_adjusted_death_rate\": 155.4}, {\"age_adjusted_death_rate\": 28.6}, {\"age_adjusted_death_rate\": 14.0}, {\"age_adjusted_death_rate\": 12.3}, {\"age_adjusted_death_rate\": 11.7}, {\"age_adjusted_death_rate\": 38.3}, {\"age_adjusted_death_rate\": 16.5}, {\"age_adjusted_death_rate\": 280.9}, {\"age_adjusted_death_rate\": 304.9}, {\"age_adjusted_death_rate\": 6.8}, {\"age_adjusted_death_rate\": 8.1}, {\"age_adjusted_death_rate\": 34.7}, {\"age_adjusted_death_rate\": 244.3}, {\"age_adjusted_death_rate\": 57.2}, {\"age_adjusted_death_rate\": 52.8}, {\"age_adjusted_death_rate\": 1051.9}, {\"age_adjusted_death_rate\": 37.3}, {\"age_adjusted_death_rate\": 31.2}, {\"age_adjusted_death_rate\": 240.0}, {\"age_adjusted_death_rate\": 251.2}, {\"age_adjusted_death_rate\": 7.9}, {\"age_adjusted_death_rate\": 9.5}, {\"age_adjusted_death_rate\": 7.4}, {\"age_adjusted_death_rate\": 167.9}, {\"age_adjusted_death_rate\": 186.1}, {\"age_adjusted_death_rate\": 54.7}, {\"age_adjusted_death_rate\": 48.9}, {\"age_adjusted_death_rate\": 50.5}, {\"age_adjusted_death_rate\": 44.2}, {\"age_adjusted_death_rate\": 708.8}, {\"age_adjusted_death_rate\": 39.6}, {\"age_adjusted_death_rate\": 34.9}, {\"age_adjusted_death_rate\": 240.5}, {\"age_adjusted_death_rate\": 20.3}, {\"age_adjusted_death_rate\": 27.0}, {\"age_adjusted_death_rate\": 189.1}, {\"age_adjusted_death_rate\": 29.8}, {\"age_adjusted_death_rate\": 214.3}, {\"age_adjusted_death_rate\": 19.3}, {\"age_adjusted_death_rate\": 780.6}, {\"age_adjusted_death_rate\": 29.8}, {\"age_adjusted_death_rate\": 171.9}, {\"age_adjusted_death_rate\": 180.6}, {\"age_adjusted_death_rate\": 184.3}, {\"age_adjusted_death_rate\": 26.8}, {\"age_adjusted_death_rate\": 186.4}, {\"age_adjusted_death_rate\": 46.3}, {\"age_adjusted_death_rate\": 17.8}, {\"age_adjusted_death_rate\": 208.2}, {\"age_adjusted_death_rate\": 215.4}, {\"age_adjusted_death_rate\": 183.3}, {\"age_adjusted_death_rate\": 13.8}, {\"age_adjusted_death_rate\": 192.9}, {\"age_adjusted_death_rate\": 269.6}, {\"age_adjusted_death_rate\": 12.6}, {\"age_adjusted_death_rate\": 41.0}, {\"age_adjusted_death_rate\": 39.9}, {\"age_adjusted_death_rate\": 37.0}, {\"age_adjusted_death_rate\": 49.2}, {\"age_adjusted_death_rate\": 19.0}, {\"age_adjusted_death_rate\": 18.4}, {\"age_adjusted_death_rate\": 28.2}, {\"age_adjusted_death_rate\": 11.5}, {\"age_adjusted_death_rate\": 20.7}, {\"age_adjusted_death_rate\": 51.3}, {\"age_adjusted_death_rate\": 20.1}, {\"age_adjusted_death_rate\": 6.6}, {\"age_adjusted_death_rate\": 190.0}, {\"age_adjusted_death_rate\": 11.8}, {\"age_adjusted_death_rate\": 25.9}, {\"age_adjusted_death_rate\": 18.6}, {\"age_adjusted_death_rate\": 42.5}, {\"age_adjusted_death_rate\": 933.0}, {\"age_adjusted_death_rate\": 44.3}, {\"age_adjusted_death_rate\": 38.3}, {\"age_adjusted_death_rate\": 19.8}, {\"age_adjusted_death_rate\": 32.9}, {\"age_adjusted_death_rate\": 22.9}, {\"age_adjusted_death_rate\": 748.6}, {\"age_adjusted_death_rate\": 9.9}, {\"age_adjusted_death_rate\": 41.8}, {\"age_adjusted_death_rate\": 190.5}, {\"age_adjusted_death_rate\": 40.5}, {\"age_adjusted_death_rate\": 56.4}, {\"age_adjusted_death_rate\": 41.7}, {\"age_adjusted_death_rate\": 8.0}, {\"age_adjusted_death_rate\": 956.8}, {\"age_adjusted_death_rate\": 21.2}, {\"age_adjusted_death_rate\": 20.3}, {\"age_adjusted_death_rate\": 135.3}, {\"age_adjusted_death_rate\": 18.5}, {\"age_adjusted_death_rate\": 44.3}, {\"age_adjusted_death_rate\": 19.9}, {\"age_adjusted_death_rate\": 42.1}, {\"age_adjusted_death_rate\": 40.0}, {\"age_adjusted_death_rate\": 886.6}, {\"age_adjusted_death_rate\": 193.7}, {\"age_adjusted_death_rate\": 15.3}, {\"age_adjusted_death_rate\": 46.7}, {\"age_adjusted_death_rate\": 14.4}, {\"age_adjusted_death_rate\": 13.5}, {\"age_adjusted_death_rate\": 51.0}, {\"age_adjusted_death_rate\": 912.5}, {\"age_adjusted_death_rate\": 42.1}, {\"age_adjusted_death_rate\": 10.7}, {\"age_adjusted_death_rate\": 13.6}, {\"age_adjusted_death_rate\": 31.3}, {\"age_adjusted_death_rate\": 41.8}, {\"age_adjusted_death_rate\": 47.9}, {\"age_adjusted_death_rate\": 143.3}, {\"age_adjusted_death_rate\": 15.9}, {\"age_adjusted_death_rate\": 44.6}, {\"age_adjusted_death_rate\": 973.5}, {\"age_adjusted_death_rate\": 783.7}, {\"age_adjusted_death_rate\": 143.8}, {\"age_adjusted_death_rate\": 189.9}, {\"age_adjusted_death_rate\": 217.9}, {\"age_adjusted_death_rate\": 63.0}, {\"age_adjusted_death_rate\": 197.5}, {\"age_adjusted_death_rate\": 22.8}, {\"age_adjusted_death_rate\": 43.3}, {\"age_adjusted_death_rate\": 22.9}, {\"age_adjusted_death_rate\": 19.9}, {\"age_adjusted_death_rate\": 45.1}, {\"age_adjusted_death_rate\": 12.5}, {\"age_adjusted_death_rate\": 14.0}, {\"age_adjusted_death_rate\": 23.6}, {\"age_adjusted_death_rate\": 879.0}, {\"age_adjusted_death_rate\": 41.3}, {\"age_adjusted_death_rate\": 14.6}, {\"age_adjusted_death_rate\": 258.6}, {\"age_adjusted_death_rate\": 12.7}, {\"age_adjusted_death_rate\": 235.8}, {\"age_adjusted_death_rate\": 43.6}, {\"age_adjusted_death_rate\": 9.9}, {\"age_adjusted_death_rate\": 171.2}, {\"age_adjusted_death_rate\": 44.8}, {\"age_adjusted_death_rate\": 6.7}, {\"age_adjusted_death_rate\": 41.3}, {\"age_adjusted_death_rate\": 18.5}, {\"age_adjusted_death_rate\": 45.7}, {\"age_adjusted_death_rate\": 39.7}, {\"age_adjusted_death_rate\": 18.6}, {\"age_adjusted_death_rate\": 736.6}, {\"age_adjusted_death_rate\": 25.7}, {\"age_adjusted_death_rate\": 175.2}, {\"age_adjusted_death_rate\": 39.8}, {\"age_adjusted_death_rate\": 679.1}, {\"age_adjusted_death_rate\": 227.9}, {\"age_adjusted_death_rate\": 17.9}, {\"age_adjusted_death_rate\": 11.3}, {\"age_adjusted_death_rate\": 736.1}, {\"age_adjusted_death_rate\": 19.8}, {\"age_adjusted_death_rate\": 12.5}, {\"age_adjusted_death_rate\": 23.5}, {\"age_adjusted_death_rate\": 30.0}, {\"age_adjusted_death_rate\": 36.2}, {\"age_adjusted_death_rate\": 150.1}, {\"age_adjusted_death_rate\": 8.5}, {\"age_adjusted_death_rate\": 38.3}, {\"age_adjusted_death_rate\": 49.6}, {\"age_adjusted_death_rate\": 14.5}, {\"age_adjusted_death_rate\": 9.5}, {\"age_adjusted_death_rate\": 186.1}, {\"age_adjusted_death_rate\": 18.2}, {\"age_adjusted_death_rate\": 135.0}, {\"age_adjusted_death_rate\": 25.8}, {\"age_adjusted_death_rate\": 839.6}, {\"age_adjusted_death_rate\": 48.8}, {\"age_adjusted_death_rate\": 40.4}, {\"age_adjusted_death_rate\": 7.1}, {\"age_adjusted_death_rate\": 35.7}, {\"age_adjusted_death_rate\": 21.0}, {\"age_adjusted_death_rate\": 22.7}, {\"age_adjusted_death_rate\": 665.0}, {\"age_adjusted_death_rate\": 31.0}, {\"age_adjusted_death_rate\": 26.1}, {\"age_adjusted_death_rate\": 40.5}, {\"age_adjusted_death_rate\": 43.1}, {\"age_adjusted_death_rate\": 52.7}, {\"age_adjusted_death_rate\": 22.4}, {\"age_adjusted_death_rate\": 56.8}, {\"age_adjusted_death_rate\": 748.3}, {\"age_adjusted_death_rate\": 146.7}, {\"age_adjusted_death_rate\": 10.2}, {\"age_adjusted_death_rate\": 57.7}, {\"age_adjusted_death_rate\": 144.1}, {\"age_adjusted_death_rate\": 815.3}, {\"age_adjusted_death_rate\": 13.7}, {\"age_adjusted_death_rate\": 22.2}, {\"age_adjusted_death_rate\": 21.9}, {\"age_adjusted_death_rate\": 23.8}, {\"age_adjusted_death_rate\": 757.8}, {\"age_adjusted_death_rate\": 224.1}, {\"age_adjusted_death_rate\": 18.0}, {\"age_adjusted_death_rate\": 187.7}, {\"age_adjusted_death_rate\": 37.0}, {\"age_adjusted_death_rate\": 46.7}, {\"age_adjusted_death_rate\": 31.8}, {\"age_adjusted_death_rate\": 951.3}, {\"age_adjusted_death_rate\": 15.7}, {\"age_adjusted_death_rate\": 41.1}, {\"age_adjusted_death_rate\": 62.2}, {\"age_adjusted_death_rate\": 280.6}, {\"age_adjusted_death_rate\": 16.5}, {\"age_adjusted_death_rate\": 28.1}, {\"age_adjusted_death_rate\": 19.5}, {\"age_adjusted_death_rate\": 189.3}, {\"age_adjusted_death_rate\": 9.3}, {\"age_adjusted_death_rate\": 24.0}, {\"age_adjusted_death_rate\": 32.5}, {\"age_adjusted_death_rate\": 12.7}, {\"age_adjusted_death_rate\": 68.9}, {\"age_adjusted_death_rate\": 19.2}, {\"age_adjusted_death_rate\": 14.4}, {\"age_adjusted_death_rate\": 22.6}, {\"age_adjusted_death_rate\": 147.1}, {\"age_adjusted_death_rate\": 828.1}, {\"age_adjusted_death_rate\": 720.6}, {\"age_adjusted_death_rate\": 11.5}, {\"age_adjusted_death_rate\": 35.5}, {\"age_adjusted_death_rate\": 53.5}, {\"age_adjusted_death_rate\": 15.7}, {\"age_adjusted_death_rate\": 21.8}, {\"age_adjusted_death_rate\": 49.0}, {\"age_adjusted_death_rate\": 747.8}, {\"age_adjusted_death_rate\": 19.2}, {\"age_adjusted_death_rate\": 8.8}, {\"age_adjusted_death_rate\": 29.4}, {\"age_adjusted_death_rate\": 33.2}, {\"age_adjusted_death_rate\": 199.8}, {\"age_adjusted_death_rate\": 134.4}, {\"age_adjusted_death_rate\": 27.2}, {\"age_adjusted_death_rate\": 166.3}, {\"age_adjusted_death_rate\": 13.4}, {\"age_adjusted_death_rate\": 169.3}, {\"age_adjusted_death_rate\": 25.0}, {\"age_adjusted_death_rate\": 167.4}, {\"age_adjusted_death_rate\": 21.5}, {\"age_adjusted_death_rate\": 12.3}, {\"age_adjusted_death_rate\": 144.4}, {\"age_adjusted_death_rate\": 19.5}, {\"age_adjusted_death_rate\": 21.2}, {\"age_adjusted_death_rate\": 18.7}, {\"age_adjusted_death_rate\": 60.0}, {\"age_adjusted_death_rate\": 41.6}, {\"age_adjusted_death_rate\": 18.4}, {\"age_adjusted_death_rate\": 20.5}, {\"age_adjusted_death_rate\": 133.2}, {\"age_adjusted_death_rate\": 11.2}, {\"age_adjusted_death_rate\": 17.0}, {\"age_adjusted_death_rate\": 44.4}, {\"age_adjusted_death_rate\": 46.5}, {\"age_adjusted_death_rate\": 165.9}, {\"age_adjusted_death_rate\": 62.0}, {\"age_adjusted_death_rate\": 38.1}, {\"age_adjusted_death_rate\": 151.2}, {\"age_adjusted_death_rate\": 18.7}, {\"age_adjusted_death_rate\": 19.9}, {\"age_adjusted_death_rate\": 21.3}, {\"age_adjusted_death_rate\": 24.3}, {\"age_adjusted_death_rate\": 36.6}, {\"age_adjusted_death_rate\": 56.6}, {\"age_adjusted_death_rate\": 38.1}, {\"age_adjusted_death_rate\": 44.6}, {\"age_adjusted_death_rate\": 854.4}, {\"age_adjusted_death_rate\": 998.3}, {\"age_adjusted_death_rate\": 33.2}, {\"age_adjusted_death_rate\": 43.6}, {\"age_adjusted_death_rate\": 10.3}, {\"age_adjusted_death_rate\": 222.5}, {\"age_adjusted_death_rate\": 166.4}, {\"age_adjusted_death_rate\": 18.9}, {\"age_adjusted_death_rate\": 12.8}, {\"age_adjusted_death_rate\": 58.4}, {\"age_adjusted_death_rate\": 21.1}, {\"age_adjusted_death_rate\": 789.7}, {\"age_adjusted_death_rate\": 34.8}, {\"age_adjusted_death_rate\": 175.5}, {\"age_adjusted_death_rate\": 12.3}, {\"age_adjusted_death_rate\": 12.5}, {\"age_adjusted_death_rate\": 42.1}, {\"age_adjusted_death_rate\": 9.0}, {\"age_adjusted_death_rate\": 248.6}, {\"age_adjusted_death_rate\": 18.0}, {\"age_adjusted_death_rate\": 61.6}, {\"age_adjusted_death_rate\": 37.3}, {\"age_adjusted_death_rate\": 47.8}, {\"age_adjusted_death_rate\": 20.3}, {\"age_adjusted_death_rate\": 40.6}, {\"age_adjusted_death_rate\": 11.2}, {\"age_adjusted_death_rate\": 37.4}, {\"age_adjusted_death_rate\": 196.8}, {\"age_adjusted_death_rate\": 17.9}, {\"age_adjusted_death_rate\": 39.9}, {\"age_adjusted_death_rate\": 743.7}, {\"age_adjusted_death_rate\": 49.9}, {\"age_adjusted_death_rate\": 36.3}, {\"age_adjusted_death_rate\": 52.8}, {\"age_adjusted_death_rate\": 22.0}, {\"age_adjusted_death_rate\": 998.6}, {\"age_adjusted_death_rate\": 7.1}, {\"age_adjusted_death_rate\": 50.6}, {\"age_adjusted_death_rate\": 6.8}, {\"age_adjusted_death_rate\": 40.7}, {\"age_adjusted_death_rate\": 17.1}, {\"age_adjusted_death_rate\": 54.8}, {\"age_adjusted_death_rate\": 174.3}, {\"age_adjusted_death_rate\": 25.6}, {\"age_adjusted_death_rate\": 39.3}, {\"age_adjusted_death_rate\": 40.7}, {\"age_adjusted_death_rate\": 12.0}, {\"age_adjusted_death_rate\": 32.3}, {\"age_adjusted_death_rate\": 28.8}, {\"age_adjusted_death_rate\": 55.5}, {\"age_adjusted_death_rate\": 16.0}, {\"age_adjusted_death_rate\": 68.5}, {\"age_adjusted_death_rate\": 26.8}, {\"age_adjusted_death_rate\": 46.7}, {\"age_adjusted_death_rate\": 175.6}, {\"age_adjusted_death_rate\": 46.0}, {\"age_adjusted_death_rate\": 11.6}, {\"age_adjusted_death_rate\": 28.7}, {\"age_adjusted_death_rate\": 35.0}, {\"age_adjusted_death_rate\": 163.4}, {\"age_adjusted_death_rate\": 155.8}, {\"age_adjusted_death_rate\": 148.4}, {\"age_adjusted_death_rate\": 21.1}, {\"age_adjusted_death_rate\": 17.7}, {\"age_adjusted_death_rate\": 63.8}, {\"age_adjusted_death_rate\": 203.6}, {\"age_adjusted_death_rate\": 14.3}, {\"age_adjusted_death_rate\": 14.2}, {\"age_adjusted_death_rate\": 18.3}, {\"age_adjusted_death_rate\": 26.6}, {\"age_adjusted_death_rate\": 678.5}, {\"age_adjusted_death_rate\": 724.3}, {\"age_adjusted_death_rate\": 24.9}, {\"age_adjusted_death_rate\": 724.2}, {\"age_adjusted_death_rate\": 24.8}, {\"age_adjusted_death_rate\": 803.1}, {\"age_adjusted_death_rate\": 37.2}, {\"age_adjusted_death_rate\": 17.7}, {\"age_adjusted_death_rate\": 41.4}, {\"age_adjusted_death_rate\": 38.2}, {\"age_adjusted_death_rate\": 926.7}, {\"age_adjusted_death_rate\": 206.4}, {\"age_adjusted_death_rate\": 741.6}, {\"age_adjusted_death_rate\": 21.5}, {\"age_adjusted_death_rate\": 39.7}, {\"age_adjusted_death_rate\": 24.8}, {\"age_adjusted_death_rate\": 731.7}, {\"age_adjusted_death_rate\": 9.9}, {\"age_adjusted_death_rate\": 713.7}, {\"age_adjusted_death_rate\": 21.9}, {\"age_adjusted_death_rate\": 22.8}, {\"age_adjusted_death_rate\": 12.6}, {\"age_adjusted_death_rate\": 62.2}, {\"age_adjusted_death_rate\": 16.7}, {\"age_adjusted_death_rate\": 12.7}, {\"age_adjusted_death_rate\": 22.8}, {\"age_adjusted_death_rate\": 18.3}, {\"age_adjusted_death_rate\": 180.1}, {\"age_adjusted_death_rate\": 712.8}, {\"age_adjusted_death_rate\": 36.1}, {\"age_adjusted_death_rate\": 719.5}, {\"age_adjusted_death_rate\": 13.5}, {\"age_adjusted_death_rate\": 37.4}, {\"age_adjusted_death_rate\": 10.9}, {\"age_adjusted_death_rate\": 50.6}, {\"age_adjusted_death_rate\": 192.2}, {\"age_adjusted_death_rate\": 41.9}, {\"age_adjusted_death_rate\": 26.3}, {\"age_adjusted_death_rate\": 17.2}, {\"age_adjusted_death_rate\": 177.2}, {\"age_adjusted_death_rate\": 208.6}, {\"age_adjusted_death_rate\": 21.0}, {\"age_adjusted_death_rate\": 35.5}, {\"age_adjusted_death_rate\": 19.6}, {\"age_adjusted_death_rate\": 26.1}, {\"age_adjusted_death_rate\": 20.8}, {\"age_adjusted_death_rate\": 10.8}, {\"age_adjusted_death_rate\": 29.8}, {\"age_adjusted_death_rate\": 17.0}, {\"age_adjusted_death_rate\": 188.8}, {\"age_adjusted_death_rate\": 27.2}, {\"age_adjusted_death_rate\": 42.2}, {\"age_adjusted_death_rate\": 19.1}, {\"age_adjusted_death_rate\": 11.4}, {\"age_adjusted_death_rate\": 30.3}, {\"age_adjusted_death_rate\": 43.4}, {\"age_adjusted_death_rate\": 40.5}, {\"age_adjusted_death_rate\": 13.2}, {\"age_adjusted_death_rate\": 43.5}, {\"age_adjusted_death_rate\": 25.7}, {\"age_adjusted_death_rate\": 18.7}, {\"age_adjusted_death_rate\": 26.6}, {\"age_adjusted_death_rate\": 136.5}, {\"age_adjusted_death_rate\": 38.5}, {\"age_adjusted_death_rate\": 38.2}, {\"age_adjusted_death_rate\": 174.9}, {\"age_adjusted_death_rate\": 21.5}, {\"age_adjusted_death_rate\": 40.6}, {\"age_adjusted_death_rate\": 42.2}, {\"age_adjusted_death_rate\": 31.1}, {\"age_adjusted_death_rate\": 31.5}, {\"age_adjusted_death_rate\": 24.1}, {\"age_adjusted_death_rate\": 873.3}, {\"age_adjusted_death_rate\": 44.2}, {\"age_adjusted_death_rate\": 11.1}, {\"age_adjusted_death_rate\": 19.3}, {\"age_adjusted_death_rate\": 18.0}, {\"age_adjusted_death_rate\": 57.4}, {\"age_adjusted_death_rate\": 23.1}, {\"age_adjusted_death_rate\": 794.6}, {\"age_adjusted_death_rate\": 18.1}, {\"age_adjusted_death_rate\": 41.5}, {\"age_adjusted_death_rate\": 187.6}, {\"age_adjusted_death_rate\": 4.9}, {\"age_adjusted_death_rate\": 22.9}, {\"age_adjusted_death_rate\": 41.0}, {\"age_adjusted_death_rate\": 239.9}, {\"age_adjusted_death_rate\": 16.2}, {\"age_adjusted_death_rate\": 13.3}, {\"age_adjusted_death_rate\": 49.6}, {\"age_adjusted_death_rate\": 15.5}, {\"age_adjusted_death_rate\": 177.8}, {\"age_adjusted_death_rate\": 217.4}, {\"age_adjusted_death_rate\": 35.8}, {\"age_adjusted_death_rate\": 26.8}, {\"age_adjusted_death_rate\": 47.9}, {\"age_adjusted_death_rate\": 50.0}, {\"age_adjusted_death_rate\": 16.5}, {\"age_adjusted_death_rate\": 14.8}, {\"age_adjusted_death_rate\": 29.1}, {\"age_adjusted_death_rate\": 17.4}, {\"age_adjusted_death_rate\": 12.1}, {\"age_adjusted_death_rate\": 14.2}, {\"age_adjusted_death_rate\": 202.1}, {\"age_adjusted_death_rate\": 26.7}, {\"age_adjusted_death_rate\": 55.8}, {\"age_adjusted_death_rate\": 216.3}, {\"age_adjusted_death_rate\": 24.4}, {\"age_adjusted_death_rate\": 24.7}, {\"age_adjusted_death_rate\": 24.9}, {\"age_adjusted_death_rate\": 39.3}, {\"age_adjusted_death_rate\": 33.5}, {\"age_adjusted_death_rate\": 44.7}, {\"age_adjusted_death_rate\": 23.8}, {\"age_adjusted_death_rate\": 227.9}, {\"age_adjusted_death_rate\": 223.2}, {\"age_adjusted_death_rate\": 21.7}, {\"age_adjusted_death_rate\": 7.8}, {\"age_adjusted_death_rate\": 23.7}, {\"age_adjusted_death_rate\": 55.7}, {\"age_adjusted_death_rate\": 13.9}, {\"age_adjusted_death_rate\": 15.2}, {\"age_adjusted_death_rate\": 17.6}, {\"age_adjusted_death_rate\": 32.8}, {\"age_adjusted_death_rate\": 178.0}, {\"age_adjusted_death_rate\": 886.6}, {\"age_adjusted_death_rate\": 47.2}, {\"age_adjusted_death_rate\": 13.5}, {\"age_adjusted_death_rate\": 33.0}, {\"age_adjusted_death_rate\": 166.1}, {\"age_adjusted_death_rate\": 19.3}, {\"age_adjusted_death_rate\": 43.6}, {\"age_adjusted_death_rate\": 32.5}, {\"age_adjusted_death_rate\": 167.3}, {\"age_adjusted_death_rate\": 20.0}, {\"age_adjusted_death_rate\": 25.9}, {\"age_adjusted_death_rate\": 10.3}, {\"age_adjusted_death_rate\": 18.6}, {\"age_adjusted_death_rate\": 18.4}, {\"age_adjusted_death_rate\": 23.2}, {\"age_adjusted_death_rate\": 38.8}, {\"age_adjusted_death_rate\": 61.0}, {\"age_adjusted_death_rate\": 18.7}, {\"age_adjusted_death_rate\": 21.9}, {\"age_adjusted_death_rate\": 49.7}, {\"age_adjusted_death_rate\": 34.9}, {\"age_adjusted_death_rate\": 36.2}, {\"age_adjusted_death_rate\": 15.6}, {\"age_adjusted_death_rate\": 12.6}, {\"age_adjusted_death_rate\": 39.9}, {\"age_adjusted_death_rate\": 16.0}, {\"age_adjusted_death_rate\": 152.4}, {\"age_adjusted_death_rate\": 175.2}, {\"age_adjusted_death_rate\": 11.1}, {\"age_adjusted_death_rate\": 11.4}, {\"age_adjusted_death_rate\": 22.5}, {\"age_adjusted_death_rate\": 6.0}, {\"age_adjusted_death_rate\": 34.0}, {\"age_adjusted_death_rate\": 212.0}, {\"age_adjusted_death_rate\": 156.9}, {\"age_adjusted_death_rate\": 31.4}, {\"age_adjusted_death_rate\": 22.1}, {\"age_adjusted_death_rate\": 19.4}, {\"age_adjusted_death_rate\": 39.4}, {\"age_adjusted_death_rate\": 16.8}, {\"age_adjusted_death_rate\": 24.6}, {\"age_adjusted_death_rate\": 16.9}, {\"age_adjusted_death_rate\": 52.9}, {\"age_adjusted_death_rate\": 14.6}, {\"age_adjusted_death_rate\": 886.3}, {\"age_adjusted_death_rate\": 23.7}, {\"age_adjusted_death_rate\": 17.8}, {\"age_adjusted_death_rate\": 13.3}, {\"age_adjusted_death_rate\": 56.4}, {\"age_adjusted_death_rate\": 52.9}, {\"age_adjusted_death_rate\": 237.0}, {\"age_adjusted_death_rate\": 796.0}, {\"age_adjusted_death_rate\": 17.0}, {\"age_adjusted_death_rate\": 12.4}, {\"age_adjusted_death_rate\": 34.7}, {\"age_adjusted_death_rate\": 11.2}, {\"age_adjusted_death_rate\": 26.6}, {\"age_adjusted_death_rate\": 15.0}, {\"age_adjusted_death_rate\": 158.8}, {\"age_adjusted_death_rate\": 166.5}, {\"age_adjusted_death_rate\": 22.6}, {\"age_adjusted_death_rate\": 158.9}, {\"age_adjusted_death_rate\": 28.7}, {\"age_adjusted_death_rate\": 35.1}, {\"age_adjusted_death_rate\": 46.3}, {\"age_adjusted_death_rate\": 158.9}, {\"age_adjusted_death_rate\": 17.4}, {\"age_adjusted_death_rate\": 64.7}, {\"age_adjusted_death_rate\": 24.6}, {\"age_adjusted_death_rate\": 9.8}, {\"age_adjusted_death_rate\": 27.3}, {\"age_adjusted_death_rate\": 11.9}, {\"age_adjusted_death_rate\": 167.7}, {\"age_adjusted_death_rate\": 54.7}, {\"age_adjusted_death_rate\": 24.2}, {\"age_adjusted_death_rate\": 17.1}, {\"age_adjusted_death_rate\": 924.7}, {\"age_adjusted_death_rate\": 142.6}, {\"age_adjusted_death_rate\": 12.4}, {\"age_adjusted_death_rate\": 30.5}, {\"age_adjusted_death_rate\": 55.2}, {\"age_adjusted_death_rate\": 10.7}, {\"age_adjusted_death_rate\": 13.5}, {\"age_adjusted_death_rate\": 201.9}, {\"age_adjusted_death_rate\": 906.1}, {\"age_adjusted_death_rate\": 187.1}, {\"age_adjusted_death_rate\": 25.1}, {\"age_adjusted_death_rate\": 24.2}, {\"age_adjusted_death_rate\": 21.1}, {\"age_adjusted_death_rate\": 29.5}, {\"age_adjusted_death_rate\": 23.3}, {\"age_adjusted_death_rate\": 59.5}, {\"age_adjusted_death_rate\": 9.0}, {\"age_adjusted_death_rate\": 250.2}, {\"age_adjusted_death_rate\": 31.3}, {\"age_adjusted_death_rate\": 25.4}, {\"age_adjusted_death_rate\": 745.4}, {\"age_adjusted_death_rate\": 30.6}, {\"age_adjusted_death_rate\": 829.1}, {\"age_adjusted_death_rate\": 74.8}, {\"age_adjusted_death_rate\": 7.9}, {\"age_adjusted_death_rate\": 25.9}, {\"age_adjusted_death_rate\": 31.4}, {\"age_adjusted_death_rate\": 48.2}, {\"age_adjusted_death_rate\": 33.5}, {\"age_adjusted_death_rate\": 21.6}, {\"age_adjusted_death_rate\": 738.5}, {\"age_adjusted_death_rate\": 28.5}, {\"age_adjusted_death_rate\": 18.1}, {\"age_adjusted_death_rate\": 16.7}, {\"age_adjusted_death_rate\": 21.5}, {\"age_adjusted_death_rate\": 215.2}, {\"age_adjusted_death_rate\": 10.9}, {\"age_adjusted_death_rate\": 15.1}, {\"age_adjusted_death_rate\": 14.7}, {\"age_adjusted_death_rate\": 12.5}, {\"age_adjusted_death_rate\": 59.2}, {\"age_adjusted_death_rate\": 18.7}, {\"age_adjusted_death_rate\": 10.5}, {\"age_adjusted_death_rate\": 32.3}, {\"age_adjusted_death_rate\": 48.4}, {\"age_adjusted_death_rate\": 33.4}, {\"age_adjusted_death_rate\": 20.0}, {\"age_adjusted_death_rate\": 60.9}, {\"age_adjusted_death_rate\": 50.8}, {\"age_adjusted_death_rate\": 14.4}, {\"age_adjusted_death_rate\": 23.0}, {\"age_adjusted_death_rate\": 11.2}, {\"age_adjusted_death_rate\": 42.6}, {\"age_adjusted_death_rate\": 173.1}, {\"age_adjusted_death_rate\": 49.8}, {\"age_adjusted_death_rate\": 162.3}, {\"age_adjusted_death_rate\": 281.4}, {\"age_adjusted_death_rate\": 37.9}, {\"age_adjusted_death_rate\": 11.6}, {\"age_adjusted_death_rate\": 76.2}, {\"age_adjusted_death_rate\": 18.6}, {\"age_adjusted_death_rate\": 40.1}, {\"age_adjusted_death_rate\": 18.2}, {\"age_adjusted_death_rate\": 14.5}, {\"age_adjusted_death_rate\": 11.0}, {\"age_adjusted_death_rate\": 13.3}, {\"age_adjusted_death_rate\": 150.2}, {\"age_adjusted_death_rate\": 43.9}, {\"age_adjusted_death_rate\": 41.9}, {\"age_adjusted_death_rate\": 40.4}, {\"age_adjusted_death_rate\": 24.4}, {\"age_adjusted_death_rate\": 192.6}, {\"age_adjusted_death_rate\": 178.6}, {\"age_adjusted_death_rate\": 19.2}, {\"age_adjusted_death_rate\": 20.7}, {\"age_adjusted_death_rate\": 210.9}, {\"age_adjusted_death_rate\": 195.5}, {\"age_adjusted_death_rate\": 141.2}, {\"age_adjusted_death_rate\": 170.5}, {\"age_adjusted_death_rate\": 45.3}, {\"age_adjusted_death_rate\": 22.2}, {\"age_adjusted_death_rate\": 60.1}, {\"age_adjusted_death_rate\": 167.1}, {\"age_adjusted_death_rate\": 29.4}, {\"age_adjusted_death_rate\": 860.5}, {\"age_adjusted_death_rate\": 223.1}, {\"age_adjusted_death_rate\": 11.7}, {\"age_adjusted_death_rate\": 236.0}, {\"age_adjusted_death_rate\": 28.4}, {\"age_adjusted_death_rate\": 188.6}, {\"age_adjusted_death_rate\": 46.3}, {\"age_adjusted_death_rate\": 688.8}, {\"age_adjusted_death_rate\": 52.8}, {\"age_adjusted_death_rate\": 40.2}, {\"age_adjusted_death_rate\": 15.4}, {\"age_adjusted_death_rate\": 44.7}, {\"age_adjusted_death_rate\": 201.4}, {\"age_adjusted_death_rate\": 210.0}, {\"age_adjusted_death_rate\": 28.3}, {\"age_adjusted_death_rate\": 198.0}, {\"age_adjusted_death_rate\": 172.6}, {\"age_adjusted_death_rate\": 23.1}, {\"age_adjusted_death_rate\": 13.9}, {\"age_adjusted_death_rate\": 172.7}, {\"age_adjusted_death_rate\": 162.8}, {\"age_adjusted_death_rate\": 14.4}, {\"age_adjusted_death_rate\": 903.8}, {\"age_adjusted_death_rate\": 9.4}, {\"age_adjusted_death_rate\": 154.1}, {\"age_adjusted_death_rate\": 748.3}, {\"age_adjusted_death_rate\": 45.9}, {\"age_adjusted_death_rate\": 26.6}, {\"age_adjusted_death_rate\": 20.8}, {\"age_adjusted_death_rate\": 27.6}, {\"age_adjusted_death_rate\": 21.2}, {\"age_adjusted_death_rate\": 23.2}, {\"age_adjusted_death_rate\": 20.9}, {\"age_adjusted_death_rate\": 12.6}, {\"age_adjusted_death_rate\": 16.1}, {\"age_adjusted_death_rate\": 10.8}, {\"age_adjusted_death_rate\": 48.3}, {\"age_adjusted_death_rate\": 40.6}, {\"age_adjusted_death_rate\": 11.2}, {\"age_adjusted_death_rate\": 20.9}, {\"age_adjusted_death_rate\": 39.4}, {\"age_adjusted_death_rate\": 24.8}, {\"age_adjusted_death_rate\": 16.6}, {\"age_adjusted_death_rate\": 805.7}, {\"age_adjusted_death_rate\": 8.2}, {\"age_adjusted_death_rate\": 20.6}, {\"age_adjusted_death_rate\": 18.8}, {\"age_adjusted_death_rate\": 19.5}, {\"age_adjusted_death_rate\": 163.0}, {\"age_adjusted_death_rate\": 11.1}, {\"age_adjusted_death_rate\": 718.7}, {\"age_adjusted_death_rate\": 13.8}, {\"age_adjusted_death_rate\": 20.5}, {\"age_adjusted_death_rate\": 167.0}, {\"age_adjusted_death_rate\": 180.7}, {\"age_adjusted_death_rate\": 13.2}, {\"age_adjusted_death_rate\": 8.5}, {\"age_adjusted_death_rate\": 25.2}, {\"age_adjusted_death_rate\": 19.2}, {\"age_adjusted_death_rate\": 8.0}, {\"age_adjusted_death_rate\": 16.2}, {\"age_adjusted_death_rate\": 15.4}, {\"age_adjusted_death_rate\": 35.3}, {\"age_adjusted_death_rate\": 27.7}, {\"age_adjusted_death_rate\": 18.7}, {\"age_adjusted_death_rate\": 21.7}, {\"age_adjusted_death_rate\": 14.3}, {\"age_adjusted_death_rate\": 25.5}, {\"age_adjusted_death_rate\": 31.7}, {\"age_adjusted_death_rate\": 199.3}, {\"age_adjusted_death_rate\": 35.9}, {\"age_adjusted_death_rate\": 188.9}, {\"age_adjusted_death_rate\": 10.0}, {\"age_adjusted_death_rate\": 35.8}, {\"age_adjusted_death_rate\": 15.7}, {\"age_adjusted_death_rate\": 795.9}, {\"age_adjusted_death_rate\": 890.4}, {\"age_adjusted_death_rate\": 44.4}, {\"age_adjusted_death_rate\": 48.7}, {\"age_adjusted_death_rate\": 13.7}, {\"age_adjusted_death_rate\": 6.9}, {\"age_adjusted_death_rate\": 10.5}, {\"age_adjusted_death_rate\": 39.5}, {\"age_adjusted_death_rate\": 22.8}, {\"age_adjusted_death_rate\": 21.8}, {\"age_adjusted_death_rate\": 54.8}, {\"age_adjusted_death_rate\": 15.3}, {\"age_adjusted_death_rate\": 851.8}, {\"age_adjusted_death_rate\": 55.7}, {\"age_adjusted_death_rate\": 26.3}, {\"age_adjusted_death_rate\": 208.5}, {\"age_adjusted_death_rate\": 13.2}, {\"age_adjusted_death_rate\": 55.2}, {\"age_adjusted_death_rate\": 51.2}, {\"age_adjusted_death_rate\": 17.2}, {\"age_adjusted_death_rate\": 24.0}, {\"age_adjusted_death_rate\": 910.3}, {\"age_adjusted_death_rate\": 17.3}, {\"age_adjusted_death_rate\": 31.4}, {\"age_adjusted_death_rate\": 19.1}, {\"age_adjusted_death_rate\": 30.0}, {\"age_adjusted_death_rate\": 28.0}, {\"age_adjusted_death_rate\": 52.4}, {\"age_adjusted_death_rate\": 213.1}, {\"age_adjusted_death_rate\": 701.1}, {\"age_adjusted_death_rate\": 134.5}, {\"age_adjusted_death_rate\": 14.1}, {\"age_adjusted_death_rate\": 50.5}, {\"age_adjusted_death_rate\": 7.3}, {\"age_adjusted_death_rate\": 843.8}, {\"age_adjusted_death_rate\": 17.5}, {\"age_adjusted_death_rate\": 173.4}, {\"age_adjusted_death_rate\": 167.7}, {\"age_adjusted_death_rate\": 159.3}, {\"age_adjusted_death_rate\": 55.5}, {\"age_adjusted_death_rate\": 47.2}, {\"age_adjusted_death_rate\": 29.9}, {\"age_adjusted_death_rate\": 49.7}, {\"age_adjusted_death_rate\": 10.3}, {\"age_adjusted_death_rate\": 31.6}, {\"age_adjusted_death_rate\": 28.3}, {\"age_adjusted_death_rate\": 249.4}, {\"age_adjusted_death_rate\": 218.0}, {\"age_adjusted_death_rate\": 35.7}, {\"age_adjusted_death_rate\": 62.1}, {\"age_adjusted_death_rate\": 31.6}, {\"age_adjusted_death_rate\": 31.7}, {\"age_adjusted_death_rate\": 303.0}, {\"age_adjusted_death_rate\": 25.2}, {\"age_adjusted_death_rate\": 800.4}, {\"age_adjusted_death_rate\": 12.3}, {\"age_adjusted_death_rate\": 181.4}, {\"age_adjusted_death_rate\": 12.6}, {\"age_adjusted_death_rate\": 46.8}, {\"age_adjusted_death_rate\": 765.9}, {\"age_adjusted_death_rate\": 26.9}, {\"age_adjusted_death_rate\": 44.3}, {\"age_adjusted_death_rate\": 27.8}, {\"age_adjusted_death_rate\": 20.3}, {\"age_adjusted_death_rate\": 24.3}, {\"age_adjusted_death_rate\": 34.7}, {\"age_adjusted_death_rate\": 64.3}, {\"age_adjusted_death_rate\": 51.8}, {\"age_adjusted_death_rate\": 30.3}, {\"age_adjusted_death_rate\": 177.8}, {\"age_adjusted_death_rate\": 23.9}, {\"age_adjusted_death_rate\": 36.2}, {\"age_adjusted_death_rate\": 20.0}, {\"age_adjusted_death_rate\": 39.5}, {\"age_adjusted_death_rate\": 55.8}, {\"age_adjusted_death_rate\": 823.7}, {\"age_adjusted_death_rate\": 37.8}, {\"age_adjusted_death_rate\": 52.3}, {\"age_adjusted_death_rate\": 49.6}, {\"age_adjusted_death_rate\": 63.1}, {\"age_adjusted_death_rate\": 171.2}, {\"age_adjusted_death_rate\": 30.3}, {\"age_adjusted_death_rate\": 19.6}, {\"age_adjusted_death_rate\": 10.4}, {\"age_adjusted_death_rate\": 51.5}, {\"age_adjusted_death_rate\": 62.4}, {\"age_adjusted_death_rate\": 222.2}, {\"age_adjusted_death_rate\": 26.3}, {\"age_adjusted_death_rate\": 29.8}, {\"age_adjusted_death_rate\": 208.3}, {\"age_adjusted_death_rate\": 44.4}, {\"age_adjusted_death_rate\": 192.9}, {\"age_adjusted_death_rate\": 761.3}, {\"age_adjusted_death_rate\": 34.1}, {\"age_adjusted_death_rate\": 15.5}, {\"age_adjusted_death_rate\": 701.2}, {\"age_adjusted_death_rate\": 15.7}, {\"age_adjusted_death_rate\": 22.8}, {\"age_adjusted_death_rate\": 8.9}, {\"age_adjusted_death_rate\": 22.7}, {\"age_adjusted_death_rate\": 15.5}, {\"age_adjusted_death_rate\": 8.8}, {\"age_adjusted_death_rate\": 163.4}, {\"age_adjusted_death_rate\": 708.0}, {\"age_adjusted_death_rate\": 7.3}, {\"age_adjusted_death_rate\": 219.1}, {\"age_adjusted_death_rate\": 151.3}, {\"age_adjusted_death_rate\": 18.3}, {\"age_adjusted_death_rate\": 986.5}, {\"age_adjusted_death_rate\": 59.1}, {\"age_adjusted_death_rate\": 21.2}, {\"age_adjusted_death_rate\": 31.6}, {\"age_adjusted_death_rate\": 20.3}, {\"age_adjusted_death_rate\": 39.4}, {\"age_adjusted_death_rate\": 12.3}, {\"age_adjusted_death_rate\": 43.5}, {\"age_adjusted_death_rate\": 51.4}, {\"age_adjusted_death_rate\": 11.7}, {\"age_adjusted_death_rate\": 15.6}, {\"age_adjusted_death_rate\": 28.7}, {\"age_adjusted_death_rate\": 18.6}, {\"age_adjusted_death_rate\": 5.3}, {\"age_adjusted_death_rate\": 12.4}, {\"age_adjusted_death_rate\": 18.2}, {\"age_adjusted_death_rate\": 694.8}, {\"age_adjusted_death_rate\": 17.7}, {\"age_adjusted_death_rate\": 27.8}, {\"age_adjusted_death_rate\": 18.4}, {\"age_adjusted_death_rate\": 12.7}, {\"age_adjusted_death_rate\": 15.4}, {\"age_adjusted_death_rate\": 21.1}, {\"age_adjusted_death_rate\": 20.2}, {\"age_adjusted_death_rate\": 11.1}, {\"age_adjusted_death_rate\": 83.4}, {\"age_adjusted_death_rate\": 43.0}, {\"age_adjusted_death_rate\": 52.8}, {\"age_adjusted_death_rate\": 175.5}, {\"age_adjusted_death_rate\": 33.6}, {\"age_adjusted_death_rate\": 198.0}, {\"age_adjusted_death_rate\": 52.2}, {\"age_adjusted_death_rate\": 24.5}, {\"age_adjusted_death_rate\": 13.4}, {\"age_adjusted_death_rate\": 215.7}, {\"age_adjusted_death_rate\": 168.9}, {\"age_adjusted_death_rate\": 29.4}, {\"age_adjusted_death_rate\": 157.3}, {\"age_adjusted_death_rate\": 170.3}, {\"age_adjusted_death_rate\": 24.4}, {\"age_adjusted_death_rate\": 199.1}, {\"age_adjusted_death_rate\": 54.6}, {\"age_adjusted_death_rate\": 47.8}, {\"age_adjusted_death_rate\": 40.0}, {\"age_adjusted_death_rate\": 36.3}, {\"age_adjusted_death_rate\": 11.1}, {\"age_adjusted_death_rate\": 20.1}, {\"age_adjusted_death_rate\": 16.7}, {\"age_adjusted_death_rate\": 9.2}, {\"age_adjusted_death_rate\": 41.4}, {\"age_adjusted_death_rate\": 28.7}, {\"age_adjusted_death_rate\": 51.7}, {\"age_adjusted_death_rate\": 174.8}, {\"age_adjusted_death_rate\": 40.4}, {\"age_adjusted_death_rate\": 63.8}, {\"age_adjusted_death_rate\": 54.4}, {\"age_adjusted_death_rate\": 11.2}, {\"age_adjusted_death_rate\": 36.3}, {\"age_adjusted_death_rate\": 139.7}, {\"age_adjusted_death_rate\": 40.2}, {\"age_adjusted_death_rate\": 51.8}, {\"age_adjusted_death_rate\": 8.3}, {\"age_adjusted_death_rate\": 12.0}, {\"age_adjusted_death_rate\": 27.3}, {\"age_adjusted_death_rate\": 197.6}, {\"age_adjusted_death_rate\": 684.8}, {\"age_adjusted_death_rate\": 29.0}, {\"age_adjusted_death_rate\": 13.5}, {\"age_adjusted_death_rate\": 14.5}, {\"age_adjusted_death_rate\": 155.7}, {\"age_adjusted_death_rate\": 257.8}, {\"age_adjusted_death_rate\": 171.9}, {\"age_adjusted_death_rate\": 904.8}, {\"age_adjusted_death_rate\": 11.5}, {\"age_adjusted_death_rate\": 270.9}, {\"age_adjusted_death_rate\": 12.0}, {\"age_adjusted_death_rate\": 47.1}, {\"age_adjusted_death_rate\": 11.3}, {\"age_adjusted_death_rate\": 17.8}, {\"age_adjusted_death_rate\": 700.0}, {\"age_adjusted_death_rate\": 179.7}, {\"age_adjusted_death_rate\": 714.9}, {\"age_adjusted_death_rate\": 22.4}, {\"age_adjusted_death_rate\": 14.8}, {\"age_adjusted_death_rate\": 8.9}, {\"age_adjusted_death_rate\": 42.9}, {\"age_adjusted_death_rate\": 188.9}, {\"age_adjusted_death_rate\": 19.2}, {\"age_adjusted_death_rate\": 152.9}, {\"age_adjusted_death_rate\": 44.4}, {\"age_adjusted_death_rate\": 169.8}, {\"age_adjusted_death_rate\": 49.4}, {\"age_adjusted_death_rate\": 171.3}, {\"age_adjusted_death_rate\": 46.2}, {\"age_adjusted_death_rate\": 19.5}, {\"age_adjusted_death_rate\": 21.3}, {\"age_adjusted_death_rate\": 21.4}, {\"age_adjusted_death_rate\": 16.9}, {\"age_adjusted_death_rate\": 6.2}, {\"age_adjusted_death_rate\": 26.2}, {\"age_adjusted_death_rate\": 61.4}, {\"age_adjusted_death_rate\": 17.7}, {\"age_adjusted_death_rate\": 44.7}, {\"age_adjusted_death_rate\": 147.9}, {\"age_adjusted_death_rate\": 955.4}, {\"age_adjusted_death_rate\": 49.1}, {\"age_adjusted_death_rate\": 228.6}, {\"age_adjusted_death_rate\": 19.3}, {\"age_adjusted_death_rate\": 939.7}, {\"age_adjusted_death_rate\": 171.9}, {\"age_adjusted_death_rate\": 171.3}, {\"age_adjusted_death_rate\": 17.0}, {\"age_adjusted_death_rate\": 24.9}, {\"age_adjusted_death_rate\": 636.5}, {\"age_adjusted_death_rate\": 20.0}, {\"age_adjusted_death_rate\": 751.6}, {\"age_adjusted_death_rate\": 12.6}, {\"age_adjusted_death_rate\": 33.9}, {\"age_adjusted_death_rate\": 45.1}, {\"age_adjusted_death_rate\": 20.5}, {\"age_adjusted_death_rate\": 795.0}, {\"age_adjusted_death_rate\": 19.0}, {\"age_adjusted_death_rate\": 44.1}, {\"age_adjusted_death_rate\": 34.5}, {\"age_adjusted_death_rate\": 277.5}, {\"age_adjusted_death_rate\": 18.8}, {\"age_adjusted_death_rate\": 22.2}, {\"age_adjusted_death_rate\": 46.5}, {\"age_adjusted_death_rate\": 54.9}, {\"age_adjusted_death_rate\": 148.2}, {\"age_adjusted_death_rate\": 688.4}, {\"age_adjusted_death_rate\": 20.0}, {\"age_adjusted_death_rate\": 46.7}, {\"age_adjusted_death_rate\": 18.5}, {\"age_adjusted_death_rate\": 50.1}, {\"age_adjusted_death_rate\": 48.7}, {\"age_adjusted_death_rate\": 19.7}, {\"age_adjusted_death_rate\": 32.0}, {\"age_adjusted_death_rate\": 22.4}, {\"age_adjusted_death_rate\": 44.9}, {\"age_adjusted_death_rate\": 203.4}, {\"age_adjusted_death_rate\": 718.3}, {\"age_adjusted_death_rate\": 5.9}, {\"age_adjusted_death_rate\": 40.1}, {\"age_adjusted_death_rate\": 16.4}, {\"age_adjusted_death_rate\": 22.3}, {\"age_adjusted_death_rate\": 41.5}, {\"age_adjusted_death_rate\": 28.9}, {\"age_adjusted_death_rate\": 676.3}, {\"age_adjusted_death_rate\": 205.5}, {\"age_adjusted_death_rate\": 18.7}, {\"age_adjusted_death_rate\": 66.0}, {\"age_adjusted_death_rate\": 38.3}, {\"age_adjusted_death_rate\": 7.4}, {\"age_adjusted_death_rate\": 54.1}, {\"age_adjusted_death_rate\": 788.7}, {\"age_adjusted_death_rate\": 50.3}, {\"age_adjusted_death_rate\": 28.2}, {\"age_adjusted_death_rate\": 17.1}, {\"age_adjusted_death_rate\": 67.0}, {\"age_adjusted_death_rate\": 14.9}, {\"age_adjusted_death_rate\": 21.7}, {\"age_adjusted_death_rate\": 975.3}, {\"age_adjusted_death_rate\": 18.6}, {\"age_adjusted_death_rate\": 57.0}, {\"age_adjusted_death_rate\": 168.0}, {\"age_adjusted_death_rate\": 11.5}, {\"age_adjusted_death_rate\": 24.9}, {\"age_adjusted_death_rate\": 33.1}, {\"age_adjusted_death_rate\": 43.4}, {\"age_adjusted_death_rate\": 24.9}, {\"age_adjusted_death_rate\": 18.9}, {\"age_adjusted_death_rate\": 718.1}, {\"age_adjusted_death_rate\": 187.2}, {\"age_adjusted_death_rate\": 14.0}, {\"age_adjusted_death_rate\": 177.8}, {\"age_adjusted_death_rate\": 19.7}, {\"age_adjusted_death_rate\": 19.8}, {\"age_adjusted_death_rate\": 770.1}, {\"age_adjusted_death_rate\": 18.4}, {\"age_adjusted_death_rate\": 15.9}, {\"age_adjusted_death_rate\": 180.6}, {\"age_adjusted_death_rate\": 16.2}, {\"age_adjusted_death_rate\": 226.1}, {\"age_adjusted_death_rate\": 841.3}, {\"age_adjusted_death_rate\": 271.4}, {\"age_adjusted_death_rate\": 33.6}, {\"age_adjusted_death_rate\": 179.0}, {\"age_adjusted_death_rate\": 34.9}, {\"age_adjusted_death_rate\": 12.1}, {\"age_adjusted_death_rate\": 23.2}, {\"age_adjusted_death_rate\": 16.1}, {\"age_adjusted_death_rate\": 207.0}, {\"age_adjusted_death_rate\": 5.0}, {\"age_adjusted_death_rate\": 190.4}, {\"age_adjusted_death_rate\": 20.8}, {\"age_adjusted_death_rate\": 209.3}, {\"age_adjusted_death_rate\": 22.2}, {\"age_adjusted_death_rate\": 37.2}, {\"age_adjusted_death_rate\": 10.4}, {\"age_adjusted_death_rate\": 675.9}, {\"age_adjusted_death_rate\": 33.4}, {\"age_adjusted_death_rate\": 22.6}, {\"age_adjusted_death_rate\": 55.6}, {\"age_adjusted_death_rate\": 16.2}, {\"age_adjusted_death_rate\": 171.9}, {\"age_adjusted_death_rate\": 37.5}, {\"age_adjusted_death_rate\": 13.5}, {\"age_adjusted_death_rate\": 8.7}, {\"age_adjusted_death_rate\": 47.0}, {\"age_adjusted_death_rate\": 744.9}, {\"age_adjusted_death_rate\": 34.4}, {\"age_adjusted_death_rate\": 49.2}, {\"age_adjusted_death_rate\": 19.1}, {\"age_adjusted_death_rate\": 204.2}, {\"age_adjusted_death_rate\": 54.5}, {\"age_adjusted_death_rate\": 23.7}, {\"age_adjusted_death_rate\": 156.2}, {\"age_adjusted_death_rate\": 17.8}, {\"age_adjusted_death_rate\": 17.2}, {\"age_adjusted_death_rate\": 154.5}, {\"age_adjusted_death_rate\": 49.2}, {\"age_adjusted_death_rate\": 23.6}, {\"age_adjusted_death_rate\": 58.3}, {\"age_adjusted_death_rate\": 7.6}, {\"age_adjusted_death_rate\": 33.5}, {\"age_adjusted_death_rate\": 174.8}, {\"age_adjusted_death_rate\": 838.6}, {\"age_adjusted_death_rate\": 202.8}, {\"age_adjusted_death_rate\": 42.1}, {\"age_adjusted_death_rate\": 141.2}, {\"age_adjusted_death_rate\": 10.5}, {\"age_adjusted_death_rate\": 11.2}, {\"age_adjusted_death_rate\": 15.3}, {\"age_adjusted_death_rate\": 780.1}, {\"age_adjusted_death_rate\": 16.3}, {\"age_adjusted_death_rate\": 44.9}, {\"age_adjusted_death_rate\": 26.9}, {\"age_adjusted_death_rate\": 12.1}, {\"age_adjusted_death_rate\": 29.4}, {\"age_adjusted_death_rate\": 37.0}, {\"age_adjusted_death_rate\": 226.9}, {\"age_adjusted_death_rate\": 31.1}, {\"age_adjusted_death_rate\": 23.6}, {\"age_adjusted_death_rate\": 18.3}, {\"age_adjusted_death_rate\": 48.9}, {\"age_adjusted_death_rate\": 13.1}, {\"age_adjusted_death_rate\": 68.3}, {\"age_adjusted_death_rate\": 15.1}, {\"age_adjusted_death_rate\": 46.7}, {\"age_adjusted_death_rate\": 13.3}, {\"age_adjusted_death_rate\": 11.2}, {\"age_adjusted_death_rate\": 13.1}, {\"age_adjusted_death_rate\": 844.3}, {\"age_adjusted_death_rate\": 6.0}, {\"age_adjusted_death_rate\": 12.9}, {\"age_adjusted_death_rate\": 33.3}, {\"age_adjusted_death_rate\": 16.9}, {\"age_adjusted_death_rate\": 24.1}, {\"age_adjusted_death_rate\": 15.2}, {\"age_adjusted_death_rate\": 584.9}, {\"age_adjusted_death_rate\": 178.3}, {\"age_adjusted_death_rate\": 27.0}, {\"age_adjusted_death_rate\": 248.3}, {\"age_adjusted_death_rate\": 27.0}, {\"age_adjusted_death_rate\": 15.4}, {\"age_adjusted_death_rate\": 36.5}, {\"age_adjusted_death_rate\": 27.4}, {\"age_adjusted_death_rate\": 19.9}, {\"age_adjusted_death_rate\": 24.7}, {\"age_adjusted_death_rate\": 24.6}, {\"age_adjusted_death_rate\": 8.4}, {\"age_adjusted_death_rate\": 150.5}, {\"age_adjusted_death_rate\": 11.6}, {\"age_adjusted_death_rate\": 7.6}, {\"age_adjusted_death_rate\": 27.9}, {\"age_adjusted_death_rate\": 13.7}, {\"age_adjusted_death_rate\": 13.1}, {\"age_adjusted_death_rate\": 281.8}, {\"age_adjusted_death_rate\": 59.5}, {\"age_adjusted_death_rate\": 10.1}, {\"age_adjusted_death_rate\": 12.0}, {\"age_adjusted_death_rate\": 13.8}, {\"age_adjusted_death_rate\": 37.6}, {\"age_adjusted_death_rate\": 171.4}, {\"age_adjusted_death_rate\": 47.1}, {\"age_adjusted_death_rate\": 12.1}, {\"age_adjusted_death_rate\": 18.0}, {\"age_adjusted_death_rate\": 21.9}, {\"age_adjusted_death_rate\": 8.1}, {\"age_adjusted_death_rate\": 40.9}, {\"age_adjusted_death_rate\": 24.0}, {\"age_adjusted_death_rate\": 178.0}, {\"age_adjusted_death_rate\": 13.2}, {\"age_adjusted_death_rate\": 10.4}, {\"age_adjusted_death_rate\": 15.9}, {\"age_adjusted_death_rate\": 48.7}, {\"age_adjusted_death_rate\": 29.2}, {\"age_adjusted_death_rate\": 9.7}, {\"age_adjusted_death_rate\": 191.6}, {\"age_adjusted_death_rate\": 48.7}, {\"age_adjusted_death_rate\": 236.1}, {\"age_adjusted_death_rate\": 184.0}, {\"age_adjusted_death_rate\": 17.9}, {\"age_adjusted_death_rate\": 39.8}, {\"age_adjusted_death_rate\": 149.8}, {\"age_adjusted_death_rate\": 996.6}, {\"age_adjusted_death_rate\": 190.5}, {\"age_adjusted_death_rate\": 6.1}, {\"age_adjusted_death_rate\": 8.9}, {\"age_adjusted_death_rate\": 75.6}, {\"age_adjusted_death_rate\": 42.6}, {\"age_adjusted_death_rate\": 238.7}, {\"age_adjusted_death_rate\": 58.1}, {\"age_adjusted_death_rate\": 40.2}, {\"age_adjusted_death_rate\": 16.6}, {\"age_adjusted_death_rate\": 32.4}, {\"age_adjusted_death_rate\": 17.6}, {\"age_adjusted_death_rate\": 42.5}, {\"age_adjusted_death_rate\": 23.6}, {\"age_adjusted_death_rate\": 41.0}, {\"age_adjusted_death_rate\": 746.9}, {\"age_adjusted_death_rate\": 27.9}, {\"age_adjusted_death_rate\": 23.7}, {\"age_adjusted_death_rate\": 24.6}, {\"age_adjusted_death_rate\": 28.0}, {\"age_adjusted_death_rate\": 32.5}, {\"age_adjusted_death_rate\": 12.2}, {\"age_adjusted_death_rate\": 200.5}, {\"age_adjusted_death_rate\": 12.4}, {\"age_adjusted_death_rate\": 19.4}, {\"age_adjusted_death_rate\": 24.6}, {\"age_adjusted_death_rate\": 755.5}, {\"age_adjusted_death_rate\": 32.7}, {\"age_adjusted_death_rate\": 9.5}, {\"age_adjusted_death_rate\": 15.0}, {\"age_adjusted_death_rate\": 53.1}, {\"age_adjusted_death_rate\": 27.4}, {\"age_adjusted_death_rate\": 15.3}, {\"age_adjusted_death_rate\": 28.0}, {\"age_adjusted_death_rate\": 17.4}, {\"age_adjusted_death_rate\": 881.3}, {\"age_adjusted_death_rate\": 20.2}, {\"age_adjusted_death_rate\": 45.5}, {\"age_adjusted_death_rate\": 11.4}, {\"age_adjusted_death_rate\": 202.2}, {\"age_adjusted_death_rate\": 18.2}, {\"age_adjusted_death_rate\": 22.8}, {\"age_adjusted_death_rate\": 21.1}, {\"age_adjusted_death_rate\": 18.2}, {\"age_adjusted_death_rate\": 20.3}, {\"age_adjusted_death_rate\": 25.6}, {\"age_adjusted_death_rate\": 19.2}, {\"age_adjusted_death_rate\": 21.9}, {\"age_adjusted_death_rate\": 27.5}]}}, {\"mode\": \"vega-lite\"});\n",
       "</script>"
      ],
      "text/plain": [
       "alt.Chart(...)"
      ]
     },
     "execution_count": 461,
     "metadata": {},
     "output_type": "execute_result"
    }
   ],
   "source": [
    "# Logarithmische skala für count, kategorien, title, x-achse. legende\n",
    "\n",
    "alt.Chart(df_explore[['age_adjusted_death_rate']]).mark_bar().encode(\n",
    "    alt.X(\"age_adjusted_death_rate:Q\", bin=True),\n",
    "    y='count()',\n",
    ")"
   ]
  },
  {
   "attachments": {},
   "cell_type": "markdown",
   "metadata": {},
   "source": [
    "We can see that the distribution looks like this because the cause_name feature has individual causes as well as a summary for all causes within the same column.\n",
    "\n",
    "We will make another dataframe filtered by all causes to serve as a summary dataset:"
   ]
  },
  {
   "cell_type": "code",
   "execution_count": 462,
   "metadata": {},
   "outputs": [],
   "source": [
    "df_explore_causes_summarized = df_explore[df_explore.cause_name == 'All causes']"
   ]
  },
  {
   "attachments": {},
   "cell_type": "markdown",
   "metadata": {},
   "source": [
    "Let's look at the statistics and distribution of the age adjusted death rate again"
   ]
  },
  {
   "cell_type": "code",
   "execution_count": 463,
   "metadata": {},
   "outputs": [
    {
     "data": {
      "text/html": [
       "<div>\n",
       "<style scoped>\n",
       "    .dataframe tbody tr th:only-of-type {\n",
       "        vertical-align: middle;\n",
       "    }\n",
       "\n",
       "    .dataframe tbody tr th {\n",
       "        vertical-align: top;\n",
       "    }\n",
       "\n",
       "    .dataframe thead th {\n",
       "        text-align: right;\n",
       "    }\n",
       "</style>\n",
       "<table border=\"1\" class=\"dataframe\">\n",
       "  <thead>\n",
       "    <tr style=\"text-align: right;\">\n",
       "      <th></th>\n",
       "      <th>count</th>\n",
       "      <th>mean</th>\n",
       "      <th>std</th>\n",
       "      <th>min</th>\n",
       "      <th>25%</th>\n",
       "      <th>50%</th>\n",
       "      <th>75%</th>\n",
       "      <th>max</th>\n",
       "    </tr>\n",
       "  </thead>\n",
       "  <tbody>\n",
       "    <tr>\n",
       "      <th>age_adjusted_death_rate</th>\n",
       "      <td>675.0</td>\n",
       "      <td>800.13</td>\n",
       "      <td>98.12</td>\n",
       "      <td>572.0</td>\n",
       "      <td>724.4</td>\n",
       "      <td>784.5</td>\n",
       "      <td>869.5</td>\n",
       "      <td>1061.2</td>\n",
       "    </tr>\n",
       "  </tbody>\n",
       "</table>\n",
       "</div>"
      ],
      "text/plain": [
       "                         count    mean    std    min    25%    50%    75%  \\\n",
       "age_adjusted_death_rate  675.0  800.13  98.12  572.0  724.4  784.5  869.5   \n",
       "\n",
       "                            max  \n",
       "age_adjusted_death_rate  1061.2  "
      ]
     },
     "execution_count": 463,
     "metadata": {},
     "output_type": "execute_result"
    }
   ],
   "source": [
    "df_explore_causes_summarized[['age_adjusted_death_rate']].describe().round(2).T"
   ]
  },
  {
   "cell_type": "code",
   "execution_count": 464,
   "metadata": {},
   "outputs": [
    {
     "data": {
      "text/plain": [
       "<matplotlib.legend.Legend at 0x28cb157bd90>"
      ]
     },
     "execution_count": 464,
     "metadata": {},
     "output_type": "execute_result"
    },
    {
     "data": {
      "image/png": "[encoded data removed]",
      "text/plain": [
       "<Figure size 500x300 with 1 Axes>"
      ]
     },
     "metadata": {},
     "output_type": "display_data"
    }
   ],
   "source": [
    "# Distribution of age_adjusted_death_rate\n",
    "df_explore_causes_summarized[['age_adjusted_death_rate']].plot(\n",
    "    kind='kde',\n",
    "    figsize=(5, 3),\n",
    "    title='Distribution of age adjusted death rate summarized for all death causes'\n",
    "      )\n",
    "\n",
    "plt.legend(prop={'size': 8})"
   ]
  },
  {
   "attachments": {},
   "cell_type": "markdown",
   "metadata": {},
   "source": [
    "We can see that the distribution has changed:\n",
    "* The distribution is unimodal and still right skewed but alot closer to a normal distribution \n",
    "* We do not observe the wide range of values as before, there are no more outliers present\n",
    "* The mean is still higher than the median, which can be explained by the amount of high values around 900-1000."
   ]
  },
  {
   "attachments": {},
   "cell_type": "markdown",
   "metadata": {},
   "source": [
    "## Map funktioniert nicht, bisher Grund nicht herausgefunden"
   ]
  },
  {
   "cell_type": "code",
   "execution_count": 469,
   "metadata": {},
   "outputs": [
    {
     "data": {
      "text/html": [
       "<div>\n",
       "<style scoped>\n",
       "    .dataframe tbody tr th:only-of-type {\n",
       "        vertical-align: middle;\n",
       "    }\n",
       "\n",
       "    .dataframe tbody tr th {\n",
       "        vertical-align: top;\n",
       "    }\n",
       "\n",
       "    .dataframe thead th {\n",
       "        text-align: right;\n",
       "    }\n",
       "</style>\n",
       "<table border=\"1\" class=\"dataframe\">\n",
       "  <thead>\n",
       "    <tr style=\"text-align: right;\">\n",
       "      <th></th>\n",
       "      <th>median_household_income</th>\n",
       "      <th>state</th>\n",
       "    </tr>\n",
       "  </thead>\n",
       "  <tbody>\n",
       "    <tr>\n",
       "      <th>0</th>\n",
       "      <td>50009.929078</td>\n",
       "      <td>Alabama</td>\n",
       "    </tr>\n",
       "    <tr>\n",
       "      <th>1</th>\n",
       "      <td>67014.685315</td>\n",
       "      <td>Alaska</td>\n",
       "    </tr>\n",
       "    <tr>\n",
       "      <th>2</th>\n",
       "      <td>56946.853147</td>\n",
       "      <td>Arizona</td>\n",
       "    </tr>\n",
       "    <tr>\n",
       "      <th>3</th>\n",
       "      <td>48676.056338</td>\n",
       "      <td>Arkansas</td>\n",
       "    </tr>\n",
       "    <tr>\n",
       "      <th>4</th>\n",
       "      <td>64846.258503</td>\n",
       "      <td>California</td>\n",
       "    </tr>\n",
       "    <tr>\n",
       "      <th>5</th>\n",
       "      <td>60422.727273</td>\n",
       "      <td>Colorado</td>\n",
       "    </tr>\n",
       "    <tr>\n",
       "      <th>6</th>\n",
       "      <td>65453.787879</td>\n",
       "      <td>Connecticut</td>\n",
       "    </tr>\n",
       "    <tr>\n",
       "      <th>7</th>\n",
       "      <td>60879.220779</td>\n",
       "      <td>Delaware</td>\n",
       "    </tr>\n",
       "    <tr>\n",
       "      <th>8</th>\n",
       "      <td>62484.768212</td>\n",
       "      <td>District of Columbia</td>\n",
       "    </tr>\n",
       "    <tr>\n",
       "      <th>9</th>\n",
       "      <td>54020.000000</td>\n",
       "      <td>Florida</td>\n",
       "    </tr>\n",
       "    <tr>\n",
       "      <th>10</th>\n",
       "      <td>56438.410596</td>\n",
       "      <td>Georgia</td>\n",
       "    </tr>\n",
       "    <tr>\n",
       "      <th>11</th>\n",
       "      <td>66704.026846</td>\n",
       "      <td>Hawaii</td>\n",
       "    </tr>\n",
       "    <tr>\n",
       "      <th>12</th>\n",
       "      <td>55241.891892</td>\n",
       "      <td>Idaho</td>\n",
       "    </tr>\n",
       "    <tr>\n",
       "      <th>13</th>\n",
       "      <td>61665.693431</td>\n",
       "      <td>Illinois</td>\n",
       "    </tr>\n",
       "    <tr>\n",
       "      <th>14</th>\n",
       "      <td>54888.666667</td>\n",
       "      <td>Indiana</td>\n",
       "    </tr>\n",
       "    <tr>\n",
       "      <th>15</th>\n",
       "      <td>56613.333333</td>\n",
       "      <td>Iowa</td>\n",
       "    </tr>\n",
       "    <tr>\n",
       "      <th>16</th>\n",
       "      <td>55807.042254</td>\n",
       "      <td>Kansas</td>\n",
       "    </tr>\n",
       "    <tr>\n",
       "      <th>17</th>\n",
       "      <td>49297.297297</td>\n",
       "      <td>Kentucky</td>\n",
       "    </tr>\n",
       "    <tr>\n",
       "      <th>18</th>\n",
       "      <td>49639.751553</td>\n",
       "      <td>Louisiana</td>\n",
       "    </tr>\n",
       "    <tr>\n",
       "      <th>19</th>\n",
       "      <td>54327.210884</td>\n",
       "      <td>Maine</td>\n",
       "    </tr>\n",
       "    <tr>\n",
       "      <th>20</th>\n",
       "      <td>67744.755245</td>\n",
       "      <td>Maryland</td>\n",
       "    </tr>\n",
       "    <tr>\n",
       "      <th>21</th>\n",
       "      <td>66389.726027</td>\n",
       "      <td>Massachusetts</td>\n",
       "    </tr>\n",
       "    <tr>\n",
       "      <th>22</th>\n",
       "      <td>57766.216216</td>\n",
       "      <td>Michigan</td>\n",
       "    </tr>\n",
       "    <tr>\n",
       "      <th>23</th>\n",
       "      <td>63610.144928</td>\n",
       "      <td>Minnesota</td>\n",
       "    </tr>\n",
       "    <tr>\n",
       "      <th>24</th>\n",
       "      <td>47402.097902</td>\n",
       "      <td>Mississippi</td>\n",
       "    </tr>\n",
       "    <tr>\n",
       "      <th>25</th>\n",
       "      <td>54314.465409</td>\n",
       "      <td>Missouri</td>\n",
       "    </tr>\n",
       "    <tr>\n",
       "      <th>26</th>\n",
       "      <td>53414.193548</td>\n",
       "      <td>Montana</td>\n",
       "    </tr>\n",
       "    <tr>\n",
       "      <th>27</th>\n",
       "      <td>57102.898551</td>\n",
       "      <td>Nebraska</td>\n",
       "    </tr>\n",
       "    <tr>\n",
       "      <th>28</th>\n",
       "      <td>57435.416667</td>\n",
       "      <td>Nevada</td>\n",
       "    </tr>\n",
       "    <tr>\n",
       "      <th>29</th>\n",
       "      <td>63867.105263</td>\n",
       "      <td>New Hampshire</td>\n",
       "    </tr>\n",
       "    <tr>\n",
       "      <th>30</th>\n",
       "      <td>69872.049689</td>\n",
       "      <td>New Jersey</td>\n",
       "    </tr>\n",
       "    <tr>\n",
       "      <th>31</th>\n",
       "      <td>52097.945205</td>\n",
       "      <td>New Mexico</td>\n",
       "    </tr>\n",
       "    <tr>\n",
       "      <th>32</th>\n",
       "      <td>61676.510067</td>\n",
       "      <td>New York</td>\n",
       "    </tr>\n",
       "    <tr>\n",
       "      <th>33</th>\n",
       "      <td>55005.714286</td>\n",
       "      <td>North Carolina</td>\n",
       "    </tr>\n",
       "    <tr>\n",
       "      <th>34</th>\n",
       "      <td>57439.864865</td>\n",
       "      <td>North Dakota</td>\n",
       "    </tr>\n",
       "    <tr>\n",
       "      <th>35</th>\n",
       "      <td>57009.489051</td>\n",
       "      <td>Ohio</td>\n",
       "    </tr>\n",
       "    <tr>\n",
       "      <th>36</th>\n",
       "      <td>50501.315789</td>\n",
       "      <td>Oklahoma</td>\n",
       "    </tr>\n",
       "    <tr>\n",
       "      <th>37</th>\n",
       "      <td>57316.891892</td>\n",
       "      <td>Oregon</td>\n",
       "    </tr>\n",
       "    <tr>\n",
       "      <th>38</th>\n",
       "      <td>57669.736842</td>\n",
       "      <td>Pennsylvania</td>\n",
       "    </tr>\n",
       "    <tr>\n",
       "      <th>39</th>\n",
       "      <td>59793.571429</td>\n",
       "      <td>Rhode Island</td>\n",
       "    </tr>\n",
       "    <tr>\n",
       "      <th>40</th>\n",
       "      <td>50837.681159</td>\n",
       "      <td>South Carolina</td>\n",
       "    </tr>\n",
       "    <tr>\n",
       "      <th>41</th>\n",
       "      <td>55623.648649</td>\n",
       "      <td>South Dakota</td>\n",
       "    </tr>\n",
       "    <tr>\n",
       "      <th>42</th>\n",
       "      <td>51399.354839</td>\n",
       "      <td>Tennessee</td>\n",
       "    </tr>\n",
       "    <tr>\n",
       "      <th>43</th>\n",
       "      <td>57243.055556</td>\n",
       "      <td>Texas</td>\n",
       "    </tr>\n",
       "    <tr>\n",
       "      <th>44</th>\n",
       "      <td>58185.810811</td>\n",
       "      <td>United States</td>\n",
       "    </tr>\n",
       "    <tr>\n",
       "      <th>45</th>\n",
       "      <td>60987.969925</td>\n",
       "      <td>Utah</td>\n",
       "    </tr>\n",
       "    <tr>\n",
       "      <th>46</th>\n",
       "      <td>59111.971831</td>\n",
       "      <td>Vermont</td>\n",
       "    </tr>\n",
       "    <tr>\n",
       "      <th>47</th>\n",
       "      <td>64287.412587</td>\n",
       "      <td>Virginia</td>\n",
       "    </tr>\n",
       "    <tr>\n",
       "      <th>48</th>\n",
       "      <td>62355.263158</td>\n",
       "      <td>Washington</td>\n",
       "    </tr>\n",
       "    <tr>\n",
       "      <th>49</th>\n",
       "      <td>47711.111111</td>\n",
       "      <td>West Virginia</td>\n",
       "    </tr>\n",
       "    <tr>\n",
       "      <th>50</th>\n",
       "      <td>59221.710526</td>\n",
       "      <td>Wisconsin</td>\n",
       "    </tr>\n",
       "    <tr>\n",
       "      <th>51</th>\n",
       "      <td>59078.321678</td>\n",
       "      <td>Wyoming</td>\n",
       "    </tr>\n",
       "  </tbody>\n",
       "</table>\n",
       "</div>"
      ],
      "text/plain": [
       "    median_household_income                 state\n",
       "0              50009.929078               Alabama\n",
       "1              67014.685315                Alaska\n",
       "2              56946.853147               Arizona\n",
       "3              48676.056338              Arkansas\n",
       "4              64846.258503            California\n",
       "5              60422.727273              Colorado\n",
       "6              65453.787879           Connecticut\n",
       "7              60879.220779              Delaware\n",
       "8              62484.768212  District of Columbia\n",
       "9              54020.000000               Florida\n",
       "10             56438.410596               Georgia\n",
       "11             66704.026846                Hawaii\n",
       "12             55241.891892                 Idaho\n",
       "13             61665.693431              Illinois\n",
       "14             54888.666667               Indiana\n",
       "15             56613.333333                  Iowa\n",
       "16             55807.042254                Kansas\n",
       "17             49297.297297              Kentucky\n",
       "18             49639.751553             Louisiana\n",
       "19             54327.210884                 Maine\n",
       "20             67744.755245              Maryland\n",
       "21             66389.726027         Massachusetts\n",
       "22             57766.216216              Michigan\n",
       "23             63610.144928             Minnesota\n",
       "24             47402.097902           Mississippi\n",
       "25             54314.465409              Missouri\n",
       "26             53414.193548               Montana\n",
       "27             57102.898551              Nebraska\n",
       "28             57435.416667                Nevada\n",
       "29             63867.105263         New Hampshire\n",
       "30             69872.049689            New Jersey\n",
       "31             52097.945205            New Mexico\n",
       "32             61676.510067              New York\n",
       "33             55005.714286        North Carolina\n",
       "34             57439.864865          North Dakota\n",
       "35             57009.489051                  Ohio\n",
       "36             50501.315789              Oklahoma\n",
       "37             57316.891892                Oregon\n",
       "38             57669.736842          Pennsylvania\n",
       "39             59793.571429          Rhode Island\n",
       "40             50837.681159        South Carolina\n",
       "41             55623.648649          South Dakota\n",
       "42             51399.354839             Tennessee\n",
       "43             57243.055556                 Texas\n",
       "44             58185.810811         United States\n",
       "45             60987.969925                  Utah\n",
       "46             59111.971831               Vermont\n",
       "47             64287.412587              Virginia\n",
       "48             62355.263158            Washington\n",
       "49             47711.111111         West Virginia\n",
       "50             59221.710526             Wisconsin\n",
       "51             59078.321678               Wyoming"
      ]
     },
     "execution_count": 469,
     "metadata": {},
     "output_type": "execute_result"
    }
   ],
   "source": [
    "df_mean_by_state = df_explore[['state', 'median_household_income']].groupby('state').mean()\n",
    "df_mean_by_state['state'] = df_mean_by_state.index\n",
    "df_mean_by_state.reset_index(drop = True, inplace = True)\n",
    "df_mean_by_state"
   ]
  },
  {
   "cell_type": "code",
   "execution_count": 473,
   "metadata": {},
   "outputs": [
    {
     "data": {
      "application/vnd.plotly.v1+json": {
       "config": {
        "plotlyServerURL": "https://plot.ly"
       },
       "data": [
        {
         "coloraxis": "coloraxis",
         "geo": "geo",
         "hovertemplate": "state=%{location}<br>median_household_income=%{z}<extra></extra>",
         "locationmode": "USA-states",
         "locations": [
          "Alabama",
          "Alaska",
          "Arizona",
          "Arkansas",
          "California",
          "Colorado",
          "Connecticut",
          "Delaware",
          "District of Columbia",
          "Florida",
          "Georgia",
          "Hawaii",
          "Idaho",
          "Illinois",
          "Indiana",
          "Iowa",
          "Kansas",
          "Kentucky",
          "Louisiana",
          "Maine",
          "Maryland",
          "Massachusetts",
          "Michigan",
          "Minnesota",
          "Mississippi",
          "Missouri",
          "Montana",
          "Nebraska",
          "Nevada",
          "New Hampshire",
          "New Jersey",
          "New Mexico",
          "New York",
          "North Carolina",
          "North Dakota",
          "Ohio",
          "Oklahoma",
          "Oregon",
          "Pennsylvania",
          "Rhode Island",
          "South Carolina",
          "South Dakota",
          "Tennessee",
          "Texas",
          "United States",
          "Utah",
          "Vermont",
          "Virginia",
          "Washington",
          "West Virginia",
          "Wisconsin",
          "Wyoming"
         ],
         "name": "",
         "type": "choropleth",
         "z": [
          50009.92907801418,
          67014.68531468531,
          56946.853146853144,
          48676.05633802817,
          64846.25850340136,
          60422.72727272727,
          65453.78787878788,
          60879.22077922078,
          62484.76821192053,
          54020,
          56438.41059602649,
          66704.02684563758,
          55241.89189189189,
          61665.69343065693,
          54888.666666666664,
          56613.333333333336,
          55807.042253521126,
          49297.2972972973,
          49639.75155279503,
          54327.21088435374,
          67744.75524475524,
          66389.72602739726,
          57766.21621621621,
          63610.14492753623,
          47402.0979020979,
          54314.46540880503,
          53414.1935483871,
          57102.89855072464,
          57435.416666666664,
          63867.10526315789,
          69872.04968944099,
          52097.94520547945,
          61676.5100671141,
          55005.71428571428,
          57439.86486486487,
          57009.48905109489,
          50501.31578947369,
          57316.89189189189,
          57669.73684210526,
          59793.57142857143,
          50837.68115942029,
          55623.64864864865,
          51399.354838709674,
          57243.055555555555,
          58185.81081081081,
          60987.96992481203,
          59111.971830985916,
          64287.41258741259,
          62355.26315789474,
          47711.11111111111,
          59221.71052631579,
          59078.32167832168
         ]
        }
       ],
       "layout": {
        "coloraxis": {
         "colorbar": {
          "title": {
           "text": "median_household_income"
          }
         },
         "colorscale": [
          [
           0,
           "#440154"
          ],
          [
           0.1111111111111111,
           "#482878"
          ],
          [
           0.2222222222222222,
           "#3e4989"
          ],
          [
           0.3333333333333333,
           "#31688e"
          ],
          [
           0.4444444444444444,
           "#26828e"
          ],
          [
           0.5555555555555556,
           "#1f9e89"
          ],
          [
           0.6666666666666666,
           "#35b779"
          ],
          [
           0.7777777777777778,
           "#6ece58"
          ],
          [
           0.8888888888888888,
           "#b5de2b"
          ],
          [
           1,
           "#fde725"
          ]
         ]
        },
        "geo": {
         "center": {},
         "domain": {
          "x": [
           0,
           1
          ],
          "y": [
           0,
           1
          ]
         },
         "scope": "usa"
        },
        "legend": {
         "tracegroupgap": 0
        },
        "margin": {
         "t": 60
        },
        "template": {
         "data": {
          "bar": [
           {
            "error_x": {
             "color": "#2a3f5f"
            },
            "error_y": {
             "color": "#2a3f5f"
            },
            "marker": {
             "line": {
              "color": "#E5ECF6",
              "width": 0.5
             },
             "pattern": {
              "fillmode": "overlay",
              "size": 10,
              "solidity": 0.2
             }
            },
            "type": "bar"
           }
          ],
          "barpolar": [
           {
            "marker": {
             "line": {
              "color": "#E5ECF6",
              "width": 0.5
             },
             "pattern": {
              "fillmode": "overlay",
              "size": 10,
              "solidity": 0.2
             }
            },
            "type": "barpolar"
           }
          ],
          "carpet": [
           {
            "aaxis": {
             "endlinecolor": "#2a3f5f",
             "gridcolor": "white",
             "linecolor": "white",
             "minorgridcolor": "white",
             "startlinecolor": "#2a3f5f"
            },
            "baxis": {
             "endlinecolor": "#2a3f5f",
             "gridcolor": "white",
             "linecolor": "white",
             "minorgridcolor": "white",
             "startlinecolor": "#2a3f5f"
            },
            "type": "carpet"
           }
          ],
          "choropleth": [
           {
            "colorbar": {
             "outlinewidth": 0,
             "ticks": ""
            },
            "type": "choropleth"
           }
          ],
          "contour": [
           {
            "colorbar": {
             "outlinewidth": 0,
             "ticks": ""
            },
            "colorscale": [
             [
              0,
              "#0d0887"
             ],
             [
              0.1111111111111111,
              "#46039f"
             ],
             [
              0.2222222222222222,
              "#7201a8"
             ],
             [
              0.3333333333333333,
              "#9c179e"
             ],
             [
              0.4444444444444444,
              "#bd3786"
             ],
             [
              0.5555555555555556,
              "#d8576b"
             ],
             [
              0.6666666666666666,
              "#ed7953"
             ],
             [
              0.7777777777777778,
              "#fb9f3a"
             ],
             [
              0.8888888888888888,
              "#fdca26"
             ],
             [
              1,
              "#f0f921"
             ]
            ],
            "type": "contour"
           }
          ],
          "contourcarpet": [
           {
            "colorbar": {
             "outlinewidth": 0,
             "ticks": ""
            },
            "type": "contourcarpet"
           }
          ],
          "heatmap": [
           {
            "colorbar": {
             "outlinewidth": 0,
             "ticks": ""
            },
            "colorscale": [
             [
              0,
              "#0d0887"
             ],
             [
              0.1111111111111111,
              "#46039f"
             ],
             [
              0.2222222222222222,
              "#7201a8"
             ],
             [
              0.3333333333333333,
              "#9c179e"
             ],
             [
              0.4444444444444444,
              "#bd3786"
             ],
             [
              0.5555555555555556,
              "#d8576b"
             ],
             [
              0.6666666666666666,
              "#ed7953"
             ],
             [
              0.7777777777777778,
              "#fb9f3a"
             ],
             [
              0.8888888888888888,
              "#fdca26"
             ],
             [
              1,
              "#f0f921"
             ]
            ],
            "type": "heatmap"
           }
          ],
          "heatmapgl": [
           {
            "colorbar": {
             "outlinewidth": 0,
             "ticks": ""
            },
            "colorscale": [
             [
              0,
              "#0d0887"
             ],
             [
              0.1111111111111111,
              "#46039f"
             ],
             [
              0.2222222222222222,
              "#7201a8"
             ],
             [
              0.3333333333333333,
              "#9c179e"
             ],
             [
              0.4444444444444444,
              "#bd3786"
             ],
             [
              0.5555555555555556,
              "#d8576b"
             ],
             [
              0.6666666666666666,
              "#ed7953"
             ],
             [
              0.7777777777777778,
              "#fb9f3a"
             ],
             [
              0.8888888888888888,
              "#fdca26"
             ],
             [
              1,
              "#f0f921"
             ]
            ],
            "type": "heatmapgl"
           }
          ],
          "histogram": [
           {
            "marker": {
             "pattern": {
              "fillmode": "overlay",
              "size": 10,
              "solidity": 0.2
             }
            },
            "type": "histogram"
           }
          ],
          "histogram2d": [
           {
            "colorbar": {
             "outlinewidth": 0,
             "ticks": ""
            },
            "colorscale": [
             [
              0,
              "#0d0887"
             ],
             [
              0.1111111111111111,
              "#46039f"
             ],
             [
              0.2222222222222222,
              "#7201a8"
             ],
             [
              0.3333333333333333,
              "#9c179e"
             ],
             [
              0.4444444444444444,
              "#bd3786"
             ],
             [
              0.5555555555555556,
              "#d8576b"
             ],
             [
              0.6666666666666666,
              "#ed7953"
             ],
             [
              0.7777777777777778,
              "#fb9f3a"
             ],
             [
              0.8888888888888888,
              "#fdca26"
             ],
             [
              1,
              "#f0f921"
             ]
            ],
            "type": "histogram2d"
           }
          ],
          "histogram2dcontour": [
           {
            "colorbar": {
             "outlinewidth": 0,
             "ticks": ""
            },
            "colorscale": [
             [
              0,
              "#0d0887"
             ],
             [
              0.1111111111111111,
              "#46039f"
             ],
             [
              0.2222222222222222,
              "#7201a8"
             ],
             [
              0.3333333333333333,
              "#9c179e"
             ],
             [
              0.4444444444444444,
              "#bd3786"
             ],
             [
              0.5555555555555556,
              "#d8576b"
             ],
             [
              0.6666666666666666,
              "#ed7953"
             ],
             [
              0.7777777777777778,
              "#fb9f3a"
             ],
             [
              0.8888888888888888,
              "#fdca26"
             ],
             [
              1,
              "#f0f921"
             ]
            ],
            "type": "histogram2dcontour"
           }
          ],
          "mesh3d": [
           {
            "colorbar": {
             "outlinewidth": 0,
             "ticks": ""
            },
            "type": "mesh3d"
           }
          ],
          "parcoords": [
           {
            "line": {
             "colorbar": {
              "outlinewidth": 0,
              "ticks": ""
             }
            },
            "type": "parcoords"
           }
          ],
          "pie": [
           {
            "automargin": true,
            "type": "pie"
           }
          ],
          "scatter": [
           {
            "fillpattern": {
             "fillmode": "overlay",
             "size": 10,
             "solidity": 0.2
            },
            "type": "scatter"
           }
          ],
          "scatter3d": [
           {
            "line": {
             "colorbar": {
              "outlinewidth": 0,
              "ticks": ""
             }
            },
            "marker": {
             "colorbar": {
              "outlinewidth": 0,
              "ticks": ""
             }
            },
            "type": "scatter3d"
           }
          ],
          "scattercarpet": [
           {
            "marker": {
             "colorbar": {
              "outlinewidth": 0,
              "ticks": ""
             }
            },
            "type": "scattercarpet"
           }
          ],
          "scattergeo": [
           {
            "marker": {
             "colorbar": {
              "outlinewidth": 0,
              "ticks": ""
             }
            },
            "type": "scattergeo"
           }
          ],
          "scattergl": [
           {
            "marker": {
             "colorbar": {
              "outlinewidth": 0,
              "ticks": ""
             }
            },
            "type": "scattergl"
           }
          ],
          "scattermapbox": [
           {
            "marker": {
             "colorbar": {
              "outlinewidth": 0,
              "ticks": ""
             }
            },
            "type": "scattermapbox"
           }
          ],
          "scatterpolar": [
           {
            "marker": {
             "colorbar": {
              "outlinewidth": 0,
              "ticks": ""
             }
            },
            "type": "scatterpolar"
           }
          ],
          "scatterpolargl": [
           {
            "marker": {
             "colorbar": {
              "outlinewidth": 0,
              "ticks": ""
             }
            },
            "type": "scatterpolargl"
           }
          ],
          "scatterternary": [
           {
            "marker": {
             "colorbar": {
              "outlinewidth": 0,
              "ticks": ""
             }
            },
            "type": "scatterternary"
           }
          ],
          "surface": [
           {
            "colorbar": {
             "outlinewidth": 0,
             "ticks": ""
            },
            "colorscale": [
             [
              0,
              "#0d0887"
             ],
             [
              0.1111111111111111,
              "#46039f"
             ],
             [
              0.2222222222222222,
              "#7201a8"
             ],
             [
              0.3333333333333333,
              "#9c179e"
             ],
             [
              0.4444444444444444,
              "#bd3786"
             ],
             [
              0.5555555555555556,
              "#d8576b"
             ],
             [
              0.6666666666666666,
              "#ed7953"
             ],
             [
              0.7777777777777778,
              "#fb9f3a"
             ],
             [
              0.8888888888888888,
              "#fdca26"
             ],
             [
              1,
              "#f0f921"
             ]
            ],
            "type": "surface"
           }
          ],
          "table": [
           {
            "cells": {
             "fill": {
              "color": "#EBF0F8"
             },
             "line": {
              "color": "white"
             }
            },
            "header": {
             "fill": {
              "color": "#C8D4E3"
             },
             "line": {
              "color": "white"
             }
            },
            "type": "table"
           }
          ]
         },
         "layout": {
          "annotationdefaults": {
           "arrowcolor": "#2a3f5f",
           "arrowhead": 0,
           "arrowwidth": 1
          },
          "autotypenumbers": "strict",
          "coloraxis": {
           "colorbar": {
            "outlinewidth": 0,
            "ticks": ""
           }
          },
          "colorscale": {
           "diverging": [
            [
             0,
             "#8e0152"
            ],
            [
             0.1,
             "#c51b7d"
            ],
            [
             0.2,
             "#de77ae"
            ],
            [
             0.3,
             "#f1b6da"
            ],
            [
             0.4,
             "#fde0ef"
            ],
            [
             0.5,
             "#f7f7f7"
            ],
            [
             0.6,
             "#e6f5d0"
            ],
            [
             0.7,
             "#b8e186"
            ],
            [
             0.8,
             "#7fbc41"
            ],
            [
             0.9,
             "#4d9221"
            ],
            [
             1,
             "#276419"
            ]
           ],
           "sequential": [
            [
             0,
             "#0d0887"
            ],
            [
             0.1111111111111111,
             "#46039f"
            ],
            [
             0.2222222222222222,
             "#7201a8"
            ],
            [
             0.3333333333333333,
             "#9c179e"
            ],
            [
             0.4444444444444444,
             "#bd3786"
            ],
            [
             0.5555555555555556,
             "#d8576b"
            ],
            [
             0.6666666666666666,
             "#ed7953"
            ],
            [
             0.7777777777777778,
             "#fb9f3a"
            ],
            [
             0.8888888888888888,
             "#fdca26"
            ],
            [
             1,
             "#f0f921"
            ]
           ],
           "sequentialminus": [
            [
             0,
             "#0d0887"
            ],
            [
             0.1111111111111111,
             "#46039f"
            ],
            [
             0.2222222222222222,
             "#7201a8"
            ],
            [
             0.3333333333333333,
             "#9c179e"
            ],
            [
             0.4444444444444444,
             "#bd3786"
            ],
            [
             0.5555555555555556,
             "#d8576b"
            ],
            [
             0.6666666666666666,
             "#ed7953"
            ],
            [
             0.7777777777777778,
             "#fb9f3a"
            ],
            [
             0.8888888888888888,
             "#fdca26"
            ],
            [
             1,
             "#f0f921"
            ]
           ]
          },
          "colorway": [
           "#636efa",
           "#EF553B",
           "#00cc96",
           "#ab63fa",
           "#FFA15A",
           "#19d3f3",
           "#FF6692",
           "#B6E880",
           "#FF97FF",
           "#FECB52"
          ],
          "font": {
           "color": "#2a3f5f"
          },
          "geo": {
           "bgcolor": "white",
           "lakecolor": "white",
           "landcolor": "#E5ECF6",
           "showlakes": true,
           "showland": true,
           "subunitcolor": "white"
          },
          "hoverlabel": {
           "align": "left"
          },
          "hovermode": "closest",
          "mapbox": {
           "style": "light"
          },
          "paper_bgcolor": "white",
          "plot_bgcolor": "#E5ECF6",
          "polar": {
           "angularaxis": {
            "gridcolor": "white",
            "linecolor": "white",
            "ticks": ""
           },
           "bgcolor": "#E5ECF6",
           "radialaxis": {
            "gridcolor": "white",
            "linecolor": "white",
            "ticks": ""
           }
          },
          "scene": {
           "xaxis": {
            "backgroundcolor": "#E5ECF6",
            "gridcolor": "white",
            "gridwidth": 2,
            "linecolor": "white",
            "showbackground": true,
            "ticks": "",
            "zerolinecolor": "white"
           },
           "yaxis": {
            "backgroundcolor": "#E5ECF6",
            "gridcolor": "white",
            "gridwidth": 2,
            "linecolor": "white",
            "showbackground": true,
            "ticks": "",
            "zerolinecolor": "white"
           },
           "zaxis": {
            "backgroundcolor": "#E5ECF6",
            "gridcolor": "white",
            "gridwidth": 2,
            "linecolor": "white",
            "showbackground": true,
            "ticks": "",
            "zerolinecolor": "white"
           }
          },
          "shapedefaults": {
           "line": {
            "color": "#2a3f5f"
           }
          },
          "ternary": {
           "aaxis": {
            "gridcolor": "white",
            "linecolor": "white",
            "ticks": ""
           },
           "baxis": {
            "gridcolor": "white",
            "linecolor": "white",
            "ticks": ""
           },
           "bgcolor": "#E5ECF6",
           "caxis": {
            "gridcolor": "white",
            "linecolor": "white",
            "ticks": ""
           }
          },
          "title": {
           "x": 0.05
          },
          "xaxis": {
           "automargin": true,
           "gridcolor": "white",
           "linecolor": "white",
           "ticks": "",
           "title": {
            "standoff": 15
           },
           "zerolinecolor": "white",
           "zerolinewidth": 2
          },
          "yaxis": {
           "automargin": true,
           "gridcolor": "white",
           "linecolor": "white",
           "ticks": "",
           "title": {
            "standoff": 15
           },
           "zerolinecolor": "white",
           "zerolinewidth": 2
          }
         }
        },
        "title": {
         "font": {
          "color": "black",
          "family": "Times New Roman",
          "size": 22
         },
         "text": "Distribution of median household income in the US",
         "x": 0.45
        }
       }
      }
     },
     "metadata": {},
     "output_type": "display_data"
    }
   ],
   "source": [
    "fig = px.choropleth(df_mean_by_state,\n",
    "                    locations='state', \n",
    "                    locationmode=\"USA-states\", \n",
    "                    scope=\"usa\",\n",
    "                    color='median_household_income',\n",
    "                    color_continuous_scale=\"Viridis\", \n",
    "                    \n",
    "                    )\n",
    "\n",
    "fig.update_layout(\n",
    "      title_text = 'Distribution of median household income in the US',\n",
    "      title_font_family=\"Times New Roman\",\n",
    "      title_font_size = 22,\n",
    "      title_font_color=\"black\", \n",
    "      title_x=0.45, \n",
    "         )\n",
    "fig.show()"
   ]
  },
  {
   "attachments": {},
   "cell_type": "markdown",
   "metadata": {},
   "source": [
    "# Ausprobieren, ob Einfärbung nach Jahren sinnvoll ist"
   ]
  },
  {
   "cell_type": "code",
   "execution_count": 482,
   "metadata": {},
   "outputs": [
    {
     "data": {
      "text/html": [
       "\n",
       "<div id=\"altair-viz-fb1e9cfbb18645fca9df79350ff24d92\"></div>\n",
       "<script type=\"text/javascript\">\n",
       "  var VEGA_DEBUG = (typeof VEGA_DEBUG == \"undefined\") ? {} : VEGA_DEBUG;\n",
       "  (function(spec, embedOpt){\n",
       "    let outputDiv = document.currentScript.previousElementSibling;\n",
       "    if (outputDiv.id !== \"altair-viz-fb1e9cfbb18645fca9df79350ff24d92\") {\n",
       "      outputDiv = document.getElementById(\"altair-viz-fb1e9cfbb18645fca9df79350ff24d92\");\n",
       "    }\n",
       "    const paths = {\n",
       "      \"vega\": \"https://cdn.jsdelivr.net/npm//vega@5?noext\",\n",
       "      \"vega-lib\": \"https://cdn.jsdelivr.net/npm//vega-lib?noext\",\n",
       "      \"vega-lite\": \"https://cdn.jsdelivr.net/npm//vega-lite@4.17.0?noext\",\n",
       "      \"vega-embed\": \"https://cdn.jsdelivr.net/npm//vega-embed@6?noext\",\n",
       "    };\n",
       "\n",
       "    function maybeLoadScript(lib, version) {\n",
       "      var key = `${lib.replace(\"-\", \"\")}_version`;\n",
       "      return (VEGA_DEBUG[key] == version) ?\n",
       "        Promise.resolve(paths[lib]) :\n",
       "        new Promise(function(resolve, reject) {\n",
       "          var s = document.createElement('script');\n",
       "          document.getElementsByTagName(\"head\")[0].appendChild(s);\n",
       "          s.async = true;\n",
       "          s.onload = () => {\n",
       "            VEGA_DEBUG[key] = version;\n",
       "            return resolve(paths[lib]);\n",
       "          };\n",
       "          s.onerror = () => reject(`Error loading script: ${paths[lib]}`);\n",
       "          s.src = paths[lib];\n",
       "        });\n",
       "    }\n",
       "\n",
       "    function showError(err) {\n",
       "      outputDiv.innerHTML = `<div class=\"error\" style=\"color:red;\">${err}</div>`;\n",
       "      throw err;\n",
       "    }\n",
       "\n",
       "    function displayChart(vegaEmbed) {\n",
       "      vegaEmbed(outputDiv, spec, embedOpt)\n",
       "        .catch(err => showError(`Javascript Error: ${err.message}<br>This usually means there's a typo in your chart specification. See the javascript console for the full traceback.`));\n",
       "    }\n",
       "\n",
       "    if(typeof define === \"function\" && define.amd) {\n",
       "      requirejs.config({paths});\n",
       "      require([\"vega-embed\"], displayChart, err => showError(`Error loading script: ${err.message}`));\n",
       "    } else {\n",
       "      maybeLoadScript(\"vega\", \"5\")\n",
       "        .then(() => maybeLoadScript(\"vega-lite\", \"4.17.0\"))\n",
       "        .then(() => maybeLoadScript(\"vega-embed\", \"6\"))\n",
       "        .catch(showError)\n",
       "        .then(() => displayChart(vegaEmbed));\n",
       "    }\n",
       "  })({\"config\": {\"view\": {\"continuousWidth\": 400, \"continuousHeight\": 300}}, \"data\": {\"name\": \"data-2f7d914a0951197a17d40786ebed16a4\"}, \"mark\": {\"type\": \"circle\", \"size\": 60}, \"encoding\": {\"tooltip\": [{\"field\": \"median_household_income\", \"type\": \"quantitative\"}, {\"field\": \"age_adjusted_death_rate\", \"type\": \"quantitative\"}], \"x\": {\"field\": \"median_household_income\", \"scale\": {\"zero\": false}, \"type\": \"quantitative\"}, \"y\": {\"field\": \"age_adjusted_death_rate\", \"scale\": {\"zero\": false}, \"type\": \"quantitative\"}}, \"selection\": {\"selector050\": {\"type\": \"interval\", \"bind\": \"scales\", \"encodings\": [\"x\", \"y\"]}}, \"$schema\": \"https://vega.github.io/schema/vega-lite/v4.17.0.json\", \"datasets\": {\"data-2f7d914a0951197a17d40786ebed16a4\": [{\"year\": 2006, \"113_cause_name\": \"All Causes\", \"cause_name\": \"All causes\", \"state\": \"Nevada\", \"deaths\": 18872, \"median_household_income\": 66100.0, \"age_adjusted_death_rate\": 864.7}, {\"year\": 2005, \"113_cause_name\": \"All Causes\", \"cause_name\": \"All causes\", \"state\": \"Indiana\", \"deaths\": 55675, \"median_household_income\": 55400.0, \"age_adjusted_death_rate\": 874.3}, {\"year\": 2004, \"113_cause_name\": \"All Causes\", \"cause_name\": \"All causes\", \"state\": \"New Mexico\", \"deaths\": 14298, \"median_household_income\": 52100.0, \"age_adjusted_death_rate\": 786.7}, {\"year\": 2005, \"113_cause_name\": \"All Causes\", \"cause_name\": \"All causes\", \"state\": \"South Carolina\", \"deaths\": 38707, \"median_household_income\": 49500.00000000001, \"age_adjusted_death_rate\": 920.9}, {\"year\": 2012, \"113_cause_name\": \"All Causes\", \"cause_name\": \"All causes\", \"state\": \"Nevada\", \"deaths\": 20785, \"median_household_income\": 53999.99999999999, \"age_adjusted_death_rate\": 774.6}, {\"year\": 2007, \"113_cause_name\": \"All Causes\", \"cause_name\": \"All causes\", \"state\": \"Mississippi\", \"deaths\": 28255, \"median_household_income\": 46600.00000000001, \"age_adjusted_death_rate\": 973.3}, {\"year\": 1999, \"113_cause_name\": \"All Causes\", \"cause_name\": \"All causes\", \"state\": \"Idaho\", \"deaths\": 9579, \"median_household_income\": 62100.0, \"age_adjusted_death_rate\": 825.2}, {\"year\": 2015, \"113_cause_name\": \"All Causes\", \"cause_name\": \"All causes\", \"state\": \"New Hampshire\", \"deaths\": 11984, \"median_household_income\": 72700.0, \"age_adjusted_death_rate\": 720.6}, {\"year\": 2007, \"113_cause_name\": \"All Causes\", \"cause_name\": \"All causes\", \"state\": \"Massachusetts\", \"deaths\": 52917, \"median_household_income\": 76700.0, \"age_adjusted_death_rate\": 709.8}, {\"year\": 2003, \"113_cause_name\": \"All Causes\", \"cause_name\": \"All causes\", \"state\": \"Washington\", \"deaths\": 45920, \"median_household_income\": 55700.0, \"age_adjusted_death_rate\": 789.2}, {\"year\": 2017, \"113_cause_name\": \"All Causes\", \"cause_name\": \"All causes\", \"state\": \"Nevada\", \"deaths\": 24657, \"median_household_income\": 58000.00000000001, \"age_adjusted_death_rate\": 765.5}, {\"year\": 2006, \"113_cause_name\": \"All Causes\", \"cause_name\": \"All causes\", \"state\": \"Colorado\", \"deaths\": 29521, \"median_household_income\": 76700.0, \"age_adjusted_death_rate\": 720.9}, {\"year\": 2007, \"113_cause_name\": \"All Causes\", \"cause_name\": \"All causes\", \"state\": \"Nevada\", \"deaths\": 18687, \"median_household_income\": 53999.99999999999, \"age_adjusted_death_rate\": 822.0}, {\"year\": 2007, \"113_cause_name\": \"All Causes\", \"cause_name\": \"All causes\", \"state\": \"Tennessee\", \"deaths\": 57087, \"median_household_income\": 57400.0, \"age_adjusted_death_rate\": 905.4}, {\"year\": 2013, \"113_cause_name\": \"All Causes\", \"cause_name\": \"All causes\", \"state\": \"New Mexico\", \"deaths\": 16805, \"median_household_income\": 46200.0, \"age_adjusted_death_rate\": 731.8}, {\"year\": 2004, \"113_cause_name\": \"All Causes\", \"cause_name\": \"All causes\", \"state\": \"North Dakota\", \"deaths\": 5601, \"median_household_income\": 65500.0, \"age_adjusted_death_rate\": 702.2}, {\"year\": 2005, \"113_cause_name\": \"All Causes\", \"cause_name\": \"All causes\", \"state\": \"Louisiana\", \"deaths\": 44355, \"median_household_income\": 46200.0, \"age_adjusted_death_rate\": 1023.7}, {\"year\": 2016, \"113_cause_name\": \"All Causes\", \"cause_name\": \"All causes\", \"state\": \"Indiana\", \"deaths\": 63473, \"median_household_income\": 53400.0, \"age_adjusted_death_rate\": 835.0}, {\"year\": 2017, \"113_cause_name\": \"All Causes\", \"cause_name\": \"All causes\", \"state\": \"Idaho\", \"deaths\": 14011, \"median_household_income\": 52200.0, \"age_adjusted_death_rate\": 741.8}, {\"year\": 2014, \"113_cause_name\": \"All Causes\", \"cause_name\": \"All causes\", \"state\": \"Pennsylvania\", \"deaths\": 128434, \"median_household_income\": 55200.0, \"age_adjusted_death_rate\": 750.2}, {\"year\": 2009, \"113_cause_name\": \"All Causes\", \"cause_name\": \"All causes\", \"state\": \"Nebraska\", \"deaths\": 14810, \"median_household_income\": 51700.0, \"age_adjusted_death_rate\": 710.9}, {\"year\": 2009, \"113_cause_name\": \"All Causes\", \"cause_name\": \"All causes\", \"state\": \"Oregon\", \"deaths\": 31636, \"median_household_income\": 77600.0, \"age_adjusted_death_rate\": 728.4}, {\"year\": 1999, \"113_cause_name\": \"All Causes\", \"cause_name\": \"All causes\", \"state\": \"Alabama\", \"deaths\": 44806, \"median_household_income\": 48100.0, \"age_adjusted_death_rate\": 1009.3}, {\"year\": 2013, \"113_cause_name\": \"All Causes\", \"cause_name\": \"All causes\", \"state\": \"Oregon\", \"deaths\": 33939, \"median_household_income\": 53000.0, \"age_adjusted_death_rate\": 717.5}, {\"year\": 2017, \"113_cause_name\": \"All Causes\", \"cause_name\": \"All causes\", \"state\": \"Maryland\", \"deaths\": 49926, \"median_household_income\": 80800.0, \"age_adjusted_death_rate\": 718.1}, {\"year\": 2008, \"113_cause_name\": \"All Causes\", \"cause_name\": \"All causes\", \"state\": \"California\", \"deaths\": 234766, \"median_household_income\": 65000.0, \"age_adjusted_death_rate\": 677.9}, {\"year\": 1999, \"113_cause_name\": \"All Causes\", \"cause_name\": \"All causes\", \"state\": \"Minnesota\", \"deaths\": 38537, \"median_household_income\": 69700.0, \"age_adjusted_death_rate\": 784.5}, {\"year\": 2005, \"113_cause_name\": \"All Causes\", \"cause_name\": \"All causes\", \"state\": \"New Mexico\", \"deaths\": 14983, \"median_household_income\": 47200.0, \"age_adjusted_death_rate\": 800.1}, {\"year\": 2015, \"113_cause_name\": \"All Causes\", \"cause_name\": \"All causes\", \"state\": \"Michigan\", \"deaths\": 95140, \"median_household_income\": 52900.0, \"age_adjusted_death_rate\": 784.4}, {\"year\": 2004, \"113_cause_name\": \"All Causes\", \"cause_name\": \"All causes\", \"state\": \"Nevada\", \"deaths\": 17929, \"median_household_income\": 61900.0, \"age_adjusted_death_rate\": 887.6}, {\"year\": 2017, \"113_cause_name\": \"All Causes\", \"cause_name\": \"All causes\", \"state\": \"North Dakota\", \"deaths\": 6415, \"median_household_income\": 61800.0, \"age_adjusted_death_rate\": 692.7}, {\"year\": 2007, \"113_cause_name\": \"All Causes\", \"cause_name\": \"All causes\", \"state\": \"Minnesota\", \"deaths\": 37138, \"median_household_income\": 73100.0, \"age_adjusted_death_rate\": 663.1}, {\"year\": 2017, \"113_cause_name\": \"All Causes\", \"cause_name\": \"All causes\", \"state\": \"Wisconsin\", \"deaths\": 52681, \"median_household_income\": 59299.99999999999, \"age_adjusted_death_rate\": 722.0}, {\"year\": 2008, \"113_cause_name\": \"All Causes\", \"cause_name\": \"All causes\", \"state\": \"Washington\", \"deaths\": 48627, \"median_household_income\": 77600.0, \"age_adjusted_death_rate\": 734.3}, {\"year\": 2009, \"113_cause_name\": \"All Causes\", \"cause_name\": \"All causes\", \"state\": \"Oklahoma\", \"deaths\": 35601, \"median_household_income\": 47900.00000000001, \"age_adjusted_death_rate\": 903.8}, {\"year\": 2015, \"113_cause_name\": \"All Causes\", \"cause_name\": \"All causes\", \"state\": \"Oklahoma\", \"deaths\": 39422, \"median_household_income\": 50300.00000000001, \"age_adjusted_death_rate\": 904.3}, {\"year\": 1999, \"113_cause_name\": \"All Causes\", \"cause_name\": \"All causes\", \"state\": \"Washington\", \"deaths\": 43865, \"median_household_income\": 59900.0, \"age_adjusted_death_rate\": 815.1}, {\"year\": 2003, \"113_cause_name\": \"All Causes\", \"cause_name\": \"All causes\", \"state\": \"West Virginia\", \"deaths\": 21306, \"median_household_income\": 46400.0, \"age_adjusted_death_rate\": 1003.1}, {\"year\": 2001, \"113_cause_name\": \"All Causes\", \"cause_name\": \"All causes\", \"state\": \"Oregon\", \"deaths\": 30158, \"median_household_income\": 60400.00000000001, \"age_adjusted_death_rate\": 830.5}, {\"year\": 2011, \"113_cause_name\": \"All Causes\", \"cause_name\": \"All causes\", \"state\": \"District of Columbia\", \"deaths\": 4589, \"median_household_income\": 48100.0, \"age_adjusted_death_rate\": 755.9}, {\"year\": 2001, \"113_cause_name\": \"All Causes\", \"cause_name\": \"All causes\", \"state\": \"Montana\", \"deaths\": 8265, \"median_household_income\": 48700.00000000001, \"age_adjusted_death_rate\": 844.1}, {\"year\": 2017, \"113_cause_name\": \"All Causes\", \"cause_name\": \"All causes\", \"state\": \"Montana\", \"deaths\": 10200, \"median_household_income\": 53400.0, \"age_adjusted_death_rate\": 757.5}, {\"year\": 2017, \"113_cause_name\": \"All Causes\", \"cause_name\": \"All causes\", \"state\": \"Pennsylvania\", \"deaths\": 135656, \"median_household_income\": 59200.0, \"age_adjusted_death_rate\": 777.3}, {\"year\": 2017, \"113_cause_name\": \"All Causes\", \"cause_name\": \"All causes\", \"state\": \"Iowa\", \"deaths\": 30530, \"median_household_income\": 58600.0, \"age_adjusted_death_rate\": 737.0}, {\"year\": 2017, \"113_cause_name\": \"All Causes\", \"cause_name\": \"All causes\", \"state\": \"New Mexico\", \"deaths\": 18673, \"median_household_income\": 46700.0, \"age_adjusted_death_rate\": 754.7}, {\"year\": 2008, \"113_cause_name\": \"All Causes\", \"cause_name\": \"All causes\", \"state\": \"Oklahoma\", \"deaths\": 37014, \"median_household_income\": 41500.0, \"age_adjusted_death_rate\": 956.5}, {\"year\": 2000, \"113_cause_name\": \"All Causes\", \"cause_name\": \"All causes\", \"state\": \"Utah\", \"deaths\": 12364, \"median_household_income\": 67500.0, \"age_adjusted_death_rate\": 788.6}, {\"year\": 2013, \"113_cause_name\": \"All Causes\", \"cause_name\": \"All causes\", \"state\": \"New Jersey\", \"deaths\": 71403, \"median_household_income\": 74000.0, \"age_adjusted_death_rate\": 676.4}, {\"year\": 2000, \"113_cause_name\": \"All Causes\", \"cause_name\": \"All causes\", \"state\": \"Ohio\", \"deaths\": 108125, \"median_household_income\": 60400.00000000001, \"age_adjusted_death_rate\": 923.5}, {\"year\": 2005, \"113_cause_name\": \"All Causes\", \"cause_name\": \"All causes\", \"state\": \"Vermont\", \"deaths\": 5066, \"median_household_income\": 57500.0, \"age_adjusted_death_rate\": 751.6}, {\"year\": 2017, \"113_cause_name\": \"All Causes\", \"cause_name\": \"All causes\", \"state\": \"District of Columbia\", \"deaths\": 4965, \"median_household_income\": 82400.0, \"age_adjusted_death_rate\": 725.4}, {\"year\": 2001, \"113_cause_name\": \"All Causes\", \"cause_name\": \"All causes\", \"state\": \"Michigan\", \"deaths\": 86424, \"median_household_income\": 68800.0, \"age_adjusted_death_rate\": 884.0}, {\"year\": 2006, \"113_cause_name\": \"All Causes\", \"cause_name\": \"All causes\", \"state\": \"Ohio\", \"deaths\": 106825, \"median_household_income\": 56000.0, \"age_adjusted_death_rate\": 846.6}, {\"year\": 2011, \"113_cause_name\": \"All Causes\", \"cause_name\": \"All causes\", \"state\": \"Vermont\", \"deaths\": 5433, \"median_household_income\": 51700.0, \"age_adjusted_death_rate\": 711.0}, {\"year\": 2008, \"113_cause_name\": \"All Causes\", \"cause_name\": \"All causes\", \"state\": \"Hawaii\", \"deaths\": 9501, \"median_household_income\": 71000.0, \"age_adjusted_death_rate\": 613.6}, {\"year\": 1999, \"113_cause_name\": \"All Causes\", \"cause_name\": \"All causes\", \"state\": \"Utah\", \"deaths\": 12058, \"median_household_income\": 67500.0, \"age_adjusted_death_rate\": 781.6}, {\"year\": 2007, \"113_cause_name\": \"All Causes\", \"cause_name\": \"All causes\", \"state\": \"Utah\", \"deaths\": 14143, \"median_household_income\": 76700.0, \"age_adjusted_death_rate\": 729.4}, {\"year\": 2003, \"113_cause_name\": \"All Causes\", \"cause_name\": \"All causes\", \"state\": \"Florida\", \"deaths\": 168657, \"median_household_income\": 53400.0, \"age_adjusted_death_rate\": 786.7}, {\"year\": 2006, \"113_cause_name\": \"All Causes\", \"cause_name\": \"All causes\", \"state\": \"New Mexico\", \"deaths\": 15296, \"median_household_income\": 47200.0, \"age_adjusted_death_rate\": 793.1}, {\"year\": 2017, \"113_cause_name\": \"All Causes\", \"cause_name\": \"All causes\", \"state\": \"Washington\", \"deaths\": 56995, \"median_household_income\": 71000.0, \"age_adjusted_death_rate\": 688.6}, {\"year\": 2010, \"113_cause_name\": \"All Causes\", \"cause_name\": \"All causes\", \"state\": \"Wisconsin\", \"deaths\": 47308, \"median_household_income\": 55200.0, \"age_adjusted_death_rate\": 719.0}, {\"year\": 2001, \"113_cause_name\": \"All Causes\", \"cause_name\": \"All causes\", \"state\": \"Florida\", \"deaths\": 167269, \"median_household_income\": 57300.0, \"age_adjusted_death_rate\": 806.1}, {\"year\": 2000, \"113_cause_name\": \"All Causes\", \"cause_name\": \"All causes\", \"state\": \"Illinois\", \"deaths\": 106634, \"median_household_income\": 68800.0, \"age_adjusted_death_rate\": 883.0}, {\"year\": 2004, \"113_cause_name\": \"All Causes\", \"cause_name\": \"All causes\", \"state\": \"United States\", \"deaths\": 2397615, \"median_household_income\": 58200.0, \"age_adjusted_death_rate\": 813.7}, {\"year\": 2015, \"113_cause_name\": \"All Causes\", \"cause_name\": \"All causes\", \"state\": \"Montana\", \"deaths\": 9942, \"median_household_income\": 51200.0, \"age_adjusted_death_rate\": 762.7}, {\"year\": 2017, \"113_cause_name\": \"All Causes\", \"cause_name\": \"All causes\", \"state\": \"Kentucky\", \"deaths\": 48212, \"median_household_income\": 48400.0, \"age_adjusted_death_rate\": 929.9}, {\"year\": 2015, \"113_cause_name\": \"All Causes\", \"cause_name\": \"All causes\", \"state\": \"Delaware\", \"deaths\": 8582, \"median_household_income\": 63400.0, \"age_adjusted_death_rate\": 741.5}, {\"year\": 2006, \"113_cause_name\": \"All Causes\", \"cause_name\": \"All causes\", \"state\": \"Oklahoma\", \"deaths\": 35427, \"median_household_income\": 44000.0, \"age_adjusted_death_rate\": 942.5}, {\"year\": 2008, \"113_cause_name\": \"All Causes\", \"cause_name\": \"All causes\", \"state\": \"Arizona\", \"deaths\": 45823, \"median_household_income\": 55200.0, \"age_adjusted_death_rate\": 714.5}, {\"year\": 2010, \"113_cause_name\": \"All Causes\", \"cause_name\": \"All causes\", \"state\": \"Ohio\", \"deaths\": 108711, \"median_household_income\": 50799.99999999999, \"age_adjusted_death_rate\": 815.7}, {\"year\": 2008, \"113_cause_name\": \"All Causes\", \"cause_name\": \"All causes\", \"state\": \"Texas\", \"deaths\": 164914, \"median_household_income\": 50799.99999999999, \"age_adjusted_death_rate\": 803.6}, {\"year\": 2010, \"113_cause_name\": \"All Causes\", \"cause_name\": \"All causes\", \"state\": \"New Mexico\", \"deaths\": 15931, \"median_household_income\": 47400.0, \"age_adjusted_death_rate\": 749.0}, {\"year\": 2015, \"113_cause_name\": \"All Causes\", \"cause_name\": \"All causes\", \"state\": \"Virginia\", \"deaths\": 65577, \"median_household_income\": 68600.0, \"age_adjusted_death_rate\": 721.6}, {\"year\": 2001, \"113_cause_name\": \"All Causes\", \"cause_name\": \"All causes\", \"state\": \"Nevada\", \"deaths\": 16285, \"median_household_income\": 65800.0, \"age_adjusted_death_rate\": 923.5}, {\"year\": 2016, \"113_cause_name\": \"All Causes\", \"cause_name\": \"All causes\", \"state\": \"New Hampshire\", \"deaths\": 12203, \"median_household_income\": 72500.0, \"age_adjusted_death_rate\": 721.5}, {\"year\": 2012, \"113_cause_name\": \"All Causes\", \"cause_name\": \"All causes\", \"state\": \"New Hampshire\", \"deaths\": 10730, \"median_household_income\": 51599.99999999999, \"age_adjusted_death_rate\": 687.5}, {\"year\": 2007, \"113_cause_name\": \"All Causes\", \"cause_name\": \"All causes\", \"state\": \"Hawaii\", \"deaths\": 9495, \"median_household_income\": 73100.0, \"age_adjusted_death_rate\": 631.0}, {\"year\": 2001, \"113_cause_name\": \"All Causes\", \"cause_name\": \"All causes\", \"state\": \"Idaho\", \"deaths\": 9753, \"median_household_income\": 52100.0, \"age_adjusted_death_rate\": 803.5}, {\"year\": 2007, \"113_cause_name\": \"All Causes\", \"cause_name\": \"All causes\", \"state\": \"Montana\", \"deaths\": 8624, \"median_household_income\": 50700.0, \"age_adjusted_death_rate\": 775.4}, {\"year\": 2017, \"113_cause_name\": \"All Causes\", \"cause_name\": \"All causes\", \"state\": \"Kansas\", \"deaths\": 27063, \"median_household_income\": 56400.00000000001, \"age_adjusted_death_rate\": 771.2}, {\"year\": 2004, \"113_cause_name\": \"All Causes\", \"cause_name\": \"All causes\", \"state\": \"Massachusetts\", \"deaths\": 54511, \"median_household_income\": 62000.0, \"age_adjusted_death_rate\": 758.3}, {\"year\": 2011, \"113_cause_name\": \"All Causes\", \"cause_name\": \"All causes\", \"state\": \"New Hampshire\", \"deaths\": 10823, \"median_household_income\": 51700.0, \"age_adjusted_death_rate\": 710.4}, {\"year\": 2013, \"113_cause_name\": \"All Causes\", \"cause_name\": \"All causes\", \"state\": \"Idaho\", \"deaths\": 12434, \"median_household_income\": 49300.0, \"age_adjusted_death_rate\": 730.6}, {\"year\": 2004, \"113_cause_name\": \"All Causes\", \"cause_name\": \"All causes\", \"state\": \"Indiana\", \"deaths\": 54211, \"median_household_income\": 52800.0, \"age_adjusted_death_rate\": 864.1}, {\"year\": 2016, \"113_cause_name\": \"All Causes\", \"cause_name\": \"All causes\", \"state\": \"Kansas\", \"deaths\": 26245, \"median_household_income\": 56099.99999999999, \"age_adjusted_death_rate\": 756.8}, {\"year\": 2012, \"113_cause_name\": \"All Causes\", \"cause_name\": \"All causes\", \"state\": \"Mississippi\", \"deaths\": 29544, \"median_household_income\": 40000.0, \"age_adjusted_death_rate\": 942.9}, {\"year\": 2014, \"113_cause_name\": \"All Causes\", \"cause_name\": \"All causes\", \"state\": \"Nebraska\", \"deaths\": 15978, \"median_household_income\": 54600.0, \"age_adjusted_death_rate\": 718.2}, {\"year\": 2008, \"113_cause_name\": \"All Causes\", \"cause_name\": \"All causes\", \"state\": \"South Dakota\", \"deaths\": 7083, \"median_household_income\": 49000.0, \"age_adjusted_death_rate\": 731.9}, {\"year\": 2001, \"113_cause_name\": \"All Causes\", \"cause_name\": \"All causes\", \"state\": \"Indiana\", \"deaths\": 55198, \"median_household_income\": 78000.0, \"age_adjusted_death_rate\": 912.7}, {\"year\": 2004, \"113_cause_name\": \"All Causes\", \"cause_name\": \"All causes\", \"state\": \"Idaho\", \"deaths\": 10028, \"median_household_income\": 71400.0, \"age_adjusted_death_rate\": 766.2}, {\"year\": 2009, \"113_cause_name\": \"All Causes\", \"cause_name\": \"All causes\", \"state\": \"Wyoming\", \"deaths\": 4283, \"median_household_income\": 62900.0, \"age_adjusted_death_rate\": 769.6}, {\"year\": 2015, \"113_cause_name\": \"All Causes\", \"cause_name\": \"All causes\", \"state\": \"Iowa\", \"deaths\": 29600, \"median_household_income\": 56600.0, \"age_adjusted_death_rate\": 724.6}, {\"year\": 2016, \"113_cause_name\": \"All Causes\", \"cause_name\": \"All causes\", \"state\": \"South Carolina\", \"deaths\": 48130, \"median_household_income\": 50600.0, \"age_adjusted_death_rate\": 829.8}, {\"year\": 2016, \"113_cause_name\": \"All Causes\", \"cause_name\": \"All causes\", \"state\": \"Kentucky\", \"deaths\": 47827, \"median_household_income\": 47700.0, \"age_adjusted_death_rate\": 938.4}, {\"year\": 2000, \"113_cause_name\": \"All Causes\", \"cause_name\": \"All causes\", \"state\": \"New Jersey\", \"deaths\": 74800, \"median_household_income\": 81400.0, \"age_adjusted_death_rate\": 852.6}, {\"year\": 2008, \"113_cause_name\": \"All Causes\", \"cause_name\": \"All causes\", \"state\": \"Pennsylvania\", \"deaths\": 127462, \"median_household_income\": 50799.99999999999, \"age_adjusted_death_rate\": 799.1}, {\"year\": 2000, \"113_cause_name\": \"All Causes\", \"cause_name\": \"All causes\", \"state\": \"Missouri\", \"deaths\": 54865, \"median_household_income\": 56000.0, \"age_adjusted_death_rate\": 920.8}, {\"year\": 2007, \"113_cause_name\": \"All Causes\", \"cause_name\": \"All causes\", \"state\": \"Wisconsin\", \"deaths\": 46241, \"median_household_income\": 72000.0, \"age_adjusted_death_rate\": 734.2}, {\"year\": 2004, \"113_cause_name\": \"All Causes\", \"cause_name\": \"All causes\", \"state\": \"Arkansas\", \"deaths\": 27528, \"median_household_income\": 44000.0, \"age_adjusted_death_rate\": 927.4}, {\"year\": 2015, \"113_cause_name\": \"All Causes\", \"cause_name\": \"All causes\", \"state\": \"Connecticut\", \"deaths\": 30535, \"median_household_income\": 73800.0, \"age_adjusted_death_rate\": 656.1}, {\"year\": 2002, \"113_cause_name\": \"All Causes\", \"cause_name\": \"All causes\", \"state\": \"Massachusetts\", \"deaths\": 56928, \"median_household_income\": 67600.0, \"age_adjusted_death_rate\": 806.0}, {\"year\": 2000, \"113_cause_name\": \"All Causes\", \"cause_name\": \"All causes\", \"state\": \"Louisiana\", \"deaths\": 41138, \"median_household_income\": 48100.0, \"age_adjusted_death_rate\": 1006.3}, {\"year\": 2005, \"113_cause_name\": \"All Causes\", \"cause_name\": \"All causes\", \"state\": \"Maine\", \"deaths\": 12868, \"median_household_income\": 53900.0, \"age_adjusted_death_rate\": 828.2}, {\"year\": 2015, \"113_cause_name\": \"All Causes\", \"cause_name\": \"All causes\", \"state\": \"Mississippi\", \"deaths\": 31783, \"median_household_income\": 42000.0, \"age_adjusted_death_rate\": 963.7}, {\"year\": 2008, \"113_cause_name\": \"All Causes\", \"cause_name\": \"All causes\", \"state\": \"Wyoming\", \"deaths\": 4227, \"median_household_income\": 60300.0, \"age_adjusted_death_rate\": 778.9}, {\"year\": 2007, \"113_cause_name\": \"All Causes\", \"cause_name\": \"All causes\", \"state\": \"Oregon\", \"deaths\": 31403, \"median_household_income\": 54900.0, \"age_adjusted_death_rate\": 756.0}, {\"year\": 2006, \"113_cause_name\": \"All Causes\", \"cause_name\": \"All causes\", \"state\": \"Kansas\", \"deaths\": 24553, \"median_household_income\": 47200.0, \"age_adjusted_death_rate\": 802.2}, {\"year\": 2003, \"113_cause_name\": \"All Causes\", \"cause_name\": \"All causes\", \"state\": \"Oregon\", \"deaths\": 30912, \"median_household_income\": 53999.99999999999, \"age_adjusted_death_rate\": 816.9}, {\"year\": 2011, \"113_cause_name\": \"All Causes\", \"cause_name\": \"All causes\", \"state\": \"Illinois\", \"deaths\": 101906, \"median_household_income\": 59700.0, \"age_adjusted_death_rate\": 737.4}, {\"year\": 2007, \"113_cause_name\": \"All Causes\", \"cause_name\": \"All causes\", \"state\": \"Virginia\", \"deaths\": 58225, \"median_household_income\": 55700.0, \"age_adjusted_death_rate\": 784.0}, {\"year\": 1999, \"113_cause_name\": \"All Causes\", \"cause_name\": \"All causes\", \"state\": \"South Dakota\", \"deaths\": 6953, \"median_household_income\": 55500.0, \"age_adjusted_death_rate\": 808.4}, {\"year\": 2014, \"113_cause_name\": \"All Causes\", \"cause_name\": \"All causes\", \"state\": \"Wisconsin\", \"deaths\": 50291, \"median_household_income\": 54500.0, \"age_adjusted_death_rate\": 712.1}, {\"year\": 2007, \"113_cause_name\": \"All Causes\", \"cause_name\": \"All causes\", \"state\": \"Arizona\", \"deaths\": 45554, \"median_household_income\": 72000.0, \"age_adjusted_death_rate\": 731.0}, {\"year\": 1999, \"113_cause_name\": \"All Causes\", \"cause_name\": \"All causes\", \"state\": \"Louisiana\", \"deaths\": 41238, \"median_household_income\": 43800.0, \"age_adjusted_death_rate\": 1021.6}, {\"year\": 2004, \"113_cause_name\": \"All Causes\", \"cause_name\": \"All causes\", \"state\": \"Montana\", \"deaths\": 8094, \"median_household_income\": 64700.0, \"age_adjusted_death_rate\": 783.0}, {\"year\": 2003, \"113_cause_name\": \"All Causes\", \"cause_name\": \"All causes\", \"state\": \"Arkansas\", \"deaths\": 27918, \"median_household_income\": 47000.0, \"age_adjusted_death_rate\": 948.2}, {\"year\": 2012, \"113_cause_name\": \"All Causes\", \"cause_name\": \"All causes\", \"state\": \"Colorado\", \"deaths\": 33133, \"median_household_income\": 70400.0, \"age_adjusted_death_rate\": 665.6}, {\"year\": 2013, \"113_cause_name\": \"All Causes\", \"cause_name\": \"All causes\", \"state\": \"New York\", \"deaths\": 150919, \"median_household_income\": 60500.0, \"age_adjusted_death_rate\": 649.3}, {\"year\": 2000, \"113_cause_name\": \"All Causes\", \"cause_name\": \"All causes\", \"state\": \"Florida\", \"deaths\": 164395, \"median_household_income\": 57300.0, \"age_adjusted_death_rate\": 807.8}, {\"year\": 2002, \"113_cause_name\": \"All Causes\", \"cause_name\": \"All causes\", \"state\": \"Hawaii\", \"deaths\": 8801, \"median_household_income\": 73500.0, \"age_adjusted_death_rate\": 673.4}, {\"year\": 2009, \"113_cause_name\": \"All Causes\", \"cause_name\": \"All causes\", \"state\": \"Texas\", \"deaths\": 163249, \"median_household_income\": 54800.00000000001, \"age_adjusted_death_rate\": 772.1}, {\"year\": 2012, \"113_cause_name\": \"All Causes\", \"cause_name\": \"All causes\", \"state\": \"Minnesota\", \"deaths\": 40016, \"median_household_income\": 64000.0, \"age_adjusted_death_rate\": 649.5}, {\"year\": 2008, \"113_cause_name\": \"All Causes\", \"cause_name\": \"All causes\", \"state\": \"District of Columbia\", \"deaths\": 5140, \"median_household_income\": 43200.0, \"age_adjusted_death_rate\": 897.6}, {\"year\": 2000, \"113_cause_name\": \"All Causes\", \"cause_name\": \"All causes\", \"state\": \"Alabama\", \"deaths\": 45062, \"median_household_income\": 50400.0, \"age_adjusted_death_rate\": 1004.8}, {\"year\": 2014, \"113_cause_name\": \"All Causes\", \"cause_name\": \"All causes\", \"state\": \"South Dakota\", \"deaths\": 7507, \"median_household_income\": 52800.0, \"age_adjusted_death_rate\": 710.4}, {\"year\": 2003, \"113_cause_name\": \"All Causes\", \"cause_name\": \"All causes\", \"state\": \"Connecticut\", \"deaths\": 29627, \"median_household_income\": 72000.0, \"age_adjusted_death_rate\": 739.7}, {\"year\": 2012, \"113_cause_name\": \"All Causes\", \"cause_name\": \"All causes\", \"state\": \"Alaska\", \"deaths\": 3912, \"median_household_income\": 61900.0, \"age_adjusted_death_rate\": 731.4}, {\"year\": 2001, \"113_cause_name\": \"All Causes\", \"cause_name\": \"All causes\", \"state\": \"North Dakota\", \"deaths\": 6048, \"median_household_income\": 67500.0, \"age_adjusted_death_rate\": 780.2}, {\"year\": 2015, \"113_cause_name\": \"All Causes\", \"cause_name\": \"All causes\", \"state\": \"Louisiana\", \"deaths\": 43716, \"median_household_income\": 47300.0, \"age_adjusted_death_rate\": 874.2}, {\"year\": 2012, \"113_cause_name\": \"All Causes\", \"cause_name\": \"All causes\", \"state\": \"Kentucky\", \"deaths\": 43664, \"median_household_income\": 48200.0, \"age_adjusted_death_rate\": 916.3}, {\"year\": 2012, \"113_cause_name\": \"All Causes\", \"cause_name\": \"All causes\", \"state\": \"Arizona\", \"deaths\": 49549, \"median_household_income\": 61600.0, \"age_adjusted_death_rate\": 682.9}, {\"year\": 2005, \"113_cause_name\": \"All Causes\", \"cause_name\": \"All causes\", \"state\": \"Oregon\", \"deaths\": 31091, \"median_household_income\": 53999.99999999999, \"age_adjusted_death_rate\": 787.6}, {\"year\": 2014, \"113_cause_name\": \"All Causes\", \"cause_name\": \"All causes\", \"state\": \"Hawaii\", \"deaths\": 10767, \"median_household_income\": 72100.0, \"age_adjusted_death_rate\": 588.7}, {\"year\": 2010, \"113_cause_name\": \"All Causes\", \"cause_name\": \"All causes\", \"state\": \"Montana\", \"deaths\": 8827, \"median_household_income\": 48100.0, \"age_adjusted_death_rate\": 754.7}, {\"year\": 2017, \"113_cause_name\": \"All Causes\", \"cause_name\": \"All causes\", \"state\": \"Illinois\", \"deaths\": 109721, \"median_household_income\": 62999.99999999999, \"age_adjusted_death_rate\": 724.2}, {\"year\": 2008, \"113_cause_name\": \"All Causes\", \"cause_name\": \"All causes\", \"state\": \"Nebraska\", \"deaths\": 15461, \"median_household_income\": 51599.99999999999, \"age_adjusted_death_rate\": 751.3}, {\"year\": 2005, \"113_cause_name\": \"All Causes\", \"cause_name\": \"All causes\", \"state\": \"Washington\", \"deaths\": 46203, \"median_household_income\": 62000.0, \"age_adjusted_death_rate\": 757.6}, {\"year\": 1999, \"113_cause_name\": \"All Causes\", \"cause_name\": \"All causes\", \"state\": \"Virginia\", \"deaths\": 55320, \"median_household_income\": 68900.0, \"age_adjusted_death_rate\": 889.6}, {\"year\": 2005, \"113_cause_name\": \"All Causes\", \"cause_name\": \"All causes\", \"state\": \"South Dakota\", \"deaths\": 7086, \"median_household_income\": 50700.0, \"age_adjusted_death_rate\": 770.7}, {\"year\": 2011, \"113_cause_name\": \"All Causes\", \"cause_name\": \"All causes\", \"state\": \"Utah\", \"deaths\": 15266, \"median_household_income\": 61700.00000000001, \"age_adjusted_death_rate\": 699.1}, {\"year\": 2016, \"113_cause_name\": \"All Causes\", \"cause_name\": \"All causes\", \"state\": \"Alaska\", \"deaths\": 4494, \"median_household_income\": 78100.0, \"age_adjusted_death_rate\": 745.6}, {\"year\": 2005, \"113_cause_name\": \"All Causes\", \"cause_name\": \"All causes\", \"state\": \"Florida\", \"deaths\": 170791, \"median_household_income\": 53400.0, \"age_adjusted_death_rate\": 761.9}, {\"year\": 2012, \"113_cause_name\": \"All Causes\", \"cause_name\": \"All causes\", \"state\": \"Michigan\", \"deaths\": 89901, \"median_household_income\": 48400.0, \"age_adjusted_death_rate\": 774.2}, {\"year\": 2014, \"113_cause_name\": \"All Causes\", \"cause_name\": \"All causes\", \"state\": \"Indiana\", \"deaths\": 60940, \"median_household_income\": 51200.0, \"age_adjusted_death_rate\": 822.3}, {\"year\": 2008, \"113_cause_name\": \"All Causes\", \"cause_name\": \"All causes\", \"state\": \"Utah\", \"deaths\": 14040, \"median_household_income\": 61700.00000000001, \"age_adjusted_death_rate\": 703.8}, {\"year\": 2006, \"113_cause_name\": \"All Causes\", \"cause_name\": \"All causes\", \"state\": \"Washington\", \"deaths\": 46120, \"median_household_income\": 72000.0, \"age_adjusted_death_rate\": 731.2}, {\"year\": 2011, \"113_cause_name\": \"All Causes\", \"cause_name\": \"All causes\", \"state\": \"Indiana\", \"deaths\": 58202, \"median_household_income\": 50300.00000000001, \"age_adjusted_death_rate\": 825.1}, {\"year\": 2007, \"113_cause_name\": \"All Causes\", \"cause_name\": \"All causes\", \"state\": \"West Virginia\", \"deaths\": 21086, \"median_household_income\": 47000.0, \"age_adjusted_death_rate\": 954.2}, {\"year\": 2000, \"113_cause_name\": \"All Causes\", \"cause_name\": \"All causes\", \"state\": \"Texas\", \"deaths\": 149939, \"median_household_income\": 58900.0, \"age_adjusted_death_rate\": 891.0}, {\"year\": 2015, \"113_cause_name\": \"All Causes\", \"cause_name\": \"All causes\", \"state\": \"North Dakota\", \"deaths\": 6223, \"median_household_income\": 62700.0, \"age_adjusted_death_rate\": 696.8}, {\"year\": 2001, \"113_cause_name\": \"All Causes\", \"cause_name\": \"All causes\", \"state\": \"South Dakota\", \"deaths\": 6923, \"median_household_income\": 67500.0, \"age_adjusted_death_rate\": 790.0}, {\"year\": 2005, \"113_cause_name\": \"All Causes\", \"cause_name\": \"All causes\", \"state\": \"Ohio\", \"deaths\": 109031, \"median_household_income\": 54700.0, \"age_adjusted_death_rate\": 879.1}, {\"year\": 2009, \"113_cause_name\": \"All Causes\", \"cause_name\": \"All causes\", \"state\": \"Virginia\", \"deaths\": 58653, \"median_household_income\": 68400.0, \"age_adjusted_death_rate\": 750.8}, {\"year\": 2005, \"113_cause_name\": \"All Causes\", \"cause_name\": \"All causes\", \"state\": \"New Jersey\", \"deaths\": 71963, \"median_household_income\": 77600.0, \"age_adjusted_death_rate\": 772.4}, {\"year\": 2011, \"113_cause_name\": \"All Causes\", \"cause_name\": \"All causes\", \"state\": \"Missouri\", \"deaths\": 55848, \"median_household_income\": 49900.0, \"age_adjusted_death_rate\": 812.0}, {\"year\": 2008, \"113_cause_name\": \"All Causes\", \"cause_name\": \"All causes\", \"state\": \"Tennessee\", \"deaths\": 58820, \"median_household_income\": 45100.0, \"age_adjusted_death_rate\": 913.4}, {\"year\": 2003, \"113_cause_name\": \"All Causes\", \"cause_name\": \"All causes\", \"state\": \"Rhode Island\", \"deaths\": 10039, \"median_household_income\": 47200.0, \"age_adjusted_death_rate\": 798.7}, {\"year\": 2003, \"113_cause_name\": \"All Causes\", \"cause_name\": \"All causes\", \"state\": \"Kentucky\", \"deaths\": 40241, \"median_household_income\": 46600.00000000001, \"age_adjusted_death_rate\": 986.4}, {\"year\": 2015, \"113_cause_name\": \"All Causes\", \"cause_name\": \"All causes\", \"state\": \"Idaho\", \"deaths\": 13026, \"median_household_income\": 49900.0, \"age_adjusted_death_rate\": 727.8}, {\"year\": 2014, \"113_cause_name\": \"All Causes\", \"cause_name\": \"All causes\", \"state\": \"Idaho\", \"deaths\": 12613, \"median_household_income\": 49600.0, \"age_adjusted_death_rate\": 723.8}, {\"year\": 2015, \"113_cause_name\": \"All Causes\", \"cause_name\": \"All causes\", \"state\": \"Indiana\", \"deaths\": 62713, \"median_household_income\": 52300.0, \"age_adjusted_death_rate\": 833.9}, {\"year\": 2016, \"113_cause_name\": \"All Causes\", \"cause_name\": \"All causes\", \"state\": \"Virginia\", \"deaths\": 66473, \"median_household_income\": 69600.0, \"age_adjusted_death_rate\": 715.5}, {\"year\": 1999, \"113_cause_name\": \"All Causes\", \"cause_name\": \"All causes\", \"state\": \"Massachusetts\", \"deaths\": 55840, \"median_household_income\": 74500.0, \"age_adjusted_death_rate\": 814.1}, {\"year\": 2014, \"113_cause_name\": \"All Causes\", \"cause_name\": \"All causes\", \"state\": \"Arkansas\", \"deaths\": 30467, \"median_household_income\": 42800.0, \"age_adjusted_death_rate\": 883.7}, {\"year\": 2013, \"113_cause_name\": \"All Causes\", \"cause_name\": \"All causes\", \"state\": \"Rhode Island\", \"deaths\": 9792, \"median_household_income\": 58900.0, \"age_adjusted_death_rate\": 709.6}, {\"year\": 2000, \"113_cause_name\": \"All Causes\", \"cause_name\": \"All causes\", \"state\": \"Colorado\", \"deaths\": 27288, \"median_household_income\": 69700.0, \"age_adjusted_death_rate\": 792.1}, {\"year\": 2004, \"113_cause_name\": \"All Causes\", \"cause_name\": \"All causes\", \"state\": \"Wisconsin\", \"deaths\": 45600, \"median_household_income\": 62000.0, \"age_adjusted_death_rate\": 760.0}, {\"year\": 2000, \"113_cause_name\": \"All Causes\", \"cause_name\": \"All causes\", \"state\": \"Wisconsin\", \"deaths\": 46461, \"median_household_income\": 64599.99999999999, \"age_adjusted_death_rate\": 820.1}, {\"year\": 2015, \"113_cause_name\": \"All Causes\", \"cause_name\": \"All causes\", \"state\": \"Vermont\", \"deaths\": 5919, \"median_household_income\": 59000.0, \"age_adjusted_death_rate\": 714.7}, {\"year\": 2000, \"113_cause_name\": \"All Causes\", \"cause_name\": \"All causes\", \"state\": \"Arizona\", \"deaths\": 40500, \"median_household_income\": 59900.0, \"age_adjusted_death_rate\": 810.4}, {\"year\": 2010, \"113_cause_name\": \"All Causes\", \"cause_name\": \"All causes\", \"state\": \"Alaska\", \"deaths\": 3728, \"median_household_income\": 72800.0, \"age_adjusted_death_rate\": 771.5}, {\"year\": 2007, \"113_cause_name\": \"All Causes\", \"cause_name\": \"All causes\", \"state\": \"Maryland\", \"deaths\": 43757, \"median_household_income\": 55700.0, \"age_adjusted_death_rate\": 784.0}, {\"year\": 2016, \"113_cause_name\": \"All Causes\", \"cause_name\": \"All causes\", \"state\": \"Nebraska\", \"deaths\": 16217, \"median_household_income\": 58200.0, \"age_adjusted_death_rate\": 707.0}, {\"year\": 2010, \"113_cause_name\": \"All Causes\", \"cause_name\": \"All causes\", \"state\": \"Mississippi\", \"deaths\": 28965, \"median_household_income\": 41500.0, \"age_adjusted_death_rate\": 962.0}, {\"year\": 2010, \"113_cause_name\": \"All Causes\", \"cause_name\": \"All causes\", \"state\": \"Tennessee\", \"deaths\": 59578, \"median_household_income\": 46700.0, \"age_adjusted_death_rate\": 890.8}, {\"year\": 1999, \"113_cause_name\": \"All Causes\", \"cause_name\": \"All causes\", \"state\": \"West Virginia\", \"deaths\": 21049, \"median_household_income\": 43800.0, \"age_adjusted_death_rate\": 1012.3}, {\"year\": 2006, \"113_cause_name\": \"All Causes\", \"cause_name\": \"All causes\", \"state\": \"Vermont\", \"deaths\": 5048, \"median_household_income\": 51599.99999999999, \"age_adjusted_death_rate\": 728.0}, {\"year\": 2002, \"113_cause_name\": \"All Causes\", \"cause_name\": \"All causes\", \"state\": \"Delaware\", \"deaths\": 6861, \"median_household_income\": 55900.0, \"age_adjusted_death_rate\": 849.3}, {\"year\": 2009, \"113_cause_name\": \"All Causes\", \"cause_name\": \"All causes\", \"state\": \"Kansas\", \"deaths\": 24024, \"median_household_income\": 54400.0, \"age_adjusted_death_rate\": 757.8}, {\"year\": 2010, \"113_cause_name\": \"All Causes\", \"cause_name\": \"All causes\", \"state\": \"Kentucky\", \"deaths\": 41983, \"median_household_income\": 45100.0, \"age_adjusted_death_rate\": 915.0}, {\"year\": 2016, \"113_cause_name\": \"All Causes\", \"cause_name\": \"All causes\", \"state\": \"Iowa\", \"deaths\": 29538, \"median_household_income\": 57500.0, \"age_adjusted_death_rate\": 721.1}, {\"year\": 2008, \"113_cause_name\": \"All Causes\", \"cause_name\": \"All causes\", \"state\": \"Connecticut\", \"deaths\": 28794, \"median_household_income\": 69900.0, \"age_adjusted_death_rate\": 671.9}, {\"year\": 2013, \"113_cause_name\": \"All Causes\", \"cause_name\": \"All causes\", \"state\": \"Michigan\", \"deaths\": 92408, \"median_household_income\": 50900.0, \"age_adjusted_death_rate\": 782.3}, {\"year\": 2016, \"113_cause_name\": \"All Causes\", \"cause_name\": \"All causes\", \"state\": \"Oregon\", \"deaths\": 35778, \"median_household_income\": 58800.00000000001, \"age_adjusted_death_rate\": 705.9}, {\"year\": 2008, \"113_cause_name\": \"All Causes\", \"cause_name\": \"All causes\", \"state\": \"Vermont\", \"deaths\": 5211, \"median_household_income\": 58900.0, \"age_adjusted_death_rate\": 722.5}, {\"year\": 2008, \"113_cause_name\": \"All Causes\", \"cause_name\": \"All causes\", \"state\": \"Mississippi\", \"deaths\": 28984, \"median_household_income\": 41500.0, \"age_adjusted_death_rate\": 982.8}, {\"year\": 2000, \"113_cause_name\": \"All Causes\", \"cause_name\": \"All causes\", \"state\": \"Montana\", \"deaths\": 8096, \"median_household_income\": 48700.00000000001, \"age_adjusted_death_rate\": 843.3}, {\"year\": 2006, \"113_cause_name\": \"All Causes\", \"cause_name\": \"All causes\", \"state\": \"Maryland\", \"deaths\": 43582, \"median_household_income\": 55700.0, \"age_adjusted_death_rate\": 795.9}, {\"year\": 2009, \"113_cause_name\": \"All Causes\", \"cause_name\": \"All causes\", \"state\": \"Pennsylvania\", \"deaths\": 124780, \"median_household_income\": 55500.0, \"age_adjusted_death_rate\": 775.3}, {\"year\": 2013, \"113_cause_name\": \"All Causes\", \"cause_name\": \"All causes\", \"state\": \"District of Columbia\", \"deaths\": 4719, \"median_household_income\": 71200.0, \"age_adjusted_death_rate\": 752.0}, {\"year\": 2013, \"113_cause_name\": \"All Causes\", \"cause_name\": \"All causes\", \"state\": \"Massachusetts\", \"deaths\": 54567, \"median_household_income\": 70400.0, \"age_adjusted_death_rate\": 663.5}, {\"year\": 2007, \"113_cause_name\": \"All Causes\", \"cause_name\": \"All causes\", \"state\": \"Connecticut\", \"deaths\": 28651, \"median_household_income\": 65500.0, \"age_adjusted_death_rate\": 680.5}, {\"year\": 2011, \"113_cause_name\": \"All Causes\", \"cause_name\": \"All causes\", \"state\": \"Florida\", \"deaths\": 173976, \"median_household_income\": 61000.0, \"age_adjusted_death_rate\": 677.1}, {\"year\": 2012, \"113_cause_name\": \"All Causes\", \"cause_name\": \"All causes\", \"state\": \"West Virginia\", \"deaths\": 21915, \"median_household_income\": 43500.0, \"age_adjusted_death_rate\": 939.3}, {\"year\": 2014, \"113_cause_name\": \"All Causes\", \"cause_name\": \"All causes\", \"state\": \"Maine\", \"deaths\": 13510, \"median_household_income\": 51300.0, \"age_adjusted_death_rate\": 739.0}, {\"year\": 2009, \"113_cause_name\": \"All Causes\", \"cause_name\": \"All causes\", \"state\": \"South Dakota\", \"deaths\": 6923, \"median_household_income\": 54800.00000000001, \"age_adjusted_death_rate\": 706.2}, {\"year\": 2017, \"113_cause_name\": \"All Causes\", \"cause_name\": \"All causes\", \"state\": \"Michigan\", \"deaths\": 97602, \"median_household_income\": 54900.0, \"age_adjusted_death_rate\": 783.5}, {\"year\": 2013, \"113_cause_name\": \"All Causes\", \"cause_name\": \"All causes\", \"state\": \"Arkansas\", \"deaths\": 30437, \"median_household_income\": 42700.0, \"age_adjusted_death_rate\": 893.8}, {\"year\": 2012, \"113_cause_name\": \"All Causes\", \"cause_name\": \"All causes\", \"state\": \"Missouri\", \"deaths\": 56094, \"median_household_income\": 49500.00000000001, \"age_adjusted_death_rate\": 803.0}, {\"year\": 2014, \"113_cause_name\": \"All Causes\", \"cause_name\": \"All causes\", \"state\": \"New Mexico\", \"deaths\": 17579, \"median_household_income\": 46400.0, \"age_adjusted_death_rate\": 749.6}, {\"year\": 2002, \"113_cause_name\": \"All Causes\", \"cause_name\": \"All causes\", \"state\": \"Tennessee\", \"deaths\": 56606, \"median_household_income\": 53700.0, \"age_adjusted_death_rate\": 995.3}, {\"year\": 2006, \"113_cause_name\": \"All Causes\", \"cause_name\": \"All causes\", \"state\": \"Alaska\", \"deaths\": 3354, \"median_household_income\": 64700.0, \"age_adjusted_death_rate\": 787.6}, {\"year\": 2002, \"113_cause_name\": \"All Causes\", \"cause_name\": \"All causes\", \"state\": \"Idaho\", \"deaths\": 9923, \"median_household_income\": 57900.0, \"age_adjusted_death_rate\": 798.8}, {\"year\": 2015, \"113_cause_name\": \"All Causes\", \"cause_name\": \"All causes\", \"state\": \"Pennsylvania\", \"deaths\": 132598, \"median_household_income\": 57600.0, \"age_adjusted_death_rate\": 768.3}, {\"year\": 2015, \"113_cause_name\": \"All Causes\", \"cause_name\": \"All causes\", \"state\": \"Nevada\", \"deaths\": 22879, \"median_household_income\": 54200.0, \"age_adjusted_death_rate\": 757.2}, {\"year\": 2012, \"113_cause_name\": \"All Causes\", \"cause_name\": \"All causes\", \"state\": \"Wisconsin\", \"deaths\": 48384, \"median_household_income\": 76400.0, \"age_adjusted_death_rate\": 707.8}, {\"year\": 2007, \"113_cause_name\": \"All Causes\", \"cause_name\": \"All causes\", \"state\": \"Ohio\", \"deaths\": 106534, \"median_household_income\": 57900.0, \"age_adjusted_death_rate\": 831.1}, {\"year\": 2016, \"113_cause_name\": \"All Causes\", \"cause_name\": \"All causes\", \"state\": \"New York\", \"deaths\": 154358, \"median_household_income\": 64300.0, \"age_adjusted_death_rate\": 640.7}, {\"year\": 2005, \"113_cause_name\": \"All Causes\", \"cause_name\": \"All causes\", \"state\": \"West Virginia\", \"deaths\": 20780, \"median_household_income\": 42100.0, \"age_adjusted_death_rate\": 965.1}, {\"year\": 2008, \"113_cause_name\": \"All Causes\", \"cause_name\": \"All causes\", \"state\": \"Massachusetts\", \"deaths\": 53518, \"median_household_income\": 55200.0, \"age_adjusted_death_rate\": 706.1}, {\"year\": 2004, \"113_cause_name\": \"All Causes\", \"cause_name\": \"All causes\", \"state\": \"Minnesota\", \"deaths\": 37034, \"median_household_income\": 65500.0, \"age_adjusted_death_rate\": 699.7}, {\"year\": 2001, \"113_cause_name\": \"All Causes\", \"cause_name\": \"All causes\", \"state\": \"Virginia\", \"deaths\": 56280, \"median_household_income\": 81400.0, \"age_adjusted_death_rate\": 869.9}, {\"year\": 1999, \"113_cause_name\": \"All Causes\", \"cause_name\": \"All causes\", \"state\": \"Pennsylvania\", \"deaths\": 130283, \"median_household_income\": 59200.0, \"age_adjusted_death_rate\": 896.4}, {\"year\": 2009, \"113_cause_name\": \"All Causes\", \"cause_name\": \"All causes\", \"state\": \"Connecticut\", \"deaths\": 28585, \"median_household_income\": 62500.00000000001, \"age_adjusted_death_rate\": 659.3}, {\"year\": 2006, \"113_cause_name\": \"All Causes\", \"cause_name\": \"All causes\", \"state\": \"Delaware\", \"deaths\": 7204, \"median_household_income\": 47200.0, \"age_adjusted_death_rate\": 795.7}, {\"year\": 2010, \"113_cause_name\": \"All Causes\", \"cause_name\": \"All causes\", \"state\": \"South Carolina\", \"deaths\": 41614, \"median_household_income\": 47300.0, \"age_adjusted_death_rate\": 854.8}, {\"year\": 2006, \"113_cause_name\": \"All Causes\", \"cause_name\": \"All causes\", \"state\": \"West Virginia\", \"deaths\": 20672, \"median_household_income\": 47000.0, \"age_adjusted_death_rate\": 947.5}, {\"year\": 2002, \"113_cause_name\": \"All Causes\", \"cause_name\": \"All causes\", \"state\": \"Kansas\", \"deaths\": 25021, \"median_household_income\": 60000.0, \"age_adjusted_death_rate\": 851.3}, {\"year\": 2004, \"113_cause_name\": \"All Causes\", \"cause_name\": \"All causes\", \"state\": \"Hawaii\", \"deaths\": 9030, \"median_household_income\": 73100.0, \"age_adjusted_death_rate\": 652.9}, {\"year\": 2015, \"113_cause_name\": \"All Causes\", \"cause_name\": \"All causes\", \"state\": \"Ohio\", \"deaths\": 118188, \"median_household_income\": 52800.0, \"age_adjusted_death_rate\": 828.4}, {\"year\": 2001, \"113_cause_name\": \"All Causes\", \"cause_name\": \"All causes\", \"state\": \"Utah\", \"deaths\": 12662, \"median_household_income\": 67500.0, \"age_adjusted_death_rate\": 785.2}, {\"year\": 2007, \"113_cause_name\": \"All Causes\", \"cause_name\": \"All causes\", \"state\": \"South Carolina\", \"deaths\": 39439, \"median_household_income\": 52800.0, \"age_adjusted_death_rate\": 873.9}, {\"year\": 2000, \"113_cause_name\": \"All Causes\", \"cause_name\": \"All causes\", \"state\": \"Massachusetts\", \"deaths\": 56681, \"median_household_income\": 74500.0, \"age_adjusted_death_rate\": 817.9}, {\"year\": 2003, \"113_cause_name\": \"All Causes\", \"cause_name\": \"All causes\", \"state\": \"North Dakota\", \"deaths\": 6090, \"median_household_income\": 64700.0, \"age_adjusted_death_rate\": 776.1}, {\"year\": 2007, \"113_cause_name\": \"All Causes\", \"cause_name\": \"All causes\", \"state\": \"North Carolina\", \"deaths\": 76046, \"median_household_income\": 57900.0, \"age_adjusted_death_rate\": 838.5}, {\"year\": 2009, \"113_cause_name\": \"All Causes\", \"cause_name\": \"All causes\", \"state\": \"Minnesota\", \"deaths\": 37851, \"median_household_income\": 72100.0, \"age_adjusted_death_rate\": 652.1}, {\"year\": 2017, \"113_cause_name\": \"All Causes\", \"cause_name\": \"All causes\", \"state\": \"Oregon\", \"deaths\": 36624, \"median_household_income\": 60200.0, \"age_adjusted_death_rate\": 717.2}, {\"year\": 2012, \"113_cause_name\": \"All Causes\", \"cause_name\": \"All causes\", \"state\": \"Massachusetts\", \"deaths\": 53177, \"median_household_income\": 70400.0, \"age_adjusted_death_rate\": 657.9}, {\"year\": 2006, \"113_cause_name\": \"All Causes\", \"cause_name\": \"All causes\", \"state\": \"California\", \"deaths\": 237126, \"median_household_income\": 67500.0, \"age_adjusted_death_rate\": 718.2}, {\"year\": 2012, \"113_cause_name\": \"All Causes\", \"cause_name\": \"All causes\", \"state\": \"Florida\", \"deaths\": 177291, \"median_household_income\": 48500.0, \"age_adjusted_death_rate\": 669.9}, {\"year\": 1999, \"113_cause_name\": \"All Causes\", \"cause_name\": \"All causes\", \"state\": \"Kentucky\", \"deaths\": 39321, \"median_household_income\": 48100.0, \"age_adjusted_death_rate\": 1004.1}, {\"year\": 2004, \"113_cause_name\": \"All Causes\", \"cause_name\": \"All causes\", \"state\": \"Missouri\", \"deaths\": 53950, \"median_household_income\": 52800.0, \"age_adjusted_death_rate\": 872.7}, {\"year\": 2003, \"113_cause_name\": \"All Causes\", \"cause_name\": \"All causes\", \"state\": \"Kansas\", \"deaths\": 24593, \"median_household_income\": 53900.0, \"age_adjusted_death_rate\": 829.5}, {\"year\": 2002, \"113_cause_name\": \"All Causes\", \"cause_name\": \"All causes\", \"state\": \"New York\", \"deaths\": 158118, \"median_household_income\": 57300.0, \"age_adjusted_death_rate\": 791.4}, {\"year\": 2016, \"113_cause_name\": \"All Causes\", \"cause_name\": \"All causes\", \"state\": \"Arizona\", \"deaths\": 56645, \"median_household_income\": 54700.0, \"age_adjusted_death_rate\": 675.8}, {\"year\": 2000, \"113_cause_name\": \"All Causes\", \"cause_name\": \"All causes\", \"state\": \"Iowa\", \"deaths\": 28060, \"median_household_income\": 58300.0, \"age_adjusted_death_rate\": 794.7}, {\"year\": 2002, \"113_cause_name\": \"All Causes\", \"cause_name\": \"All causes\", \"state\": \"California\", \"deaths\": 234565, \"median_household_income\": 70100.0, \"age_adjusted_death_rate\": 770.0}, {\"year\": 1999, \"113_cause_name\": \"All Causes\", \"cause_name\": \"All causes\", \"state\": \"Connecticut\", \"deaths\": 29446, \"median_household_income\": 67500.0, \"age_adjusted_death_rate\": 783.2}, {\"year\": 2007, \"113_cause_name\": \"All Causes\", \"cause_name\": \"All causes\", \"state\": \"Maine\", \"deaths\": 12493, \"median_household_income\": 50700.0, \"age_adjusted_death_rate\": 771.6}, {\"year\": 2010, \"113_cause_name\": \"All Causes\", \"cause_name\": \"All causes\", \"state\": \"District of Columbia\", \"deaths\": 4672, \"median_household_income\": 68600.0, \"age_adjusted_death_rate\": 792.4}, {\"year\": 2005, \"113_cause_name\": \"All Causes\", \"cause_name\": \"All causes\", \"state\": \"Colorado\", \"deaths\": 29627, \"median_household_income\": 63700.0, \"age_adjusted_death_rate\": 752.1}, {\"year\": 2002, \"113_cause_name\": \"All Causes\", \"cause_name\": \"All causes\", \"state\": \"Utah\", \"deaths\": 13116, \"median_household_income\": 57900.0, \"age_adjusted_death_rate\": 794.0}, {\"year\": 2003, \"113_cause_name\": \"All Causes\", \"cause_name\": \"All causes\", \"state\": \"Iowa\", \"deaths\": 28062, \"median_household_income\": 52100.0, \"age_adjusted_death_rate\": 776.2}, {\"year\": 2005, \"113_cause_name\": \"All Causes\", \"cause_name\": \"All causes\", \"state\": \"Tennessee\", \"deaths\": 57260, \"median_household_income\": 48900.0, \"age_adjusted_death_rate\": 956.6}, {\"year\": 2014, \"113_cause_name\": \"All Causes\", \"cause_name\": \"All causes\", \"state\": \"Oklahoma\", \"deaths\": 38464, \"median_household_income\": 49300.0, \"age_adjusted_death_rate\": 897.5}, {\"year\": 1999, \"113_cause_name\": \"All Causes\", \"cause_name\": \"All causes\", \"state\": \"Colorado\", \"deaths\": 27114, \"median_household_income\": 67600.0, \"age_adjusted_death_rate\": 801.8}, {\"year\": 2009, \"113_cause_name\": \"All Causes\", \"cause_name\": \"All causes\", \"state\": \"Iowa\", \"deaths\": 27544, \"median_household_income\": 53999.99999999999, \"age_adjusted_death_rate\": 723.0}, {\"year\": 2014, \"113_cause_name\": \"All Causes\", \"cause_name\": \"All causes\", \"state\": \"New Hampshire\", \"deaths\": 11516, \"median_household_income\": 69000.0, \"age_adjusted_death_rate\": 706.2}, {\"year\": 2003, \"113_cause_name\": \"All Causes\", \"cause_name\": \"All causes\", \"state\": \"Massachusetts\", \"deaths\": 56291, \"median_household_income\": 55700.0, \"age_adjusted_death_rate\": 788.7}, {\"year\": 2008, \"113_cause_name\": \"All Causes\", \"cause_name\": \"All causes\", \"state\": \"Minnesota\", \"deaths\": 38499, \"median_household_income\": 69900.0, \"age_adjusted_death_rate\": 674.0}, {\"year\": 2000, \"113_cause_name\": \"All Causes\", \"cause_name\": \"All causes\", \"state\": \"Minnesota\", \"deaths\": 37690, \"median_household_income\": 69500.0, \"age_adjusted_death_rate\": 760.7}, {\"year\": 2002, \"113_cause_name\": \"All Causes\", \"cause_name\": \"All causes\", \"state\": \"Oklahoma\", \"deaths\": 35502, \"median_household_income\": 49300.0, \"age_adjusted_death_rate\": 986.4}, {\"year\": 2017, \"113_cause_name\": \"All Causes\", \"cause_name\": \"All causes\", \"state\": \"Louisiana\", \"deaths\": 45804, \"median_household_income\": 46100.0, \"age_adjusted_death_rate\": 881.1}, {\"year\": 2012, \"113_cause_name\": \"All Causes\", \"cause_name\": \"All causes\", \"state\": \"Texas\", \"deaths\": 174187, \"median_household_income\": 54500.0, \"age_adjusted_death_rate\": 753.3}, {\"year\": 2015, \"113_cause_name\": \"All Causes\", \"cause_name\": \"All causes\", \"state\": \"Oregon\", \"deaths\": 35705, \"median_household_income\": 56000.0, \"age_adjusted_death_rate\": 722.3}, {\"year\": 2003, \"113_cause_name\": \"All Causes\", \"cause_name\": \"All causes\", \"state\": \"Minnesota\", \"deaths\": 37620, \"median_household_income\": 76700.0, \"age_adjusted_death_rate\": 720.9}, {\"year\": 2000, \"113_cause_name\": \"All Causes\", \"cause_name\": \"All causes\", \"state\": \"North Dakota\", \"deaths\": 5856, \"median_household_income\": 51100.00000000001, \"age_adjusted_death_rate\": 761.8}, {\"year\": 2003, \"113_cause_name\": \"All Causes\", \"cause_name\": \"All causes\", \"state\": \"Mississippi\", \"deaths\": 28489, \"median_household_income\": 41400.0, \"age_adjusted_death_rate\": 1031.6}, {\"year\": 1999, \"113_cause_name\": \"All Causes\", \"cause_name\": \"All causes\", \"state\": \"New Jersey\", \"deaths\": 73981, \"median_household_income\": 81400.0, \"age_adjusted_death_rate\": 853.7}, {\"year\": 2003, \"113_cause_name\": \"All Causes\", \"cause_name\": \"All causes\", \"state\": \"Colorado\", \"deaths\": 29506, \"median_household_income\": 53999.99999999999, \"age_adjusted_death_rate\": 792.0}, {\"year\": 2010, \"113_cause_name\": \"All Causes\", \"cause_name\": \"All causes\", \"state\": \"Utah\", \"deaths\": 14776, \"median_household_income\": 61700.00000000001, \"age_adjusted_death_rate\": 703.2}, {\"year\": 2001, \"113_cause_name\": \"All Causes\", \"cause_name\": \"All causes\", \"state\": \"New York\", \"deaths\": 159240, \"median_household_income\": 57300.0, \"age_adjusted_death_rate\": 806.6}, {\"year\": 2016, \"113_cause_name\": \"All Causes\", \"cause_name\": \"All causes\", \"state\": \"Hawaii\", \"deaths\": 10913, \"median_household_income\": 76100.0, \"age_adjusted_death_rate\": 572.0}, {\"year\": 2001, \"113_cause_name\": \"All Causes\", \"cause_name\": \"All causes\", \"state\": \"Connecticut\", \"deaths\": 29827, \"median_household_income\": 69500.0, \"age_adjusted_death_rate\": 772.1}, {\"year\": 2002, \"113_cause_name\": \"All Causes\", \"cause_name\": \"All causes\", \"state\": \"Rhode Island\", \"deaths\": 10246, \"median_household_income\": 62100.0, \"age_adjusted_death_rate\": 823.0}, {\"year\": 2009, \"113_cause_name\": \"All Causes\", \"cause_name\": \"All causes\", \"state\": \"Indiana\", \"deaths\": 55973, \"median_household_income\": 50300.00000000001, \"age_adjusted_death_rate\": 820.6}, {\"year\": 2006, \"113_cause_name\": \"All Causes\", \"cause_name\": \"All causes\", \"state\": \"Arkansas\", \"deaths\": 27901, \"median_household_income\": 61900.0, \"age_adjusted_death_rate\": 909.5}, {\"year\": 2006, \"113_cause_name\": \"All Causes\", \"cause_name\": \"All causes\", \"state\": \"South Dakota\", \"deaths\": 7084, \"median_household_income\": 57500.0, \"age_adjusted_death_rate\": 752.5}, {\"year\": 2005, \"113_cause_name\": \"All Causes\", \"cause_name\": \"All causes\", \"state\": \"Pennsylvania\", \"deaths\": 129532, \"median_household_income\": 56000.0, \"age_adjusted_death_rate\": 844.4}, {\"year\": 2008, \"113_cause_name\": \"All Causes\", \"cause_name\": \"All causes\", \"state\": \"South Carolina\", \"deaths\": 40289, \"median_household_income\": 47300.0, \"age_adjusted_death_rate\": 867.0}, {\"year\": 2013, \"113_cause_name\": \"All Causes\", \"cause_name\": \"All causes\", \"state\": \"Utah\", \"deaths\": 16366, \"median_household_income\": 62999.99999999999, \"age_adjusted_death_rate\": 710.4}, {\"year\": 2010, \"113_cause_name\": \"All Causes\", \"cause_name\": \"All causes\", \"state\": \"Virginia\", \"deaths\": 59032, \"median_household_income\": 68400.0, \"age_adjusted_death_rate\": 741.6}, {\"year\": 2003, \"113_cause_name\": \"All Causes\", \"cause_name\": \"All causes\", \"state\": \"Nevada\", \"deaths\": 17858, \"median_household_income\": 44000.0, \"age_adjusted_death_rate\": 927.3}, {\"year\": 2005, \"113_cause_name\": \"All Causes\", \"cause_name\": \"All causes\", \"state\": \"Oklahoma\", \"deaths\": 36180, \"median_household_income\": 46600.00000000001, \"age_adjusted_death_rate\": 981.4}, {\"year\": 2003, \"113_cause_name\": \"All Causes\", \"cause_name\": \"All causes\", \"state\": \"Missouri\", \"deaths\": 55582, \"median_household_income\": 57400.0, \"age_adjusted_death_rate\": 907.0}, {\"year\": 2011, \"113_cause_name\": \"All Causes\", \"cause_name\": \"All causes\", \"state\": \"Kansas\", \"deaths\": 25116, \"median_household_income\": 54400.0, \"age_adjusted_death_rate\": 767.2}, {\"year\": 2006, \"113_cause_name\": \"All Causes\", \"cause_name\": \"All causes\", \"state\": \"United States\", \"deaths\": 2426264, \"median_household_income\": 58200.0, \"age_adjusted_death_rate\": 791.8}, {\"year\": 2011, \"113_cause_name\": \"All Causes\", \"cause_name\": \"All causes\", \"state\": \"Wisconsin\", \"deaths\": 48410, \"median_household_income\": 55200.0, \"age_adjusted_death_rate\": 721.1}, {\"year\": 2016, \"113_cause_name\": \"All Causes\", \"cause_name\": \"All causes\", \"state\": \"Missouri\", \"deaths\": 59873, \"median_household_income\": 52900.0, \"age_adjusted_death_rate\": 808.2}, {\"year\": 2011, \"113_cause_name\": \"All Causes\", \"cause_name\": \"All causes\", \"state\": \"New York\", \"deaths\": 149174, \"median_household_income\": 61000.0, \"age_adjusted_death_rate\": 665.4}, {\"year\": 2017, \"113_cause_name\": \"All Causes\", \"cause_name\": \"All causes\", \"state\": \"Indiana\", \"deaths\": 65597, \"median_household_income\": 54200.0, \"age_adjusted_death_rate\": 848.6}, {\"year\": 2002, \"113_cause_name\": \"All Causes\", \"cause_name\": \"All causes\", \"state\": \"Georgia\", \"deaths\": 65449, \"median_household_income\": 57800.0, \"age_adjusted_death_rate\": 961.6}, {\"year\": 2011, \"113_cause_name\": \"All Causes\", \"cause_name\": \"All causes\", \"state\": \"Iowa\", \"deaths\": 28184, \"median_household_income\": 53999.99999999999, \"age_adjusted_death_rate\": 722.7}, {\"year\": 2001, \"113_cause_name\": \"All Causes\", \"cause_name\": \"All causes\", \"state\": \"Vermont\", \"deaths\": 5201, \"median_household_income\": 60300.0, \"age_adjusted_death_rate\": 819.6}, {\"year\": 2003, \"113_cause_name\": \"All Causes\", \"cause_name\": \"All causes\", \"state\": \"Tennessee\", \"deaths\": 57313, \"median_household_income\": 46400.0, \"age_adjusted_death_rate\": 994.0}, {\"year\": 2000, \"113_cause_name\": \"All Causes\", \"cause_name\": \"All causes\", \"state\": \"Georgia\", \"deaths\": 63870, \"median_household_income\": 62600.0, \"age_adjusted_death_rate\": 981.0}, {\"year\": 2005, \"113_cause_name\": \"All Causes\", \"cause_name\": \"All causes\", \"state\": \"Mississippi\", \"deaths\": 29196, \"median_household_income\": 41400.0, \"age_adjusted_death_rate\": 1028.7}, {\"year\": 2004, \"113_cause_name\": \"All Causes\", \"cause_name\": \"All causes\", \"state\": \"Louisiana\", \"deaths\": 42215, \"median_household_income\": 46600.00000000001, \"age_adjusted_death_rate\": 989.4}, {\"year\": 2004, \"113_cause_name\": \"All Causes\", \"cause_name\": \"All causes\", \"state\": \"South Dakota\", \"deaths\": 6833, \"median_household_income\": 57500.0, \"age_adjusted_death_rate\": 752.4}, {\"year\": 2012, \"113_cause_name\": \"All Causes\", \"cause_name\": \"All causes\", \"state\": \"Louisiana\", \"deaths\": 42320, \"median_household_income\": 46500.0, \"age_adjusted_death_rate\": 898.6}, {\"year\": 2014, \"113_cause_name\": \"All Causes\", \"cause_name\": \"All causes\", \"state\": \"United States\", \"deaths\": 2626418, \"median_household_income\": 55600.00000000001, \"age_adjusted_death_rate\": 724.6}, {\"year\": 2015, \"113_cause_name\": \"All Causes\", \"cause_name\": \"All causes\", \"state\": \"North Carolina\", \"deaths\": 89133, \"median_household_income\": 49500.00000000001, \"age_adjusted_death_rate\": 789.9}, {\"year\": 2013, \"113_cause_name\": \"All Causes\", \"cause_name\": \"All causes\", \"state\": \"Colorado\", \"deaths\": 33712, \"median_household_income\": 62000.0, \"age_adjusted_death_rate\": 655.4}, {\"year\": 2016, \"113_cause_name\": \"All Causes\", \"cause_name\": \"All causes\", \"state\": \"Mississippi\", \"deaths\": 31741, \"median_household_income\": 42700.0, \"age_adjusted_death_rate\": 948.9}, {\"year\": 2017, \"113_cause_name\": \"All Causes\", \"cause_name\": \"All causes\", \"state\": \"Alabama\", \"deaths\": 53238, \"median_household_income\": 48100.0, \"age_adjusted_death_rate\": 917.7}, {\"year\": 2014, \"113_cause_name\": \"All Causes\", \"cause_name\": \"All causes\", \"state\": \"Tennessee\", \"deaths\": 64661, \"median_household_income\": 46000.0, \"age_adjusted_death_rate\": 880.0}, {\"year\": 2011, \"113_cause_name\": \"All Causes\", \"cause_name\": \"All causes\", \"state\": \"Mississippi\", \"deaths\": 29278, \"median_household_income\": 41500.0, \"age_adjusted_death_rate\": 956.1}, {\"year\": 2009, \"113_cause_name\": \"All Causes\", \"cause_name\": \"All causes\", \"state\": \"North Carolina\", \"deaths\": 77117, \"median_household_income\": 48800.0, \"age_adjusted_death_rate\": 804.3}, {\"year\": 2008, \"113_cause_name\": \"All Causes\", \"cause_name\": \"All causes\", \"state\": \"New York\", \"deaths\": 148698, \"median_household_income\": 49999.99999999999, \"age_adjusted_death_rate\": 693.7}, {\"year\": 2016, \"113_cause_name\": \"All Causes\", \"cause_name\": \"All causes\", \"state\": \"Utah\", \"deaths\": 17913, \"median_household_income\": 67400.0, \"age_adjusted_death_rate\": 714.7}, {\"year\": 2007, \"113_cause_name\": \"All Causes\", \"cause_name\": \"All causes\", \"state\": \"Kentucky\", \"deaths\": 40090, \"median_household_income\": 49500.00000000001, \"age_adjusted_death_rate\": 915.3}, {\"year\": 2013, \"113_cause_name\": \"All Causes\", \"cause_name\": \"All causes\", \"state\": \"Nevada\", \"deaths\": 21468, \"median_household_income\": 53999.99999999999, \"age_adjusted_death_rate\": 769.8}, {\"year\": 2001, \"113_cause_name\": \"All Causes\", \"cause_name\": \"All causes\", \"state\": \"Texas\", \"deaths\": 152779, \"median_household_income\": 58900.0, \"age_adjusted_death_rate\": 888.9}, {\"year\": 2000, \"113_cause_name\": \"All Causes\", \"cause_name\": \"All causes\", \"state\": \"South Carolina\", \"deaths\": 36948, \"median_household_income\": 54700.0, \"age_adjusted_death_rate\": 980.2}, {\"year\": 2003, \"113_cause_name\": \"All Causes\", \"cause_name\": \"All causes\", \"state\": \"New Hampshire\", \"deaths\": 9708, \"median_household_income\": 71400.0, \"age_adjusted_death_rate\": 767.3}, {\"year\": 1999, \"113_cause_name\": \"All Causes\", \"cause_name\": \"All causes\", \"state\": \"United States\", \"deaths\": 2391399, \"median_household_income\": 62000.0, \"age_adjusted_death_rate\": 875.6}, {\"year\": 2004, \"113_cause_name\": \"All Causes\", \"cause_name\": \"All causes\", \"state\": \"Kansas\", \"deaths\": 23818, \"median_household_income\": 47200.0, \"age_adjusted_death_rate\": 798.0}, {\"year\": 2003, \"113_cause_name\": \"All Causes\", \"cause_name\": \"All causes\", \"state\": \"Montana\", \"deaths\": 8467, \"median_household_income\": 53900.0, \"age_adjusted_death_rate\": 837.6}, {\"year\": 2014, \"113_cause_name\": \"All Causes\", \"cause_name\": \"All causes\", \"state\": \"Louisiana\", \"deaths\": 43869, \"median_household_income\": 46200.0, \"age_adjusted_death_rate\": 894.2}, {\"year\": 2003, \"113_cause_name\": \"All Causes\", \"cause_name\": \"All causes\", \"state\": \"New Mexico\", \"deaths\": 14805, \"median_household_income\": 53900.0, \"age_adjusted_death_rate\": 832.1}, {\"year\": 2002, \"113_cause_name\": \"All Causes\", \"cause_name\": \"All causes\", \"state\": \"Florida\", \"deaths\": 167814, \"median_household_income\": 57300.0, \"age_adjusted_death_rate\": 796.2}, {\"year\": 2003, \"113_cause_name\": \"All Causes\", \"cause_name\": \"All causes\", \"state\": \"South Dakota\", \"deaths\": 7132, \"median_household_income\": 47200.0, \"age_adjusted_death_rate\": 796.6}, {\"year\": 2005, \"113_cause_name\": \"All Causes\", \"cause_name\": \"All causes\", \"state\": \"Iowa\", \"deaths\": 27811, \"median_household_income\": 54900.0, \"age_adjusted_death_rate\": 757.5}, {\"year\": 2002, \"113_cause_name\": \"All Causes\", \"cause_name\": \"All causes\", \"state\": \"United States\", \"deaths\": 2443387, \"median_household_income\": 62000.0, \"age_adjusted_death_rate\": 855.9}, {\"year\": 2006, \"113_cause_name\": \"All Causes\", \"cause_name\": \"All causes\", \"state\": \"North Dakota\", \"deaths\": 5868, \"median_household_income\": 51599.99999999999, \"age_adjusted_death_rate\": 724.4}, {\"year\": 2001, \"113_cause_name\": \"All Causes\", \"cause_name\": \"All causes\", \"state\": \"Minnesota\", \"deaths\": 37735, \"median_household_income\": 69500.0, \"age_adjusted_death_rate\": 748.2}, {\"year\": 2012, \"113_cause_name\": \"All Causes\", \"cause_name\": \"All causes\", \"state\": \"Montana\", \"deaths\": 8976, \"median_household_income\": 61900.0, \"age_adjusted_death_rate\": 732.4}, {\"year\": 2004, \"113_cause_name\": \"All Causes\", \"cause_name\": \"All causes\", \"state\": \"Georgia\", \"deaths\": 65818, \"median_household_income\": 49500.00000000001, \"age_adjusted_death_rate\": 926.4}, {\"year\": 2017, \"113_cause_name\": \"All Causes\", \"cause_name\": \"All causes\", \"state\": \"North Carolina\", \"deaths\": 93157, \"median_household_income\": 52800.0, \"age_adjusted_death_rate\": 785.6}, {\"year\": 2004, \"113_cause_name\": \"All Causes\", \"cause_name\": \"All causes\", \"state\": \"Ohio\", \"deaths\": 106288, \"median_household_income\": 54700.0, \"age_adjusted_death_rate\": 867.1}, {\"year\": 2004, \"113_cause_name\": \"All Causes\", \"cause_name\": \"All causes\", \"state\": \"North Carolina\", \"deaths\": 72384, \"median_household_income\": 51200.0, \"age_adjusted_death_rate\": 876.1}, {\"year\": 2015, \"113_cause_name\": \"All Causes\", \"cause_name\": \"All causes\", \"state\": \"Arkansas\", \"deaths\": 31617, \"median_household_income\": 43500.0, \"age_adjusted_death_rate\": 901.8}, {\"year\": 1999, \"113_cause_name\": \"All Causes\", \"cause_name\": \"All causes\", \"state\": \"Arizona\", \"deaths\": 40050, \"median_household_income\": 64599.99999999999, \"age_adjusted_death_rate\": 818.4}, {\"year\": 2011, \"113_cause_name\": \"All Causes\", \"cause_name\": \"All causes\", \"state\": \"Montana\", \"deaths\": 9115, \"median_household_income\": 48100.0, \"age_adjusted_death_rate\": 760.6}, {\"year\": 2016, \"113_cause_name\": \"All Causes\", \"cause_name\": \"All causes\", \"state\": \"Maine\", \"deaths\": 14182, \"median_household_income\": 54200.0, \"age_adjusted_death_rate\": 759.0}, {\"year\": 2017, \"113_cause_name\": \"All Causes\", \"cause_name\": \"All causes\", \"state\": \"Florida\", \"deaths\": 203636, \"median_household_income\": 52600.0, \"age_adjusted_death_rate\": 672.1}, {\"year\": 2005, \"113_cause_name\": \"All Causes\", \"cause_name\": \"All causes\", \"state\": \"North Dakota\", \"deaths\": 5744, \"median_household_income\": 51599.99999999999, \"age_adjusted_death_rate\": 716.3}, {\"year\": 2003, \"113_cause_name\": \"All Causes\", \"cause_name\": \"All causes\", \"state\": \"New Jersey\", \"deaths\": 73689, \"median_household_income\": 68200.0, \"age_adjusted_death_rate\": 807.8}, {\"year\": 2009, \"113_cause_name\": \"All Causes\", \"cause_name\": \"All causes\", \"state\": \"Louisiana\", \"deaths\": 40282, \"median_household_income\": 47900.00000000001, \"age_adjusted_death_rate\": 907.8}, {\"year\": 2013, \"113_cause_name\": \"All Causes\", \"cause_name\": \"All causes\", \"state\": \"Mississippi\", \"deaths\": 30703, \"median_household_income\": 40000.0, \"age_adjusted_death_rate\": 959.6}, {\"year\": 2013, \"113_cause_name\": \"All Causes\", \"cause_name\": \"All causes\", \"state\": \"California\", \"deaths\": 248359, \"median_household_income\": 63400.0, \"age_adjusted_death_rate\": 630.1}, {\"year\": 2012, \"113_cause_name\": \"All Causes\", \"cause_name\": \"All causes\", \"state\": \"Vermont\", \"deaths\": 5491, \"median_household_income\": 58800.00000000001, \"age_adjusted_death_rate\": 700.1}, {\"year\": 2014, \"113_cause_name\": \"All Causes\", \"cause_name\": \"All causes\", \"state\": \"Florida\", \"deaths\": 185956, \"median_household_income\": 49199.99999999999, \"age_adjusted_death_rate\": 662.0}, {\"year\": 2014, \"113_cause_name\": \"All Causes\", \"cause_name\": \"All causes\", \"state\": \"Washington\", \"deaths\": 52099, \"median_household_income\": 63600.0, \"age_adjusted_death_rate\": 672.9}, {\"year\": 2001, \"113_cause_name\": \"All Causes\", \"cause_name\": \"All causes\", \"state\": \"Rhode Island\", \"deaths\": 10021, \"median_household_income\": 73000.0, \"age_adjusted_death_rate\": 816.9}, {\"year\": 2011, \"113_cause_name\": \"All Causes\", \"cause_name\": \"All causes\", \"state\": \"Arizona\", \"deaths\": 48381, \"median_household_income\": 62700.0, \"age_adjusted_death_rate\": 688.9}, {\"year\": 2017, \"113_cause_name\": \"All Causes\", \"cause_name\": \"All causes\", \"state\": \"New Hampshire\", \"deaths\": 12504, \"median_household_income\": 73400.0, \"age_adjusted_death_rate\": 717.3}, {\"year\": 2014, \"113_cause_name\": \"All Causes\", \"cause_name\": \"All causes\", \"state\": \"Texas\", \"deaths\": 183912, \"median_household_income\": 55000.0, \"age_adjusted_death_rate\": 745.3}, {\"year\": 2009, \"113_cause_name\": \"All Causes\", \"cause_name\": \"All causes\", \"state\": \"Georgia\", \"deaths\": 69712, \"median_household_income\": 52300.0, \"age_adjusted_death_rate\": 842.3}, {\"year\": 2008, \"113_cause_name\": \"All Causes\", \"cause_name\": \"All causes\", \"state\": \"New Jersey\", \"deaths\": 70026, \"median_household_income\": 55200.0, \"age_adjusted_death_rate\": 718.3}, {\"year\": 2009, \"113_cause_name\": \"All Causes\", \"cause_name\": \"All causes\", \"state\": \"Vermont\", \"deaths\": 5034, \"median_household_income\": 68800.0, \"age_adjusted_death_rate\": 683.2}, {\"year\": 2006, \"113_cause_name\": \"All Causes\", \"cause_name\": \"All causes\", \"state\": \"New Hampshire\", \"deaths\": 10060, \"median_household_income\": 60300.0, \"age_adjusted_death_rate\": 733.7}, {\"year\": 2009, \"113_cause_name\": \"All Causes\", \"cause_name\": \"All causes\", \"state\": \"Maine\", \"deaths\": 12594, \"median_household_income\": 48100.0, \"age_adjusted_death_rate\": 752.6}, {\"year\": 2006, \"113_cause_name\": \"All Causes\", \"cause_name\": \"All causes\", \"state\": \"Indiana\", \"deaths\": 55622, \"median_household_income\": 52800.0, \"age_adjusted_death_rate\": 856.8}, {\"year\": 2012, \"113_cause_name\": \"All Causes\", \"cause_name\": \"All causes\", \"state\": \"North Carolina\", \"deaths\": 81925, \"median_household_income\": 50900.0, \"age_adjusted_death_rate\": 786.4}, {\"year\": 2013, \"113_cause_name\": \"All Causes\", \"cause_name\": \"All causes\", \"state\": \"Oklahoma\", \"deaths\": 38384, \"median_household_income\": 48200.0, \"age_adjusted_death_rate\": 910.7}, {\"year\": 2009, \"113_cause_name\": \"All Causes\", \"cause_name\": \"All causes\", \"state\": \"Utah\", \"deaths\": 14138, \"median_household_income\": 68800.0, \"age_adjusted_death_rate\": 686.5}, {\"year\": 2010, \"113_cause_name\": \"All Causes\", \"cause_name\": \"All causes\", \"state\": \"Delaware\", \"deaths\": 7706, \"median_household_income\": 62900.0, \"age_adjusted_death_rate\": 769.9}, {\"year\": 2016, \"113_cause_name\": \"All Causes\", \"cause_name\": \"All causes\", \"state\": \"North Carolina\", \"deaths\": 90465, \"median_household_income\": 51700.0, \"age_adjusted_death_rate\": 782.4}, {\"year\": 2013, \"113_cause_name\": \"All Causes\", \"cause_name\": \"All causes\", \"state\": \"United States\", \"deaths\": 2596993, \"median_household_income\": 55100.0, \"age_adjusted_death_rate\": 731.9}, {\"year\": 2002, \"113_cause_name\": \"All Causes\", \"cause_name\": \"All causes\", \"state\": \"District of Columbia\", \"deaths\": 5851, \"median_household_income\": 46200.0, \"age_adjusted_death_rate\": 1034.1}, {\"year\": 2008, \"113_cause_name\": \"All Causes\", \"cause_name\": \"All causes\", \"state\": \"Oregon\", \"deaths\": 31967, \"median_household_income\": 47400.0, \"age_adjusted_death_rate\": 753.2}, {\"year\": 2003, \"113_cause_name\": \"All Causes\", \"cause_name\": \"All causes\", \"state\": \"Wyoming\", \"deaths\": 4172, \"median_household_income\": 66100.0, \"age_adjusted_death_rate\": 857.7}, {\"year\": 2000, \"113_cause_name\": \"All Causes\", \"cause_name\": \"All causes\", \"state\": \"Nevada\", \"deaths\": 15261, \"median_household_income\": 65800.0, \"age_adjusted_death_rate\": 918.7}, {\"year\": 2011, \"113_cause_name\": \"All Causes\", \"cause_name\": \"All causes\", \"state\": \"Colorado\", \"deaths\": 32563, \"median_household_income\": 60899.99999999999, \"age_adjusted_death_rate\": 677.8}, {\"year\": 2012, \"113_cause_name\": \"All Causes\", \"cause_name\": \"All causes\", \"state\": \"Alabama\", \"deaths\": 49301, \"median_household_income\": 45200.0, \"age_adjusted_death_rate\": 926.7}, {\"year\": 2008, \"113_cause_name\": \"All Causes\", \"cause_name\": \"All causes\", \"state\": \"Delaware\", \"deaths\": 7622, \"median_household_income\": 68600.0, \"age_adjusted_death_rate\": 793.5}, {\"year\": 2002, \"113_cause_name\": \"All Causes\", \"cause_name\": \"All causes\", \"state\": \"North Carolina\", \"deaths\": 72027, \"median_household_income\": 65900.0, \"age_adjusted_death_rate\": 912.6}, {\"year\": 2003, \"113_cause_name\": \"All Causes\", \"cause_name\": \"All causes\", \"state\": \"District of Columbia\", \"deaths\": 5573, \"median_household_income\": 46600.00000000001, \"age_adjusted_death_rate\": 993.0}, {\"year\": 2010, \"113_cause_name\": \"All Causes\", \"cause_name\": \"All causes\", \"state\": \"Missouri\", \"deaths\": 55281, \"median_household_income\": 49900.0, \"age_adjusted_death_rate\": 819.5}, {\"year\": 2001, \"113_cause_name\": \"All Causes\", \"cause_name\": \"All causes\", \"state\": \"Washington\", \"deaths\": 44642, \"median_household_income\": 67600.0, \"age_adjusted_death_rate\": 799.4}, {\"year\": 2001, \"113_cause_name\": \"All Causes\", \"cause_name\": \"All causes\", \"state\": \"North Carolina\", \"deaths\": 70934, \"median_household_income\": 56000.0, \"age_adjusted_death_rate\": 917.1}, {\"year\": 2002, \"113_cause_name\": \"All Causes\", \"cause_name\": \"All causes\", \"state\": \"New Jersey\", \"deaths\": 74009, \"median_household_income\": 74500.0, \"age_adjusted_death_rate\": 821.7}, {\"year\": 2004, \"113_cause_name\": \"All Causes\", \"cause_name\": \"All causes\", \"state\": \"Washington\", \"deaths\": 44770, \"median_household_income\": 62000.0, \"age_adjusted_death_rate\": 751.9}, {\"year\": 2012, \"113_cause_name\": \"All Causes\", \"cause_name\": \"All causes\", \"state\": \"District of Columbia\", \"deaths\": 4650, \"median_household_income\": 49500.00000000001, \"age_adjusted_death_rate\": 757.2}, {\"year\": 2010, \"113_cause_name\": \"All Causes\", \"cause_name\": \"All causes\", \"state\": \"Idaho\", \"deaths\": 11429, \"median_household_income\": 49000.0, \"age_adjusted_death_rate\": 731.6}, {\"year\": 2000, \"113_cause_name\": \"All Causes\", \"cause_name\": \"All causes\", \"state\": \"Nebraska\", \"deaths\": 14992, \"median_household_income\": 57900.0, \"age_adjusted_death_rate\": 794.6}, {\"year\": 2010, \"113_cause_name\": \"All Causes\", \"cause_name\": \"All causes\", \"state\": \"Colorado\", \"deaths\": 31465, \"median_household_income\": 60899.99999999999, \"age_adjusted_death_rate\": 682.7}, {\"year\": 2000, \"113_cause_name\": \"All Causes\", \"cause_name\": \"All causes\", \"state\": \"Maryland\", \"deaths\": 43753, \"median_household_income\": 78000.0, \"age_adjusted_death_rate\": 908.9}, {\"year\": 2017, \"113_cause_name\": \"All Causes\", \"cause_name\": \"All causes\", \"state\": \"New Jersey\", \"deaths\": 74846, \"median_household_income\": 80100.0, \"age_adjusted_death_rate\": 667.5}, {\"year\": 2009, \"113_cause_name\": \"All Causes\", \"cause_name\": \"All causes\", \"state\": \"Arizona\", \"deaths\": 45816, \"median_household_income\": 52700.00000000001, \"age_adjusted_death_rate\": 693.8}, {\"year\": 2015, \"113_cause_name\": \"All Causes\", \"cause_name\": \"All causes\", \"state\": \"Maine\", \"deaths\": 14479, \"median_household_income\": 53300.0, \"age_adjusted_death_rate\": 783.5}, {\"year\": 2001, \"113_cause_name\": \"All Causes\", \"cause_name\": \"All causes\", \"state\": \"Illinois\", \"deaths\": 105430, \"median_household_income\": 81400.0, \"age_adjusted_death_rate\": 863.5}, {\"year\": 2016, \"113_cause_name\": \"All Causes\", \"cause_name\": \"All causes\", \"state\": \"Arkansas\", \"deaths\": 31756, \"median_household_income\": 45300.0, \"age_adjusted_death_rate\": 893.2}, {\"year\": 2010, \"113_cause_name\": \"All Causes\", \"cause_name\": \"All causes\", \"state\": \"United States\", \"deaths\": 2468435, \"median_household_income\": 56400.00000000001, \"age_adjusted_death_rate\": 747.0}, {\"year\": 2012, \"113_cause_name\": \"All Causes\", \"cause_name\": \"All causes\", \"state\": \"Maryland\", \"deaths\": 44477, \"median_household_income\": 76400.0, \"age_adjusted_death_rate\": 709.1}, {\"year\": 2001, \"113_cause_name\": \"All Causes\", \"cause_name\": \"All causes\", \"state\": \"Kansas\", \"deaths\": 24647, \"median_household_income\": 60000.0, \"age_adjusted_death_rate\": 844.4}, {\"year\": 2013, \"113_cause_name\": \"All Causes\", \"cause_name\": \"All causes\", \"state\": \"Nebraska\", \"deaths\": 15754, \"median_household_income\": 54200.0, \"age_adjusted_death_rate\": 714.7}, {\"year\": 2017, \"113_cause_name\": \"All Causes\", \"cause_name\": \"All causes\", \"state\": \"New York\", \"deaths\": 155358, \"median_household_income\": 64900.00000000001, \"age_adjusted_death_rate\": 623.6}, {\"year\": 2001, \"113_cause_name\": \"All Causes\", \"cause_name\": \"All causes\", \"state\": \"Alabama\", \"deaths\": 45316, \"median_household_income\": 50400.0, \"age_adjusted_death_rate\": 1002.1}, {\"year\": 2004, \"113_cause_name\": \"All Causes\", \"cause_name\": \"All causes\", \"state\": \"Oklahoma\", \"deaths\": 34483, \"median_household_income\": 47000.0, \"age_adjusted_death_rate\": 945.6}, {\"year\": 2003, \"113_cause_name\": \"All Causes\", \"cause_name\": \"All causes\", \"state\": \"New York\", \"deaths\": 155877, \"median_household_income\": 53400.0, \"age_adjusted_death_rate\": 771.1}, {\"year\": 2013, \"113_cause_name\": \"All Causes\", \"cause_name\": \"All causes\", \"state\": \"Pennsylvania\", \"deaths\": 129123, \"median_household_income\": 54800.00000000001, \"age_adjusted_death_rate\": 761.3}, {\"year\": 2011, \"113_cause_name\": \"All Causes\", \"cause_name\": \"All causes\", \"state\": \"Georgia\", \"deaths\": 71248, \"median_household_income\": 49900.0, \"age_adjusted_death_rate\": 815.7}, {\"year\": 2008, \"113_cause_name\": \"All Causes\", \"cause_name\": \"All causes\", \"state\": \"Louisiana\", \"deaths\": 41220, \"median_household_income\": 45600.0, \"age_adjusted_death_rate\": 946.0}, {\"year\": 2014, \"113_cause_name\": \"All Causes\", \"cause_name\": \"All causes\", \"state\": \"Connecticut\", \"deaths\": 29860, \"median_household_income\": 72600.0, \"age_adjusted_death_rate\": 646.5}, {\"year\": 2003, \"113_cause_name\": \"All Causes\", \"cause_name\": \"All causes\", \"state\": \"Idaho\", \"deaths\": 10380, \"median_household_income\": 49500.00000000001, \"age_adjusted_death_rate\": 812.8}, {\"year\": 2004, \"113_cause_name\": \"All Causes\", \"cause_name\": \"All causes\", \"state\": \"South Carolina\", \"deaths\": 37276, \"median_household_income\": 61900.0, \"age_adjusted_death_rate\": 909.5}, {\"year\": 2004, \"113_cause_name\": \"All Causes\", \"cause_name\": \"All causes\", \"state\": \"California\", \"deaths\": 232525, \"median_household_income\": 67500.0, \"age_adjusted_death_rate\": 734.3}, {\"year\": 1999, \"113_cause_name\": \"All Causes\", \"cause_name\": \"All causes\", \"state\": \"Montana\", \"deaths\": 8128, \"median_household_income\": 55000.0, \"age_adjusted_death_rate\": 857.6}, {\"year\": 2011, \"113_cause_name\": \"All Causes\", \"cause_name\": \"All causes\", \"state\": \"Minnesota\", \"deaths\": 39820, \"median_household_income\": 62500.00000000001, \"age_adjusted_death_rate\": 659.2}, {\"year\": 2016, \"113_cause_name\": \"All Causes\", \"cause_name\": \"All causes\", \"state\": \"Louisiana\", \"deaths\": 44306, \"median_household_income\": 46100.0, \"age_adjusted_death_rate\": 870.5}, {\"year\": 1999, \"113_cause_name\": \"All Causes\", \"cause_name\": \"All causes\", \"state\": \"Mississippi\", \"deaths\": 28185, \"median_household_income\": 46200.0, \"age_adjusted_death_rate\": 1043.4}, {\"year\": 2010, \"113_cause_name\": \"All Causes\", \"cause_name\": \"All causes\", \"state\": \"Arizona\", \"deaths\": 46762, \"median_household_income\": 52700.00000000001, \"age_adjusted_death_rate\": 693.1}, {\"year\": 2007, \"113_cause_name\": \"All Causes\", \"cause_name\": \"All causes\", \"state\": \"Michigan\", \"deaths\": 86721, \"median_household_income\": 63200.0, \"age_adjusted_death_rate\": 808.1}, {\"year\": 2003, \"113_cause_name\": \"All Causes\", \"cause_name\": \"All causes\", \"state\": \"Vermont\", \"deaths\": 5120, \"median_household_income\": 64700.0, \"age_adjusted_death_rate\": 779.7}, {\"year\": 2016, \"113_cause_name\": \"All Causes\", \"cause_name\": \"All causes\", \"state\": \"West Virginia\", \"deaths\": 22732, \"median_household_income\": 44300.0, \"age_adjusted_death_rate\": 943.3}, {\"year\": 2014, \"113_cause_name\": \"All Causes\", \"cause_name\": \"All causes\", \"state\": \"Utah\", \"deaths\": 16719, \"median_household_income\": 63100.0, \"age_adjusted_death_rate\": 709.6}, {\"year\": 2009, \"113_cause_name\": \"All Causes\", \"cause_name\": \"All causes\", \"state\": \"District of Columbia\", \"deaths\": 4834, \"median_household_income\": 50300.00000000001, \"age_adjusted_death_rate\": 833.3}, {\"year\": 2014, \"113_cause_name\": \"All Causes\", \"cause_name\": \"All causes\", \"state\": \"Arizona\", \"deaths\": 51538, \"median_household_income\": 51900.00000000001, \"age_adjusted_death_rate\": 661.7}, {\"year\": 2010, \"113_cause_name\": \"All Causes\", \"cause_name\": \"All causes\", \"state\": \"Hawaii\", \"deaths\": 9617, \"median_household_income\": 71000.0, \"age_adjusted_death_rate\": 589.6}, {\"year\": 2011, \"113_cause_name\": \"All Causes\", \"cause_name\": \"All causes\", \"state\": \"North Dakota\", \"deaths\": 5965, \"median_household_income\": 61700.00000000001, \"age_adjusted_death_rate\": 697.4}, {\"year\": 2006, \"113_cause_name\": \"All Causes\", \"cause_name\": \"All causes\", \"state\": \"Kentucky\", \"deaths\": 40102, \"median_household_income\": 44000.0, \"age_adjusted_death_rate\": 932.3}, {\"year\": 2011, \"113_cause_name\": \"All Causes\", \"cause_name\": \"All causes\", \"state\": \"Arkansas\", \"deaths\": 29653, \"median_household_income\": 43200.0, \"age_adjusted_death_rate\": 895.3}, {\"year\": 2006, \"113_cause_name\": \"All Causes\", \"cause_name\": \"All causes\", \"state\": \"District of Columbia\", \"deaths\": 5344, \"median_household_income\": 47000.0, \"age_adjusted_death_rate\": 951.7}, {\"year\": 2000, \"113_cause_name\": \"All Causes\", \"cause_name\": \"All causes\", \"state\": \"Washington\", \"deaths\": 43941, \"median_household_income\": 67600.0, \"age_adjusted_death_rate\": 804.6}, {\"year\": 2014, \"113_cause_name\": \"All Causes\", \"cause_name\": \"All causes\", \"state\": \"Rhode Island\", \"deaths\": 9770, \"median_household_income\": 56899.99999999999, \"age_adjusted_death_rate\": 700.9}, {\"year\": 2005, \"113_cause_name\": \"All Causes\", \"cause_name\": \"All causes\", \"state\": \"Arkansas\", \"deaths\": 28055, \"median_household_income\": 44000.0, \"age_adjusted_death_rate\": 931.5}, {\"year\": 2015, \"113_cause_name\": \"All Causes\", \"cause_name\": \"All causes\", \"state\": \"New Mexico\", \"deaths\": 17685, \"median_household_income\": 47000.0, \"age_adjusted_death_rate\": 741.5}, {\"year\": 2003, \"113_cause_name\": \"All Causes\", \"cause_name\": \"All causes\", \"state\": \"Virginia\", \"deaths\": 58282, \"median_household_income\": 52800.0, \"age_adjusted_death_rate\": 863.3}, {\"year\": 2003, \"113_cause_name\": \"All Causes\", \"cause_name\": \"All causes\", \"state\": \"Pennsylvania\", \"deaths\": 129769, \"median_household_income\": 56000.0, \"age_adjusted_death_rate\": 860.8}, {\"year\": 2017, \"113_cause_name\": \"All Causes\", \"cause_name\": \"All causes\", \"state\": \"United States\", \"deaths\": 2813503, \"median_household_income\": 60300.0, \"age_adjusted_death_rate\": 731.9}, {\"year\": 2015, \"113_cause_name\": \"All Causes\", \"cause_name\": \"All causes\", \"state\": \"South Dakota\", \"deaths\": 7731, \"median_household_income\": 54900.0, \"age_adjusted_death_rate\": 715.4}, {\"year\": 2012, \"113_cause_name\": \"All Causes\", \"cause_name\": \"All causes\", \"state\": \"Ohio\", \"deaths\": 112498, \"median_household_income\": 50700.0, \"age_adjusted_death_rate\": 817.9}, {\"year\": 2013, \"113_cause_name\": \"All Causes\", \"cause_name\": \"All causes\", \"state\": \"Alabama\", \"deaths\": 50189, \"median_household_income\": 45200.0, \"age_adjusted_death_rate\": 925.2}, {\"year\": 2004, \"113_cause_name\": \"All Causes\", \"cause_name\": \"All causes\", \"state\": \"Oregon\", \"deaths\": 30313, \"median_household_income\": 53999.99999999999, \"age_adjusted_death_rate\": 786.4}, {\"year\": 2008, \"113_cause_name\": \"All Causes\", \"cause_name\": \"All causes\", \"state\": \"Maine\", \"deaths\": 12541, \"median_household_income\": 48100.0, \"age_adjusted_death_rate\": 759.4}, {\"year\": 2002, \"113_cause_name\": \"All Causes\", \"cause_name\": \"All causes\", \"state\": \"Louisiana\", \"deaths\": 41984, \"median_household_income\": 48100.0, \"age_adjusted_death_rate\": 1008.5}, {\"year\": 2009, \"113_cause_name\": \"All Causes\", \"cause_name\": \"All causes\", \"state\": \"New Hampshire\", \"deaths\": 10100, \"median_household_income\": 68800.0, \"age_adjusted_death_rate\": 691.6}, {\"year\": 2004, \"113_cause_name\": \"All Causes\", \"cause_name\": \"All causes\", \"state\": \"West Virginia\", \"deaths\": 20793, \"median_household_income\": 59400.0, \"age_adjusted_death_rate\": 973.0}, {\"year\": 2015, \"113_cause_name\": \"All Causes\", \"cause_name\": \"All causes\", \"state\": \"New Jersey\", \"deaths\": 72271, \"median_household_income\": 74700.0, \"age_adjusted_death_rate\": 666.0}, {\"year\": 2013, \"113_cause_name\": \"All Causes\", \"cause_name\": \"All causes\", \"state\": \"Missouri\", \"deaths\": 57444, \"median_household_income\": 49500.00000000001, \"age_adjusted_death_rate\": 807.7}, {\"year\": 2012, \"113_cause_name\": \"All Causes\", \"cause_name\": \"All causes\", \"state\": \"Oregon\", \"deaths\": 32759, \"median_household_income\": 76400.0, \"age_adjusted_death_rate\": 706.6}, {\"year\": 2013, \"113_cause_name\": \"All Causes\", \"cause_name\": \"All causes\", \"state\": \"Tennessee\", \"deaths\": 63406, \"median_household_income\": 46700.0, \"age_adjusted_death_rate\": 881.1}, {\"year\": 2004, \"113_cause_name\": \"All Causes\", \"cause_name\": \"All causes\", \"state\": \"Delaware\", \"deaths\": 7143, \"median_household_income\": 53900.0, \"age_adjusted_death_rate\": 838.2}, {\"year\": 2007, \"113_cause_name\": \"All Causes\", \"cause_name\": \"All causes\", \"state\": \"Indiana\", \"deaths\": 54000, \"median_household_income\": 68200.0, \"age_adjusted_death_rate\": 817.1}, {\"year\": 2011, \"113_cause_name\": \"All Causes\", \"cause_name\": \"All causes\", \"state\": \"Virginia\", \"deaths\": 60804, \"median_household_income\": 68400.0, \"age_adjusted_death_rate\": 741.6}, {\"year\": 2009, \"113_cause_name\": \"All Causes\", \"cause_name\": \"All causes\", \"state\": \"New York\", \"deaths\": 146475, \"median_household_income\": 61000.0, \"age_adjusted_death_rate\": 674.6}, {\"year\": 2005, \"113_cause_name\": \"All Causes\", \"cause_name\": \"All causes\", \"state\": \"Virginia\", \"deaths\": 57855, \"median_household_income\": 68200.0, \"age_adjusted_death_rate\": 817.4}, {\"year\": 2015, \"113_cause_name\": \"All Causes\", \"cause_name\": \"All causes\", \"state\": \"Georgia\", \"deaths\": 79942, \"median_household_income\": 53000.0, \"age_adjusted_death_rate\": 808.1}, {\"year\": 2016, \"113_cause_name\": \"All Causes\", \"cause_name\": \"All causes\", \"state\": \"New Mexico\", \"deaths\": 18365, \"median_household_income\": 47800.0, \"age_adjusted_death_rate\": 753.4}, {\"year\": 2015, \"113_cause_name\": \"All Causes\", \"cause_name\": \"All causes\", \"state\": \"South Carolina\", \"deaths\": 47198, \"median_household_income\": 48900.0, \"age_adjusted_death_rate\": 840.0}, {\"year\": 2013, \"113_cause_name\": \"All Causes\", \"cause_name\": \"All causes\", \"state\": \"Washington\", \"deaths\": 51264, \"median_household_income\": 61600.0, \"age_adjusted_death_rate\": 679.3}, {\"year\": 2013, \"113_cause_name\": \"All Causes\", \"cause_name\": \"All causes\", \"state\": \"Georgia\", \"deaths\": 75088, \"median_household_income\": 50400.0, \"age_adjusted_death_rate\": 806.2}, {\"year\": 2009, \"113_cause_name\": \"All Causes\", \"cause_name\": \"All causes\", \"state\": \"Delaware\", \"deaths\": 7534, \"median_household_income\": 62900.0, \"age_adjusted_death_rate\": 768.0}, {\"year\": 2003, \"113_cause_name\": \"All Causes\", \"cause_name\": \"All causes\", \"state\": \"Indiana\", \"deaths\": 55968, \"median_household_income\": 57400.0, \"age_adjusted_death_rate\": 902.2}, {\"year\": 2012, \"113_cause_name\": \"All Causes\", \"cause_name\": \"All causes\", \"state\": \"Idaho\", \"deaths\": 11998, \"median_household_income\": 61000.0, \"age_adjusted_death_rate\": 726.6}, {\"year\": 2011, \"113_cause_name\": \"All Causes\", \"cause_name\": \"All causes\", \"state\": \"Hawaii\", \"deaths\": 9923, \"median_household_income\": 71000.0, \"age_adjusted_death_rate\": 584.9}, {\"year\": 2014, \"113_cause_name\": \"All Causes\", \"cause_name\": \"All causes\", \"state\": \"West Virginia\", \"deaths\": 22186, \"median_household_income\": 42600.00000000001, \"age_adjusted_death_rate\": 929.1}, {\"year\": 2009, \"113_cause_name\": \"All Causes\", \"cause_name\": \"All causes\", \"state\": \"Mississippi\", \"deaths\": 28275, \"median_household_income\": 41500.0, \"age_adjusted_death_rate\": 950.5}, {\"year\": 2015, \"113_cause_name\": \"All Causes\", \"cause_name\": \"All causes\", \"state\": \"Rhode Island\", \"deaths\": 10163, \"median_household_income\": 60099.99999999999, \"age_adjusted_death_rate\": 721.9}, {\"year\": 2010, \"113_cause_name\": \"All Causes\", \"cause_name\": \"All causes\", \"state\": \"New York\", \"deaths\": 146432, \"median_household_income\": 61000.0, \"age_adjusted_death_rate\": 665.5}, {\"year\": 2014, \"113_cause_name\": \"All Causes\", \"cause_name\": \"All causes\", \"state\": \"California\", \"deaths\": 245929, \"median_household_income\": 64200.0, \"age_adjusted_death_rate\": 605.7}, {\"year\": 2007, \"113_cause_name\": \"All Causes\", \"cause_name\": \"All causes\", \"state\": \"Georgia\", \"deaths\": 68331, \"median_household_income\": 55400.0, \"age_adjusted_death_rate\": 872.0}, {\"year\": 2007, \"113_cause_name\": \"All Causes\", \"cause_name\": \"All causes\", \"state\": \"Wyoming\", \"deaths\": 4266, \"median_household_income\": 58100.0, \"age_adjusted_death_rate\": 806.5}, {\"year\": 2014, \"113_cause_name\": \"All Causes\", \"cause_name\": \"All causes\", \"state\": \"New Jersey\", \"deaths\": 71316, \"median_household_income\": 74500.0, \"age_adjusted_death_rate\": 665.7}, {\"year\": 2001, \"113_cause_name\": \"All Causes\", \"cause_name\": \"All causes\", \"state\": \"West Virginia\", \"deaths\": 20967, \"median_household_income\": 49700.0, \"age_adjusted_death_rate\": 1000.9}, {\"year\": 2009, \"113_cause_name\": \"All Causes\", \"cause_name\": \"All causes\", \"state\": \"Colorado\", \"deaths\": 31173, \"median_household_income\": 52700.00000000001, \"age_adjusted_death_rate\": 689.7}, {\"year\": 2007, \"113_cause_name\": \"All Causes\", \"cause_name\": \"All causes\", \"state\": \"Idaho\", \"deaths\": 10822, \"median_household_income\": 60300.0, \"age_adjusted_death_rate\": 747.0}, {\"year\": 2002, \"113_cause_name\": \"All Causes\", \"cause_name\": \"All causes\", \"state\": \"Vermont\", \"deaths\": 5075, \"median_household_income\": 67500.0, \"age_adjusted_death_rate\": 786.8}, {\"year\": 1999, \"113_cause_name\": \"All Causes\", \"cause_name\": \"All causes\", \"state\": \"Missouri\", \"deaths\": 55931, \"median_household_income\": 57800.0, \"age_adjusted_death_rate\": 945.0}, {\"year\": 2007, \"113_cause_name\": \"All Causes\", \"cause_name\": \"All causes\", \"state\": \"Vermont\", \"deaths\": 5179, \"median_household_income\": 51599.99999999999, \"age_adjusted_death_rate\": 733.0}, {\"year\": 2011, \"113_cause_name\": \"All Causes\", \"cause_name\": \"All causes\", \"state\": \"Nebraska\", \"deaths\": 15476, \"median_household_income\": 54500.0, \"age_adjusted_death_rate\": 719.8}, {\"year\": 2016, \"113_cause_name\": \"All Causes\", \"cause_name\": \"All causes\", \"state\": \"Ohio\", \"deaths\": 119572, \"median_household_income\": 53500.00000000001, \"age_adjusted_death_rate\": 832.3}, {\"year\": 2001, \"113_cause_name\": \"All Causes\", \"cause_name\": \"All causes\", \"state\": \"Georgia\", \"deaths\": 64485, \"median_household_income\": 57800.0, \"age_adjusted_death_rate\": 966.4}, {\"year\": 2010, \"113_cause_name\": \"All Causes\", \"cause_name\": \"All causes\", \"state\": \"Nebraska\", \"deaths\": 15171, \"median_household_income\": 54500.0, \"age_adjusted_death_rate\": 717.8}, {\"year\": 2000, \"113_cause_name\": \"All Causes\", \"cause_name\": \"All causes\", \"state\": \"Arkansas\", \"deaths\": 28217, \"median_household_income\": 47500.0, \"age_adjusted_death_rate\": 977.1}, {\"year\": 2006, \"113_cause_name\": \"All Causes\", \"cause_name\": \"All causes\", \"state\": \"Louisiana\", \"deaths\": 40045, \"median_household_income\": 47000.0, \"age_adjusted_death_rate\": 960.5}, {\"year\": 2014, \"113_cause_name\": \"All Causes\", \"cause_name\": \"All causes\", \"state\": \"Kentucky\", \"deaths\": 44838, \"median_household_income\": 44500.0, \"age_adjusted_death_rate\": 906.3}, {\"year\": 2009, \"113_cause_name\": \"All Causes\", \"cause_name\": \"All causes\", \"state\": \"Alaska\", \"deaths\": 3618, \"median_household_income\": 62900.0, \"age_adjusted_death_rate\": 763.8}, {\"year\": 2006, \"113_cause_name\": \"All Causes\", \"cause_name\": \"All causes\", \"state\": \"Montana\", \"deaths\": 8472, \"median_household_income\": 64700.0, \"age_adjusted_death_rate\": 782.2}, {\"year\": 2006, \"113_cause_name\": \"All Causes\", \"cause_name\": \"All causes\", \"state\": \"Alabama\", \"deaths\": 46977, \"median_household_income\": 46600.00000000001, \"age_adjusted_death_rate\": 979.5}, {\"year\": 1999, \"113_cause_name\": \"All Causes\", \"cause_name\": \"All causes\", \"state\": \"Delaware\", \"deaths\": 6666, \"median_household_income\": 76100.0, \"age_adjusted_death_rate\": 881.6}, {\"year\": 2000, \"113_cause_name\": \"All Causes\", \"cause_name\": \"All causes\", \"state\": \"Kansas\", \"deaths\": 24717, \"median_household_income\": 60000.0, \"age_adjusted_death_rate\": 850.5}, {\"year\": 2007, \"113_cause_name\": \"All Causes\", \"cause_name\": \"All causes\", \"state\": \"Rhode Island\", \"deaths\": 9723, \"median_household_income\": 60300.0, \"age_adjusted_death_rate\": 747.2}, {\"year\": 2001, \"113_cause_name\": \"All Causes\", \"cause_name\": \"All causes\", \"state\": \"Alaska\", \"deaths\": 2974, \"median_household_income\": 62100.0, \"age_adjusted_death_rate\": 831.3}, {\"year\": 2016, \"113_cause_name\": \"All Causes\", \"cause_name\": \"All causes\", \"state\": \"United States\", \"deaths\": 2744248, \"median_household_income\": 58900.0, \"age_adjusted_death_rate\": 728.8}, {\"year\": 2008, \"113_cause_name\": \"All Causes\", \"cause_name\": \"All causes\", \"state\": \"Missouri\", \"deaths\": 56578, \"median_household_income\": 47300.0, \"age_adjusted_death_rate\": 861.3}, {\"year\": 2011, \"113_cause_name\": \"All Causes\", \"cause_name\": \"All causes\", \"state\": \"Oklahoma\", \"deaths\": 37175, \"median_household_income\": 45100.0, \"age_adjusted_death_rate\": 910.9}, {\"year\": 2008, \"113_cause_name\": \"All Causes\", \"cause_name\": \"All causes\", \"state\": \"Alabama\", \"deaths\": 47707, \"median_household_income\": 41500.0, \"age_adjusted_death_rate\": 959.7}, {\"year\": 2003, \"113_cause_name\": \"All Causes\", \"cause_name\": \"All causes\", \"state\": \"Louisiana\", \"deaths\": 42719, \"median_household_income\": 46200.0, \"age_adjusted_death_rate\": 1013.7}, {\"year\": 2009, \"113_cause_name\": \"All Causes\", \"cause_name\": \"All causes\", \"state\": \"Florida\", \"deaths\": 169924, \"median_household_income\": 49999.99999999999, \"age_adjusted_death_rate\": 700.1}, {\"year\": 2003, \"113_cause_name\": \"All Causes\", \"cause_name\": \"All causes\", \"state\": \"Nebraska\", \"deaths\": 15465, \"median_household_income\": 47200.0, \"age_adjusted_death_rate\": 798.2}, {\"year\": 2000, \"113_cause_name\": \"All Causes\", \"cause_name\": \"All causes\", \"state\": \"Pennsylvania\", \"deaths\": 130813, \"median_household_income\": 59200.0, \"age_adjusted_death_rate\": 891.9}, {\"year\": 2009, \"113_cause_name\": \"All Causes\", \"cause_name\": \"All causes\", \"state\": \"Massachusetts\", \"deaths\": 52308, \"median_household_income\": 69900.0, \"age_adjusted_death_rate\": 681.4}, {\"year\": 2003, \"113_cause_name\": \"All Causes\", \"cause_name\": \"All causes\", \"state\": \"Texas\", \"deaths\": 154870, \"median_household_income\": 54700.0, \"age_adjusted_death_rate\": 865.1}, {\"year\": 2017, \"113_cause_name\": \"All Causes\", \"cause_name\": \"All causes\", \"state\": \"Utah\", \"deaths\": 18035, \"median_household_income\": 68400.0, \"age_adjusted_death_rate\": 700.1}, {\"year\": 2004, \"113_cause_name\": \"All Causes\", \"cause_name\": \"All causes\", \"state\": \"New York\", \"deaths\": 152681, \"median_household_income\": 62300.0, \"age_adjusted_death_rate\": 748.4}, {\"year\": 2003, \"113_cause_name\": \"All Causes\", \"cause_name\": \"All causes\", \"state\": \"South Carolina\", \"deaths\": 38112, \"median_household_income\": 47000.0, \"age_adjusted_death_rate\": 952.7}, {\"year\": 2013, \"113_cause_name\": \"All Causes\", \"cause_name\": \"All causes\", \"state\": \"Maine\", \"deaths\": 13547, \"median_household_income\": 49500.00000000001, \"age_adjusted_death_rate\": 754.2}, {\"year\": 2016, \"113_cause_name\": \"All Causes\", \"cause_name\": \"All causes\", \"state\": \"Connecticut\", \"deaths\": 30543, \"median_household_income\": 75000.0, \"age_adjusted_death_rate\": 654.0}, {\"year\": 2004, \"113_cause_name\": \"All Causes\", \"cause_name\": \"All causes\", \"state\": \"Texas\", \"deaths\": 152870, \"median_household_income\": 53000.0, \"age_adjusted_death_rate\": 835.9}, {\"year\": 2002, \"113_cause_name\": \"All Causes\", \"cause_name\": \"All causes\", \"state\": \"Wyoming\", \"deaths\": 4174, \"median_household_income\": 76100.0, \"age_adjusted_death_rate\": 878.2}, {\"year\": 2006, \"113_cause_name\": \"All Causes\", \"cause_name\": \"All causes\", \"state\": \"Georgia\", \"deaths\": 67808, \"median_household_income\": 51200.0, \"age_adjusted_death_rate\": 890.2}, {\"year\": 2000, \"113_cause_name\": \"All Causes\", \"cause_name\": \"All causes\", \"state\": \"Alaska\", \"deaths\": 2914, \"median_household_income\": 76100.0, \"age_adjusted_death_rate\": 869.1}, {\"year\": 2008, \"113_cause_name\": \"All Causes\", \"cause_name\": \"All causes\", \"state\": \"Nevada\", \"deaths\": 19335, \"median_household_income\": 50300.00000000001, \"age_adjusted_death_rate\": 828.7}, {\"year\": 2014, \"113_cause_name\": \"All Causes\", \"cause_name\": \"All causes\", \"state\": \"District of Columbia\", \"deaths\": 4723, \"median_household_income\": 74300.0, \"age_adjusted_death_rate\": 743.8}, {\"year\": 2011, \"113_cause_name\": \"All Causes\", \"cause_name\": \"All causes\", \"state\": \"Alabama\", \"deaths\": 48681, \"median_household_income\": 45600.0, \"age_adjusted_death_rate\": 933.6}, {\"year\": 2001, \"113_cause_name\": \"All Causes\", \"cause_name\": \"All causes\", \"state\": \"Mississippi\", \"deaths\": 28259, \"median_household_income\": 46200.0, \"age_adjusted_death_rate\": 1034.3}, {\"year\": 2002, \"113_cause_name\": \"All Causes\", \"cause_name\": \"All causes\", \"state\": \"Maine\", \"deaths\": 12694, \"median_household_income\": 55900.0, \"age_adjusted_death_rate\": 853.7}, {\"year\": 2010, \"113_cause_name\": \"All Causes\", \"cause_name\": \"All causes\", \"state\": \"Massachusetts\", \"deaths\": 52583, \"median_household_income\": 69900.0, \"age_adjusted_death_rate\": 675.0}, {\"year\": 2011, \"113_cause_name\": \"All Causes\", \"cause_name\": \"All causes\", \"state\": \"Washington\", \"deaths\": 49691, \"median_household_income\": 62700.0, \"age_adjusted_death_rate\": 690.4}, {\"year\": 2016, \"113_cause_name\": \"All Causes\", \"cause_name\": \"All causes\", \"state\": \"Massachusetts\", \"deaths\": 56961, \"median_household_income\": 76900.0, \"age_adjusted_death_rate\": 669.0}, {\"year\": 2006, \"113_cause_name\": \"All Causes\", \"cause_name\": \"All causes\", \"state\": \"Oregon\", \"deaths\": 31380, \"median_household_income\": 59299.99999999999, \"age_adjusted_death_rate\": 773.3}, {\"year\": 2004, \"113_cause_name\": \"All Causes\", \"cause_name\": \"All causes\", \"state\": \"Rhode Island\", \"deaths\": 9769, \"median_household_income\": 71400.0, \"age_adjusted_death_rate\": 766.0}, {\"year\": 1999, \"113_cause_name\": \"All Causes\", \"cause_name\": \"All causes\", \"state\": \"Wisconsin\", \"deaths\": 46672, \"median_household_income\": 60400.00000000001, \"age_adjusted_death_rate\": 831.5}, {\"year\": 2013, \"113_cause_name\": \"All Causes\", \"cause_name\": \"All causes\", \"state\": \"North Dakota\", \"deaths\": 6233, \"median_household_income\": 58800.00000000001, \"age_adjusted_death_rate\": 709.7}, {\"year\": 2015, \"113_cause_name\": \"All Causes\", \"cause_name\": \"All causes\", \"state\": \"West Virginia\", \"deaths\": 22752, \"median_household_income\": 43500.0, \"age_adjusted_death_rate\": 943.4}, {\"year\": 2004, \"113_cause_name\": \"All Causes\", \"cause_name\": \"All causes\", \"state\": \"Iowa\", \"deaths\": 26897, \"median_household_income\": 72000.0, \"age_adjusted_death_rate\": 738.3}, {\"year\": 2007, \"113_cause_name\": \"All Causes\", \"cause_name\": \"All causes\", \"state\": \"United States\", \"deaths\": 2423712, \"median_household_income\": 58200.0, \"age_adjusted_death_rate\": 775.3}, {\"year\": 2003, \"113_cause_name\": \"All Causes\", \"cause_name\": \"All causes\", \"state\": \"Maryland\", \"deaths\": 44499, \"median_household_income\": 52800.0, \"age_adjusted_death_rate\": 864.5}, {\"year\": 2017, \"113_cause_name\": \"All Causes\", \"cause_name\": \"All causes\", \"state\": \"Missouri\", \"deaths\": 61876, \"median_household_income\": 53700.0, \"age_adjusted_death_rate\": 820.1}, {\"year\": 2011, \"113_cause_name\": \"All Causes\", \"cause_name\": \"All causes\", \"state\": \"California\", \"deaths\": 239942, \"median_household_income\": 65000.0, \"age_adjusted_death_rate\": 641.3}, {\"year\": 2013, \"113_cause_name\": \"All Causes\", \"cause_name\": \"All causes\", \"state\": \"Illinois\", \"deaths\": 103401, \"median_household_income\": 59200.0, \"age_adjusted_death_rate\": 724.0}, {\"year\": 2002, \"113_cause_name\": \"All Causes\", \"cause_name\": \"All causes\", \"state\": \"Minnesota\", \"deaths\": 38510, \"median_household_income\": 69500.0, \"age_adjusted_death_rate\": 751.3}, {\"year\": 2006, \"113_cause_name\": \"All Causes\", \"cause_name\": \"All causes\", \"state\": \"Idaho\", \"deaths\": 10613, \"median_household_income\": 55200.0, \"age_adjusted_death_rate\": 756.0}, {\"year\": 2005, \"113_cause_name\": \"All Causes\", \"cause_name\": \"All causes\", \"state\": \"Idaho\", \"deaths\": 10556, \"median_household_income\": 52100.0, \"age_adjusted_death_rate\": 781.2}, {\"year\": 2002, \"113_cause_name\": \"All Causes\", \"cause_name\": \"All causes\", \"state\": \"Iowa\", \"deaths\": 27978, \"median_household_income\": 67500.0, \"age_adjusted_death_rate\": 779.9}, {\"year\": 2001, \"113_cause_name\": \"All Causes\", \"cause_name\": \"All causes\", \"state\": \"Maine\", \"deaths\": 12421, \"median_household_income\": 55900.0, \"age_adjusted_death_rate\": 848.7}, {\"year\": 2000, \"113_cause_name\": \"All Causes\", \"cause_name\": \"All causes\", \"state\": \"Michigan\", \"deaths\": 86953, \"median_household_income\": 65900.0, \"age_adjusted_death_rate\": 904.2}, {\"year\": 2012, \"113_cause_name\": \"All Causes\", \"cause_name\": \"All causes\", \"state\": \"Washington\", \"deaths\": 50105, \"median_household_income\": 61600.0, \"age_adjusted_death_rate\": 681.5}, {\"year\": 1999, \"113_cause_name\": \"All Causes\", \"cause_name\": \"All causes\", \"state\": \"Maine\", \"deaths\": 12261, \"median_household_income\": 76100.0, \"age_adjusted_death_rate\": 865.9}, {\"year\": 2000, \"113_cause_name\": \"All Causes\", \"cause_name\": \"All causes\", \"state\": \"District of Columbia\", \"deaths\": 6001, \"median_household_income\": 59200.0, \"age_adjusted_death_rate\": 1061.2}, {\"year\": 2016, \"113_cause_name\": \"All Causes\", \"cause_name\": \"All causes\", \"state\": \"Delaware\", \"deaths\": 8874, \"median_household_income\": 63100.0, \"age_adjusted_death_rate\": 746.2}, {\"year\": 2001, \"113_cause_name\": \"All Causes\", \"cause_name\": \"All causes\", \"state\": \"New Jersey\", \"deaths\": 74710, \"median_household_income\": 81400.0, \"age_adjusted_death_rate\": 840.3}, {\"year\": 2001, \"113_cause_name\": \"All Causes\", \"cause_name\": \"All causes\", \"state\": \"Colorado\", \"deaths\": 28294, \"median_household_income\": 58300.0, \"age_adjusted_death_rate\": 796.1}, {\"year\": 2001, \"113_cause_name\": \"All Causes\", \"cause_name\": \"All causes\", \"state\": \"District of Columbia\", \"deaths\": 5951, \"median_household_income\": 46200.0, \"age_adjusted_death_rate\": 1049.9}, {\"year\": 2014, \"113_cause_name\": \"All Causes\", \"cause_name\": \"All causes\", \"state\": \"North Dakota\", \"deaths\": 6184, \"median_household_income\": 61200.0, \"age_adjusted_death_rate\": 692.7}, {\"year\": 2017, \"113_cause_name\": \"All Causes\", \"cause_name\": \"All causes\", \"state\": \"Maine\", \"deaths\": 14676, \"median_household_income\": 56300.0, \"age_adjusted_death_rate\": 771.6}, {\"year\": 2015, \"113_cause_name\": \"All Causes\", \"cause_name\": \"All causes\", \"state\": \"United States\", \"deaths\": 2712630, \"median_household_income\": 55800.0, \"age_adjusted_death_rate\": 733.1}, {\"year\": 2013, \"113_cause_name\": \"All Causes\", \"cause_name\": \"All causes\", \"state\": \"Delaware\", \"deaths\": 7967, \"median_household_income\": 61000.0, \"age_adjusted_death_rate\": 726.8}, {\"year\": 2016, \"113_cause_name\": \"All Causes\", \"cause_name\": \"All causes\", \"state\": \"Colorado\", \"deaths\": 37530, \"median_household_income\": 67100.0, \"age_adjusted_death_rate\": 669.5}, {\"year\": 2014, \"113_cause_name\": \"All Causes\", \"cause_name\": \"All causes\", \"state\": \"Nevada\", \"deaths\": 21793, \"median_household_income\": 53300.0, \"age_adjusted_death_rate\": 749.2}, {\"year\": 2002, \"113_cause_name\": \"All Causes\", \"cause_name\": \"All causes\", \"state\": \"Arkansas\", \"deaths\": 28513, \"median_household_income\": 47500.0, \"age_adjusted_death_rate\": 975.2}, {\"year\": 2003, \"113_cause_name\": \"All Causes\", \"cause_name\": \"All causes\", \"state\": \"Utah\", \"deaths\": 13412, \"median_household_income\": 47200.0, \"age_adjusted_death_rate\": 793.6}, {\"year\": 2013, \"113_cause_name\": \"All Causes\", \"cause_name\": \"All causes\", \"state\": \"Kentucky\", \"deaths\": 43759, \"median_household_income\": 45700.0, \"age_adjusted_death_rate\": 899.9}, {\"year\": 2001, \"113_cause_name\": \"All Causes\", \"cause_name\": \"All causes\", \"state\": \"Wisconsin\", \"deaths\": 46628, \"median_household_income\": 59900.0, \"age_adjusted_death_rate\": 812.5}, {\"year\": 2005, \"113_cause_name\": \"All Causes\", \"cause_name\": \"All causes\", \"state\": \"Maryland\", \"deaths\": 43892, \"median_household_income\": 77500.0, \"age_adjusted_death_rate\": 818.1}, {\"year\": 2008, \"113_cause_name\": \"All Causes\", \"cause_name\": \"All causes\", \"state\": \"Maryland\", \"deaths\": 43892, \"median_household_income\": 54400.0, \"age_adjusted_death_rate\": 769.6}, {\"year\": 2008, \"113_cause_name\": \"All Causes\", \"cause_name\": \"All causes\", \"state\": \"New Hampshire\", \"deaths\": 10268, \"median_household_income\": 51700.0, \"age_adjusted_death_rate\": 715.3}, {\"year\": 2007, \"113_cause_name\": \"All Causes\", \"cause_name\": \"All causes\", \"state\": \"Pennsylvania\", \"deaths\": 125104, \"median_household_income\": 63200.0, \"age_adjusted_death_rate\": 793.2}, {\"year\": 2000, \"113_cause_name\": \"All Causes\", \"cause_name\": \"All causes\", \"state\": \"Rhode Island\", \"deaths\": 10027, \"median_household_income\": 62100.0, \"age_adjusted_death_rate\": 823.7}, {\"year\": 2008, \"113_cause_name\": \"All Causes\", \"cause_name\": \"All causes\", \"state\": \"Iowa\", \"deaths\": 28541, \"median_household_income\": 47400.0, \"age_adjusted_death_rate\": 752.6}, {\"year\": 2015, \"113_cause_name\": \"All Causes\", \"cause_name\": \"All causes\", \"state\": \"Alaska\", \"deaths\": 4316, \"median_household_income\": 75900.0, \"age_adjusted_death_rate\": 747.4}, {\"year\": 2004, \"113_cause_name\": \"All Causes\", \"cause_name\": \"All causes\", \"state\": \"New Jersey\", \"deaths\": 71371, \"median_household_income\": 77600.0, \"age_adjusted_death_rate\": 775.8}, {\"year\": 2015, \"113_cause_name\": \"All Causes\", \"cause_name\": \"All causes\", \"state\": \"Tennessee\", \"deaths\": 66570, \"median_household_income\": 48900.0, \"age_adjusted_death_rate\": 886.4}, {\"year\": 2015, \"113_cause_name\": \"All Causes\", \"cause_name\": \"All causes\", \"state\": \"New York\", \"deaths\": 153628, \"median_household_income\": 62999.99999999999, \"age_adjusted_death_rate\": 644.0}, {\"year\": 2001, \"113_cause_name\": \"All Causes\", \"cause_name\": \"All causes\", \"state\": \"Tennessee\", \"deaths\": 55151, \"median_household_income\": 62600.0, \"age_adjusted_death_rate\": 979.5}, {\"year\": 2016, \"113_cause_name\": \"All Causes\", \"cause_name\": \"All causes\", \"state\": \"California\", \"deaths\": 262240, \"median_household_income\": 69200.0, \"age_adjusted_death_rate\": 616.9}, {\"year\": 2013, \"113_cause_name\": \"All Causes\", \"cause_name\": \"All causes\", \"state\": \"Minnesota\", \"deaths\": 40987, \"median_household_income\": 64000.0, \"age_adjusted_death_rate\": 651.0}, {\"year\": 2009, \"113_cause_name\": \"All Causes\", \"cause_name\": \"All causes\", \"state\": \"Arkansas\", \"deaths\": 28673, \"median_household_income\": 43200.0, \"age_adjusted_death_rate\": 896.4}, {\"year\": 2012, \"113_cause_name\": \"All Causes\", \"cause_name\": \"All causes\", \"state\": \"Tennessee\", \"deaths\": 61956, \"median_household_income\": 46700.0, \"age_adjusted_death_rate\": 880.6}, {\"year\": 2012, \"113_cause_name\": \"All Causes\", \"cause_name\": \"All causes\", \"state\": \"California\", \"deaths\": 242554, \"median_household_income\": 63400.0, \"age_adjusted_death_rate\": 630.4}, {\"year\": 2016, \"113_cause_name\": \"All Causes\", \"cause_name\": \"All causes\", \"state\": \"Oklahoma\", \"deaths\": 39276, \"median_household_income\": 50200.0, \"age_adjusted_death_rate\": 888.4}, {\"year\": 2013, \"113_cause_name\": \"All Causes\", \"cause_name\": \"All causes\", \"state\": \"Indiana\", \"deaths\": 60716, \"median_household_income\": 50100.0, \"age_adjusted_death_rate\": 832.2}, {\"year\": 2010, \"113_cause_name\": \"All Causes\", \"cause_name\": \"All causes\", \"state\": \"Washington\", \"deaths\": 48146, \"median_household_income\": 62700.0, \"age_adjusted_death_rate\": 692.3}, {\"year\": 2005, \"113_cause_name\": \"All Causes\", \"cause_name\": \"All causes\", \"state\": \"Alaska\", \"deaths\": 3168, \"median_household_income\": 70800.0, \"age_adjusted_death_rate\": 762.3}, {\"year\": 2016, \"113_cause_name\": \"All Causes\", \"cause_name\": \"All causes\", \"state\": \"Florida\", \"deaths\": 197313, \"median_household_income\": 52000.0, \"age_adjusted_death_rate\": 666.6}, {\"year\": 2017, \"113_cause_name\": \"All Causes\", \"cause_name\": \"All causes\", \"state\": \"Oklahoma\", \"deaths\": 40452, \"median_household_income\": 50100.0, \"age_adjusted_death_rate\": 902.4}, {\"year\": 2006, \"113_cause_name\": \"All Causes\", \"cause_name\": \"All causes\", \"state\": \"Mississippi\", \"deaths\": 28564, \"median_household_income\": 46400.0, \"age_adjusted_death_rate\": 999.1}, {\"year\": 2011, \"113_cause_name\": \"All Causes\", \"cause_name\": \"All causes\", \"state\": \"Delaware\", \"deaths\": 7845, \"median_household_income\": 62900.0, \"age_adjusted_death_rate\": 764.2}, {\"year\": 2012, \"113_cause_name\": \"All Causes\", \"cause_name\": \"All causes\", \"state\": \"New Jersey\", \"deaths\": 70534, \"median_household_income\": 74000.0, \"age_adjusted_death_rate\": 677.6}, {\"year\": 2013, \"113_cause_name\": \"All Causes\", \"cause_name\": \"All causes\", \"state\": \"Hawaii\", \"deaths\": 10505, \"median_household_income\": 71700.0, \"age_adjusted_death_rate\": 590.8}, {\"year\": 2006, \"113_cause_name\": \"All Causes\", \"cause_name\": \"All causes\", \"state\": \"Florida\", \"deaths\": 170066, \"median_household_income\": 62300.0, \"age_adjusted_death_rate\": 745.6}, {\"year\": 2003, \"113_cause_name\": \"All Causes\", \"cause_name\": \"All causes\", \"state\": \"Illinois\", \"deaths\": 105325, \"median_household_income\": 56000.0, \"age_adjusted_death_rate\": 846.6}, {\"year\": 2004, \"113_cause_name\": \"All Causes\", \"cause_name\": \"All causes\", \"state\": \"Arizona\", \"deaths\": 43198, \"median_household_income\": 59299.99999999999, \"age_adjusted_death_rate\": 771.1}, {\"year\": 2013, \"113_cause_name\": \"All Causes\", \"cause_name\": \"All causes\", \"state\": \"South Carolina\", \"deaths\": 44582, \"median_household_income\": 46500.0, \"age_adjusted_death_rate\": 837.8}, {\"year\": 2005, \"113_cause_name\": \"All Causes\", \"cause_name\": \"All causes\", \"state\": \"District of Columbia\", \"deaths\": 5483, \"median_household_income\": 59400.0, \"age_adjusted_death_rate\": 970.6}, {\"year\": 2013, \"113_cause_name\": \"All Causes\", \"cause_name\": \"All causes\", \"state\": \"South Dakota\", \"deaths\": 7099, \"median_household_income\": 51599.99999999999, \"age_adjusted_death_rate\": 679.3}, {\"year\": 2008, \"113_cause_name\": \"All Causes\", \"cause_name\": \"All causes\", \"state\": \"Georgia\", \"deaths\": 69640, \"median_household_income\": 47300.0, \"age_adjusted_death_rate\": 864.1}, {\"year\": 2001, \"113_cause_name\": \"All Causes\", \"cause_name\": \"All causes\", \"state\": \"New Hampshire\", \"deaths\": 9815, \"median_household_income\": 55500.0, \"age_adjusted_death_rate\": 809.3}, {\"year\": 2004, \"113_cause_name\": \"All Causes\", \"cause_name\": \"All causes\", \"state\": \"Alaska\", \"deaths\": 3051, \"median_household_income\": 55200.0, \"age_adjusted_death_rate\": 756.7}, {\"year\": 2009, \"113_cause_name\": \"All Causes\", \"cause_name\": \"All causes\", \"state\": \"New Jersey\", \"deaths\": 68277, \"median_household_income\": 76300.0, \"age_adjusted_death_rate\": 689.3}, {\"year\": 2014, \"113_cause_name\": \"All Causes\", \"cause_name\": \"All causes\", \"state\": \"Montana\", \"deaths\": 9381, \"median_household_income\": 48000.0, \"age_adjusted_death_rate\": 732.1}, {\"year\": 2004, \"113_cause_name\": \"All Causes\", \"cause_name\": \"All causes\", \"state\": \"Michigan\", \"deaths\": 85169, \"median_household_income\": 57900.0, \"age_adjusted_death_rate\": 834.1}, {\"year\": 2014, \"113_cause_name\": \"All Causes\", \"cause_name\": \"All causes\", \"state\": \"Alaska\", \"deaths\": 4128, \"median_household_income\": 74200.0, \"age_adjusted_death_rate\": 736.8}, {\"year\": 2011, \"113_cause_name\": \"All Causes\", \"cause_name\": \"All causes\", \"state\": \"Michigan\", \"deaths\": 89508, \"median_household_income\": 51200.0, \"age_adjusted_death_rate\": 784.2}, {\"year\": 1999, \"113_cause_name\": \"All Causes\", \"cause_name\": \"All causes\", \"state\": \"Rhode Island\", \"deaths\": 9708, \"median_household_income\": 50400.0, \"age_adjusted_death_rate\": 807.5}, {\"year\": 2000, \"113_cause_name\": \"All Causes\", \"cause_name\": \"All causes\", \"state\": \"North Carolina\", \"deaths\": 71935, \"median_household_income\": 57800.0, \"age_adjusted_death_rate\": 952.7}, {\"year\": 1999, \"113_cause_name\": \"All Causes\", \"cause_name\": \"All causes\", \"state\": \"New York\", \"deaths\": 159927, \"median_household_income\": 64000.0, \"age_adjusted_death_rate\": 833.4}, {\"year\": 2005, \"113_cause_name\": \"All Causes\", \"cause_name\": \"All causes\", \"state\": \"United States\", \"deaths\": 2448017, \"median_household_income\": 58200.0, \"age_adjusted_death_rate\": 815.0}, {\"year\": 2010, \"113_cause_name\": \"All Causes\", \"cause_name\": \"All causes\", \"state\": \"New Hampshire\", \"deaths\": 10201, \"median_household_income\": 68800.0, \"age_adjusted_death_rate\": 690.4}, {\"year\": 2017, \"113_cause_name\": \"All Causes\", \"cause_name\": \"All causes\", \"state\": \"Delaware\", \"deaths\": 9178, \"median_household_income\": 62900.0, \"age_adjusted_death_rate\": 749.6}, {\"year\": 2015, \"113_cause_name\": \"All Causes\", \"cause_name\": \"All causes\", \"state\": \"Texas\", \"deaths\": 189654, \"median_household_income\": 57600.0, \"age_adjusted_death_rate\": 745.0}, {\"year\": 2013, \"113_cause_name\": \"All Causes\", \"cause_name\": \"All causes\", \"state\": \"Alaska\", \"deaths\": 3997, \"median_household_income\": 76100.0, \"age_adjusted_death_rate\": 724.4}, {\"year\": 2002, \"113_cause_name\": \"All Causes\", \"cause_name\": \"All causes\", \"state\": \"Illinois\", \"deaths\": 106667, \"median_household_income\": 68800.0, \"age_adjusted_death_rate\": 866.7}, {\"year\": 2016, \"113_cause_name\": \"All Causes\", \"cause_name\": \"All causes\", \"state\": \"Maryland\", \"deaths\": 48824, \"median_household_income\": 80600.0, \"age_adjusted_death_rate\": 717.6}, {\"year\": 2007, \"113_cause_name\": \"All Causes\", \"cause_name\": \"All causes\", \"state\": \"Alabama\", \"deaths\": 46696, \"median_household_income\": 47000.0, \"age_adjusted_death_rate\": 957.2}, {\"year\": 2017, \"113_cause_name\": \"All Causes\", \"cause_name\": \"All causes\", \"state\": \"Massachusetts\", \"deaths\": 58803, \"median_household_income\": 77400.0, \"age_adjusted_death_rate\": 677.1}, {\"year\": 2002, \"113_cause_name\": \"All Causes\", \"cause_name\": \"All causes\", \"state\": \"Alabama\", \"deaths\": 46069, \"median_household_income\": 48100.0, \"age_adjusted_death_rate\": 1013.4}, {\"year\": 2000, \"113_cause_name\": \"All Causes\", \"cause_name\": \"All causes\", \"state\": \"Mississippi\", \"deaths\": 28654, \"median_household_income\": 46200.0, \"age_adjusted_death_rate\": 1051.9}, {\"year\": 2017, \"113_cause_name\": \"All Causes\", \"cause_name\": \"All causes\", \"state\": \"Alaska\", \"deaths\": 4411, \"median_household_income\": 73200.0, \"age_adjusted_death_rate\": 708.8}, {\"year\": 2007, \"113_cause_name\": \"All Causes\", \"cause_name\": \"All causes\", \"state\": \"Alaska\", \"deaths\": 3463, \"median_household_income\": 64700.0, \"age_adjusted_death_rate\": 780.6}, {\"year\": 1999, \"113_cause_name\": \"All Causes\", \"cause_name\": \"All causes\", \"state\": \"North Carolina\", \"deaths\": 69600, \"median_household_income\": 61300.0, \"age_adjusted_death_rate\": 933.0}, {\"year\": 2015, \"113_cause_name\": \"All Causes\", \"cause_name\": \"All causes\", \"state\": \"District of Columbia\", \"deaths\": 4871, \"median_household_income\": 78300.0, \"age_adjusted_death_rate\": 748.6}, {\"year\": 2003, \"113_cause_name\": \"All Causes\", \"cause_name\": \"All causes\", \"state\": \"Georgia\", \"deaths\": 66478, \"median_household_income\": 48900.0, \"age_adjusted_death_rate\": 956.8}, {\"year\": 2011, \"113_cause_name\": \"All Causes\", \"cause_name\": \"All causes\", \"state\": \"Louisiana\", \"deaths\": 40890, \"median_household_income\": 43200.0, \"age_adjusted_death_rate\": 886.6}, {\"year\": 2009, \"113_cause_name\": \"All Causes\", \"cause_name\": \"All causes\", \"state\": \"Kentucky\", \"deaths\": 41380, \"median_household_income\": 45100.0, \"age_adjusted_death_rate\": 912.5}, {\"year\": 1999, \"113_cause_name\": \"All Causes\", \"cause_name\": \"All causes\", \"state\": \"South Carolina\", \"deaths\": 36053, \"median_household_income\": 47500.0, \"age_adjusted_death_rate\": 973.5}, {\"year\": 2014, \"113_cause_name\": \"All Causes\", \"cause_name\": \"All causes\", \"state\": \"Michigan\", \"deaths\": 93914, \"median_household_income\": 51700.0, \"age_adjusted_death_rate\": 783.7}, {\"year\": 2011, \"113_cause_name\": \"All Causes\", \"cause_name\": \"All causes\", \"state\": \"Tennessee\", \"deaths\": 60541, \"median_household_income\": 46700.0, \"age_adjusted_death_rate\": 879.0}, {\"year\": 2017, \"113_cause_name\": \"All Causes\", \"cause_name\": \"All causes\", \"state\": \"South Dakota\", \"deaths\": 7996, \"median_household_income\": 56500.0, \"age_adjusted_death_rate\": 736.6}, {\"year\": 2013, \"113_cause_name\": \"All Causes\", \"cause_name\": \"All causes\", \"state\": \"New Hampshire\", \"deaths\": 10897, \"median_household_income\": 67700.0, \"age_adjusted_death_rate\": 679.1}, {\"year\": 2006, \"113_cause_name\": \"All Causes\", \"cause_name\": \"All causes\", \"state\": \"Iowa\", \"deaths\": 27362, \"median_household_income\": 72000.0, \"age_adjusted_death_rate\": 736.1}, {\"year\": 2002, \"113_cause_name\": \"All Causes\", \"cause_name\": \"All causes\", \"state\": \"Oregon\", \"deaths\": 31119, \"median_household_income\": 60400.00000000001, \"age_adjusted_death_rate\": 839.6}, {\"year\": 2015, \"113_cause_name\": \"All Causes\", \"cause_name\": \"All causes\", \"state\": \"Colorado\", \"deaths\": 36349, \"median_household_income\": 66100.0, \"age_adjusted_death_rate\": 665.0}, {\"year\": 2015, \"113_cause_name\": \"All Causes\", \"cause_name\": \"All causes\", \"state\": \"Wyoming\", \"deaths\": 4778, \"median_household_income\": 62300.0, \"age_adjusted_death_rate\": 748.3}, {\"year\": 2009, \"113_cause_name\": \"All Causes\", \"cause_name\": \"All causes\", \"state\": \"Missouri\", \"deaths\": 54263, \"median_household_income\": 49900.0, \"age_adjusted_death_rate\": 815.3}, {\"year\": 2005, \"113_cause_name\": \"All Causes\", \"cause_name\": \"All causes\", \"state\": \"Nebraska\", \"deaths\": 14963, \"median_household_income\": 55200.0, \"age_adjusted_death_rate\": 757.8}, {\"year\": 2017, \"113_cause_name\": \"All Causes\", \"cause_name\": \"All causes\", \"state\": \"Mississippi\", \"deaths\": 32280, \"median_household_income\": 43500.0, \"age_adjusted_death_rate\": 951.3}, {\"year\": 2008, \"113_cause_name\": \"All Causes\", \"cause_name\": \"All causes\", \"state\": \"North Carolina\", \"deaths\": 77283, \"median_household_income\": 50300.00000000001, \"age_adjusted_death_rate\": 828.1}, {\"year\": 2011, \"113_cause_name\": \"All Causes\", \"cause_name\": \"All causes\", \"state\": \"South Dakota\", \"deaths\": 7314, \"median_household_income\": 58900.0, \"age_adjusted_death_rate\": 720.6}, {\"year\": 2011, \"113_cause_name\": \"All Causes\", \"cause_name\": \"All causes\", \"state\": \"Alaska\", \"deaths\": 3849, \"median_household_income\": 51599.99999999999, \"age_adjusted_death_rate\": 747.8}, {\"year\": 2002, \"113_cause_name\": \"All Causes\", \"cause_name\": \"All causes\", \"state\": \"Montana\", \"deaths\": 8506, \"median_household_income\": 55900.0, \"age_adjusted_death_rate\": 854.4}, {\"year\": 2004, \"113_cause_name\": \"All Causes\", \"cause_name\": \"All causes\", \"state\": \"Alabama\", \"deaths\": 46121, \"median_household_income\": 46400.0, \"age_adjusted_death_rate\": 998.3}, {\"year\": 2011, \"113_cause_name\": \"All Causes\", \"cause_name\": \"All causes\", \"state\": \"Nevada\", \"deaths\": 20343, \"median_household_income\": 57500.0, \"age_adjusted_death_rate\": 789.7}, {\"year\": 2006, \"113_cause_name\": \"All Causes\", \"cause_name\": \"All causes\", \"state\": \"Nebraska\", \"deaths\": 14899, \"median_household_income\": 60300.0, \"age_adjusted_death_rate\": 743.7}, {\"year\": 2000, \"113_cause_name\": \"All Causes\", \"cause_name\": \"All causes\", \"state\": \"Kentucky\", \"deaths\": 39504, \"median_household_income\": 49700.0, \"age_adjusted_death_rate\": 998.6}, {\"year\": 2017, \"113_cause_name\": \"All Causes\", \"cause_name\": \"All causes\", \"state\": \"Arizona\", \"deaths\": 57758, \"median_household_income\": 56600.0, \"age_adjusted_death_rate\": 678.5}, {\"year\": 2016, \"113_cause_name\": \"All Causes\", \"cause_name\": \"All causes\", \"state\": \"Illinois\", \"deaths\": 107020, \"median_household_income\": 62300.0, \"age_adjusted_death_rate\": 724.3}, {\"year\": 2007, \"113_cause_name\": \"All Causes\", \"cause_name\": \"All causes\", \"state\": \"Iowa\", \"deaths\": 27221, \"median_household_income\": 76700.0, \"age_adjusted_death_rate\": 724.2}, {\"year\": 2007, \"113_cause_name\": \"All Causes\", \"cause_name\": \"All causes\", \"state\": \"Texas\", \"deaths\": 160548, \"median_household_income\": 63200.0, \"age_adjusted_death_rate\": 803.1}, {\"year\": 2008, \"113_cause_name\": \"All Causes\", \"cause_name\": \"All causes\", \"state\": \"Kentucky\", \"deaths\": 41329, \"median_household_income\": 43099.99999999999, \"age_adjusted_death_rate\": 926.7}, {\"year\": 2005, \"113_cause_name\": \"All Causes\", \"cause_name\": \"All causes\", \"state\": \"Massachusetts\", \"deaths\": 53874, \"median_household_income\": 72000.0, \"age_adjusted_death_rate\": 741.6}, {\"year\": 2013, \"113_cause_name\": \"All Causes\", \"cause_name\": \"All causes\", \"state\": \"Wyoming\", \"deaths\": 4516, \"median_household_income\": 61900.0, \"age_adjusted_death_rate\": 731.7}, {\"year\": 2006, \"113_cause_name\": \"All Causes\", \"cause_name\": \"All causes\", \"state\": \"New York\", \"deaths\": 148806, \"median_household_income\": 62300.0, \"age_adjusted_death_rate\": 713.7}, {\"year\": 2016, \"113_cause_name\": \"All Causes\", \"cause_name\": \"All causes\", \"state\": \"Vermont\", \"deaths\": 5909, \"median_household_income\": 58900.0, \"age_adjusted_death_rate\": 712.8}, {\"year\": 2016, \"113_cause_name\": \"All Causes\", \"cause_name\": \"All causes\", \"state\": \"South Dakota\", \"deaths\": 7845, \"median_household_income\": 55600.00000000001, \"age_adjusted_death_rate\": 719.5}, {\"year\": 2005, \"113_cause_name\": \"All Causes\", \"cause_name\": \"All causes\", \"state\": \"Missouri\", \"deaths\": 54656, \"median_household_income\": 52800.0, \"age_adjusted_death_rate\": 873.3}, {\"year\": 2009, \"113_cause_name\": \"All Causes\", \"cause_name\": \"All causes\", \"state\": \"Nevada\", \"deaths\": 19224, \"median_household_income\": 57500.0, \"age_adjusted_death_rate\": 794.6}, {\"year\": 1999, \"113_cause_name\": \"All Causes\", \"cause_name\": \"All causes\", \"state\": \"Texas\", \"deaths\": 146858, \"median_household_income\": 58900.0, \"age_adjusted_death_rate\": 886.6}, {\"year\": 2016, \"113_cause_name\": \"All Causes\", \"cause_name\": \"All causes\", \"state\": \"Tennessee\", \"deaths\": 67857, \"median_household_income\": 49600.0, \"age_adjusted_death_rate\": 886.3}, {\"year\": 2002, \"113_cause_name\": \"All Causes\", \"cause_name\": \"All causes\", \"state\": \"New Hampshire\", \"deaths\": 9853, \"median_household_income\": 57900.0, \"age_adjusted_death_rate\": 796.0}, {\"year\": 2015, \"113_cause_name\": \"All Causes\", \"cause_name\": \"All causes\", \"state\": \"Kentucky\", \"deaths\": 46564, \"median_household_income\": 46800.0, \"age_adjusted_death_rate\": 924.7}, {\"year\": 2002, \"113_cause_name\": \"All Causes\", \"cause_name\": \"All causes\", \"state\": \"Indiana\", \"deaths\": 55396, \"median_household_income\": 78000.0, \"age_adjusted_death_rate\": 906.1}, {\"year\": 2012, \"113_cause_name\": \"All Causes\", \"cause_name\": \"All causes\", \"state\": \"Delaware\", \"deaths\": 7875, \"median_household_income\": 71200.0, \"age_adjusted_death_rate\": 745.4}, {\"year\": 2014, \"113_cause_name\": \"All Causes\", \"cause_name\": \"All causes\", \"state\": \"South Carolina\", \"deaths\": 45454, \"median_household_income\": 46900.0, \"age_adjusted_death_rate\": 829.1}, {\"year\": 2004, \"113_cause_name\": \"All Causes\", \"cause_name\": \"All causes\", \"state\": \"Colorado\", \"deaths\": 28309, \"median_household_income\": 72000.0, \"age_adjusted_death_rate\": 738.5}, {\"year\": 2003, \"113_cause_name\": \"All Causes\", \"cause_name\": \"All causes\", \"state\": \"Michigan\", \"deaths\": 86728, \"median_household_income\": 52800.0, \"age_adjusted_death_rate\": 860.5}, {\"year\": 1999, \"113_cause_name\": \"All Causes\", \"cause_name\": \"All causes\", \"state\": \"Hawaii\", \"deaths\": 8270, \"median_household_income\": 73500.0, \"age_adjusted_death_rate\": 688.8}, {\"year\": 2010, \"113_cause_name\": \"All Causes\", \"cause_name\": \"All causes\", \"state\": \"Louisiana\", \"deaths\": 40667, \"median_household_income\": 47900.00000000001, \"age_adjusted_death_rate\": 903.8}, {\"year\": 2012, \"113_cause_name\": \"All Causes\", \"cause_name\": \"All causes\", \"state\": \"Wyoming\", \"deaths\": 4481, \"median_household_income\": 71200.0, \"age_adjusted_death_rate\": 748.3}, {\"year\": 2000, \"113_cause_name\": \"All Causes\", \"cause_name\": \"All causes\", \"state\": \"South Dakota\", \"deaths\": 7021, \"median_household_income\": 52100.0, \"age_adjusted_death_rate\": 805.7}, {\"year\": 2010, \"113_cause_name\": \"All Causes\", \"cause_name\": \"All causes\", \"state\": \"Vermont\", \"deaths\": 5380, \"median_household_income\": 55700.0, \"age_adjusted_death_rate\": 718.7}, {\"year\": 2001, \"113_cause_name\": \"All Causes\", \"cause_name\": \"All causes\", \"state\": \"Arizona\", \"deaths\": 41058, \"median_household_income\": 79600.0, \"age_adjusted_death_rate\": 795.9}, {\"year\": 2000, \"113_cause_name\": \"All Causes\", \"cause_name\": \"All causes\", \"state\": \"Virginia\", \"deaths\": 56282, \"median_household_income\": 68900.0, \"age_adjusted_death_rate\": 890.4}, {\"year\": 2000, \"113_cause_name\": \"All Causes\", \"cause_name\": \"All causes\", \"state\": \"Wyoming\", \"deaths\": 3920, \"median_household_income\": 55900.0, \"age_adjusted_death_rate\": 851.8}, {\"year\": 2011, \"113_cause_name\": \"All Causes\", \"cause_name\": \"All causes\", \"state\": \"Kentucky\", \"deaths\": 42626, \"median_household_income\": 45100.0, \"age_adjusted_death_rate\": 910.3}, {\"year\": 2010, \"113_cause_name\": \"All Causes\", \"cause_name\": \"All causes\", \"state\": \"Florida\", \"deaths\": 173791, \"median_household_income\": 49999.99999999999, \"age_adjusted_death_rate\": 701.1}, {\"year\": 2008, \"113_cause_name\": \"All Causes\", \"cause_name\": \"All causes\", \"state\": \"Indiana\", \"deaths\": 56752, \"median_household_income\": 52300.0, \"age_adjusted_death_rate\": 843.8}, {\"year\": 2016, \"113_cause_name\": \"All Causes\", \"cause_name\": \"All causes\", \"state\": \"Georgia\", \"deaths\": 81428, \"median_household_income\": 54700.0, \"age_adjusted_death_rate\": 800.4}, {\"year\": 2005, \"113_cause_name\": \"All Causes\", \"cause_name\": \"All causes\", \"state\": \"Wisconsin\", \"deaths\": 46709, \"median_household_income\": 59299.99999999999, \"age_adjusted_death_rate\": 765.9}, {\"year\": 2004, \"113_cause_name\": \"All Causes\", \"cause_name\": \"All causes\", \"state\": \"Maryland\", \"deaths\": 43232, \"median_household_income\": 77500.0, \"age_adjusted_death_rate\": 823.7}, {\"year\": 2013, \"113_cause_name\": \"All Causes\", \"cause_name\": \"All causes\", \"state\": \"Montana\", \"deaths\": 9511, \"median_household_income\": 49500.00000000001, \"age_adjusted_death_rate\": 761.3}, {\"year\": 2012, \"113_cause_name\": \"All Causes\", \"cause_name\": \"All causes\", \"state\": \"North Dakota\", \"deaths\": 6038, \"median_household_income\": 58800.00000000001, \"age_adjusted_death_rate\": 701.2}, {\"year\": 2007, \"113_cause_name\": \"All Causes\", \"cause_name\": \"All causes\", \"state\": \"Colorado\", \"deaths\": 29993, \"median_household_income\": 76700.0, \"age_adjusted_death_rate\": 708.0}, {\"year\": 2003, \"113_cause_name\": \"All Causes\", \"cause_name\": \"All causes\", \"state\": \"Oklahoma\", \"deaths\": 35721, \"median_household_income\": 46600.00000000001, \"age_adjusted_death_rate\": 986.5}, {\"year\": 2014, \"113_cause_name\": \"All Causes\", \"cause_name\": \"All causes\", \"state\": \"Vermont\", \"deaths\": 5623, \"median_household_income\": 56099.99999999999, \"age_adjusted_death_rate\": 694.8}, {\"year\": 2015, \"113_cause_name\": \"All Causes\", \"cause_name\": \"All causes\", \"state\": \"Massachusetts\", \"deaths\": 57806, \"median_household_income\": 73100.0, \"age_adjusted_death_rate\": 684.8}, {\"year\": 2005, \"113_cause_name\": \"All Causes\", \"cause_name\": \"All causes\", \"state\": \"Nevada\", \"deaths\": 19029, \"median_household_income\": 61900.0, \"age_adjusted_death_rate\": 904.8}, {\"year\": 2012, \"113_cause_name\": \"All Causes\", \"cause_name\": \"All causes\", \"state\": \"Utah\", \"deaths\": 15676, \"median_household_income\": 58900.0, \"age_adjusted_death_rate\": 700.0}, {\"year\": 2017, \"113_cause_name\": \"All Causes\", \"cause_name\": \"All causes\", \"state\": \"Vermont\", \"deaths\": 6007, \"median_household_income\": 57500.0, \"age_adjusted_death_rate\": 714.9}, {\"year\": 2001, \"113_cause_name\": \"All Causes\", \"cause_name\": \"All causes\", \"state\": \"Arkansas\", \"deaths\": 27759, \"median_household_income\": 57800.0, \"age_adjusted_death_rate\": 955.4}, {\"year\": 2010, \"113_cause_name\": \"All Causes\", \"cause_name\": \"All causes\", \"state\": \"Alabama\", \"deaths\": 48038, \"median_household_income\": 45600.0, \"age_adjusted_death_rate\": 939.7}, {\"year\": 2014, \"113_cause_name\": \"All Causes\", \"cause_name\": \"All causes\", \"state\": \"New York\", \"deaths\": 149944, \"median_household_income\": 61000.0, \"age_adjusted_death_rate\": 636.5}, {\"year\": 2013, \"113_cause_name\": \"All Causes\", \"cause_name\": \"All causes\", \"state\": \"Texas\", \"deaths\": 179183, \"median_household_income\": 54500.0, \"age_adjusted_death_rate\": 751.6}, {\"year\": 2002, \"113_cause_name\": \"All Causes\", \"cause_name\": \"All causes\", \"state\": \"Washington\", \"deaths\": 45338, \"median_household_income\": 79600.0, \"age_adjusted_death_rate\": 795.0}, {\"year\": 2016, \"113_cause_name\": \"All Causes\", \"cause_name\": \"All causes\", \"state\": \"North Dakota\", \"deaths\": 6242, \"median_household_income\": 62000.0, \"age_adjusted_death_rate\": 688.4}, {\"year\": 2012, \"113_cause_name\": \"All Causes\", \"cause_name\": \"All causes\", \"state\": \"Iowa\", \"deaths\": 28389, \"median_household_income\": 53000.0, \"age_adjusted_death_rate\": 718.3}, {\"year\": 2011, \"113_cause_name\": \"All Causes\", \"cause_name\": \"All causes\", \"state\": \"Massachusetts\", \"deaths\": 53710, \"median_household_income\": 69900.0, \"age_adjusted_death_rate\": 676.3}, {\"year\": 2008, \"113_cause_name\": \"All Causes\", \"cause_name\": \"All causes\", \"state\": \"Montana\", \"deaths\": 8913, \"median_household_income\": 68600.0, \"age_adjusted_death_rate\": 788.7}, {\"year\": 1999, \"113_cause_name\": \"All Causes\", \"cause_name\": \"All causes\", \"state\": \"Arkansas\", \"deaths\": 27925, \"median_household_income\": 47500.0, \"age_adjusted_death_rate\": 975.3}, {\"year\": 2008, \"113_cause_name\": \"All Causes\", \"cause_name\": \"All causes\", \"state\": \"Florida\", \"deaths\": 170703, \"median_household_income\": 49999.99999999999, \"age_adjusted_death_rate\": 718.1}, {\"year\": 2016, \"113_cause_name\": \"All Causes\", \"cause_name\": \"All causes\", \"state\": \"Pennsylvania\", \"deaths\": 133040, \"median_household_income\": 58100.0, \"age_adjusted_death_rate\": 770.1}, {\"year\": 2004, \"113_cause_name\": \"All Causes\", \"cause_name\": \"All causes\", \"state\": \"Pennsylvania\", \"deaths\": 127640, \"median_household_income\": 56000.0, \"age_adjusted_death_rate\": 841.3}, {\"year\": 2000, \"113_cause_name\": \"All Causes\", \"cause_name\": \"All causes\", \"state\": \"Hawaii\", \"deaths\": 8290, \"median_household_income\": 73500.0, \"age_adjusted_death_rate\": 675.9}, {\"year\": 2006, \"113_cause_name\": \"All Causes\", \"cause_name\": \"All causes\", \"state\": \"New Jersey\", \"deaths\": 70356, \"median_household_income\": 72000.0, \"age_adjusted_death_rate\": 744.9}, {\"year\": 2005, \"113_cause_name\": \"All Causes\", \"cause_name\": \"All causes\", \"state\": \"Michigan\", \"deaths\": 86867, \"median_household_income\": 57900.0, \"age_adjusted_death_rate\": 838.6}, {\"year\": 2003, \"113_cause_name\": \"All Causes\", \"cause_name\": \"All causes\", \"state\": \"Wisconsin\", \"deaths\": 46177, \"median_household_income\": 55700.0, \"age_adjusted_death_rate\": 780.1}, {\"year\": 2008, \"113_cause_name\": \"All Causes\", \"cause_name\": \"All causes\", \"state\": \"Ohio\", \"deaths\": 109767, \"median_household_income\": 52300.0, \"age_adjusted_death_rate\": 844.3}, {\"year\": 2017, \"113_cause_name\": \"All Causes\", \"cause_name\": \"All causes\", \"state\": \"Hawaii\", \"deaths\": 11390, \"median_household_income\": 77800.0, \"age_adjusted_death_rate\": 584.9}, {\"year\": 2004, \"113_cause_name\": \"All Causes\", \"cause_name\": \"All causes\", \"state\": \"Mississippi\", \"deaths\": 27871, \"median_household_income\": 46400.0, \"age_adjusted_death_rate\": 996.6}, {\"year\": 2009, \"113_cause_name\": \"All Causes\", \"cause_name\": \"All causes\", \"state\": \"Illinois\", \"deaths\": 100056, \"median_household_income\": 59700.0, \"age_adjusted_death_rate\": 746.9}, {\"year\": 2002, \"113_cause_name\": \"All Causes\", \"cause_name\": \"All causes\", \"state\": \"North Dakota\", \"deaths\": 5892, \"median_household_income\": 51100.00000000001, \"age_adjusted_death_rate\": 755.5}, {\"year\": 2005, \"113_cause_name\": \"All Causes\", \"cause_name\": \"All causes\", \"state\": \"North Carolina\", \"deaths\": 74638, \"median_household_income\": 51200.0, \"age_adjusted_death_rate\": 881.3}]}}, {\"mode\": \"vega-lite\"});\n",
       "</script>"
      ],
      "text/plain": [
       "alt.Chart(...)"
      ]
     },
     "execution_count": 482,
     "metadata": {},
     "output_type": "execute_result"
    }
   ],
   "source": [
    "alt.Chart(df_explore_causes_summarized).mark_circle(size=60).encode(\n",
    "    alt.X('median_household_income', scale = alt.Scale(zero = False)),\n",
    "    alt.Y('age_adjusted_death_rate' , scale = alt.Scale(zero = False)),\n",
    "    tooltip = ['median_household_income', 'age_adjusted_death_rate']\n",
    ").interactive()\n"
   ]
  },
  {
   "attachments": {},
   "cell_type": "markdown",
   "metadata": {},
   "source": [
    "In this chart, there is a moderate to strong negative correlation between the median household income and the age adjusted death rate. The more the median income is, the less the deaths are appearing. We suspect the correlation to not be linear which we will investigate later."
   ]
  },
  {
   "cell_type": "code",
   "execution_count": null,
   "metadata": {
    "tags": [
     "Hide Code"
    ]
   },
   "outputs": [],
   "source": [
    "Chart_CLRD=alt.Chart(df_explore).mark_circle(size=60).encode(\n",
    "    alt.X('median_household_income', scale = alt.Scale(zero = False)),\n",
    "    alt.Y('age_adjusted_death_rate' , scale = alt.Scale(zero = False)),\n",
    "    color='cause_name',\n",
    "    tooltip = ['median_household_income', 'age_adjusted_death_rate']\n",
    "    ).properties(\n",
    "    width=150,\n",
    "    height=150\n",
    ").transform_filter(\n",
    "    alt.FieldEqualPredicate(field='cause_name', equal='CLRD',)\n",
    "\n",
    ").interactive()\n",
    "\n",
    "Chart_Alzheimer=alt.Chart(df_explore).mark_circle(size=60).encode(\n",
    "    alt.X('median_household_income', scale = alt.Scale(zero = False)),\n",
    "    alt.Y('age_adjusted_death_rate' , scale = alt.Scale(zero = False)),\n",
    "    color='cause_name',\n",
    "    tooltip = ['median_household_income', 'age_adjusted_death_rate']\n",
    "    ).properties(\n",
    "    width=150,\n",
    "    height=150\n",
    ").transform_filter(\n",
    "    alt.FieldEqualPredicate(field='cause_name', equal=\"Alzheimer's disease\")\n",
    "\n",
    ").interactive()\n",
    "\n",
    "Chart_Influenza=alt.Chart(df_explore).mark_circle(size=60).encode(\n",
    "    alt.X('median_household_income', scale = alt.Scale(zero = False)),\n",
    "    alt.Y('age_adjusted_death_rate' , scale = alt.Scale(zero = False)),\n",
    "    color='cause_name',\n",
    "    tooltip = ['median_household_income', 'age_adjusted_death_rate']\n",
    "    ).properties(\n",
    "    width=150,\n",
    "    height=150\n",
    ").transform_filter(\n",
    "    alt.FieldEqualPredicate(field='cause_name', equal=\"Influenza and pneumonia\")\n",
    "\n",
    ").interactive()\n",
    "\n",
    "Chart_Suicide=alt.Chart(df_explore).mark_circle(size=60).encode(\n",
    "    alt.X('median_household_income', scale = alt.Scale(zero = False)),\n",
    "    alt.Y('age_adjusted_death_rate' , scale = alt.Scale(zero = False)),\n",
    "    color='cause_name',\n",
    "    tooltip = ['median_household_income', 'age_adjusted_death_rate']\n",
    "    ).properties(\n",
    "    width=150,\n",
    "    height=150\n",
    ").transform_filter(\n",
    "    alt.FieldEqualPredicate(field='cause_name', equal=\"Suicide\")\n",
    "\n",
    ").interactive()\n",
    "\n",
    "Chart_Kidney=alt.Chart(df_explore).mark_circle(size=60).encode(\n",
    "    alt.X('median_household_income', scale = alt.Scale(zero = False)),\n",
    "    alt.Y('age_adjusted_death_rate' , scale = alt.Scale(zero = False)),\n",
    "    color='cause_name',\n",
    "    tooltip = ['median_household_income', 'age_adjusted_death_rate']\n",
    "    ).properties(\n",
    "    width=150,\n",
    "    height=150\n",
    ").transform_filter(\n",
    "    alt.FieldEqualPredicate(field='cause_name', equal=\"Kidney disease\")\n",
    "\n",
    ").interactive()\n",
    "\n",
    "Chart_Unintentional=alt.Chart(df_explore).mark_circle(size=60).encode(\n",
    "    alt.X('median_household_income', scale = alt.Scale(zero = False)),\n",
    "    alt.Y('age_adjusted_death_rate' , scale = alt.Scale(zero = False)),\n",
    "    color='cause_name',\n",
    "    tooltip = ['median_household_income', 'age_adjusted_death_rate']\n",
    "    ).properties(\n",
    "    width=150,\n",
    "    height=150\n",
    ").transform_filter(\n",
    "    alt.FieldEqualPredicate(field='cause_name', equal=\"Unintentional injuries\")\n",
    "\n",
    ").interactive()\n",
    "\n",
    "Chart_Diabetes=alt.Chart(df_explore).mark_circle(size=60).encode(\n",
    "    alt.X('median_household_income', scale = alt.Scale(zero = False)),\n",
    "    alt.Y('age_adjusted_death_rate' , scale = alt.Scale(zero = False)),\n",
    "    color='cause_name',\n",
    "    tooltip = ['median_household_income', 'age_adjusted_death_rate']\n",
    "    ).properties(\n",
    "    width=150,\n",
    "    height=150\n",
    ").transform_filter(\n",
    "    alt.FieldEqualPredicate(field='cause_name', equal=\"Diabetes\")\n",
    "\n",
    ").interactive()\n",
    "\n",
    "Chart_Stroke=alt.Chart(df_explore).mark_circle(size=60).encode(\n",
    "    alt.X('median_household_income', scale = alt.Scale(zero = False)),\n",
    "    alt.Y('age_adjusted_death_rate' , scale = alt.Scale(zero = False)),\n",
    "    color='cause_name',\n",
    "    tooltip = ['median_household_income', 'age_adjusted_death_rate']\n",
    "    ).properties(\n",
    "    width=150,\n",
    "    height=150\n",
    ").transform_filter(\n",
    "    alt.FieldEqualPredicate(field='cause_name', equal=\"Stroke\")\n",
    "\n",
    ").interactive()\n",
    "\n",
    "Chart_Cancer=alt.Chart(df_explore).mark_circle(size=60).encode(\n",
    "    alt.X('median_household_income', scale = alt.Scale(zero = False)),\n",
    "    alt.Y('age_adjusted_death_rate' , scale = alt.Scale(zero = False)),\n",
    "    color='cause_name',\n",
    "    tooltip = ['median_household_income', 'age_adjusted_death_rate']\n",
    "    ).properties(\n",
    "    width=150,\n",
    "    height=150\n",
    ").transform_filter(\n",
    "    alt.FieldEqualPredicate(field='cause_name', equal=\"Cancer\")\n",
    "    \n",
    "    ).interactive()\n",
    "    \n",
    "Chart_Heart=alt.Chart(df_explore).mark_circle(size=60).encode(\n",
    "    alt.X('median_household_income', scale = alt.Scale(zero = False)),\n",
    "    alt.Y('age_adjusted_death_rate' , scale = alt.Scale(zero = False)),\n",
    "    color='cause_name',\n",
    "    tooltip = ['median_household_income', 'age_adjusted_death_rate']\n",
    "    ).properties(\n",
    "    width=150,\n",
    "    height=150\n",
    ").transform_filter(\n",
    "    alt.FieldEqualPredicate(field='cause_name', equal=\"Heart disease\")\n",
    "\n",
    ").interactive()\n",
    "\n",
    "Horizontal1=Chart_CLRD | Chart_Alzheimer | Chart_Diabetes \n",
    "Horizontal2=Chart_Kidney | Chart_Suicide | Chart_Influenza \n",
    "Horizontal3=Chart_Stroke | Chart_Cancer | Chart_Heart | Chart_Unintentional\n",
    "alt.vconcat(Horizontal1, Horizontal2, Horizontal3)"
   ]
  },
  {
   "attachments": {},
   "cell_type": "markdown",
   "metadata": {},
   "source": [
    "These charts are showing all death causes in detail. We have one chart for each death cause. Also there is the same negative correlation as in the plot for all death causes. It seems like, that the death cause is only slightly influencing this correlation. Cancer seems like the death cause with the strongest negative correlation."
   ]
  },
  {
   "cell_type": "markdown",
   "metadata": {},
   "source": [
    "### Relationships"
   ]
  },
  {
   "attachments": {},
   "cell_type": "markdown",
   "metadata": {},
   "source": [
    "We will first look at the correlation of all features and then inspect the correlation for our summarized dataframe"
   ]
  },
  {
   "cell_type": "code",
   "execution_count": null,
   "metadata": {},
   "outputs": [],
   "source": [
    "#identify all categorical variables\n",
    "list_cat = df_explore.select_dtypes(['category']).columns\n",
    "#convert all categorical variables to numeric\n",
    "df_explore[list_cat] = df_explore[list_cat].apply(lambda x: pd.factorize(x)[0])"
   ]
  },
  {
   "cell_type": "code",
   "execution_count": null,
   "metadata": {},
   "outputs": [],
   "source": [
    "# inspect correlation between outcome and possible predictors\n",
    "corr = df_explore.corr()\n",
    "corr[y_label].sort_values(ascending=False)"
   ]
  },
  {
   "cell_type": "code",
   "execution_count": null,
   "metadata": {},
   "outputs": [],
   "source": [
    "# take a look at all correlations\n",
    "corr.style.background_gradient(cmap='Blues')"
   ]
  },
  {
   "attachments": {},
   "cell_type": "markdown",
   "metadata": {},
   "source": [
    "We can see that both features 113_cause_name and cause_name provide the same information. Like we predicted we only need to keep one column for the model. Therefore we will drop the column '113_cause_name'.\n",
    "\n",
    "We can ignore the obvious correlations between the age_adjusted_death_rate and cause_name, or deaths as well as deaths and cause_name, since those do not provide extra information."
   ]
  },
  {
   "attachments": {},
   "cell_type": "markdown",
   "metadata": {},
   "source": [
    "For the summarized dataframe, the correlation matrix looks like this:"
   ]
  },
  {
   "cell_type": "code",
   "execution_count": null,
   "metadata": {},
   "outputs": [],
   "source": [
    "# inspect correlation for summarized cause name again\n",
    "corr = df_explore_causes_summarized.corr()\n",
    "corr.style.background_gradient(cmap='Blues')"
   ]
  },
  {
   "attachments": {},
   "cell_type": "markdown",
   "metadata": {},
   "source": [
    "The correlation matrix shows, that there is a moderate to strong negative correlation for year and median_household_income. That means, that our hyphothesis is supported by the data. The data shows in addition, that the more years pass, the less people die (looking at data from 1999-2017) which could be explained by the improvements in the medical sector as well as the standard of living. To verifiy this assumption we would need more data.\n",
    "\n",
    "No other significant correlation is visible."
   ]
  },
  {
   "attachments": {},
   "cell_type": "markdown",
   "metadata": {},
   "source": [
    "## Model\n",
    "\n",
    "### Model type\n",
    "Since the predictor and the response variable are numeric, and we try to find a patter between them, we have a regression problem. We will start with simple linear regression even though we do not assume a linear relationship. \n",
    "In addition we use lasso regression and compare both models to see which performs better. \n",
    "\n",
    "We will only use the variable 'all causes' and filter the death rates by it, because we focus on the total deathrate in relation to the median household income.\n",
    "\n",
    "Before we start we encode the categorical features as numeric features for the models and perform the data splitting again since we made changes:"
   ]
  },
  {
   "cell_type": "code",
   "execution_count": null,
   "metadata": {},
   "outputs": [],
   "source": [
    "# drop 113_cause_name column\n",
    "df_joined.drop(['113_cause_name'], axis = 1, inplace = True)\n",
    "# Filter only for cause_name = 'all_causes'\n",
    "df_joined_summarized =  df_joined[df_joined.cause_name == 'All causes']\n",
    "# identify relevant numerical variables\n",
    "list_num = df_joined.select_dtypes(include=[np.number]).columns.tolist()\n",
    "list_num.remove(y_label)\n",
    "list_num.remove('year')\n",
    "#identify all categorical variables\n",
    "list_cat = df_joined_summarized.select_dtypes(['category']).columns\n",
    "#convert all categorical variables to numeric\n",
    "df_joined_summarized[list_cat] = df_joined_summarized[list_cat].apply(lambda x: pd.factorize(x)[0])"
   ]
  },
  {
   "cell_type": "code",
   "execution_count": null,
   "metadata": {},
   "outputs": [],
   "source": [
    "# Perform data splitting\n",
    "y_label = 'age_adjusted_death_rate'\n",
    "features = df_joined_summarized.drop(columns=[y_label]).columns.tolist()\n",
    "X = df_joined_summarized[features]\n",
    "y = df_joined_summarized[y_label]\n",
    "X_train, X_test, y_train, y_test = train_test_split(X, y, test_size=0.3, random_state=42)\n",
    "\n",
    "# data training set\n",
    "df_train = pd.DataFrame(X_train.copy())\n",
    "df_train = df_train.join(pd.DataFrame(y_train))"
   ]
  },
  {
   "cell_type": "markdown",
   "metadata": {},
   "source": [
    "## Linear Regression"
   ]
  },
  {
   "attachments": {},
   "cell_type": "markdown",
   "metadata": {},
   "source": [
    "### Select model"
   ]
  },
  {
   "cell_type": "code",
   "execution_count": null,
   "metadata": {},
   "outputs": [],
   "source": [
    "# select the linear regression model\n",
    "reg_lin = LinearRegression()"
   ]
  },
  {
   "attachments": {},
   "cell_type": "markdown",
   "metadata": {},
   "source": [
    "### Training and validation"
   ]
  },
  {
   "cell_type": "code",
   "execution_count": null,
   "metadata": {},
   "outputs": [],
   "source": [
    "# cross-validation with 5 folds\n",
    "scores_lin = cross_val_score(reg_lin, X_train, y_train, cv=5, scoring='neg_mean_squared_error') *-1"
   ]
  },
  {
   "cell_type": "code",
   "execution_count": null,
   "metadata": {},
   "outputs": [],
   "source": [
    "# store cross-validation scores\n",
    "df_scores_lin = pd.DataFrame({\"lr\": scores_lin})\n",
    "\n",
    "# reset index to match the number of folds\n",
    "df_scores_lin.index += 1\n",
    "\n",
    "# print dataframe\n",
    "df_scores_lin.style.background_gradient(cmap='Blues')"
   ]
  },
  {
   "cell_type": "code",
   "execution_count": null,
   "metadata": {},
   "outputs": [],
   "source": [
    "alt.Chart(df_scores_lin.reset_index()).mark_line(\n",
    "     point=alt.OverlayMarkDef()\n",
    ").encode(\n",
    "    x=alt.X(\"index\", bin=False, title=\"Fold\", axis=alt.Axis(tickCount=5)),\n",
    "    y=alt.Y(\"lr\", aggregate=\"mean\", title=\"Mean squared error (MSE)\")\n",
    ")"
   ]
  },
  {
   "cell_type": "code",
   "execution_count": null,
   "metadata": {},
   "outputs": [],
   "source": [
    "df_scores_lin.describe().T"
   ]
  },
  {
   "cell_type": "markdown",
   "metadata": {},
   "source": [
    "### Fit model"
   ]
  },
  {
   "cell_type": "code",
   "execution_count": null,
   "metadata": {},
   "outputs": [],
   "source": [
    "# Fit the model to the complete training data\n",
    "reg_lin.fit(X_train, y_train)"
   ]
  },
  {
   "attachments": {},
   "cell_type": "markdown",
   "metadata": {},
   "source": [
    "Coefficients"
   ]
  },
  {
   "cell_type": "code",
   "execution_count": null,
   "metadata": {},
   "outputs": [],
   "source": [
    "# intercept\n",
    "intercept = pd.DataFrame({\n",
    "    \"Name\": [\"Intercept\"],\n",
    "    \"Coefficient\":[reg_lin.intercept_]}\n",
    "    )\n",
    "\n",
    "# make a slope table\n",
    "slope = pd.DataFrame({\n",
    "    \"Name\": features,\n",
    "    \"Coefficient\": reg_lin.coef_}\n",
    ")\n",
    "\n",
    "# combine estimates of intercept and slopes\n",
    "table = pd.concat([intercept, slope], ignore_index=True, sort=False)\n",
    "\n",
    "round(table, 3)"
   ]
  },
  {
   "cell_type": "code",
   "execution_count": null,
   "metadata": {},
   "outputs": [],
   "source": [
    "Scatter_Plot = alt.Chart(df_explore_causes_summarized).mark_circle(size=60).encode(\n",
    "    alt.X('median_household_income', scale = alt.Scale(zero = False)),\n",
    "    alt.Y('age_adjusted_death_rate' , scale = alt.Scale(zero = False)),\n",
    "    tooltip = ['median_household_income', 'age_adjusted_death_rate']\n",
    ").interactive()\n",
    "\n",
    "Linear_Fit\n",
    "\n",
    "\n",
    "Scatter_plot + Linear_Fit\n"
   ]
  },
  {
   "cell_type": "markdown",
   "metadata": {},
   "source": [
    "### Evaluation on test set"
   ]
  },
  {
   "cell_type": "code",
   "execution_count": null,
   "metadata": {},
   "outputs": [],
   "source": [
    "# obtain predictions\n",
    "y_pred_lin = reg_lin.predict(X_test)"
   ]
  },
  {
   "cell_type": "code",
   "execution_count": null,
   "metadata": {},
   "outputs": [],
   "source": [
    "# R squared\n",
    "r2_score(y_test, y_pred_lin).round(3)"
   ]
  },
  {
   "cell_type": "code",
   "execution_count": null,
   "metadata": {},
   "outputs": [],
   "source": [
    "# MSE\n",
    "mean_squared_error(y_test, y_pred_lin).round(3)"
   ]
  },
  {
   "cell_type": "code",
   "execution_count": null,
   "metadata": {},
   "outputs": [],
   "source": [
    "# RMSE\n",
    "mean_squared_error(y_test, y_pred_lin, squared=False).round(3)"
   ]
  },
  {
   "cell_type": "code",
   "execution_count": null,
   "metadata": {},
   "outputs": [],
   "source": [
    "# MAE\n",
    "mean_absolute_error(y_test, y_pred_lin).round(3)"
   ]
  },
  {
   "attachments": {},
   "cell_type": "markdown",
   "metadata": {},
   "source": [
    "## Lasso Regression"
   ]
  },
  {
   "cell_type": "code",
   "execution_count": null,
   "metadata": {},
   "outputs": [],
   "source": [
    "scaler = StandardScaler().fit(X_train[list_num]) \n",
    "\n",
    "X_train[list_num] = scaler.transform(X_train[list_num])\n",
    "X_test[list_num] = scaler.transform(X_test[list_num])"
   ]
  },
  {
   "cell_type": "code",
   "execution_count": null,
   "metadata": {},
   "outputs": [],
   "source": [
    "# select the lasso regression model\n",
    "reg_las = Lasso(alpha=1)"
   ]
  },
  {
   "attachments": {},
   "cell_type": "markdown",
   "metadata": {},
   "source": [
    "### Training and validation"
   ]
  },
  {
   "cell_type": "code",
   "execution_count": null,
   "metadata": {},
   "outputs": [],
   "source": [
    "# cross-validation with 5 folds\n",
    "scores_las = cross_val_score(reg_las, X_train, y_train, cv=5, scoring='neg_mean_squared_error') *-1\n",
    "scores_las"
   ]
  },
  {
   "cell_type": "code",
   "execution_count": null,
   "metadata": {},
   "outputs": [],
   "source": [
    "# store cross-validation scores\n",
    "df_scores_las = pd.DataFrame({\"lr\": scores_las})\n",
    "\n",
    "# reset index to match the number of folds\n",
    "df_scores_las.index += 1\n",
    "\n",
    "# print dataframe\n",
    "df_scores_las.style.background_gradient(cmap='Blues')"
   ]
  },
  {
   "cell_type": "code",
   "execution_count": null,
   "metadata": {},
   "outputs": [],
   "source": [
    "alt.Chart(df_scores_las.reset_index()).mark_line(\n",
    "     point=alt.OverlayMarkDef()\n",
    ").encode(\n",
    "    x=alt.X(\"index\", bin=False, title=\"Fold\", axis=alt.Axis(tickCount=5)),\n",
    "    y=alt.Y(\"lr\", aggregate=\"mean\", title=\"Mean squared error (MSE)\")\n",
    ")"
   ]
  },
  {
   "cell_type": "code",
   "execution_count": null,
   "metadata": {},
   "outputs": [],
   "source": [
    "df_scores_las.describe().T"
   ]
  },
  {
   "cell_type": "markdown",
   "metadata": {},
   "source": [
    "### Fit model"
   ]
  },
  {
   "cell_type": "code",
   "execution_count": null,
   "metadata": {},
   "outputs": [],
   "source": [
    "# Fit the model to the complete training data\n",
    "reg_las.fit(X_train, y_train)"
   ]
  },
  {
   "attachments": {},
   "cell_type": "markdown",
   "metadata": {},
   "source": [
    "Coefficients"
   ]
  },
  {
   "cell_type": "code",
   "execution_count": null,
   "metadata": {},
   "outputs": [],
   "source": [
    "# intercept\n",
    "intercept = pd.DataFrame({\n",
    "    \"Name\": [\"Intercept\"],\n",
    "    \"Coefficient\":[reg_las.intercept_]}\n",
    "    )\n",
    "\n",
    "# make a slope table\n",
    "slope = pd.DataFrame({\n",
    "    \"Name\": features,\n",
    "    \"Coefficient\": reg_las.coef_}\n",
    ")\n",
    "\n",
    "# combine estimates of intercept and slopes\n",
    "table = pd.concat([intercept, slope], ignore_index=True, sort=False)\n",
    "\n",
    "round(table, 3)"
   ]
  },
  {
   "cell_type": "markdown",
   "metadata": {},
   "source": [
    "### Evaluation on test set"
   ]
  },
  {
   "cell_type": "code",
   "execution_count": null,
   "metadata": {},
   "outputs": [],
   "source": [
    "# obtain predictions\n",
    "y_pred_las = reg_las.predict(X_test)"
   ]
  },
  {
   "cell_type": "code",
   "execution_count": null,
   "metadata": {},
   "outputs": [],
   "source": [
    "# R squared\n",
    "r2_score(y_test, y_pred_las).round(3)"
   ]
  },
  {
   "cell_type": "code",
   "execution_count": null,
   "metadata": {},
   "outputs": [],
   "source": [
    "# MSE\n",
    "mean_squared_error(y_test, y_pred_las).round(3)"
   ]
  },
  {
   "cell_type": "code",
   "execution_count": null,
   "metadata": {},
   "outputs": [],
   "source": [
    "# RMSE\n",
    "mean_squared_error(y_test, y_pred_las, squared=False).round(3)"
   ]
  },
  {
   "cell_type": "code",
   "execution_count": null,
   "metadata": {},
   "outputs": [],
   "source": [
    "# MAE\n",
    "mean_absolute_error(y_test, y_pred_las).round(3)"
   ]
  },
  {
   "cell_type": "markdown",
   "metadata": {},
   "source": [
    "### Save model\n"
   ]
  },
  {
   "cell_type": "markdown",
   "metadata": {},
   "source": [
    "\n",
    "Save your model in the folder `models/`. Use a meaningful name and a timestamp."
   ]
  },
  {
   "cell_type": "markdown",
   "metadata": {},
   "source": [
    "## Conclusions"
   ]
  },
  {
   "attachments": {},
   "cell_type": "markdown",
   "metadata": {},
   "source": [
    "- Hypothese wurde bestätigt, mit Model untermauert\n",
    "- Model ergebnisse erklären, was sagen inhalte aus\n",
    "\n",
    "### Ausblick\n",
    "- in bestimmten Staaten sind bestimmte Todesursachen besonders ausgeprägt\n",
    "- Verhätnis zwischen Todesrate und Einkommen könnte man noch detaillierter betrachten, wenn man auf die einzelnen Todesursachen eingeht, hinsichtlich Korrelation --> vielleicht, steigt bei gewissen Todesursachen die Rate mit steigendem Einkommen.\n",
    "- Model Fits auf Ebene einzelner Jahre durchführen und die Metriken mitenander vergleichen, um Aussagen über Jahre hinweg treffen zu können\n",
    "\n",
    "\n"
   ]
  },
  {
   "cell_type": "markdown",
   "metadata": {},
   "source": []
  }
 ],
 "metadata": {
  "kernelspec": {
   "display_name": "Python 3",
   "language": "python",
   "name": "python3"
  },
  "language_info": {
   "codemirror_mode": {
    "name": "ipython",
    "version": 3
   },
   "file_extension": ".py",
   "mimetype": "text/x-python",
   "name": "python",
   "nbconvert_exporter": "python",
   "pygments_lexer": "ipython3",
   "version": "3.9.13"
  },
  "orig_nbformat": 4,
  "vscode": {
   "interpreter": {
    "hash": "0bce9ee4a7dbaa2f8d8dbf81914451bc1662208b62846c9d24404c6ff8728961"
   }
  }
 },
 "nbformat": 4,
 "nbformat_minor": 2
}
