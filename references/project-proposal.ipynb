{
 "cells": [
  {
   "cell_type": "markdown",
   "metadata": {},
   "source": [
    "# Project proposal\n",
    "\n",
    "---\n",
    "\n",
    "Group name: Nico & Burcin\n",
    "\n",
    "---\n"
   ]
  },
  {
   "cell_type": "markdown",
   "metadata": {},
   "source": [
    "## Introduction\n",
    "\n",
    "The introduction section includes\n",
    "\n",
    "-   an introduction to the subject matter you're investigating\n",
    "-   the motivation for your research question (citing any relevant literature)\n",
    "-   the general research question you wish to explore\n",
    "-   your hypotheses regarding the research question of interest."
   ]
  },
  {
   "cell_type": "markdown",
   "metadata": {},
   "source": [
    "\n",
    "## Data description\n",
    "\n",
    "We have two data sets. \n",
    "The first data set is about the 10 leading death causes in the United States, beginning in 1999. Data are based on information from all resident death certificates filed in the 50 states and the District of Columbia using demographic and medical characteristics. Age-adjusted death rates (per 100,000 population) are based on the 2000 U.S. standard population. Populations used for computing death rates after 2010 are postcensal estimates based on the 2010 census, estimated as of July 1, 2010. Rates for census years are based on populations enumerated in the corresponding censuses. Rates for non-census years before 2010 are revised using updated intercensal population estimates and may differ from rates previously published.\n",
    "\n",
    "In the data set we have 10868 cases. The columns are the referred years, beginning on 1999, the death cause name, the state where it was collected, the count of the total deaths and the age rate (Age adjusted).\n",
    "\n",
    "The second data set was prepared in May 2019. It is originally a mix of the collection of American Cencus data and the American Community Survey (ACS).\n",
    "It shows the median household income by state for the years 1990, 2000, 2005, 2010 and 2013-2017. We see in the first column, the states in the United States. In the other columns we have the years below mentioned. Dependant from state and year, you can see the median household income.\n",
    "This dataset needs to be cleaned and corrected in order to be joined with the death dataset.\n",
    "The columns for the income dataset need to be transformed in order to have the same format as the death dataset.\n",
    "The join can be done by state, the missing income values for the years not represented in the income dataset, need to either be dropped or replaced."
   ]
  },
  {
   "cell_type": "markdown",
   "metadata": {},
   "source": [
    "\n",
    "## Analysis approach\n",
    "\n",
    "As response variable, we consider in this case, \"Death rates in the US\". These variable is age adjusted (standardized).\n",
    "\n",
    "Regarding visualization, we would like to try out a Multi-Line Highlight or Multi-Line Tooltip from Altair. The x axis will be the household income and the y axis the death rate. Both are numeric and the death categories could be visualized with different colored lines.\n",
    "After that, we will summarize the income per state as well as the death rate per state.\n",
    "To have also some insights regarding the evolution year by year, we will try out a facet plot.\n",
    "In Addition for our summary statistics we will show the followings:\n",
    " - Death cause in the US by year\n",
    " - Death rate by state for each year\n",
    "\n",
    " The predictor variables are:\n",
    " - household income\n",
    " - death cause\n",
    " - and maybe the state\n",
    "\n",
    " We will start to work with linear regression and we will compare different algorithms like XGBoost and scikit-learn."
   ]
  },
  {
   "cell_type": "code",
   "execution_count": null,
   "metadata": {},
   "outputs": [],
   "source": []
  },
  {
   "cell_type": "code",
   "execution_count": null,
   "metadata": {},
   "outputs": [],
   "source": [
    "## Data dictionary\n",
    "\n",
    "*Create a data dictionary for all the variables in your data set. You may fill out the data description table or create your own table with Pandas:*\n",
    "\n",
    "<br>\n",
    "\n",
    "\n",
    "| Name  |   Description\t| Role   \t| Type   \t|  Format \t|\n",
    "|---\t|---\t        |---    \t|---\t    |---\t|\n",
    "|   \t|   \t        |   \t    |   \t    |   \t|\n",
    "|   \t|   \t        |   \t    |   \t    |   \t|\n",
    "|   \t|   \t        |   \t    |   \t    |   \t|\n",
    "\n",
    "\n",
    "<br>\n",
    "\n",
    "- `Role`: response, predictor, ID (ID columns are not used in a model but can help to better understand the data)\n",
    "\n",
    "- `Type`: nominal, ordinal or numeric\n",
    "\n",
    "- `Format`: int, float, string, category, date or object"
   ]
  }
 ],
 "metadata": {
  "kernelspec": {
   "display_name": "Python 3.9.13 ('base')",
   "language": "python",
   "name": "python3"
  },
  "language_info": {
   "name": "python",
   "version": "3.9.13"
  },
  "orig_nbformat": 4,
  "vscode": {
   "interpreter": {
    "hash": "76f4620a7cf86da1c879555dbc8346b5c4c5112bcf94f2e6b42cf859f185c7ad"
   }
  }
 },
 "nbformat": 4,
 "nbformat_minor": 2
}
