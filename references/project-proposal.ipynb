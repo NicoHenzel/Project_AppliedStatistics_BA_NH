{
 "cells": [
  {
   "cell_type": "markdown",
   "metadata": {},
   "source": [
    "# Project proposal\n",
    "\n",
    "---\n",
    "\n",
    "Group name: Nico & Burcin\n",
    "\n",
    "---\n"
   ]
  },
  {
   "attachments": {},
   "cell_type": "markdown",
   "metadata": {},
   "source": [
    "## Introduction\n",
    "\n",
    "The aim of this project is to investigate if there is a correlation between the household income and the death rate in the United States of America. In order to explore this relation, we gathered data on both topics and will analyse how and to what extense the death rate is impacted by the household income.\n",
    "\n",
    "### Research Question\n",
    "\n",
    "We want to answer the following question\n",
    "\n",
    "**Does the household income have an impact on the deathrates in the U.S. and if yes, how big is it?**\n",
    "\n",
    "The predictor variable will be the median household income and the response variable will be the age-adjusted death rate. Further insight can be gained by using categories like death cause, state or year (see Analysis Approach)\n",
    "Other useful information will be provided by the absolute amount of total deaths.\n",
    "\n",
    "This question is backed by the following studies:\n",
    "* KINGE, Jonas Minet, et al. Association of household income with life expectancy and cause-specific mortality in Norway, 2005-2015. Jama, 2019, 321. Jg., Nr. 19, S. 1916-1925. (https://jamanetwork.com/journals/jama/article-abstract/2733322)\n",
    "* KAPLAN, George A., et al. Inequality in income and mortality in the United States: analysis of mortality and potential pathways. Bmj, 1996, 312. Jg., Nr. 7037, S. 999-1003. (https://www.bmj.com/content/312/7037/999.full)\n",
    "* O’CONNOR, Gerald T., et al. Median household income and mortality rate in cystic fibrosis. Pediatrics, 2003, 111. Jg., Nr. 4, S. e333-e339. (https://publications.aap.org/pediatrics/article-abstract/111/4/e333/63113/Median-Household-Income-and-Mortality-Rate-in)\n",
    "\n",
    "Although the first study was done in Norway and the second study investigates mortality instead of death rate, we suspect to gather similar observations.\n",
    "Therefore our hypotheses regarding the research question is:\n",
    "\n",
    "**The household income and the death rate will have a negative correlation.**\n",
    "\n",
    "Meaning, that the higher the household income is, the lower the death rate will be.\n",
    "\n",
    "Added information on mortality vs mortality rate/death rate:\n",
    "*Mortality is a fact that refers to susceptibility to death. While there is a crude death rate that refers to number of deaths in a population in a year, mortality rate is the number of deaths per thousand people over a period of time that is normally a year.* \n",
    "\n",
    "See: \n",
    "* https://www.differencebetween.com/difference-between-death-rate-and-vs-mortality-rate/\n",
    "* https://en.wikipedia.org/wiki/Mortality_rate\n",
    "\n",
    "Added information on age-adjustment:\n",
    "*In epidemiology and demography, age adjustment, also called age standardization, is a technique used to allow statistical populations to be compared when the age profiles of the populations are quite different. The effects of the age factor are adjusted or standardized.* \n",
    "\n",
    "See: \n",
    "* https://en.wikipedia.org/wiki/Age_adjustment\n",
    "* https://www.health.pa.gov/topics/HealthStatistics/Statistical-Resources/UnderstandingHealthStats/Pages/Age-Adjusted-Rates.aspx"
   ]
  },
  {
   "attachments": {},
   "cell_type": "markdown",
   "metadata": {},
   "source": [
    "\n",
    "## Data description\n",
    "\n",
    "In this section, you will describe the data set you wish to explore. This includes\n",
    "\n",
    "-   description of the observations in the data set,\n",
    "-   description of how the data was originally collected (not how you found the data but how the original curator of the data collected it).\n",
    "\n",
    "We have two data sets which we will combine by joining on the state column.\n",
    "\n",
    "The first data set:\n",
    "\n",
    "The dataset is about the 10 leading death causes in the United States, beginning in 1999. Data are based on information from all resident death certificates filed in the 50 states and the District of Columbia using demographic and medical characteristics. Age-adjusted death rates (per 100,000 population) are based on the 2000 U.S. standard population. Populations used for computing death rates after 2010 are postcensal estimates based on the 2010 census, estimated as of July 1, 2010. Rates for census years are based on populations enumerated in the corresponding censuses. Rates for non-census years before 2010 are revised using updated intercensal population estimates and may differ from rates previously published.\n",
    "\n",
    "In the data set we have 10868 cases and 6 columns.\n",
    "\n",
    "The columns are:\n",
    "* years, from 1999 to 2017\n",
    "* 113 cause name, the NDI ICD-10 113 categories for causes of death\n",
    "* cause name, the generic name for the death cause defined in the 113 cause name column\n",
    "* state, in which state the data was collected\n",
    "* death, the count of the total deaths \n",
    "* age-adjusted death rate, the standardized death percentage for the specific state in the observed year.\n",
    "\n",
    "The second data set was prepared in May 2019. It is originally a mix of the collection of American Cencus data and the American Community Survey (ACS).\n",
    "It shows the median household income by state for the years 1990, 2000, 2005, 2010 and 2013-2017. We see in the first column, the states in the United States. In the other columns we have the years below mentioned. Dependant from state and year, you can see the median household income.\n",
    "This dataset needs to be cleaned and corrected in order to be joined with the death dataset.\n",
    "The columns for the income dataset need to be transformed in order to have the same format as the death dataset.\n",
    "The join can be done by state, the missing income values for the years not represented in the income dataset, need to either be dropped or replaced."
   ]
  },
  {
   "attachments": {},
   "cell_type": "markdown",
   "metadata": {},
   "source": [
    "\n",
    "## Analysis approach\n",
    "\n",
    "Our response variable is the age-adjusted death rate.\n",
    "This variable shows the standardized percentage of deaths in a specific year for a specific state (adjusted for the age factor). \n",
    "\n",
    "In order to test our hypotheses we will use different visualizations and summary statistics. For example:\n",
    "* Multi-Line Highlight or Multi-Line Tooltip, because x axis (income) as well as y axis (death rate) are numeric variables and the categories for death cause could be vizualized with different lines. \n",
    "    Examples can be found here: \n",
    "    * https://altair-viz.github.io/gallery/multiline_tooltip.html\n",
    "    * https://altair-viz.github.io/gallery/multiline_highlight.html\n",
    "\n",
    "    Additionally, we will show different line plots with summarized info on the income per state or per year and also the death rate per state or per year.\n",
    "* For the overall death rates and income for different years a facet plot will be used to gain insights for comparison.\n",
    "    * https://altair-viz.github.io/gallery/beckers_barley_wrapped_facet.html\n",
    "\n",
    "* In addition, summary statistics in table form will show the changes over the years for\n",
    "    -  Total death cause or death rate in the US by year\n",
    "    - Death Casue or death rate by state for each year\n",
    " \n",
    "The predictor variable will be the median household income. Although we suspect the death cause and the state to be indicators for variation on a more detailed level. This can give us insights and potential relevant information for our model during the data exploration.\n",
    "\n",
    "### Model type\n",
    "Since the predictor and the response variable are numeric, and we try to find a patter between them, we have a regression problem.\n",
    "We will start with simple linear regression since we suspect to only have one predictor (household income) and one response/dependent (death rate) variable and will assume a linear relationship. \n",
    "\n",
    "This assumption could change, depending on the insights we get from our analysis of the data. Therefore we will also take the following models into account:\n",
    "* Polynomial Regression, in case the relationship between predictor and response variable is not linear\n",
    "* Bayesian Regression\n",
    "* Decision Tree Regression, mainly xgboost\n",
    "* Gradient Descent Regression\n",
    "\n",
    "In order to find the best performing model, we will compare them using a specific metric (e.g. Mean Squared Error or Mean Absolute Error)\n",
    "\n"
   ]
  },
  {
   "cell_type": "code",
   "execution_count": null,
   "metadata": {},
   "outputs": [],
   "source": []
  },
  {
   "cell_type": "markdown",
   "metadata": {},
   "source": [
    "## Data dictionary\n",
    "\n",
    "*Create a data dictionary for all the variables in your data set. You may fill out the data description table or create your own table with Pandas:*\n",
    "\n",
    "<br>\n",
    "\n",
    "\n",
    "| Name  |   Description\t| Role   \t| Type   \t|  Format \t|\n",
    "|---\t|---\t        |---    \t|---\t    |---\t|\n",
    "|   \t|   \t        |   \t    |   \t    |   \t|\n",
    "|   \t|   \t        |   \t    |   \t    |   \t|\n",
    "|   \t|   \t        |   \t    |   \t    |   \t|\n",
    "\n",
    "\n",
    "<br>\n",
    "\n",
    "- `Role`: response, predictor, ID (ID columns are not used in a model but can help to better understand the data)\n",
    "\n",
    "- `Type`: nominal, ordinal or numeric\n",
    "\n",
    "- `Format`: int, float, string, category, date or object"
   ]
  },
  {
   "cell_type": "markdown",
   "metadata": {},
   "source": []
  }
 ],
 "metadata": {
  "kernelspec": {
   "display_name": "Python 3",
   "language": "python",
   "name": "python3"
  },
  "language_info": {
   "name": "python",
   "version": "3.9.13 | packaged by conda-forge | (main, May 27 2022, 16:50:36) [MSC v.1929 64 bit (AMD64)]"
  },
  "orig_nbformat": 4,
  "vscode": {
   "interpreter": {
    "hash": "0bce9ee4a7dbaa2f8d8dbf81914451bc1662208b62846c9d24404c6ff8728961"
   }
  }
 },
 "nbformat": 4,
 "nbformat_minor": 2
}
