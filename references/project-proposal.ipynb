{
 "cells": [
  {
   "cell_type": "markdown",
   "metadata": {},
   "source": [
    "# Project proposal\n",
    "\n",
    "---\n",
    "\n",
    "Group name: Nico & Burcin\n",
    "\n",
    "---\n"
   ]
  },
  {
   "cell_type": "markdown",
   "metadata": {},
   "source": [
    "## Introduction\n",
    "\n",
    "The introduction section includes\n",
    "\n",
    "-   an introduction to the subject matter you're investigating\n",
    "-   the motivation for your research question (citing any relevant literature)\n",
    "-   the general research question you wish to explore\n",
    "-   your hypotheses regarding the research question of interest."
   ]
  },
  {
   "cell_type": "markdown",
   "metadata": {},
   "source": [
    "\n",
    "## Data description\n",
    "\n",
    "In this section, you will describe the data set you wish to explore. This includes\n",
    "\n",
    "-   description of the observations in the data set,\n",
    "-   description of how the data was originally collected (not how you found the data but how the original curator of the data collected it).\n",
    "\n",
    "We have two data sets. The first data set:\n",
    "It is about the 10 leading death causes in the United States, beginning in 1999. Data are based on information from all resident death certificates filed in the 50 states and the District of Columbia using demographic and medical characteristics. Age-adjusted death rates (per 100,000 population) are based on the 2000 U.S. standard population. Populations used for computing death rates after 2010 are postcensal estimates based on the 2010 census, estimated as of July 1, 2010. Rates for census years are based on populations enumerated in the corresponding censuses. Rates for non-census years before 2010 are revised using updated intercensal population estimates and may differ from rates previously published.\n",
    "\n",
    "In the data set we have 10868 cases. The columns are the referred years, beginning on 1999, the death cause name, the state where it was collected, the count of the total deaths and the age rate (Age adjusted).\n",
    "\n",
    "The second data set:\n",
    "The table was prepared in May 2019. It is originally a mix of the collection of American Cencus data and the American Community Survey (ACS).\n",
    "We see in one row all the states in the United States. In the other rows the years are listed. Based on the year and the state we can have a look on the median household income. \n"
   ]
  },
  {
   "cell_type": "markdown",
   "metadata": {},
   "source": [
    "\n",
    "## Analysis approach\n",
    "\n",
    "In this section, you will provide a brief overview of your analysis approach. This includes:\n",
    "\n",
    "-   Description of the response variable.\n",
    "-   Visualization and summary statistics for the response variable.\n",
    "-   List of variables that will be considered as predictors\n",
    "-   Your model type (what kind of model(s) will you use ... e.g. linear regression)\n",
    "\n",
    "- Response variable: Death rates in the US (Age adjusted (standardized))\n",
    "\n",
    "- Multi-Line Highlight or Multi-Line Tooltip, because x axis (income) as well as y axis (death rate) are numeric and the categories for death cause could be vizualized with different lines. We will summarize the income per state and also the death rate per state.\n",
    "- For the overall death rates and income a facet plot could be show some insights year by year.\n",
    "- Additionally We will show in our summary statistics the evolution over the years\n",
    " - Death cause in the US by year\n",
    " - Death rate by state for each year\n",
    " \n",
    " - Predictors: income; death cause; maybe state?\n",
    " - We will start with linear regression and we will compare with linear algorhytms like xgboost, ..\n",
    "\n"
   ]
  },
  {
   "cell_type": "markdown",
   "metadata": {},
   "source": [
    "## Data dictionary\n",
    "\n",
    "*Create a data dictionary for all the variables in your data set. You may fill out the data description table or create your own table with Pandas:*\n",
    "\n",
    "<br>\n",
    "\n",
    "\n",
    "| Name  |   Description\t| Role   \t| Type   \t|  Format \t|\n",
    "|---\t|---\t        |---    \t|---\t    |---\t|\n",
    "|   \t|   \t        |   \t    |   \t    |   \t|\n",
    "|   \t|   \t        |   \t    |   \t    |   \t|\n",
    "|   \t|   \t        |   \t    |   \t    |   \t|\n",
    "\n",
    "\n",
    "<br>\n",
    "\n",
    "- `Role`: response, predictor, ID (ID columns are not used in a model but can help to better understand the data)\n",
    "\n",
    "- `Type`: nominal, ordinal or numeric\n",
    "\n",
    "- `Format`: int, float, string, category, date or object"
   ]
  }
 ],
 "metadata": {
  "kernelspec": {
   "display_name": "Python 3.9.13 ('base')",
   "language": "python",
   "name": "python3"
  },
  "language_info": {
   "name": "python",
   "version": "3.9.13"
  },
  "orig_nbformat": 4,
  "vscode": {
   "interpreter": {
    "hash": "76f4620a7cf86da1c879555dbc8346b5c4c5112bcf94f2e6b42cf859f185c7ad"
   }
  }
 },
 "nbformat": 4,
 "nbformat_minor": 2
}
