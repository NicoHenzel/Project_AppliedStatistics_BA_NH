{
 "cells": [
  {
   "cell_type": "markdown",
   "metadata": {},
   "source": [
    "# Topic ideas\n",
    "\n",
    "---\n",
    "\n",
    "Group name: Group C - Burcin Aksel & Nico Henzel\n",
    "\n",
    "---\n",
    "\n",
    "*Replace the italic texts with your descriptions*"
   ]
  },
  {
   "cell_type": "markdown",
   "metadata": {},
   "source": [
    "## Name of topic idea 1\n",
    "\n",
    "Influence of median household income by state on leading causes of death in the U.S. from 2013-2017\n",
    "\n",
    "### Data source\n",
    "\n",
    "\n",
    "*State the source of the data set and describe when and how it was originally collected (by the original data curator, not necessarily how you found the data)*\n",
    "\n",
    "\n",
    "### Data characterisitcs\n",
    "\n",
    " *Describe the observations and the general characteristics being measured in the data (note that the data needs to meet the  criteria described in the project description)*\n",
    "\n",
    "### Research question\n",
    "\n",
    "Does the household income have an impact on the total deaths and deathrates in the U.S.?\n",
    "The predictor variable will be the median household income by state and the response variable will be the Deaths by state (total and divided by 10 leading causes of death from 2013 to 2017).\n",
    "\n",
    "*Describe a research question you're interested in answering using this data. State the response variable and possible predictor variables.*\n",
    "\n",
    "### Overview of data\n",
    "\n",
    "*Use the Pandas functions to provide an overview of the data set*\n"
   ]
  },
  {
   "cell_type": "code",
   "execution_count": null,
   "metadata": {},
   "outputs": [],
   "source": []
  },
  {
   "cell_type": "markdown",
   "metadata": {},
   "source": [
    "## Name of topic idea 2\n",
    "\n",
    "### Data source\n",
    "\n",
    "*State the source of the data set and describe when and how it was originally collected (by the original data curator, not necessarily how you found the data)*\n",
    "\n",
    "\n",
    "### Data characterisitcs\n",
    "\n",
    " *Describe the observations and the general characteristics being measured in the data (note that the data needs to meet the  criteria described in the project description)*\n",
    "\n",
    "### Research question\n",
    "\n",
    "*Describe a research question you're interested in answering using this data. State the response variable and possible predictor variables.*\n",
    "\n",
    "### Overview of data\n",
    "\n",
    "*Use the Pandas functions to provide an overview of the data set*\n"
   ]
  },
  {
   "cell_type": "code",
   "execution_count": null,
   "metadata": {},
   "outputs": [],
   "source": []
  }
 ],
 "metadata": {
  "kernelspec": {
   "display_name": "Python 3.9.12 ('base')",
   "language": "python",
   "name": "python3"
  },
  "language_info": {
   "name": "python",
   "version": "3.9.12"
  },
  "orig_nbformat": 4,
  "vscode": {
   "interpreter": {
    "hash": "463226f144cc21b006ce6927bfc93dd00694e52c8bc6857abb6e555b983749e9"
   }
  }
 },
 "nbformat": 4,
 "nbformat_minor": 2
}
